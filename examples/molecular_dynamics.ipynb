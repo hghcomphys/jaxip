{
 "cells": [
  {
   "cell_type": "markdown",
   "id": "5ad3a7ab-df3a-44f7-b541-541363c8a1a1",
   "metadata": {},
   "source": [
    "# Molecular Dynamics \n",
    "How to carry out molecular dynamics (MD) simulation using trained potential. "
   ]
  },
  {
   "cell_type": "code",
   "execution_count": null,
   "id": "25f1a75a-0a8b-4f71-9067-b8249306ce80",
   "metadata": {},
   "outputs": [],
   "source": [
    "from utils import set_env\n",
    "set_env('.env')"
   ]
  },
  {
   "cell_type": "code",
   "execution_count": null,
   "id": "df40f52a-2a1a-43c7-b8da-fbf34988cd0d",
   "metadata": {},
   "outputs": [],
   "source": [
    "import os\n",
    "os.environ[\"JAX_ENABLE_X64\"] = \"1\"\n",
    "# os.environ[\"JAX_PLATFORM_NAME\"] = \"cpu\" \n",
    "os.environ[\"XLA_PYTHON_CLIENT_PREALLOCATE\"] = \"false\" "
   ]
  },
  {
   "cell_type": "code",
   "execution_count": null,
   "id": "f8f3d06e-e620-44d7-8393-e27d673c1794",
   "metadata": {},
   "outputs": [],
   "source": [
    "from jaxip.datasets import RunnerDataset\n",
    "from jaxip.potentials import NeuralNetworkPotential\n",
    "from jaxip.simulation.molecular_dynamics import MDSimulator\n",
    "from jaxip.simulation.thermostat import BrendsenThermostat\n",
    "from jaxip.atoms import Structure\n",
    "from jaxip.units import units as units\n",
    "\n",
    "import matplotlib.pylab as plt\n",
    "from pathlib import Path\n",
    "from ase import Atoms\n",
    "from ase.visualize import view\n",
    "import ase.io\n",
    "import jax.numpy as jnp"
   ]
  },
  {
   "cell_type": "code",
   "execution_count": null,
   "id": "0d63b8bc-57c1-4ceb-b976-8fd8bc426d3b",
   "metadata": {},
   "outputs": [],
   "source": [
    "base_dir = Path('LJ')"
   ]
  },
  {
   "cell_type": "markdown",
   "id": "682fef02-c977-406b-b28f-71a0cfc6e3d0",
   "metadata": {},
   "source": [
    "## Data"
   ]
  },
  {
   "cell_type": "code",
   "execution_count": null,
   "id": "b04cf0a0-b80e-40ca-bc00-763e64c3616b",
   "metadata": {},
   "outputs": [],
   "source": [
    "# structures = RunnerDataset(Path(base_dir, \"input.data\"), persist=True) \n",
    "# print(\"Total number of structures:\", len(structures))\n",
    "# structures"
   ]
  },
  {
   "cell_type": "code",
   "execution_count": null,
   "id": "d7f50def-4402-4ce5-a513-3f91ca302ecd",
   "metadata": {},
   "outputs": [],
   "source": [
    "# s = structures[0]\n",
    "# s"
   ]
  },
  {
   "cell_type": "code",
   "execution_count": null,
   "id": "640a4221-df2e-42de-ba28-360ace853947",
   "metadata": {},
   "outputs": [],
   "source": [
    "# s.position"
   ]
  },
  {
   "cell_type": "code",
   "execution_count": null,
   "id": "681fe201-666e-471a-8cc2-ca4787cfff45",
   "metadata": {},
   "outputs": [],
   "source": [
    "d = 4  # Angstrom\n",
    "uc = Atoms('He', positions=[(d/2, d/2, d/2)], cell=(d, d, d))\n",
    "s0 = Structure.create_from_ase(uc.repeat((10, 10, 10)))\n",
    "\n",
    "atoms = s0.to_ase_atoms()\n",
    "# view(atoms, viewer='x3d') # ase, ngl"
   ]
  },
  {
   "cell_type": "markdown",
   "id": "914a1a48-d5d8-4298-b7b1-7a610208092c",
   "metadata": {},
   "source": [
    "## Potential"
   ]
  },
  {
   "cell_type": "code",
   "execution_count": null,
   "id": "fb965e0b-724d-45bd-88a9-154fe05a68bf",
   "metadata": {},
   "outputs": [],
   "source": [
    "# nnp = NeuralNetworkPotential.create_from_file(Path(base_dir, \"input.nn\"))\n",
    "# nnp.load()"
   ]
  },
  {
   "cell_type": "code",
   "execution_count": null,
   "id": "8aa95d51-92e8-4942-ab92-f8009e0319d4",
   "metadata": {},
   "outputs": [],
   "source": [
    "# nnp(s)"
   ]
  },
  {
   "cell_type": "code",
   "execution_count": null,
   "id": "1ccdd8a0-662c-4743-b184-84a968699246",
   "metadata": {},
   "outputs": [],
   "source": [
    "# nnp.compute_force(s)"
   ]
  },
  {
   "cell_type": "code",
   "execution_count": null,
   "id": "6a0b3c56-1ac8-4ec9-8754-987acfa185b4",
   "metadata": {},
   "outputs": [],
   "source": [
    "from jaxip.types import Array\n",
    "import jax\n",
    "from functools import partial\n",
    "\n",
    "@partial(jax.jit, static_argnums=0)\n",
    "def _compute_pair_energy(obj, r: Array) -> Array:\n",
    "    term = obj.sigma / r\n",
    "    term6 = term**6\n",
    "    term12 = term6 * term6\n",
    "    return 4.0 * obj.epsilon * (term12 - term6)\n",
    "\n",
    "@partial(jax.jit, static_argnums=0)\n",
    "def _compute_pair_force(obj, r: Array, R: Array) -> Array:\n",
    "    term = obj.sigma / r\n",
    "    term6 = term**6\n",
    "    term12 = term6 * term6\n",
    "    force_factor = 24.0 * obj.epsilon / (r * r) * (2 * term12 - term6)\n",
    "    return jnp.expand_dims(force_factor, axis=-1) * R\n",
    "\n",
    "\n",
    "class LJPotential:\n",
    "    \n",
    "    def __init__(\n",
    "        self, \n",
    "        sigma: float, \n",
    "        epsilon: float,\n",
    "        r_cutoff: float,\n",
    "    ) -> None:\n",
    "        self.sigma = sigma\n",
    "        self.epsilon = epsilon\n",
    "        self.r_cutoff = r_cutoff\n",
    "        \n",
    "    def __call__(self, structure: Structure) -> Array:\n",
    "        r, _ = structure.calculate_distance(atom_index=jnp.arange(structure.natoms))\n",
    "        mask = (0 < r) & (r < self.r_cutoff)\n",
    "        pair_energies = _compute_pair_energy(self, r)\n",
    "        return 0.5 * jnp.where(mask, pair_energies, 0.0).sum()\n",
    "    \n",
    "    def compute_force(self, structure: Structure) -> Array:\n",
    "        r, R = structure.calculate_distance(atom_index=jnp.arange(structure.natoms))\n",
    "        mask = (0 < r) & (r < self.r_cutoff)\n",
    "        pair_forces = jnp.where(\n",
    "            jnp.expand_dims(mask, axis=-1), \n",
    "            _compute_pair_force(self, r, R), \n",
    "            jnp.zeros_like(R)\n",
    "        )\n",
    "        return jnp.sum(pair_forces, axis=1)\n",
    "    \n",
    "ljpot = LJPotential(\n",
    "    sigma=2.5238 * units.FROM_ANGSTROM,                 # Bohr\n",
    "    epsilon= 8.507457e-04 * units.FROM_ELECTRON_VOLT,   # Hartree\n",
    "    r_cutoff= 6.3095 * units.FROM_ANGSTROM,             # 2.5 * sigma\n",
    ")"
   ]
  },
  {
   "cell_type": "markdown",
   "id": "dca2c883-8ced-4603-ba81-4f5ca71790c1",
   "metadata": {},
   "source": [
    "## MD simulator"
   ]
  },
  {
   "cell_type": "code",
   "execution_count": null,
   "id": "57aac81b-5f3d-4978-8b3b-09bad50ae2da",
   "metadata": {},
   "outputs": [],
   "source": [
    "# v0 = MDSimulator.generate_random_velocity(temperature=300.0, mass=s0.mass, seed=2023)\n",
    "# brendsen = BrendsenThermostat(target_temperature=300.0, time_constant=50.0 * units.FROM_FEMTO_SECOND)\n",
    "\n",
    "md = MDSimulator(\n",
    "    potential=ljpot,\n",
    "    initial_structure=s0,\n",
    "    time_step=0.1 * units.FROM_FEMTO_SECOND,  # := 0.5 fs\n",
    "    temperature=300, # K\n",
    "    # initial_velocity=v0,\n",
    "    # thermostat=brendsen\n",
    ")"
   ]
  },
  {
   "cell_type": "code",
   "execution_count": null,
   "id": "55e2d2de-9020-4654-b785-ce5c035c83dc",
   "metadata": {},
   "outputs": [],
   "source": [
    "# Warmp up\n",
    "# md.run_simulation()\n",
    "\n",
    "# %timeit md.run_simulation(num_steps=1, output_freq=-1)"
   ]
  },
  {
   "cell_type": "code",
   "execution_count": null,
   "id": "f26f832a-5d9e-4364-aec5-da200a418328",
   "metadata": {},
   "outputs": [],
   "source": [
    "def run_sumulation(\n",
    "    md: MDSimulator, \n",
    "    num_steps: float = 1, \n",
    "    freq: int = 100,\n",
    "    filename = Path('dump.xyz'),\n",
    ") -> None:\n",
    "    for step in range(num_steps):\n",
    "        if step % freq == 0:\n",
    "            print(md.repr_physical_params(), f\" Pres[kb]:{md.get_pressure() * units.TO_KILO_BAR}\")\n",
    "            atoms = md.structure.to_ase_atoms()\n",
    "            ase.io.write(str(Path(filename)), atoms, append=True)\n",
    "        md.molecular_dynamics_step() \n",
    "    \n",
    "!rm -f /home/hossin/dump.xyz\n",
    "run_sumulation(md, num_steps=10000, filename=\"/home/hossein/dump.xyz\")"
   ]
  },
  {
   "cell_type": "code",
   "execution_count": null,
   "id": "146a03cc-dd91-491c-b83e-518ed2da2537",
   "metadata": {},
   "outputs": [],
   "source": [
    "# %time md.run_simulation(num_steps=10000, output_freq=100)"
   ]
  },
  {
   "cell_type": "code",
   "execution_count": null,
   "id": "13f7b5d5-fa40-4a27-9988-619d17ef35dc",
   "metadata": {},
   "outputs": [],
   "source": [
    "assert jnp.allclose(md.get_com_velocity(), jnp.zeros(3))"
   ]
  },
  {
   "cell_type": "code",
   "execution_count": null,
   "id": "a17fbb8a-7948-47e7-a1a8-6af3143f8c4d",
   "metadata": {},
   "outputs": [],
   "source": [
    "md.get_pressure() * units.TO_KILO_BAR"
   ]
  },
  {
   "cell_type": "code",
   "execution_count": null,
   "id": "18e9cd4c-1550-43e0-b33f-f7cb6ba9a439",
   "metadata": {},
   "outputs": [],
   "source": [
    "md.position * units.TO_ANGSTROM"
   ]
  },
  {
   "cell_type": "code",
   "execution_count": null,
   "id": "4af60399-b34f-4a3d-a8ed-93b9cff7f794",
   "metadata": {},
   "outputs": [],
   "source": [
    "atoms = md.structure.to_ase_atoms()\n",
    "view(atoms, viewer='x3d') # ase, ngl"
   ]
  }
 ],
 "metadata": {
  "kernelspec": {
   "display_name": "Python (jaxip)",
   "language": "python",
   "name": "jaxip"
  },
  "language_info": {
   "codemirror_mode": {
    "name": "ipython",
    "version": 3
   },
   "file_extension": ".py",
   "mimetype": "text/x-python",
   "name": "python",
   "nbconvert_exporter": "python",
   "pygments_lexer": "ipython3",
   "version": "3.10.10"
  }
 },
 "nbformat": 4,
 "nbformat_minor": 5
}
