{
 "cells": [
  {
   "cell_type": "markdown",
   "metadata": {},
   "source": [
    "# Getting started\n",
    "\n",
    "Below example codes illustrate how to use [Pantea](https://pantea.readthedocs.io/)."
   ]
  },
  {
   "cell_type": "markdown",
   "metadata": {},
   "source": [
    "## Initialization"
   ]
  },
  {
   "cell_type": "code",
   "execution_count": 3,
   "metadata": {},
   "outputs": [],
   "source": [
    "# !gpustat"
   ]
  },
  {
   "cell_type": "code",
   "execution_count": 4,
   "metadata": {},
   "outputs": [],
   "source": [
    "# import os\n",
    "# os.environ[\"JAX_PLATFORM_NAME\"] = \"cpu\"  # disable GPU"
   ]
  },
  {
   "cell_type": "markdown",
   "metadata": {},
   "source": [
    "## Imports"
   ]
  },
  {
   "cell_type": "code",
   "execution_count": 5,
   "metadata": {},
   "outputs": [],
   "source": [
    "import pantea\n",
    "import jax.numpy as jnp\n",
    "import jax\n",
    "import numpy as np\n",
    "import matplotlib.pylab as plt\n",
    "import seaborn as sns\n",
    "from tqdm import tqdm\n",
    "from pathlib import Path"
   ]
  },
  {
   "cell_type": "code",
   "execution_count": 6,
   "metadata": {},
   "outputs": [],
   "source": [
    "# from pantea.logger import set_logging_level\n",
    "# import logging\n",
    "# set_logging_level(logging.INFO)"
   ]
  },
  {
   "cell_type": "markdown",
   "metadata": {
    "tags": []
   },
   "source": [
    "## Dataset"
   ]
  },
  {
   "cell_type": "markdown",
   "metadata": {},
   "source": [
    "### RuNNer\n",
    "Read input dataset in [RuNNer](https://www.uni-goettingen.de/de/560580.html) format."
   ]
  },
  {
   "cell_type": "code",
   "execution_count": 66,
   "metadata": {},
   "outputs": [
    {
     "name": "stdout",
     "output_type": "stream",
     "text": [
      "Total number of structures: 20\n"
     ]
    },
    {
     "data": {
      "text/plain": [
       "Dataset(datasource=RunnerDataSource(filename='input.data', dtype=float64), persist=False)"
      ]
     },
     "execution_count": 66,
     "metadata": {},
     "output_type": "execute_result"
    }
   ],
   "source": [
    "from pantea.datasets import Dataset\n",
    "structures = Dataset.from_runner(\"input.data\", persist=False)\n",
    "print(\"Total number of structures:\", len(structures))\n",
    "# structures.preload()\n",
    "structures"
   ]
  },
  {
   "cell_type": "markdown",
   "metadata": {},
   "source": [
    "### Data loader"
   ]
  },
  {
   "cell_type": "code",
   "execution_count": 67,
   "metadata": {},
   "outputs": [],
   "source": [
    "# from torch.utils.data import DataLoader"
   ]
  },
  {
   "cell_type": "markdown",
   "metadata": {},
   "source": [
    "#### Split train and validation structures"
   ]
  },
  {
   "cell_type": "code",
   "execution_count": 68,
   "metadata": {},
   "outputs": [],
   "source": [
    "# import torch\n",
    "# validation_split = 0.032\n",
    "# nsamples = len(structures)\n",
    "# split = int(np.floor(validation_split * nsamples))\n",
    "# train_structures, valid_structures = torch.utils.data.random_split(structures, lengths=[nsamples-split, split])\n",
    "# structures = valid_structures"
   ]
  },
  {
   "cell_type": "markdown",
   "metadata": {},
   "source": [
    "## Structure"
   ]
  },
  {
   "cell_type": "code",
   "execution_count": 69,
   "metadata": {},
   "outputs": [
    {
     "data": {
      "text/plain": [
       "Structure(natoms=12, elements=('H', 'O'), dtype=float64)"
      ]
     },
     "execution_count": 69,
     "metadata": {},
     "output_type": "execute_result"
    }
   ],
   "source": [
    "structure = structures[0]\n",
    "structure"
   ]
  },
  {
   "cell_type": "code",
   "execution_count": 70,
   "metadata": {},
   "outputs": [],
   "source": [
    "from ase.visualize import view\n",
    "atoms = structure.to_ase()\n",
    "# view(atoms, viewer='ngl') # ase, ngl"
   ]
  },
  {
   "cell_type": "code",
   "execution_count": 71,
   "metadata": {},
   "outputs": [],
   "source": [
    "from ase.io.vasp import write_vasp\n",
    "write_vasp('POSCAR', atoms)"
   ]
  },
  {
   "cell_type": "markdown",
   "metadata": {},
   "source": [
    "### Compare between structures"
   ]
  },
  {
   "cell_type": "code",
   "execution_count": 72,
   "metadata": {},
   "outputs": [],
   "source": [
    "# from pantea.utils.compare import compare\n",
    "# compare(structures[0], structures[1])"
   ]
  },
  {
   "cell_type": "markdown",
   "metadata": {},
   "source": [
    "### Calculate distance between atoms"
   ]
  },
  {
   "cell_type": "code",
   "execution_count": 73,
   "metadata": {},
   "outputs": [
    {
     "data": {
      "text/plain": [
       "Array([0.        , 2.24720275, 3.85385356, 4.84207409, 7.55265933],      dtype=float64)"
      ]
     },
     "execution_count": 73,
     "metadata": {},
     "output_type": "execute_result"
    }
   ],
   "source": [
    "from pantea.atoms import calculate_distances\n",
    "distances = calculate_distances(structure)\n",
    "distances[0, :5]"
   ]
  },
  {
   "cell_type": "code",
   "execution_count": 74,
   "metadata": {},
   "outputs": [],
   "source": [
    "# sns.displot(dis.flatten(), bins=20)\n",
    "# plt.axvline(dis.mean(), color='r');"
   ]
  },
  {
   "cell_type": "markdown",
   "metadata": {},
   "source": [
    "### Find neighboring atom"
   ]
  },
  {
   "cell_type": "code",
   "execution_count": 76,
   "metadata": {},
   "outputs": [],
   "source": [
    "# from pantea.atoms import Neighbor\n",
    "# neighbor = Neighbor.from_structure(structure, r_cutoff=10.0)\n",
    "# print(neighbor)\n",
    "# print(\"Number of neighbors for atom index 0:\", jnp.sum(neighbor.masks[0]))"
   ]
  },
  {
   "cell_type": "markdown",
   "metadata": {
    "tags": []
   },
   "source": [
    "### Per-atom energy offset"
   ]
  },
  {
   "cell_type": "code",
   "execution_count": 77,
   "metadata": {},
   "outputs": [],
   "source": [
    "# structure = structures[0]\n",
    "# atom_energy = {'O': 2.4, 'H': 1.2}\n",
    "\n",
    "# structure.add_energy_offset(atom_energy)\n",
    "# structure.total_energy"
   ]
  },
  {
   "cell_type": "markdown",
   "metadata": {},
   "source": [
    "## Descriptor\n",
    "\n",
    "Atomic environment descriptor."
   ]
  },
  {
   "cell_type": "code",
   "execution_count": 78,
   "metadata": {},
   "outputs": [],
   "source": [
    "from pantea.descriptors import ACSF\n",
    "from pantea.descriptors.acsf import G2, G3, G9, CutoffFunction, NeighborElements"
   ]
  },
  {
   "cell_type": "code",
   "execution_count": 79,
   "metadata": {},
   "outputs": [
    {
     "data": {
      "text/plain": [
       "ACSF(central_element='O', num_symmetry_functions=4)"
      ]
     },
     "execution_count": 79,
     "metadata": {},
     "output_type": "execute_result"
    }
   ],
   "source": [
    "# Define cutoff, radial, and angular symmetry functions\n",
    "cfn = CutoffFunction.from_type(\"tanhu\", r_cutoff=12.0)\n",
    "g2_1 = G2(cfn, 0.0, 0.001)\n",
    "g2_2 = G2(cfn, 0.0, 0.01)\n",
    "g3_1 = G3(cfn, 0.2, 1.0, 1.0, 0.0)\n",
    "g9_1 = G3(cfn, 0.2, 1.0, 1.0, 0.0)\n",
    "# Create an ACSF descriptor for Oxygen atoms with multiple symmetry functions\n",
    "acsf = ACSF(\n",
    "    central_element='O',\n",
    "    radial_symmetry_functions=(\n",
    "        (g2_1, NeighborElements('H')),\n",
    "        (g2_2, NeighborElements('H')),\n",
    "    ),\n",
    "    angular_symmetry_functions=(\n",
    "        (g3_1, NeighborElements('H', 'H')),\n",
    "        (g9_1, NeighborElements('H', 'O')),\n",
    "    ),\n",
    ")\n",
    "acsf"
   ]
  },
  {
   "cell_type": "markdown",
   "metadata": {},
   "source": [
    "### Computing descriptor values"
   ]
  },
  {
   "cell_type": "code",
   "execution_count": 82,
   "metadata": {},
   "outputs": [
    {
     "data": {
      "text/plain": [
       "Array([[1.14844196e+00, 9.88176531e-01, 1.47813356e-04, 4.32482880e-04],\n",
       "       [1.08272759e+00, 9.35614402e-01, 2.52484053e-04, 7.64628911e-06],\n",
       "       [1.21152837e+00, 1.01618940e+00, 3.80667373e-05, 3.74757210e-04],\n",
       "       [1.01457901e+00, 8.42276766e-01, 4.21045778e-05, 1.53015035e-08]],      dtype=float64)"
      ]
     },
     "execution_count": 82,
     "metadata": {},
     "output_type": "execute_result"
    }
   ],
   "source": [
    "values = acsf(structure) # only for O atoms\n",
    "values"
   ]
  },
  {
   "cell_type": "code",
   "execution_count": 83,
   "metadata": {},
   "outputs": [],
   "source": [
    "# sns.displot(values[:, 0], bins=20);"
   ]
  },
  {
   "cell_type": "markdown",
   "metadata": {},
   "source": [
    "### Gradient"
   ]
  },
  {
   "cell_type": "code",
   "execution_count": 84,
   "metadata": {},
   "outputs": [
    {
     "data": {
      "text/plain": [
       "Array([[[-0.02516027,  0.00975464,  0.08007459],\n",
       "        [-0.01986903, -0.01250941,  0.06779186],\n",
       "        [ 0.00015445, -0.00028165, -0.00015613],\n",
       "        [-0.00093546,  0.00050747,  0.00044732]]], dtype=float64)"
      ]
     },
     "execution_count": 84,
     "metadata": {},
     "output_type": "execute_result"
    }
   ],
   "source": [
    "gradient = acsf.grad(structure) # gradient respect to the atom positions\n",
    "gradient[:1, ...]"
   ]
  },
  {
   "cell_type": "markdown",
   "metadata": {},
   "source": [
    "## Scaler\n",
    "\n",
    "Descriptor scaler."
   ]
  },
  {
   "cell_type": "code",
   "execution_count": 85,
   "metadata": {},
   "outputs": [],
   "source": [
    "from pantea.descriptors import DescriptorScaler"
   ]
  },
  {
   "cell_type": "markdown",
   "metadata": {},
   "source": [
    "### Fitting scaling parameters"
   ]
  },
  {
   "cell_type": "code",
   "execution_count": 86,
   "metadata": {},
   "outputs": [
    {
     "name": "stderr",
     "output_type": "stream",
     "text": [
      "100%|██████████| 20/20 [00:00<00:00, 122.62it/s]\n"
     ]
    },
    {
     "data": {
      "text/plain": [
       "DescriptorScaler(scale_type='scale_center', scale_min=0.0, scale_max=1.0)"
      ]
     },
     "execution_count": 86,
     "metadata": {},
     "output_type": "execute_result"
    }
   ],
   "source": [
    "scaler = DescriptorScaler(scale_type='scale_center')\n",
    "\n",
    "for structure in tqdm(structures):\n",
    "    x = acsf(structure)\n",
    "    scaler.fit(x)\n",
    "\n",
    "scaler"
   ]
  },
  {
   "cell_type": "code",
   "execution_count": 87,
   "metadata": {},
   "outputs": [
    {
     "name": "stderr",
     "output_type": "stream",
     "text": [
      "100%|██████████| 20/20 [00:00<00:00, 138.27it/s]\n"
     ]
    },
    {
     "data": {
      "text/plain": [
       "(80, 4)"
      ]
     },
     "execution_count": 87,
     "metadata": {},
     "output_type": "execute_result"
    }
   ],
   "source": [
    "scaled_x = []\n",
    "for structure in tqdm(structures):\n",
    "    x = acsf(structure)\n",
    "    scaled_x.append(scaler(x))\n",
    "\n",
    "scaled_x = jnp.concatenate(scaled_x, axis=0)\n",
    "scaled_x.shape"
   ]
  },
  {
   "cell_type": "code",
   "execution_count": 90,
   "metadata": {},
   "outputs": [],
   "source": [
    "# sx = scaled_x[:, 5]\n",
    "# sns.displot(sx, bins=30)\n",
    "# plt.axvline(sx.mean(), color='r', lw=3);\n",
    "# plt.axvline(0, color='k');"
   ]
  },
  {
   "cell_type": "markdown",
   "metadata": {},
   "source": [
    "## Model"
   ]
  },
  {
   "cell_type": "code",
   "execution_count": 108,
   "metadata": {},
   "outputs": [],
   "source": [
    "from pantea.models import NeuralNetworkModel\n",
    "from pantea.models.nn import UniformInitializer\n",
    "from flax import linen as nn"
   ]
  },
  {
   "cell_type": "code",
   "execution_count": 109,
   "metadata": {},
   "outputs": [
    {
     "data": {
      "text/plain": [
       "NeuralNetworkModel(hidden_layers=((8, 'tanh'), (8, 'tanh')), param_dtype=float64)"
      ]
     },
     "execution_count": 109,
     "metadata": {},
     "output_type": "execute_result"
    }
   ],
   "source": [
    "model = NeuralNetworkModel(\n",
    "    hidden_layers=(\n",
    "        (8, 'tanh'), \n",
    "        (8, 'tanh'),\n",
    "    ),\n",
    ")\n",
    "model"
   ]
  },
  {
   "cell_type": "code",
   "execution_count": 110,
   "metadata": {},
   "outputs": [
    {
     "data": {
      "text/plain": [
       "{'params': {'layers_0': {'bias': (8,), 'kernel': (4, 8)},\n",
       "  'layers_2': {'bias': (8,), 'kernel': (8, 8)},\n",
       "  'layers_4': {'bias': (1,), 'kernel': (8, 1)}}}"
      ]
     },
     "execution_count": 110,
     "metadata": {},
     "output_type": "execute_result"
    }
   ],
   "source": [
    "rng = jax.random.PRNGKey(2022)                       # PRNG Key\n",
    "x = jnp.ones(shape=(8, acsf.num_symmetry_functions)) # Dummy Input\n",
    "params = model.init(rng, x)                          # Initialize the parameters\n",
    "jax.tree.map(lambda x: x.shape, params)              # Check the parameters"
   ]
  },
  {
   "cell_type": "code",
   "execution_count": 111,
   "metadata": {},
   "outputs": [],
   "source": [
    "energies = model.apply(params, scaled_x[:, :])"
   ]
  },
  {
   "cell_type": "code",
   "execution_count": 118,
   "metadata": {},
   "outputs": [
    {
     "data": {
      "image/png": "[encoded data removed]",
      "text/plain": [
       "<Figure size 558.75x500 with 1 Axes>"
      ]
     },
     "metadata": {},
     "output_type": "display_data"
    }
   ],
   "source": [
    "sns.displot(energies, bins=30);"
   ]
  },
  {
   "cell_type": "markdown",
   "metadata": {},
   "source": [
    "### Atomic Potential\n",
    "\n",
    "An atomic potential calculates the energy of a specific element in structures. It forms the basic building block of the final potential, which typically contains multiple elements. Atomic potential bundles up all the necessary components such as descriptors, scalers, and models in order to output the per-atomic energy."
   ]
  },
  {
   "cell_type": "code",
   "execution_count": 119,
   "metadata": {},
   "outputs": [],
   "source": [
    "from pantea.potentials import AtomicPotential"
   ]
  },
  {
   "cell_type": "code",
   "execution_count": 120,
   "metadata": {},
   "outputs": [
    {
     "data": {
      "text/plain": [
       "AtomicPotential(\n",
       "  descriptor=ACSF(central_element='O', num_symmetry_functions=4),\n",
       "  scaler=DescriptorScaler(scale_type='scale_center', scale_min=0.0, scale_max=1.0),\n",
       "  model=NeuralNetworkModel(hidden_layers=((8, 'tanh'), (8, 'tanh')), param_dtype=float64),\n",
       ")"
      ]
     },
     "execution_count": 120,
     "metadata": {},
     "output_type": "execute_result"
    }
   ],
   "source": [
    "atomic_potential = AtomicPotential(\n",
    "    descriptor=acsf,\n",
    "    scaler=scaler,\n",
    "    model=model,\n",
    ")\n",
    "\n",
    "atomic_potential"
   ]
  },
  {
   "cell_type": "code",
   "execution_count": 121,
   "metadata": {},
   "outputs": [
    {
     "data": {
      "text/plain": [
       "(4, 1)"
      ]
     },
     "execution_count": 121,
     "metadata": {},
     "output_type": "execute_result"
    }
   ],
   "source": [
    "out =  atomic_potential.apply(params[\"params\"], structure)\n",
    "out.shape"
   ]
  },
  {
   "cell_type": "code",
   "execution_count": 122,
   "metadata": {},
   "outputs": [
    {
     "name": "stderr",
     "output_type": "stream",
     "text": [
      "100%|██████████| 20/20 [00:00<00:00, 77.59it/s]\n"
     ]
    },
    {
     "data": {
      "text/plain": [
       "(80, 1)"
      ]
     },
     "execution_count": 122,
     "metadata": {},
     "output_type": "execute_result"
    }
   ],
   "source": [
    "energies = []\n",
    "for structure in tqdm(structures):\n",
    "    out = atomic_potential.apply(params['params'], structure)\n",
    "    energies.append(out)\n",
    "\n",
    "energies = jnp.concatenate(energies, axis=0)\n",
    "energies.shape"
   ]
  },
  {
   "cell_type": "code",
   "execution_count": 123,
   "metadata": {},
   "outputs": [],
   "source": [
    "# sns.displot(energies, bins=30);"
   ]
  },
  {
   "cell_type": "markdown",
   "metadata": {},
   "source": [
    "Please note that the above graph is exactly the same graph as we obtained before by using the model."
   ]
  },
  {
   "cell_type": "markdown",
   "metadata": {},
   "source": [
    "## Neural Network Potential\n",
    "\n",
    "An instance of neural network potential (NNP) including descirptor, scaler, and model for multiple elements can be initialzied directly from the input potential files. "
   ]
  },
  {
   "cell_type": "code",
   "execution_count": 124,
   "metadata": {},
   "outputs": [],
   "source": [
    "from pantea.datasets import Dataset\n",
    "from pantea.potentials import NeuralNetworkPotential\n",
    "from ase.visualize import view"
   ]
  },
  {
   "cell_type": "markdown",
   "metadata": {},
   "source": [
    "### Read dataset"
   ]
  },
  {
   "cell_type": "code",
   "execution_count": 125,
   "metadata": {},
   "outputs": [
    {
     "data": {
      "text/plain": [
       "Structure(natoms=24, elements=('C',), dtype=float64)"
      ]
     },
     "execution_count": 125,
     "metadata": {},
     "output_type": "execute_result"
    }
   ],
   "source": [
    "base_dir = Path(\"GRN\")\n",
    "\n",
    "# Atomic data\n",
    "structures = Dataset.from_runner(Path(base_dir, \"input.data\"))\n",
    "\n",
    "# structures = [structures[i] for i in range(10)]\n",
    "structure = structures[0]\n",
    "structure\n",
    "# view(structure.to_ase() * (3, 3, 2), viewer='ngl')"
   ]
  },
  {
   "cell_type": "markdown",
   "metadata": {},
   "source": [
    "### Load potential parameters"
   ]
  },
  {
   "cell_type": "code",
   "execution_count": 126,
   "metadata": {},
   "outputs": [],
   "source": [
    "# Potential\n",
    "nnp = NeuralNetworkPotential.from_file(Path(base_dir, \"input.nn\"))\n",
    "\n",
    "# nnp.save()\n",
    "nnp.load()"
   ]
  },
  {
   "cell_type": "markdown",
   "metadata": {},
   "source": [
    "### Predictions\n",
    "\n",
    "Warm-up period is bacause of the lazy class loading and just-in-time (JIT) compilation."
   ]
  },
  {
   "cell_type": "code",
   "execution_count": 127,
   "metadata": {},
   "outputs": [
    {
     "data": {
      "text/plain": [
       "Array(-8.18191042, dtype=float64)"
      ]
     },
     "execution_count": 127,
     "metadata": {},
     "output_type": "execute_result"
    }
   ],
   "source": [
    "total_energy = nnp(structure)\n",
    "total_energy"
   ]
  },
  {
   "cell_type": "code",
   "execution_count": 128,
   "metadata": {},
   "outputs": [
    {
     "data": {
      "text/plain": [
       "Array([[-0.04129901, -0.00485591, -0.014872  ],\n",
       "       [-0.02908222,  0.00310371, -0.00150911],\n",
       "       [-0.00565246,  0.01996448,  0.01061829],\n",
       "       [-0.0587865 ,  0.06561186, -0.00580648],\n",
       "       [ 0.0425797 , -0.02974518,  0.0046995 ]], dtype=float64)"
      ]
     },
     "execution_count": 128,
     "metadata": {},
     "output_type": "execute_result"
    }
   ],
   "source": [
    "forces = nnp.compute_forces(structure)\n",
    "forces[:5]"
   ]
  },
  {
   "cell_type": "code",
   "execution_count": null,
   "metadata": {},
   "outputs": [],
   "source": []
  }
 ],
 "metadata": {
  "interpreter": {
   "hash": "79f793817441a9b4f3336163bce28fb05f5fade87f8f747882a8ea5340683793"
  },
  "kernelspec": {
   "display_name": "Python (pantea)",
   "language": "python",
   "name": "pantea"
  },
  "language_info": {
   "codemirror_mode": {
    "name": "ipython",
    "version": 3
   },
   "file_extension": ".py",
   "mimetype": "text/x-python",
   "name": "python",
   "nbconvert_exporter": "python",
   "pygments_lexer": "ipython3",
   "version": "3.10.14"
  }
 },
 "nbformat": 4,
 "nbformat_minor": 4
}
