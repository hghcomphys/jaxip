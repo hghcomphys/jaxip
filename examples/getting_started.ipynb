{
 "cells": [
  {
   "cell_type": "markdown",
   "metadata": {},
   "source": [
    "# Getting started\n",
    "\n",
    "Below example codes illustrate how to use different modules in [Pantea](https://pantea.readthedocs.io/)."
   ]
  },
  {
   "cell_type": "markdown",
   "metadata": {},
   "source": [
    "## Initialization"
   ]
  },
  {
   "cell_type": "code",
   "execution_count": 1,
   "metadata": {},
   "outputs": [],
   "source": [
    "import os\n",
    "os.environ[\"JAX_PLATFORM_NAME\"] = \"cpu\"  # disable GPU-accelerated computing"
   ]
  },
  {
   "cell_type": "markdown",
   "metadata": {},
   "source": [
    "## Imports"
   ]
  },
  {
   "cell_type": "code",
   "execution_count": 2,
   "metadata": {},
   "outputs": [],
   "source": [
    "import pantea\n",
    "import jax.numpy as jnp\n",
    "import jax\n",
    "import numpy as np\n",
    "import matplotlib.pylab as plt\n",
    "import seaborn as sns\n",
    "from tqdm import tqdm\n",
    "from pathlib import Path"
   ]
  },
  {
   "cell_type": "code",
   "execution_count": 3,
   "metadata": {},
   "outputs": [],
   "source": [
    "# from pantea.logger import set_logging_level\n",
    "# import logging\n",
    "# set_logging_level(logging.INFO)"
   ]
  },
  {
   "cell_type": "markdown",
   "metadata": {
    "tags": []
   },
   "source": [
    "## Dataset"
   ]
  },
  {
   "cell_type": "markdown",
   "metadata": {},
   "source": [
    "### RuNNer\n",
    "Read dataset in [RuNNer](https://www.uni-goettingen.de/de/560580.html) format."
   ]
  },
  {
   "cell_type": "code",
   "execution_count": 4,
   "metadata": {},
   "outputs": [
    {
     "name": "stdout",
     "output_type": "stream",
     "text": [
      "Total number of structures: 20\n"
     ]
    },
    {
     "data": {
      "text/plain": [
       "Dataset(datasource=RunnerDataSource(filename='input.data', dtype=float64), persist=False)"
      ]
     },
     "execution_count": 4,
     "metadata": {},
     "output_type": "execute_result"
    }
   ],
   "source": [
    "from pantea.datasets import Dataset\n",
    "base_dir = Path('./home/H2O_2')\n",
    "structures = Dataset.from_runner(\"input.data\", persist=False)\n",
    "print(\"Total number of structures:\", len(structures))\n",
    "# structures.preload()\n",
    "structures"
   ]
  },
  {
   "cell_type": "code",
   "execution_count": 5,
   "metadata": {},
   "outputs": [],
   "source": [
    "structures = [structures[i] for i in range(10)]"
   ]
  },
  {
   "cell_type": "markdown",
   "metadata": {},
   "source": [
    "### Data loader"
   ]
  },
  {
   "cell_type": "code",
   "execution_count": 6,
   "metadata": {},
   "outputs": [],
   "source": [
    "# from torch.utils.data import DataLoader"
   ]
  },
  {
   "cell_type": "markdown",
   "metadata": {},
   "source": [
    "#### Split train and validation structures"
   ]
  },
  {
   "cell_type": "code",
   "execution_count": 7,
   "metadata": {},
   "outputs": [],
   "source": [
    "# import torch\n",
    "# validation_split = 0.032\n",
    "# nsamples = len(structures)\n",
    "# split = int(np.floor(validation_split * nsamples))\n",
    "# train_structures, valid_structures = torch.utils.data.random_split(structures, lengths=[nsamples-split, split])\n",
    "# structures = valid_structures"
   ]
  },
  {
   "cell_type": "markdown",
   "metadata": {},
   "source": [
    "## Structure"
   ]
  },
  {
   "cell_type": "code",
   "execution_count": 8,
   "metadata": {},
   "outputs": [
    {
     "data": {
      "text/plain": [
       "Structure(natoms=12, elements=('H', 'O'), dtype=float64)"
      ]
     },
     "execution_count": 8,
     "metadata": {},
     "output_type": "execute_result"
    }
   ],
   "source": [
    "s = structures[0]\n",
    "s"
   ]
  },
  {
   "cell_type": "code",
   "execution_count": 9,
   "metadata": {},
   "outputs": [],
   "source": [
    "from ase.visualize import view\n",
    "atoms = s.to_ase()\n",
    "# view(atoms, viewer='ngl') # ase, ngl"
   ]
  },
  {
   "cell_type": "code",
   "execution_count": 10,
   "metadata": {},
   "outputs": [],
   "source": [
    "from ase.io.vasp import write_vasp\n",
    "write_vasp('POSCAR', atoms)"
   ]
  },
  {
   "cell_type": "markdown",
   "metadata": {},
   "source": [
    "### Compare between structures"
   ]
  },
  {
   "cell_type": "code",
   "execution_count": 11,
   "metadata": {},
   "outputs": [
    {
     "name": "stdout",
     "output_type": "stream",
     "text": [
      "Comparing two structures, error metrics: RMSEpa\n"
     ]
    },
    {
     "data": {
      "text/plain": [
       "{'force_RMSEpa': Array(0.85609414, dtype=float64),\n",
       " 'energy_RMSEpa': Array(0.01299882, dtype=float64)}"
      ]
     },
     "execution_count": 11,
     "metadata": {},
     "output_type": "execute_result"
    }
   ],
   "source": [
    "from pantea.utils.compare import compare\n",
    "compare(structures[0], structures[1])"
   ]
  },
  {
   "cell_type": "markdown",
   "metadata": {},
   "source": [
    "### Calculate distance between atoms"
   ]
  },
  {
   "cell_type": "code",
   "execution_count": 12,
   "metadata": {},
   "outputs": [
    {
     "data": {
      "text/plain": [
       "Array([0.        , 2.24720275, 3.85385356, 4.84207409, 7.55265933],      dtype=float64)"
      ]
     },
     "execution_count": 12,
     "metadata": {},
     "output_type": "execute_result"
    }
   ],
   "source": [
    "from pantea.atoms import calculate_distances\n",
    "dis = calculate_distances(s, atom_indices=0)\n",
    "dis[0, :5]"
   ]
  },
  {
   "cell_type": "code",
   "execution_count": 13,
   "metadata": {},
   "outputs": [],
   "source": [
    "# sns.displot(dis.flatten(), bins=20)\n",
    "# plt.axvline(dis.mean(), color='r');"
   ]
  },
  {
   "cell_type": "markdown",
   "metadata": {},
   "source": [
    "### Find neighboring atom"
   ]
  },
  {
   "cell_type": "code",
   "execution_count": 14,
   "metadata": {},
   "outputs": [
    {
     "name": "stdout",
     "output_type": "stream",
     "text": [
      "Neighbor(r_cutoff=10.0)\n",
      "Number of neighbors for atom index 0: 11\n"
     ]
    }
   ],
   "source": [
    "from pantea.atoms import Neighbor\n",
    "\n",
    "neighbor = Neighbor.from_structure(s, r_cutoff=10.0)\n",
    "print(neighbor)\n",
    "print(\"Number of neighbors for atom index 0:\", jnp.sum(neighbor.masks[0]))"
   ]
  },
  {
   "cell_type": "markdown",
   "metadata": {
    "tags": []
   },
   "source": [
    "### Per-atom energy offset"
   ]
  },
  {
   "cell_type": "code",
   "execution_count": 15,
   "metadata": {},
   "outputs": [],
   "source": [
    "# structure = structures[0]\n",
    "# atom_energy = {'O': 2.4, 'H': 1.2}\n",
    "\n",
    "# structure.add_energy_offset(atom_energy)\n",
    "# structure.total_energy"
   ]
  },
  {
   "cell_type": "markdown",
   "metadata": {},
   "source": [
    "## Descriptor\n",
    "\n",
    "Atomic environment descriptor."
   ]
  },
  {
   "cell_type": "code",
   "execution_count": 16,
   "metadata": {},
   "outputs": [],
   "source": [
    "from pantea.descriptors import ACSF\n",
    "from pantea.descriptors.acsf import G2, G3, G9, CutoffFunction"
   ]
  },
  {
   "cell_type": "code",
   "execution_count": 17,
   "metadata": {},
   "outputs": [
    {
     "data": {
      "text/plain": [
       "ACSF(central_element='O', symmetry_functions=5)"
      ]
     },
     "execution_count": 17,
     "metadata": {},
     "output_type": "execute_result"
    }
   ],
   "source": [
    "acsf = ACSF('O')\n",
    "\n",
    "cfn = CutoffFunction.from_cutoff_type(12.0, cutoff_type=\"tanhu\")\n",
    "g2_1 = G2(cfn, 0.0, 0.001)\n",
    "g2_2 = G2(cfn, 0.0, 0.01)\n",
    "g3_1 = G3(cfn, 0.2, 1.0, 1.0, 0.0)\n",
    "g9_1 = G3(cfn, 0.2, 1.0, 1.0, 0.0)\n",
    "\n",
    "acsf.add(g2_1, 'H')\n",
    "acsf.add(g2_2, 'H')\n",
    "acsf.add(g3_1, 'H', 'H')\n",
    "acsf.add(g3_1, 'H', 'O')\n",
    "acsf.add(g9_1, 'H', 'O')\n",
    "acsf"
   ]
  },
  {
   "cell_type": "markdown",
   "metadata": {},
   "source": [
    "### Computing descriptor values"
   ]
  },
  {
   "cell_type": "code",
   "execution_count": 18,
   "metadata": {},
   "outputs": [
    {
     "data": {
      "text/plain": [
       "Array([1.08272759e+00, 9.35614402e-01, 2.52484053e-04, 7.64628911e-06,\n",
       "       7.64628911e-06], dtype=float64)"
      ]
     },
     "execution_count": 18,
     "metadata": {},
     "output_type": "execute_result"
    }
   ],
   "source": [
    "val = acsf(s)\n",
    "val[1, :]"
   ]
  },
  {
   "cell_type": "code",
   "execution_count": 19,
   "metadata": {},
   "outputs": [],
   "source": [
    "# sns.displot(val[:, 0], bins=20);"
   ]
  },
  {
   "cell_type": "markdown",
   "metadata": {},
   "source": [
    "### Gradient"
   ]
  },
  {
   "cell_type": "code",
   "execution_count": 20,
   "metadata": {},
   "outputs": [
    {
     "data": {
      "text/plain": [
       "Array([[ 1.79978042e-02,  5.45284166e-02,  2.27747548e-02],\n",
       "       [ 2.44782245e-02,  5.73790821e-02,  2.26291032e-02],\n",
       "       [-4.11964454e-09,  4.37485864e-08,  2.58386814e-08],\n",
       "       [-4.53174665e-06,  4.41009856e-04,  6.82317265e-05],\n",
       "       [-4.53174665e-06,  4.41009856e-04,  6.82317265e-05]],      dtype=float64)"
      ]
     },
     "execution_count": 20,
     "metadata": {},
     "output_type": "execute_result"
    }
   ],
   "source": [
    "acsf.grad(structures[0], atom_index=2)"
   ]
  },
  {
   "cell_type": "markdown",
   "metadata": {},
   "source": [
    "## Scaler\n",
    "\n",
    "Descriptor scaler."
   ]
  },
  {
   "cell_type": "code",
   "execution_count": 21,
   "metadata": {},
   "outputs": [],
   "source": [
    "from pantea.descriptors import Scaler"
   ]
  },
  {
   "cell_type": "markdown",
   "metadata": {},
   "source": [
    "### Fitting scaling parameters"
   ]
  },
  {
   "cell_type": "code",
   "execution_count": 22,
   "metadata": {},
   "outputs": [
    {
     "name": "stderr",
     "output_type": "stream",
     "text": [
      "100%|██████████| 10/10 [00:00<00:00, 45.12it/s]\n"
     ]
    },
    {
     "data": {
      "text/plain": [
       "Scaler(scale_type='scale_center', scale_min=0.0, scale_max=1.0)"
      ]
     },
     "execution_count": 22,
     "metadata": {},
     "output_type": "execute_result"
    }
   ],
   "source": [
    "scaler = Scaler(scale_type='scale_center')\n",
    "# acsf = nnp.descriptor[\"H\"]\n",
    "\n",
    "for structure in tqdm(structures):\n",
    "    x = acsf(structure)\n",
    "    scaler.fit(x)\n",
    "\n",
    "scaler"
   ]
  },
  {
   "cell_type": "code",
   "execution_count": 23,
   "metadata": {},
   "outputs": [
    {
     "name": "stderr",
     "output_type": "stream",
     "text": [
      "100%|██████████| 10/10 [00:00<00:00, 87.01it/s]\n"
     ]
    },
    {
     "data": {
      "text/plain": [
       "(40, 5)"
      ]
     },
     "execution_count": 23,
     "metadata": {},
     "output_type": "execute_result"
    }
   ],
   "source": [
    "scaled_x = []\n",
    "for structure in tqdm(structures):\n",
    "    x = acsf(structure)\n",
    "    scaled_x.append(scaler(x))\n",
    "\n",
    "scaled_x = jnp.concatenate(scaled_x, axis=0)\n",
    "scaled_x.shape"
   ]
  },
  {
   "cell_type": "code",
   "execution_count": 26,
   "metadata": {},
   "outputs": [],
   "source": [
    "# sx = scaled_x[:, 5]\n",
    "# sns.displot(sx, bins=30)\n",
    "# plt.axvline(sx.mean(), color='r', lw=3);\n",
    "# plt.axvline(0, color='k');"
   ]
  },
  {
   "cell_type": "markdown",
   "metadata": {},
   "source": [
    "## Model"
   ]
  },
  {
   "cell_type": "code",
   "execution_count": 27,
   "metadata": {},
   "outputs": [],
   "source": [
    "from pantea.models import NeuralNetworkModel\n",
    "from pantea.models.nn import UniformInitializer\n",
    "from flax import linen as nn"
   ]
  },
  {
   "cell_type": "code",
   "execution_count": 28,
   "metadata": {},
   "outputs": [
    {
     "data": {
      "text/plain": [
       "NeuralNetworkModel(hidden_layers=((8, 'tanh'), (8, 'tanh')), param_dtype=float64)"
      ]
     },
     "execution_count": 28,
     "metadata": {},
     "output_type": "execute_result"
    }
   ],
   "source": [
    "model = NeuralNetworkModel(hidden_layers=((8, 'tanh'), (8, 'tanh')))\n",
    "model"
   ]
  },
  {
   "cell_type": "code",
   "execution_count": 29,
   "metadata": {},
   "outputs": [
    {
     "data": {
      "text/plain": [
       "{'params': {'layers_0': {'bias': (8,), 'kernel': (5, 8)},\n",
       "  'layers_2': {'bias': (8,), 'kernel': (8, 8)},\n",
       "  'layers_4': {'bias': (1,), 'kernel': (8, 1)}}}"
      ]
     },
     "execution_count": 29,
     "metadata": {},
     "output_type": "execute_result"
    }
   ],
   "source": [
    "rng = jax.random.PRNGKey(2022)                       # PRNG Key\n",
    "x = jnp.ones(shape=(8, acsf.num_symmetry_functions)) # Dummy Input\n",
    "params = model.init(rng, x)                          # Initialize the parameters\n",
    "jax.tree_map(lambda x: x.shape, params)              # Check the parameters"
   ]
  },
  {
   "cell_type": "markdown",
   "metadata": {},
   "source": [
    "### Computing output energy"
   ]
  },
  {
   "cell_type": "code",
   "execution_count": 30,
   "metadata": {},
   "outputs": [],
   "source": [
    "energies = model.apply(params, scaled_x[:, :])"
   ]
  },
  {
   "cell_type": "code",
   "execution_count": 32,
   "metadata": {},
   "outputs": [],
   "source": [
    "# sns.displot(energies, bins=30);"
   ]
  },
  {
   "cell_type": "markdown",
   "metadata": {},
   "source": [
    "## Atomic Potential\n",
    "\n",
    "An atomic potential calculates the energy of a specific element in structures. It forms the basic building block of the final potential, which typically contains multiple elements. Atomic potential bundles up all the necessary components such as descriptors, scalers, and models in order to output the per-atomic energy."
   ]
  },
  {
   "cell_type": "code",
   "execution_count": 34,
   "metadata": {},
   "outputs": [],
   "source": [
    "from pantea.potentials import AtomicPotential"
   ]
  },
  {
   "cell_type": "code",
   "execution_count": 35,
   "metadata": {},
   "outputs": [
    {
     "data": {
      "text/plain": [
       "AtomicPotential(\n",
       "  descriptor=ACSF(central_element='O', symmetry_functions=5),\n",
       "  scaler=Scaler(scale_type='scale_center', scale_min=0.0, scale_max=1.0),\n",
       "  model=NeuralNetworkModel(hidden_layers=((8, 'tanh'), (8, 'tanh')), param_dtype=float64),\n",
       ")"
      ]
     },
     "execution_count": 35,
     "metadata": {},
     "output_type": "execute_result"
    }
   ],
   "source": [
    "atomic_potential = AtomicPotential(\n",
    "    descriptor=acsf,\n",
    "    scaler=scaler,\n",
    "    model=model,\n",
    ")\n",
    "\n",
    "atomic_potential"
   ]
  },
  {
   "cell_type": "code",
   "execution_count": 36,
   "metadata": {},
   "outputs": [
    {
     "data": {
      "text/plain": [
       "(4, 1)"
      ]
     },
     "execution_count": 36,
     "metadata": {},
     "output_type": "execute_result"
    }
   ],
   "source": [
    "out =  atomic_potential.apply(params[\"params\"], s)\n",
    "out.shape"
   ]
  },
  {
   "cell_type": "code",
   "execution_count": 37,
   "metadata": {},
   "outputs": [
    {
     "name": "stderr",
     "output_type": "stream",
     "text": [
      "100%|██████████| 10/10 [00:00<00:00, 93.97it/s]\n"
     ]
    },
    {
     "data": {
      "text/plain": [
       "(40, 1)"
      ]
     },
     "execution_count": 37,
     "metadata": {},
     "output_type": "execute_result"
    }
   ],
   "source": [
    "energies = []\n",
    "for structure in tqdm(structures):\n",
    "    out = atomic_potential.apply(params['params'], structure)\n",
    "    energies.append(out)\n",
    "\n",
    "energies = jnp.concatenate(energies, axis=0)\n",
    "energies.shape"
   ]
  },
  {
   "cell_type": "code",
   "execution_count": 39,
   "metadata": {},
   "outputs": [],
   "source": [
    "# sns.displot(energies, bins=30);"
   ]
  },
  {
   "cell_type": "markdown",
   "metadata": {},
   "source": [
    "Please note that the above graph is exactly the same graph as we obtained before by using the model."
   ]
  },
  {
   "cell_type": "markdown",
   "metadata": {},
   "source": [
    "## Neural Network Potential\n",
    "\n",
    "An instance of neural network potential (NNP) including descirptor, scaler, and model for multiple elements can be initialzied directly from the input potential files. "
   ]
  },
  {
   "cell_type": "code",
   "execution_count": 40,
   "metadata": {},
   "outputs": [],
   "source": [
    "from pantea.datasets import Dataset\n",
    "from pantea.potentials import NeuralNetworkPotential\n",
    "from ase.visualize import view"
   ]
  },
  {
   "cell_type": "markdown",
   "metadata": {},
   "source": [
    "### Read dataset"
   ]
  },
  {
   "cell_type": "code",
   "execution_count": 41,
   "metadata": {},
   "outputs": [
    {
     "data": {
      "text/plain": [
       "Structure(natoms=24, elements=('C',), dtype=float64)"
      ]
     },
     "execution_count": 41,
     "metadata": {},
     "output_type": "execute_result"
    }
   ],
   "source": [
    "base_dir = Path(\"GRN\")\n",
    "\n",
    "# Atomic data\n",
    "structures = Dataset.from_runner(Path(base_dir, \"input.data\"))\n",
    "\n",
    "# structures = [structures[i] for i in range(10)]\n",
    "structure = structures[0]\n",
    "structure\n",
    "# view(structure.to_ase() * (3, 3, 2), viewer='ngl')"
   ]
  },
  {
   "cell_type": "markdown",
   "metadata": {},
   "source": [
    "### Load potential parameters"
   ]
  },
  {
   "cell_type": "code",
   "execution_count": 42,
   "metadata": {},
   "outputs": [],
   "source": [
    "# Potential\n",
    "nnp = NeuralNetworkPotential.from_file(Path(base_dir, \"input.nn\"))\n",
    "\n",
    "# nnp.save()\n",
    "nnp.load()"
   ]
  },
  {
   "cell_type": "markdown",
   "metadata": {},
   "source": [
    "### Predictions\n",
    "\n",
    "Warm-up period is bacause of the lazy class loading and just-in-time (JIT) compilation."
   ]
  },
  {
   "cell_type": "code",
   "execution_count": 43,
   "metadata": {},
   "outputs": [
    {
     "data": {
      "text/plain": [
       "Array(-7.87381352, dtype=float64)"
      ]
     },
     "execution_count": 43,
     "metadata": {},
     "output_type": "execute_result"
    }
   ],
   "source": [
    "total_energy = nnp(structure)\n",
    "total_energy"
   ]
  },
  {
   "cell_type": "code",
   "execution_count": 44,
   "metadata": {},
   "outputs": [
    {
     "data": {
      "text/plain": [
       "Array([[-0.06574249,  0.09717347,  0.12231123],\n",
       "       [ 0.00342561, -0.1228041 ,  0.00807254],\n",
       "       [-0.03078268, -0.02746679, -0.05159936],\n",
       "       [-0.05093628, -0.096709  ,  0.0169795 ],\n",
       "       [ 0.01947876, -0.09550387, -0.01810463]], dtype=float64)"
      ]
     },
     "execution_count": 44,
     "metadata": {},
     "output_type": "execute_result"
    }
   ],
   "source": [
    "forces = nnp.compute_forces(structure)\n",
    "forces[:5]"
   ]
  }
 ],
 "metadata": {
  "interpreter": {
   "hash": "79f793817441a9b4f3336163bce28fb05f5fade87f8f747882a8ea5340683793"
  },
  "kernelspec": {
   "display_name": "Python (pantea)",
   "language": "python",
   "name": "pantea"
  },
  "language_info": {
   "codemirror_mode": {
    "name": "ipython",
    "version": 3
   },
   "file_extension": ".py",
   "mimetype": "text/x-python",
   "name": "python",
   "nbconvert_exporter": "python",
   "pygments_lexer": "ipython3",
   "version": "3.10.13"
  }
 },
 "nbformat": 4,
 "nbformat_minor": 4
}
