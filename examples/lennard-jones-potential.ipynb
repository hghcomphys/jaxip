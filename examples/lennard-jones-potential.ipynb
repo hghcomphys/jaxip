{
 "cells": [
  {
   "cell_type": "markdown",
   "metadata": {},
   "source": [
    "# TorchIP: Lennard-Jones potential\n",
    "An examples notebook that shows how to reconstruct a Lennard-Jones potential. \n",
    "\n",
    "\n",
    "TODO\n",
    "- use trainer\n",
    "- random sampling, test-train-split\n",
    "- predict energy\n",
    "- predict force"
   ]
  },
  {
   "cell_type": "markdown",
   "metadata": {},
   "source": [
    "## Imports"
   ]
  },
  {
   "cell_type": "code",
   "execution_count": null,
   "metadata": {},
   "outputs": [],
   "source": [
    "import sys\n",
    "sys.path.append('../')\n",
    "\n",
    "import torchip as tp\n",
    "from torchip.config import CFG\n",
    "from torchip.structure import Structure\n",
    "from torchip.loaders import RunnerStructureLoader, read_structures\n",
    "from torchip.utils import gradient\n",
    "from torchip.descriptors import ASF, CutoffFunction, G2\n",
    "from torchip.descriptors import DescriptorScaler\n",
    "from torchip.potentials import NeuralNetworkPotential\n",
    "\n",
    "import torch\n",
    "import numpy as np\n",
    "import pandas as pd\n",
    "from pathlib import Path\n",
    "from collections import defaultdict\n",
    "from scipy.optimize import curve_fit\n",
    "import matplotlib.pylab as plt\n",
    "\n",
    "np.random.seed(2022)\n",
    "torch.manual_seed(2022);\n",
    "\n",
    "# print(tp.__doc__)\n",
    "# print(f\"Import TorchIP {tp.__version__}\")"
   ]
  },
  {
   "cell_type": "code",
   "execution_count": null,
   "metadata": {},
   "outputs": [],
   "source": [
    "# Set device eigher cpu or cuda (gpu)\n",
    "CFG.set(\"device\", \"cpu\")"
   ]
  },
  {
   "cell_type": "markdown",
   "metadata": {},
   "source": [
    "## Structure"
   ]
  },
  {
   "cell_type": "code",
   "execution_count": null,
   "metadata": {},
   "outputs": [],
   "source": [
    "# Create structure loader\n",
    "workdir = Path('/home/hossein/n2p2/examples/nnp-train/LJ')\n",
    "sloader = RunnerStructureLoader(Path(workdir, \"input.data\")) "
   ]
  },
  {
   "cell_type": "code",
   "execution_count": null,
   "metadata": {},
   "outputs": [],
   "source": [
    "# # Read structures using get_data() method (including comments)\n",
    "# for data in sloader.get_data():\n",
    "#     structure = Structure(data, requires_grad=True)\n",
    "#     break\n",
    "# print('comment:', data['comment'])\n",
    "# print(structure)\n",
    "# structure.position"
   ]
  },
  {
   "cell_type": "markdown",
   "metadata": {},
   "source": [
    "### Energy and force"
   ]
  },
  {
   "cell_type": "code",
   "execution_count": null,
   "metadata": {},
   "outputs": [],
   "source": [
    "def potential(r, esp=1.0, sig=1.0):\n",
    "    \"\"\"\n",
    "    Explicit definition of the Lennard-Jones potential (for debugging). \n",
    "    \"\"\"\n",
    "    tmp = (sig/r)**6\n",
    "    return 4.0 * esp * (tmp**2 - tmp) \n",
    "\n",
    "def force(R, esp=1.0, sig=1.0):\n",
    "    \"\"\"\n",
    "    Explicit definition of the Lennard-Jones force vector (for debugging).\n",
    "    \"\"\"\n",
    "    R = torch.atleast_2d(R)\n",
    "    r = torch.norm(R, dim=1)\n",
    "    tmp = (sig/r)**6\n",
    "    return 24.0 * esp / r**2 * (2.0*tmp**2 - tmp) * R"
   ]
  },
  {
   "cell_type": "code",
   "execution_count": null,
   "metadata": {},
   "outputs": [],
   "source": [
    "data = defaultdict(list)\n",
    "\n",
    "def get_val(x: torch.Tensor) -> np.ndarray:\n",
    "    return x.detach().cpu().numpy() \n",
    "\n",
    "for structure in sloader.get_structure():\n",
    "    r = structure.calculate_distance(aid=0, neighbors=1) \n",
    "    E = structure.total_energy #potential(r)\n",
    "    F = structure.force #-gradient(E, structure.position)\n",
    "    R = structure.position\n",
    "#     print(\"r:\", get_val(r))\n",
    "#     print(\"E:\", get_val(E))\n",
    "#     print(\"F:\", get_val(F))\n",
    "#     print(\"R:\", get_val(R))\n",
    "#     print()\n",
    "#     break\n",
    "\n",
    "#     Rij = R[0] - R[1]\n",
    "#     print(\"auto-diff:\", get_val(F[0]))\n",
    "#     print(\"trueforce:\", get_val(force(Rij)[0]))\n",
    "#     print()\n",
    "\n",
    "    data['energy'].append(E.detach().cpu().numpy())\n",
    "    data['distance'].append(r.detach().cpu().numpy())"
   ]
  },
  {
   "cell_type": "code",
   "execution_count": null,
   "metadata": {},
   "outputs": [],
   "source": [
    "plt.scatter(data['distance'], data['energy'])\n",
    "plt.xlabel(\"distance\"); plt.ylabel(\"energy\");"
   ]
  },
  {
   "cell_type": "markdown",
   "metadata": {},
   "source": [
    "### Finding epsilon and sigma parameters"
   ]
  },
  {
   "cell_type": "code",
   "execution_count": null,
   "metadata": {},
   "outputs": [],
   "source": [
    "x = np.array(data['distance'])[:, 0]\n",
    "y = np.array(data['energy'])[:, 0]\n",
    "\n",
    "popt, pcov = curve_fit(potential, x, y)\n",
    "print(f\"eps = {popt[0]}, sig = {popt[1]}\")"
   ]
  },
  {
   "cell_type": "markdown",
   "metadata": {},
   "source": [
    "## Potential"
   ]
  },
  {
   "cell_type": "code",
   "execution_count": null,
   "metadata": {},
   "outputs": [],
   "source": [
    "pot = NeuralNetworkPotential(Path(workdir, \"input.nn\"))"
   ]
  },
  {
   "cell_type": "markdown",
   "metadata": {},
   "source": [
    "### Descriptors"
   ]
  },
  {
   "cell_type": "code",
   "execution_count": null,
   "metadata": {},
   "outputs": [],
   "source": [
    "# # Cutoff function\n",
    "# r_cutoff, cutoff_type = 3.0, \"tanh\"\n",
    "# cfn = CutoffFunction(r_cutoff, cutoff_type)\n",
    "\n",
    "# # Descriptor\n",
    "# asf = ASF(\"Ne\")\n",
    "# asf.register(G2(cfn, eta=1.0, r_shift=0.00), \"Ne\")\n",
    "# asf.register(G2(cfn, eta=1.0, r_shift=0.25), \"Ne\")\n",
    "# asf.register(G2(cfn, eta=1.0, r_shift=0.50), \"Ne\")\n",
    "# asf.register(G2(cfn, eta=1.0, r_shift=0.75), \"Ne\")\n",
    "# asf.register(G2(cfn, eta=1.0, r_shift=1.00), \"Ne\")"
   ]
  },
  {
   "cell_type": "code",
   "execution_count": null,
   "metadata": {},
   "outputs": [],
   "source": [
    "pot.fit_scaler(sloader)\n",
    "pot.load_scaler()"
   ]
  },
  {
   "cell_type": "markdown",
   "metadata": {},
   "source": [
    "### Model"
   ]
  },
  {
   "cell_type": "markdown",
   "metadata": {},
   "source": [
    "#### Training"
   ]
  },
  {
   "cell_type": "code",
   "execution_count": null,
   "metadata": {},
   "outputs": [],
   "source": [
    "%time history = pot.fit_model(sloader)\n",
    "pot.load_model()"
   ]
  },
  {
   "cell_type": "code",
   "execution_count": null,
   "metadata": {},
   "outputs": [],
   "source": [
    "df = pd.DataFrame(history)\n",
    "df[-30:].plot();"
   ]
  },
  {
   "cell_type": "markdown",
   "metadata": {},
   "source": [
    "#### Energy"
   ]
  },
  {
   "cell_type": "code",
   "execution_count": null,
   "metadata": {},
   "outputs": [],
   "source": [
    "structures = read_structures(sloader)\n",
    "sid = 1"
   ]
  },
  {
   "cell_type": "code",
   "execution_count": null,
   "metadata": {},
   "outputs": [],
   "source": [
    "def mse(predictions, targets):\n",
    "    return ((predictions - targets) ** 2).mean()\n",
    "\n",
    "def rmse(predictions, targets):\n",
    "    return np.sqrt(mse(predictions, targets))\n",
    "\n",
    "energy = pot(structures[sid])\n",
    "E_pred = get_val(energy)\n",
    "E_true = get_val(structures[sid].total_energy)\n",
    "print(\"Predicted energy:\\n\", E_pred)\n",
    "print(\"True energy:\\n\", E_true)\n",
    "print(\"MSE:\\n\", mse(E_pred, E_true))\n",
    "print(\"RMSE:\\n\", rmse(E_pred, E_true))"
   ]
  },
  {
   "cell_type": "markdown",
   "metadata": {},
   "source": [
    "#### Force"
   ]
  },
  {
   "cell_type": "code",
   "execution_count": null,
   "metadata": {},
   "outputs": [],
   "source": [
    "force = -gradient(energy, structures[sid].position)\n",
    "F_pred = get_val(force)\n",
    "F_true = get_val(structures[sid].force)\n",
    "print(\"Predicted force: \\n\", F_pred )\n",
    "print(\"True force:\\n\", F_true)\n",
    "print(\"MSE:\\n\", mse(F_pred, F_true))\n",
    "print(\"RMSE:\\n\", rmse(F_pred, F_true))"
   ]
  },
  {
   "cell_type": "code",
   "execution_count": null,
   "metadata": {},
   "outputs": [],
   "source": []
  }
 ],
 "metadata": {
  "interpreter": {
   "hash": "79f793817441a9b4f3336163bce28fb05f5fade87f8f747882a8ea5340683793"
  },
  "kernelspec": {
   "display_name": "Python (torchip)",
   "language": "python",
   "name": "torchip"
  },
  "language_info": {
   "codemirror_mode": {
    "name": "ipython",
    "version": 3
   },
   "file_extension": ".py",
   "mimetype": "text/x-python",
   "name": "python",
   "nbconvert_exporter": "python",
   "pygments_lexer": "ipython3",
   "version": "3.9.7"
  }
 },
 "nbformat": 4,
 "nbformat_minor": 4
}
