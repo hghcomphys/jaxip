{
 "cells": [
  {
   "cell_type": "markdown",
   "metadata": {},
   "source": [
    "# Lennard-Jones potential example\n",
    "An example notebook that shows how to reconstruct a high-dimensional neural network potential (HDNNP) of the Lennard-Jones potential using TorchIP. "
   ]
  },
  {
   "cell_type": "code",
   "execution_count": null,
   "metadata": {},
   "outputs": [],
   "source": [
    "!gpustat"
   ]
  },
  {
   "cell_type": "markdown",
   "metadata": {},
   "source": [
    "### Imports"
   ]
  },
  {
   "cell_type": "code",
   "execution_count": null,
   "metadata": {},
   "outputs": [],
   "source": [
    "import sys\n",
    "sys.path.append('../')\n",
    "\n",
    "import torchip as tip\n",
    "from torchip import logger\n",
    "from torchip.datasets import RunnerStructureDataset, ToStructure\n",
    "from torchip.potentials import NeuralNetworkPotential\n",
    "from torchip.utils import gradient, get_value\n",
    "from torchip.logger import LoggingContextManager\n",
    "\n",
    "import torch\n",
    "import logging\n",
    "import numpy as np\n",
    "import pandas as pd\n",
    "from pathlib import Path\n",
    "from collections import defaultdict\n",
    "import matplotlib.pylab as plt\n",
    "from torch.utils.data import DataLoader\n",
    "from ase.visualize import view\n",
    "from ase.io.vasp import write_vasp"
   ]
  },
  {
   "cell_type": "code",
   "execution_count": null,
   "metadata": {},
   "outputs": [],
   "source": [
    "# from dask.distributed import Client\n",
    "# from torchip.config import TaskClient\n",
    "# TaskClient.client = Client(memory_limit='3GB', n_workers=2, processes=False, threads_per_worker=2, dashboard_address=':8791')\n",
    "# TaskClient.client"
   ]
  },
  {
   "cell_type": "code",
   "execution_count": null,
   "metadata": {},
   "outputs": [],
   "source": [
    "# tip.set_logging_level(logging.DEBUG)\n",
    "tip.manual_seed(2022)\n",
    "tip.device.DEVICE = torch.device(\"cpu\")\n",
    "# tip.dtype.FLOAT = torch.float64\n",
    "# tip.set_logging_level(logging.DEBUG)\n",
    "\n",
    "# print(tip.__doc__)\n",
    "# print(f\"version: {tip.__version__}\")"
   ]
  },
  {
   "cell_type": "code",
   "execution_count": null,
   "metadata": {},
   "outputs": [],
   "source": [
    "potdir = Path('./LJ')"
   ]
  },
  {
   "cell_type": "markdown",
   "metadata": {},
   "source": [
    "## Dataset"
   ]
  },
  {
   "cell_type": "code",
   "execution_count": null,
   "metadata": {},
   "outputs": [],
   "source": [
    "structures = RunnerStructureDataset(Path(potdir, \"input.data\"), persist=True) \n",
    "# structures = RunnerStructureDataset(Path(potdir, \"input.data\"), transform=ToStructure(r_cutoff=3.0), persist=True) \n",
    "print(\"Total number of structures:\", len(structures))\n",
    "structures"
   ]
  },
  {
   "cell_type": "code",
   "execution_count": null,
   "metadata": {},
   "outputs": [],
   "source": [
    "# structure = structures[0]\n",
    "# atom_energy = {'O': 2.4, 'H': 1.2}\n",
    "\n",
    "# structure.add_energy_offset(atom_energy)\n",
    "# structure.total_energy"
   ]
  },
  {
   "cell_type": "code",
   "execution_count": null,
   "metadata": {},
   "outputs": [],
   "source": [
    "# with LoggingContextManager(level=logging.DEBUG):\n",
    "# structures[0].to_dict()"
   ]
  },
  {
   "cell_type": "code",
   "execution_count": null,
   "metadata": {},
   "outputs": [],
   "source": [
    "# validation_split = 0.2\n",
    "# nsamples = len(structures)\n",
    "# split = int(np.floor(validation_split * nsamples))\n",
    "# train_structures, valid_structures = torch.utils.data.random_split(structures, lengths=[nsamples-split, split])"
   ]
  },
  {
   "cell_type": "code",
   "execution_count": null,
   "metadata": {},
   "outputs": [],
   "source": [
    "# with LoggingContextManager(level=logging.DEBUG):\n",
    "# structures[0].compare(structures[1])"
   ]
  },
  {
   "cell_type": "markdown",
   "metadata": {},
   "source": [
    "#### Visualization"
   ]
  },
  {
   "cell_type": "code",
   "execution_count": null,
   "metadata": {},
   "outputs": [],
   "source": [
    "# atoms = structures[5].to_ase_atoms()\n",
    "# atoms\n",
    "# view(atoms)\n",
    "# write_vasp('POSCAR', ase_atoms)"
   ]
  },
  {
   "cell_type": "markdown",
   "metadata": {
    "tags": []
   },
   "source": [
    "## Potential"
   ]
  },
  {
   "cell_type": "code",
   "execution_count": null,
   "metadata": {},
   "outputs": [],
   "source": [
    "nnp = NeuralNetworkPotential(Path(potdir, \"input.nn\"))\n",
    "nnp"
   ]
  },
  {
   "cell_type": "markdown",
   "metadata": {},
   "source": [
    "### Descriptors"
   ]
  },
  {
   "cell_type": "markdown",
   "metadata": {},
   "source": [
    "#### Scaler"
   ]
  },
  {
   "cell_type": "code",
   "execution_count": null,
   "metadata": {
    "tags": []
   },
   "outputs": [],
   "source": [
    "nnp.fit_scaler(structures)\n",
    "# nnp.load_scaler()"
   ]
  },
  {
   "cell_type": "markdown",
   "metadata": {
    "tags": []
   },
   "source": [
    "### Model"
   ]
  },
  {
   "cell_type": "markdown",
   "metadata": {},
   "source": [
    "#### Training"
   ]
  },
  {
   "cell_type": "code",
   "execution_count": null,
   "metadata": {},
   "outputs": [],
   "source": [
    "%time history = nnp.fit_model(structures, epochs=100, validation_split=0.1) # validation_split=0.20)\n",
    "# %time history = nnp.fit_model(train_structures, epochs=10, validation_dataset=valid_structures)\n",
    "# %time history = profile(nnp.fit_model, structures, epochs=0, validation_split=0.20)\n",
    "# nnp.load_model()"
   ]
  },
  {
   "cell_type": "markdown",
   "metadata": {},
   "source": [
    "## Results"
   ]
  },
  {
   "cell_type": "markdown",
   "metadata": {},
   "source": [
    "#### Loss and error metrics\n",
    "\n",
    "### Observations\n",
    "- results have to validated against N2P2 package\n",
    "- force values are fine\n",
    "- energy values are noticible different (w.r.t. N2P2) - probbaly the training algorithm has to be improved\n",
    "\n",
    "We need a toolset to make the N2P2 comparision and validation of forces, energy, descriptor, etc easier and faster."
   ]
  },
  {
   "cell_type": "code",
   "execution_count": null,
   "metadata": {},
   "outputs": [],
   "source": [
    "fig, ax = plt.subplots(1, 3, figsize=(12,4))\n",
    "\n",
    "df = pd.DataFrame(history)\n",
    "df[[\"train_loss\", \"valid_loss\"]][:].plot(ax=ax[0]);\n",
    "df[[f\"train_energy_error\", f\"valid_energy_error\"]][:].plot(ax=ax[1]);\n",
    "df[[\"train_force_error\", f\"valid_force_error\"]][:].plot(ax=ax[2]);\n",
    "plt.tight_layout()"
   ]
  },
  {
   "cell_type": "code",
   "execution_count": null,
   "metadata": {},
   "outputs": [],
   "source": [
    "df.tail()"
   ]
  },
  {
   "cell_type": "markdown",
   "metadata": {},
   "source": [
    "#### Energy and Forces"
   ]
  },
  {
   "cell_type": "code",
   "execution_count": null,
   "metadata": {},
   "outputs": [],
   "source": [
    "err_metric = nnp.trainer.error_metric  \n",
    "\n",
    "df = defaultdict(list)\n",
    "for structure in structures:\n",
    "    \n",
    "    r = get_value(structure.calculate_distance(aid=0, neighbors=1))\n",
    "    df['r'].append(r[0])\n",
    "    err_metric.natoms = structure.natoms\n",
    "    \n",
    "    energy = nnp(structure)\n",
    "    E_pred = get_value(energy)\n",
    "    E_true = get_value(structure.total_energy)   \n",
    "    df['E_pred'].append(E_pred[0])\n",
    "    df['E_true'].append(E_true[0])\n",
    "    df['E_error'].append(float(get_value(err_metric(energy, structure.total_energy, structure.natoms))))\n",
    "    df['E_err'].append((E_true - E_pred)[0])\n",
    "    df['E_err/atom'].append((E_true - E_pred)[0]/structure.natoms)\n",
    "    \n",
    "    force = -gradient(energy, structure.position)\n",
    "    \n",
    "    F_pred = get_value(force)\n",
    "    F_true = get_value(structure.force)\n",
    "    \n",
    "    df['F_pred'].append(F_pred[0][0])\n",
    "    df['F_true'].append(F_true[0][0])\n",
    "    df['F_error'].append(float(get_value(err_metric(force, structure.force)))) \n",
    "    df['F_err'].append((F_true - F_pred)[0][0])\n",
    "    \n",
    "    # print(\"Predicted energy:\\n\", E_pred)\n",
    "    # print(\"True energy:\\n\", E_true)\n",
    "    # print(\"MSE:\\n\", mse(E_pred, E_true))\n",
    "    # print(\"RMSE:\\n\", rmse(E_pred, E_true))\n",
    "    # print(\"Predicted force: \\n\", F_pred )\n",
    "    # print(\"True force:\\n\", F_true)\n",
    "    # print(\"MSE:\\n\", mse(F_pred, F_true))\n",
    "    # print(\"RMSE:\\n\", rmse(F_pred, F_true))\n",
    "    \n",
    "df = pd.DataFrame(df)\n",
    "print(f\"Max  --> E_error={df['E_error'].max():6f} F_error={df['F_error'].max():6f}\")\n",
    "print(f\"Mean --> E_error={df['E_error'].mean():6f} F_error={df['F_error'].mean():6f}\")\n",
    "print()\n",
    "df"
   ]
  },
  {
   "cell_type": "markdown",
   "metadata": {},
   "source": [
    "#### Validation "
   ]
  },
  {
   "cell_type": "code",
   "execution_count": null,
   "metadata": {},
   "outputs": [],
   "source": [
    "fig, ax = plt.subplots(3, 2, figsize=(11,8))\n",
    "EV_TO_HARTREE = 0.0367493\n",
    "ENERGY_ERR    = 2.0E-3*EV_TO_HARTREE  # 2.0 meV/atom\n",
    "FORCE_ERR     = 0.1*EV_TO_HARTREE     # 0.1 eV/Bohr\n",
    "\n",
    "df.plot(x='r', y=['E_pred', 'E_true'], ax=ax[0][0], style='.-', lw=0.5)\n",
    "df.plot(x='r', y=['E_error'], ax=ax[1][0], style='.-', lw=0.5); \n",
    "df.plot.hist(y=['E_err/atom'], ax=ax[2][0])\n",
    "\n",
    "df.plot(x='r', y=['F_pred', 'F_true'], ax=ax[0][1], style='.-', lw=0.5)\n",
    "df.plot(x='r', y=['F_error'], ax=ax[1][1], style='.-', lw=0.5)\n",
    "df.plot.hist(y=['F_err'], ax=ax[2][1]);\n",
    "\n",
    "if str(err_metric) == \"RMSEpa\":\n",
    "    ax[1][0].axhline(ENERGY_ERR, ls='--', c='r'); print(f\"Eenergy Thrsh.: {ENERGY_ERR:.10f}\")\n",
    "    ax[1][1].axhline(FORCE_ERR, ls='--', c='r');  print(f\"Force   Thrsh.: {FORCE_ERR:.10f}\")\n",
    "plt.tight_layout()"
   ]
  },
  {
   "cell_type": "code",
   "execution_count": null,
   "metadata": {},
   "outputs": [],
   "source": []
  }
 ],
 "metadata": {
  "interpreter": {
   "hash": "79f793817441a9b4f3336163bce28fb05f5fade87f8f747882a8ea5340683793"
  },
  "kernelspec": {
   "display_name": "Python (torchip)",
   "language": "python",
   "name": "torhcip"
  },
  "language_info": {
   "codemirror_mode": {
    "name": "ipython",
    "version": 3
   },
   "file_extension": ".py",
   "mimetype": "text/x-python",
   "name": "python",
   "nbconvert_exporter": "python",
   "pygments_lexer": "ipython3",
   "version": "3.10.4"
  }
 },
 "nbformat": 4,
 "nbformat_minor": 4
}
