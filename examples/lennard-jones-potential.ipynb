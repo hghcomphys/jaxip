{
 "cells": [
  {
   "cell_type": "markdown",
   "metadata": {},
   "source": [
    "# TorchIP: Lennard-Jones potential\n",
    "An example notebook that shows how to reconstruct a Lennard-Jones potential using high-dimensional neural network potential (HDNNP). \n",
    "\n",
    "\n",
    "TODOs\n",
    "- [ ] GPU: implemtation \n",
    "- [ ] optimization: multi-thread/process\n",
    "- [ ] Improve training algorithm"
   ]
  },
  {
   "cell_type": "code",
   "execution_count": null,
   "metadata": {},
   "outputs": [],
   "source": [
    "!gpustat"
   ]
  },
  {
   "cell_type": "markdown",
   "metadata": {},
   "source": [
    "### Imports"
   ]
  },
  {
   "cell_type": "code",
   "execution_count": null,
   "metadata": {},
   "outputs": [],
   "source": [
    "import sys\n",
    "sys.path.append('../')\n",
    "\n",
    "import torchip as tp\n",
    "from torchip import logger\n",
    "from torchip.structure import Structure\n",
    "from torchip.datasets import RunnerStructureDataset, ToStructure\n",
    "from torchip.utils import gradient, get_value, set_as_attribute\n",
    "from torchip.descriptors import ASF, CutoffFunction, G2\n",
    "from torchip.descriptors import DescriptorScaler\n",
    "from torchip.potentials import NeuralNetworkPotential\n",
    "\n",
    "import torch\n",
    "import logging\n",
    "import numpy as np\n",
    "import pandas as pd\n",
    "from pathlib import Path\n",
    "from collections import defaultdict\n",
    "from scipy.optimize import curve_fit\n",
    "import matplotlib.pylab as plt\n",
    "from torch.utils.data import DataLoader"
   ]
  },
  {
   "cell_type": "code",
   "execution_count": null,
   "metadata": {},
   "outputs": [],
   "source": [
    "np.random.seed(2022)\n",
    "torch.manual_seed(2022);\n",
    "# torch.multiprocessing.set_start_method('spawn')\n",
    "\n",
    "# logger.set_level(logging.DEBUG)\n",
    "\n",
    "# print(tp.__doc__)\n",
    "# print(f\"TorchIP {tp.__version__}\")\n",
    "\n",
    "# Set device eigher cpu or cuda (gpu)\n",
    "tp.device.DEVICE = \"cpu\""
   ]
  },
  {
   "cell_type": "code",
   "execution_count": null,
   "metadata": {},
   "outputs": [],
   "source": [
    "potdir = Path('./LJ')"
   ]
  },
  {
   "cell_type": "markdown",
   "metadata": {},
   "source": [
    "### Strcture dataset"
   ]
  },
  {
   "cell_type": "code",
   "execution_count": null,
   "metadata": {},
   "outputs": [],
   "source": [
    "structures = RunnerStructureDataset(Path(potdir, \"input.data\"), transform=ToStructure(), persist=False)"
   ]
  },
  {
   "cell_type": "markdown",
   "metadata": {},
   "source": [
    "### Lennard-Jones energy and force"
   ]
  },
  {
   "cell_type": "code",
   "execution_count": null,
   "metadata": {},
   "outputs": [],
   "source": [
    "# def potential(r, esp=1.0, sig=1.0):\n",
    "#     \"\"\"\n",
    "#     Explicit definition of the Lennard-Jones potential (for debugging). \n",
    "#     \"\"\"\n",
    "#     tmp = (sig/r)**6\n",
    "#     return 4.0 * esp * (tmp**2 - tmp) \n",
    "\n",
    "# def force(R, esp=1.0, sig=1.0):\n",
    "#     \"\"\"\n",
    "#     Explicit definition of the Lennard-Jones force vector (for debugging).\n",
    "#     \"\"\"\n",
    "#     R = torch.atleast_2d(R)\n",
    "#     r = torch.norm(R, dim=1)\n",
    "#     tmp = (sig/r)**6\n",
    "#     return 24.0 * esp / r**2 * (2.0*tmp**2 - tmp) * R"
   ]
  },
  {
   "cell_type": "code",
   "execution_count": null,
   "metadata": {},
   "outputs": [],
   "source": [
    "# data = defaultdict(list)\n",
    "# data_loader = DataLoader(structures, collate_fn=lambda batch: batch)\n",
    "\n",
    "# for batch in data_loader:\n",
    "#     structure = batch[0]\n",
    "#     r = structure.calculate_distance(aid=0, neighbors=1) \n",
    "#     E = structure.total_energy #potential(r)\n",
    "#     F = structure.force #-gradient(E, structure.position)\n",
    "#     R = structure.position\n",
    "# #     print(\"r:\", get_value(r))\n",
    "# #     print(\"E:\", get_value(E))\n",
    "# #     print(\"F:\", get_value(F))\n",
    "# #     print(\"R:\", get_value(R))\n",
    "# #     print()\n",
    "# #     break\n",
    "\n",
    "# #     Rij = R[0] - R[1]\n",
    "# #     print(\"auto-diff:\", get_val(F[0]))\n",
    "# #     print(\"trueforce:\", get_val(force(Rij)[0]))\n",
    "# #     print()\n",
    "\n",
    "#     data['energy'].append(get_value(E))\n",
    "#     data['distance'].append(get_value(r))"
   ]
  },
  {
   "cell_type": "code",
   "execution_count": null,
   "metadata": {},
   "outputs": [],
   "source": [
    "# plt.scatter(data['distance'], data['energy'])\n",
    "# plt.xlabel(\"distance\"); plt.ylabel(\"energy\");"
   ]
  },
  {
   "cell_type": "markdown",
   "metadata": {},
   "source": [
    "##### Finding epsilon and sigma parameters"
   ]
  },
  {
   "cell_type": "code",
   "execution_count": null,
   "metadata": {},
   "outputs": [],
   "source": [
    "# x = np.array(data['distance'])[:, 0]\n",
    "# y = np.array(data['energy'])[:, 0]\n",
    "\n",
    "# popt, pcov = curve_fit(potential, x, y)\n",
    "# print(f\"eps = {popt[0]}, sig = {popt[1]}\")"
   ]
  },
  {
   "cell_type": "markdown",
   "metadata": {},
   "source": [
    "## Potential"
   ]
  },
  {
   "cell_type": "code",
   "execution_count": null,
   "metadata": {},
   "outputs": [],
   "source": [
    "# Pptential\n",
    "pot = NeuralNetworkPotential(Path(potdir, \"input.nn\"))"
   ]
  },
  {
   "cell_type": "markdown",
   "metadata": {},
   "source": [
    "### Descriptors"
   ]
  },
  {
   "cell_type": "code",
   "execution_count": null,
   "metadata": {},
   "outputs": [],
   "source": [
    "# # Cutoff function\n",
    "# r_cutoff, cutoff_type = 3.0, \"tanh\"\n",
    "# cfn = CutoffFunction(r_cutoff, cutoff_type)\n",
    "\n",
    "# # Descriptor\n",
    "# asf = ASF(\"Ne\")\n",
    "# asf.register(G2(cfn, eta=1.0, r_shift=0.00), \"Ne\")\n",
    "# asf.register(G2(cfn, eta=1.0, r_shift=0.25), \"Ne\")\n",
    "# asf.register(G2(cfn, eta=1.0, r_shift=0.50), \"Ne\")\n",
    "# asf.register(G2(cfn, eta=1.0, r_shift=0.75), \"Ne\")\n",
    "# asf.register(G2(cfn, eta=1.0, r_shift=1.00), \"Ne\")\n",
    "\n",
    "# from torchip.utils.profiler import torch_profile\n",
    "# @torch_profile\n",
    "# def kernel(structures):\n",
    "#     return pot.fit_scaler(structures)\n",
    "# kernel(structures)\n",
    "\n",
    "pot.load_scaler()\n",
    "# pot.fit_scaler(structures)"
   ]
  },
  {
   "cell_type": "markdown",
   "metadata": {
    "tags": []
   },
   "source": [
    "### Model"
   ]
  },
  {
   "cell_type": "markdown",
   "metadata": {},
   "source": [
    "#### Training"
   ]
  },
  {
   "cell_type": "code",
   "execution_count": null,
   "metadata": {},
   "outputs": [],
   "source": [
    "# logger.set_level(logging.DEBUG)"
   ]
  },
  {
   "cell_type": "code",
   "execution_count": null,
   "metadata": {},
   "outputs": [],
   "source": [
    "%time history = pot.fit_model(structures, epochs=100, validation_split=0.20)\n",
    "# pot.load_model()\n",
    "# history = profile(pot.fit_model, structures, epochs=0, validation_split=0.20)"
   ]
  },
  {
   "cell_type": "code",
   "execution_count": null,
   "metadata": {},
   "outputs": [],
   "source": [
    "df = pd.DataFrame(history)\n",
    "df[[\"train_energy_rmse\", \"valid_energy_rmse\"]][:].plot();\n",
    "df[[\"train_force_rmse\", \"valid_force_rmse\"]][:].plot();"
   ]
  },
  {
   "cell_type": "code",
   "execution_count": null,
   "metadata": {},
   "outputs": [],
   "source": [
    "df.tail()"
   ]
  },
  {
   "cell_type": "markdown",
   "metadata": {},
   "source": [
    "#### Energy & Forces"
   ]
  },
  {
   "cell_type": "code",
   "execution_count": null,
   "metadata": {},
   "outputs": [],
   "source": [
    "def mse(predictions, targets):\n",
    "    if predictions.ndim > 1:\n",
    "        return ((predictions - targets) ** 2).mean(axis=0)\n",
    "    return ((predictions - targets) ** 2).mean()\n",
    "\n",
    "def rmse(predictions, targets):\n",
    "    return np.sqrt(mse(predictions, targets))\n",
    "\n",
    "df = defaultdict(list)\n",
    "for structure in structures:\n",
    "    energy = pot(structure)\n",
    "    E_pred = get_value(energy)\n",
    "    E_true = get_value(structure.total_energy)   \n",
    "    df['E_pred'].append(E_pred[0])\n",
    "    df['E_true'].append(E_true[0])\n",
    "    df['E_mse'].append(mse(E_pred, E_true)) \n",
    "    df['E_rmse'].append(rmse(E_pred, E_true))\n",
    "    df['E_err'].append((E_true - E_pred)[0])\n",
    "    \n",
    "    force = -gradient(energy, structure.position)\n",
    "    F_pred = get_value(force)\n",
    "    F_true = get_value(structure.force)\n",
    "    \n",
    "    df['F_pred'].append(F_pred[0][0])\n",
    "    df['F_true'].append(F_true[0][0])\n",
    "    df['F_mse'].append(mse(F_pred, F_true)[0]) \n",
    "    df['F_rmse'].append(rmse(F_pred, F_true)[0])\n",
    "    df['F_err'].append((F_true - F_pred)[0][0])\n",
    "    \n",
    "    # print(\"Predicted energy:\\n\", E_pred)\n",
    "    # print(\"True energy:\\n\", E_true)\n",
    "    # print(\"MSE:\\n\", mse(E_pred, E_true))\n",
    "    # print(\"RMSE:\\n\", rmse(E_pred, E_true))\n",
    "    # print(\"Predicted force: \\n\", F_pred )\n",
    "    # print(\"True force:\\n\", F_true)\n",
    "    # print(\"MSE:\\n\", mse(F_pred, F_true))\n",
    "    # print(\"RMSE:\\n\", rmse(F_pred, F_true))\n",
    "    \n",
    "df = pd.DataFrame(df)\n",
    "df"
   ]
  },
  {
   "cell_type": "code",
   "execution_count": null,
   "metadata": {},
   "outputs": [],
   "source": [
    "fig, ax = plt.subplots(2, 2, figsize=(12,8))\n",
    "\n",
    "df.plot(y=['E_pred', 'E_true'], ax=ax[0][0])\n",
    "# df.plot(y=['E_rmse'], ax=ax[1][0])\n",
    "df.plot.hist(y=['E_err'], ax=ax[1][0])\n",
    "\n",
    "df.plot(y=['F_pred', 'F_true'], ax=ax[0][1])\n",
    "# df.plot(y=['F_rmse'], ax=ax[1][1])\n",
    "df.plot.hist(y=['F_err'], ax=ax[1][1]);"
   ]
  },
  {
   "cell_type": "code",
   "execution_count": null,
   "metadata": {},
   "outputs": [],
   "source": []
  }
 ],
 "metadata": {
  "interpreter": {
   "hash": "79f793817441a9b4f3336163bce28fb05f5fade87f8f747882a8ea5340683793"
  },
  "kernelspec": {
   "display_name": "Python (torchip)",
   "language": "python",
   "name": "torhcip"
  },
  "language_info": {
   "codemirror_mode": {
    "name": "ipython",
    "version": 3
   },
   "file_extension": ".py",
   "mimetype": "text/x-python",
   "name": "python",
   "nbconvert_exporter": "python",
   "pygments_lexer": "ipython3",
   "version": "3.10.4"
  }
 },
 "nbformat": 4,
 "nbformat_minor": 4
}
