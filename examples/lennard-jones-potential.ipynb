{
 "cells": [
  {
   "cell_type": "markdown",
   "metadata": {},
   "source": [
    "### TorchIP: Lennard-Jones potential\n",
    "An examples notebook that shows how to reconstruct a Lennard-Jones potential. "
   ]
  },
  {
   "cell_type": "code",
   "execution_count": 32,
   "metadata": {},
   "outputs": [],
   "source": [
    "import sys\n",
    "sys.path.append('../')\n",
    "\n",
    "import torchip as tp\n",
    "from torchip.config import CFG\n",
    "from torchip.structure import Structure\n",
    "from torchip.loaders import RunnerStructureLoader\n",
    "from torchip.loaders import read_structures\n",
    "from torchip.utils import gradient\n",
    "from pathlib import Path"
   ]
  },
  {
   "cell_type": "code",
   "execution_count": 33,
   "metadata": {},
   "outputs": [
    {
     "name": "stdout",
     "output_type": "stream",
     "text": [
      "\n",
      "╭━━━━╮╱╱╱╱╱╱╭╮╱╭━━┳━━━╮\n",
      "┃╭╮╭╮┃╱╱╱╱╱╱┃┃╱╰┫┣┫╭━╮┃\n",
      "╰╯┃┃┣┻━┳━┳━━┫╰━╮┃┃┃╰━╯┃\n",
      "╱╱┃┃┃╭╮┃╭┫╭━┫╭╮┃┃┃┃╭━━╯\n",
      "╱╱┃┃┃╰╯┃┃┃╰━┫┃┃┣┫┣┫┃\n",
      "╱╱╰╯╰━━┻╯╰━━┻╯╰┻━━┻╯\n",
      "\n",
      "TorchIP is a generic and GPU-accelerated framework written in Python/C++ to facilitate \n",
      "the development of emerging machine learning interatomic potentials. TorchIP helps us \n",
      "to reconstruct potentials that are employed to perform large-scale molecular dynamics \n",
      "simulations of complex materials in computational physics and chemistry. \n",
      "\n",
      "The core implementation of TorchIP is based on the PyTorch package and its C++ API which \n",
      "provides two high-level features including tensor computation with strong GPU acceleration \n",
      "and automatic differentiation.\n",
      "\n",
      "TorchIP 0.1.0\n"
     ]
    }
   ],
   "source": [
    "print(tp.__doc__)\n",
    "print(f\"TorchIP {tp.__version__}\")"
   ]
  },
  {
   "cell_type": "code",
   "execution_count": 43,
   "metadata": {},
   "outputs": [],
   "source": [
    "# Set device eigher cpu or cuda (gpu)\n",
    "CFG.set(\"device\", \"cpu\")"
   ]
  },
  {
   "cell_type": "markdown",
   "metadata": {},
   "source": [
    "#### Reading structure file"
   ]
  },
  {
   "cell_type": "code",
   "execution_count": 35,
   "metadata": {},
   "outputs": [],
   "source": [
    "# Create structure loader\n",
    "base_dir = Path('/home/hossein/n2p2/examples/nnp-train/LJ')\n",
    "loader = RunnerStructureLoader(Path(base_dir, \"input.data\")) "
   ]
  },
  {
   "cell_type": "code",
   "execution_count": 1,
   "metadata": {},
   "outputs": [],
   "source": [
    "# Read structures using get_data() method (including comments)\n",
    "# for data in loader.get_data():\n",
    "#     structure = Structure(data, requires_grad=True)\n",
    "#     break\n",
    "# print('comment:', data['comment'])\n",
    "# print(structure)\n",
    "# structure.position"
   ]
  },
  {
   "cell_type": "markdown",
   "metadata": {},
   "source": [
    "#### Energy and force components (gradient)"
   ]
  },
  {
   "cell_type": "code",
   "execution_count": 61,
   "metadata": {},
   "outputs": [],
   "source": [
    "def potential(r, esp=1.0, sig=1.0):\n",
    "    tmp = (sig/r)**6\n",
    "    return 4.0 * esp * (tmp**2 - tmp)   "
   ]
  },
  {
   "cell_type": "code",
   "execution_count": 70,
   "metadata": {},
   "outputs": [
    {
     "name": "stdout",
     "output_type": "stream",
     "text": [
      "r: tensor([1.0000], dtype=torch.float64, grad_fn=<LinalgVectorNormBackward0>)\n",
      "E: tensor([7.8826e-09], dtype=torch.float64, grad_fn=<MulBackward0>)\n",
      "F: tensor([[ 13.8564,  13.8564,  13.8564],\n",
      "        [-13.8564, -13.8564, -13.8564]], dtype=torch.float64,\n",
      "       grad_fn=<AddBackward0>)\n"
     ]
    }
   ],
   "source": [
    "for structure in loader.get_structure():\n",
    "    r = structure.calculate_distance(aid=0, neighbors=1)\n",
    "    E = potential(r)\n",
    "    F = gradient(E, structure.position)\n",
    "    print(\"r:\", r)\n",
    "    print(\"E:\", E)\n",
    "    print(\"F:\", F)\n",
    "    break"
   ]
  },
  {
   "cell_type": "code",
   "execution_count": null,
   "metadata": {},
   "outputs": [],
   "source": []
  }
 ],
 "metadata": {
  "interpreter": {
   "hash": "79f793817441a9b4f3336163bce28fb05f5fade87f8f747882a8ea5340683793"
  },
  "kernelspec": {
   "display_name": "Python (torchip)",
   "language": "python",
   "name": "torchip"
  },
  "language_info": {
   "codemirror_mode": {
    "name": "ipython",
    "version": 3
   },
   "file_extension": ".py",
   "mimetype": "text/x-python",
   "name": "python",
   "nbconvert_exporter": "python",
   "pygments_lexer": "ipython3",
   "version": "3.9.7"
  }
 },
 "nbformat": 4,
 "nbformat_minor": 4
}
