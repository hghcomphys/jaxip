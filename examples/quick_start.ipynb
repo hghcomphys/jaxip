{
 "cells": [
  {
   "cell_type": "markdown",
   "metadata": {},
   "source": [
    "# Quick start\n",
    "\n",
    "Below scripts illustrates how to use different modules in [JAXIP](https://jax.readthedocs.io/)."
   ]
  },
  {
   "cell_type": "code",
   "execution_count": null,
   "metadata": {},
   "outputs": [],
   "source": [
    "import os\n",
    "os.environ[\"JAX_ENABLE_X64\"] = \"1\"\n",
    "os.environ[\"JAX_PLATFORM_NAME\"] = \"cpu\" "
   ]
  },
  {
   "cell_type": "code",
   "execution_count": null,
   "metadata": {},
   "outputs": [],
   "source": [
    "from jaxip.types import dtype as default_dtype\n",
    "import jax.numpy as jnp\n",
    "import jax\n",
    "# default_dtype.FLOATX = jnp.float64\n",
    "print(f\"{default_dtype.FLOATX=}\")"
   ]
  },
  {
   "cell_type": "code",
   "execution_count": null,
   "metadata": {},
   "outputs": [],
   "source": [
    "import numpy as np\n",
    "from pathlib import Path\n",
    "import matplotlib.pylab as plt\n",
    "import seaborn as sns\n",
    "from tqdm import tqdm"
   ]
  },
  {
   "cell_type": "markdown",
   "metadata": {},
   "source": [
    "## Dataset"
   ]
  },
  {
   "cell_type": "code",
   "execution_count": null,
   "metadata": {},
   "outputs": [],
   "source": [
    "base_dir = Path('./H2O_2')"
   ]
  },
  {
   "cell_type": "code",
   "execution_count": null,
   "metadata": {},
   "outputs": [],
   "source": [
    "from jaxip.datasets import RunnerStructureDataset\n",
    "structures = RunnerStructureDataset(Path(base_dir, \"input.data\"), persist=True)\n",
    "print(\"Total number of structures:\", len(structures))\n",
    "structures"
   ]
  },
  {
   "cell_type": "code",
   "execution_count": null,
   "metadata": {},
   "outputs": [],
   "source": [
    "structures = [structures[i] for i in range(10)]"
   ]
  },
  {
   "cell_type": "markdown",
   "metadata": {},
   "source": [
    "##### Data loader"
   ]
  },
  {
   "cell_type": "code",
   "execution_count": null,
   "metadata": {},
   "outputs": [],
   "source": [
    "# from torch.utils.data import DataLoader"
   ]
  },
  {
   "cell_type": "markdown",
   "metadata": {},
   "source": [
    "##### Split train and validation structures"
   ]
  },
  {
   "cell_type": "code",
   "execution_count": null,
   "metadata": {},
   "outputs": [],
   "source": [
    "# import torch\n",
    "# validation_split = 0.032\n",
    "# nsamples = len(structures)\n",
    "# split = int(np.floor(validation_split * nsamples))\n",
    "# train_structures, valid_structures = torch.utils.data.random_split(structures, lengths=[nsamples-split, split])\n",
    "# structures = valid_structures"
   ]
  },
  {
   "cell_type": "markdown",
   "metadata": {},
   "source": [
    "## Structure"
   ]
  },
  {
   "cell_type": "code",
   "execution_count": null,
   "metadata": {},
   "outputs": [],
   "source": [
    "s = structures[0]\n",
    "s"
   ]
  },
  {
   "cell_type": "code",
   "execution_count": null,
   "metadata": {},
   "outputs": [],
   "source": [
    "# from ase.visualize import view\n",
    "# from ase.io.vasp import write_vasp\n",
    "# atoms = s.to_ase_atoms()\n",
    "# atoms\n",
    "# view(atoms)\n",
    "# write_vasp('POSCAR', ase_atoms)"
   ]
  },
  {
   "cell_type": "markdown",
   "metadata": {},
   "source": [
    "##### Compare between structures"
   ]
  },
  {
   "cell_type": "code",
   "execution_count": null,
   "metadata": {},
   "outputs": [],
   "source": [
    "from jaxip.utils.compare import compare\n",
    "compare(structures[0], structures[1])"
   ]
  },
  {
   "cell_type": "markdown",
   "metadata": {},
   "source": [
    "##### Calculate distance btween atoms"
   ]
  },
  {
   "cell_type": "code",
   "execution_count": null,
   "metadata": {},
   "outputs": [],
   "source": [
    "dis, _ = s.calculate_distance(atom_index=0)\n",
    "dis.shape"
   ]
  },
  {
   "cell_type": "code",
   "execution_count": null,
   "metadata": {},
   "outputs": [],
   "source": [
    "sns.displot(dis, bins=20)\n",
    "plt.axvline(dis.mean(), color='r')"
   ]
  },
  {
   "cell_type": "markdown",
   "metadata": {
    "tags": []
   },
   "source": [
    "##### Add/remove per-atom energy offset"
   ]
  },
  {
   "cell_type": "code",
   "execution_count": null,
   "metadata": {},
   "outputs": [],
   "source": [
    "# structure = structures[0]\n",
    "# atom_energy = {'O': 2.4, 'H': 1.2}\n",
    "\n",
    "# structure.add_energy_offset(atom_energy)\n",
    "# structure.total_energy"
   ]
  },
  {
   "cell_type": "markdown",
   "metadata": {},
   "source": [
    "## Descriptor\n",
    "Atomic environment descriptor"
   ]
  },
  {
   "cell_type": "code",
   "execution_count": null,
   "metadata": {},
   "outputs": [],
   "source": [
    "from jaxip.descriptors.acsf import ACSF, G2, G3, G9, CutoffFunction"
   ]
  },
  {
   "cell_type": "code",
   "execution_count": null,
   "metadata": {},
   "outputs": [],
   "source": [
    "# acsf = ACSF('Ne')\n",
    "# cfn = CutoffFunction(3.0, cutoff_type='tanhu')\n",
    "# acsf.add(G2(cfn, eta=1.00, r_shift=0.00), \"Ne\")\n",
    "# acsf.add(G2(cfn, eta=1.00, r_shift=0.25), \"Ne\")\n",
    "# acsf.add(G2(cfn, eta=1.00, r_shift=0.50), \"Ne\")\n",
    "# acsf.add(G2(cfn, eta=1.00, r_shift=0.75), \"Ne\")\n",
    "# acsf.add(G2(cfn, eta=1.00, r_shift=1.00), \"Ne\")\n",
    "\n",
    "# acsf"
   ]
  },
  {
   "cell_type": "code",
   "execution_count": null,
   "metadata": {},
   "outputs": [],
   "source": [
    "acsf = ACSF('O')\n",
    "\n",
    "cfn = CutoffFunction(12.0)\n",
    "g2_1 = G2(cfn, 0.0, 0.001)\n",
    "g2_2 = G2(cfn, 0.0, 0.01)\n",
    "g3_1 = G3(cfn, 0.2, 1.0, 1.0, 0.0)\n",
    "g9_1 = G3(cfn, 0.2, 1.0, 1.0, 0.0)\n",
    "\n",
    "acsf.add(g2_1, 'H')\n",
    "acsf.add(g2_2, 'H')\n",
    "acsf.add(g3_1, 'H', 'H')\n",
    "acsf.add(g3_1, 'H', 'O')\n",
    "acsf.add(g9_1, 'H', 'O')\n",
    "acsf"
   ]
  },
  {
   "cell_type": "code",
   "execution_count": null,
   "metadata": {},
   "outputs": [],
   "source": [
    "val = acsf(s)\n",
    "val[1]\n",
    "# val.shape   "
   ]
  },
  {
   "cell_type": "code",
   "execution_count": null,
   "metadata": {},
   "outputs": [],
   "source": [
    "sns.displot(val[:, 2], bins=20)"
   ]
  },
  {
   "cell_type": "markdown",
   "metadata": {},
   "source": [
    "#### Gradient"
   ]
  },
  {
   "cell_type": "code",
   "execution_count": null,
   "metadata": {},
   "outputs": [],
   "source": [
    "%time acsf.grad(s, 0, 3)"
   ]
  },
  {
   "cell_type": "code",
   "execution_count": null,
   "metadata": {},
   "outputs": [],
   "source": [
    "# time [acsf.grad(structures[4], i, 0) for i in range(4)]"
   ]
  },
  {
   "cell_type": "markdown",
   "metadata": {},
   "source": [
    "## Scaler\n",
    "Descriptor scaler"
   ]
  },
  {
   "cell_type": "code",
   "execution_count": null,
   "metadata": {},
   "outputs": [],
   "source": [
    "from jaxip.descriptors.scaler import DescriptorScaler"
   ]
  },
  {
   "cell_type": "code",
   "execution_count": null,
   "metadata": {},
   "outputs": [],
   "source": [
    "scaler = DescriptorScaler(scale_type='scale_center')\n",
    "# acsf = nnp.descriptor[\"H\"]\n",
    "\n",
    "for structure in tqdm(structures):\n",
    "    x = acsf(structure)\n",
    "    scaler.fit(x)\n",
    "\n",
    "scaler"
   ]
  },
  {
   "cell_type": "code",
   "execution_count": null,
   "metadata": {},
   "outputs": [],
   "source": [
    "scaled_x = []\n",
    "for structure in tqdm(structures):\n",
    "    x = acsf(structure)\n",
    "    scaled_x.append(scaler(x))\n",
    "\n",
    "scaled_x = jnp.concatenate(scaled_x, axis=0)\n",
    "scaled_x.shape"
   ]
  },
  {
   "cell_type": "code",
   "execution_count": null,
   "metadata": {},
   "outputs": [],
   "source": [
    "sx = scaled_x[:, 5]\n",
    "sns.displot(sx, bins=30)\n",
    "plt.axvline(sx.mean(), color='r', lw=3);\n",
    "plt.axvline(0, color='k');"
   ]
  },
  {
   "cell_type": "markdown",
   "metadata": {},
   "source": [
    "## Model"
   ]
  },
  {
   "cell_type": "code",
   "execution_count": null,
   "metadata": {},
   "outputs": [],
   "source": [
    "from jaxip.models.nn import NeuralNetworkModel\n",
    "from jaxip.models.initializer import UniformInitializer\n",
    "from flax import linen as nn"
   ]
  },
  {
   "cell_type": "code",
   "execution_count": null,
   "metadata": {},
   "outputs": [],
   "source": [
    "nn = NeuralNetworkModel(\n",
    "    hidden_layers=((8, 't'), (8, 't')),\n",
    "    kernel_initializer=UniformInitializer(weights_range=(-1, 1)),\n",
    "    # param_dtype=jnp.float64,\n",
    ")"
   ]
  },
  {
   "cell_type": "code",
   "execution_count": null,
   "metadata": {},
   "outputs": [],
   "source": [
    "rng = jax.random.PRNGKey(2022) # PRNG Key\n",
    "x = jnp.ones(shape=(8, acsf.num_symmetry_functions)) # Dummy Input\n",
    "params = nn.init(rng, x) # Initialize the parameters\n",
    "jax.tree_map(lambda x: x.shape, params) # Check the parameters"
   ]
  },
  {
   "cell_type": "code",
   "execution_count": null,
   "metadata": {},
   "outputs": [],
   "source": [
    "eng = nn.apply(params, scaled_x[:, :])"
   ]
  },
  {
   "cell_type": "code",
   "execution_count": null,
   "metadata": {},
   "outputs": [],
   "source": [
    "sns.displot(eng, bins=30);"
   ]
  },
  {
   "cell_type": "code",
   "execution_count": null,
   "metadata": {},
   "outputs": [],
   "source": []
  }
 ],
 "metadata": {
  "interpreter": {
   "hash": "79f793817441a9b4f3336163bce28fb05f5fade87f8f747882a8ea5340683793"
  },
  "kernelspec": {
   "display_name": "Python (jaxip)",
   "language": "python",
   "name": "jaxip"
  },
  "language_info": {
   "codemirror_mode": {
    "name": "ipython",
    "version": 3
   },
   "file_extension": ".py",
   "mimetype": "text/x-python",
   "name": "python",
   "nbconvert_exporter": "python",
   "pygments_lexer": "ipython3",
   "version": "3.8.15"
  }
 },
 "nbformat": 4,
 "nbformat_minor": 4
}
