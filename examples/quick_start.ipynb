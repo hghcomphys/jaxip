{
 "cells": [
  {
   "cell_type": "markdown",
   "metadata": {},
   "source": [
    "# Quick start\n",
    "\n",
    "### Contents\n",
    "- Imports\n",
    "    - enabling double precision (float64)\n",
    "    - enabling GPU-accelerated computing\n",
    "- Dataset\n",
    "    - data loader\n",
    "- Structure\n",
    "    - visualization\n",
    "    - compare two structures\n",
    "    - calculate distances\n",
    "- Descriptor\n",
    "    - atomic-centered symmetry functions\n",
    "    - values for a given structure\n",
    "    - gradient respect to position\n",
    "- Scaler\n",
    "    - scale type\n",
    "    - fitting \n",
    "- Model\n",
    "    - neural network\n",
    "    - compute energy"
   ]
  },
  {
   "cell_type": "code",
   "execution_count": 10,
   "metadata": {},
   "outputs": [
    {
     "name": "stdout",
     "output_type": "stream",
     "text": [
      "\u001b[1m\u001b[37mpavilion               \u001b[m  Sun Jan  8 12:46:33 2023  \u001b[1m\u001b[30m510.85.02\u001b[m\n",
      "\u001b[36m[0]\u001b[m \u001b[34mNVIDIA GeForce MX130\u001b[m |\u001b[31m 36'C\u001b[m, \u001b[32m  0 %\u001b[m | \u001b[36m\u001b[1m\u001b[33m   47\u001b[m / \u001b[33m 2048\u001b[m MB | \u001b[1m\u001b[30mroot\u001b[m(\u001b[33m2M\u001b[m)\n"
     ]
    }
   ],
   "source": [
    "!gpustat"
   ]
  },
  {
   "cell_type": "code",
   "execution_count": 11,
   "metadata": {},
   "outputs": [],
   "source": [
    "import os\n",
    "os.environ[\"JAX_ENABLE_X64\"] = \"1\"\n",
    "os.environ[\"JAX_PLATFORM_NAME\"] = \"cpu\" "
   ]
  },
  {
   "cell_type": "code",
   "execution_count": 12,
   "metadata": {},
   "outputs": [
    {
     "name": "stdout",
     "output_type": "stream",
     "text": [
      "default_dtype.FLOATX=<class 'jax.numpy.float32'>\n"
     ]
    }
   ],
   "source": [
    "from jaxip.types import dtype as default_dtype\n",
    "import jax.numpy as jnp\n",
    "import jax\n",
    "# default_dtype.FLOATX = jnp.float64\n",
    "print(f\"{default_dtype.FLOATX=}\")"
   ]
  },
  {
   "cell_type": "markdown",
   "metadata": {},
   "source": [
    "### Imports"
   ]
  },
  {
   "cell_type": "code",
   "execution_count": 13,
   "metadata": {},
   "outputs": [],
   "source": [
    "import numpy as np\n",
    "from pathlib import Path\n",
    "import matplotlib.pylab as plt\n",
    "import seaborn as sns\n",
    "from tqdm import tqdm"
   ]
  },
  {
   "cell_type": "markdown",
   "metadata": {},
   "source": [
    "## Dataset"
   ]
  },
  {
   "cell_type": "code",
   "execution_count": 14,
   "metadata": {},
   "outputs": [],
   "source": [
    "base_dir = Path('./H2O_2')"
   ]
  },
  {
   "cell_type": "code",
   "execution_count": 15,
   "metadata": {},
   "outputs": [
    {
     "name": "stdout",
     "output_type": "stream",
     "text": [
      "Total number of structures: 1593\n"
     ]
    },
    {
     "data": {
      "text/plain": [
       "RunnerStructureDataset(filename=PosixPath('H2O_2/input.data'), persist=True, transform=ToStructure())"
      ]
     },
     "execution_count": 15,
     "metadata": {},
     "output_type": "execute_result"
    }
   ],
   "source": [
    "from jaxip.datasets import RunnerStructureDataset\n",
    "structures = RunnerStructureDataset(Path(base_dir, \"input.data\"), persist=True)\n",
    "print(\"Total number of structures:\", len(structures))\n",
    "structures"
   ]
  },
  {
   "cell_type": "code",
   "execution_count": 16,
   "metadata": {},
   "outputs": [],
   "source": [
    "structures = [structures[i] for i in range(10)]"
   ]
  },
  {
   "cell_type": "markdown",
   "metadata": {},
   "source": [
    "##### Data loader"
   ]
  },
  {
   "cell_type": "code",
   "execution_count": 17,
   "metadata": {},
   "outputs": [],
   "source": [
    "# from torch.utils.data import DataLoader"
   ]
  },
  {
   "cell_type": "markdown",
   "metadata": {},
   "source": [
    "##### Split train and validation structures"
   ]
  },
  {
   "cell_type": "code",
   "execution_count": 18,
   "metadata": {},
   "outputs": [],
   "source": [
    "# import torch\n",
    "# validation_split = 0.032\n",
    "# nsamples = len(structures)\n",
    "# split = int(np.floor(validation_split * nsamples))\n",
    "# train_structures, valid_structures = torch.utils.data.random_split(structures, lengths=[nsamples-split, split])\n",
    "# structures = valid_structures"
   ]
  },
  {
   "cell_type": "markdown",
   "metadata": {},
   "source": [
    "##### Compare between structures"
   ]
  },
  {
   "cell_type": "code",
   "execution_count": 19,
   "metadata": {},
   "outputs": [],
   "source": [
    "# from jaxip.utils.compare import compare\n",
    "# compare(structures[0], structures[1])"
   ]
  },
  {
   "cell_type": "markdown",
   "metadata": {},
   "source": [
    "## Structure"
   ]
  },
  {
   "cell_type": "code",
   "execution_count": 20,
   "metadata": {},
   "outputs": [
    {
     "data": {
      "text/plain": [
       "Structure(natoms=192, elements=('H', 'O'), dtype=float32)"
      ]
     },
     "execution_count": 20,
     "metadata": {},
     "output_type": "execute_result"
    }
   ],
   "source": [
    "s = structures[0]\n",
    "s"
   ]
  },
  {
   "cell_type": "markdown",
   "metadata": {},
   "source": [
    "![](../docs/images/water.png)"
   ]
  },
  {
   "cell_type": "code",
   "execution_count": 12,
   "metadata": {},
   "outputs": [],
   "source": [
    "# from ase.visualize import view\n",
    "# from ase.io.vasp import write_vasp\n",
    "# atoms = s.to_ase_atoms()\n",
    "# atoms\n",
    "# view(atoms)\n",
    "# write_vasp('POSCAR', ase_atoms)"
   ]
  },
  {
   "cell_type": "markdown",
   "metadata": {},
   "source": [
    "##### Calculate distance btween atoms"
   ]
  },
  {
   "cell_type": "code",
   "execution_count": 13,
   "metadata": {},
   "outputs": [
    {
     "data": {
      "text/plain": [
       "(192,)"
      ]
     },
     "execution_count": 13,
     "metadata": {},
     "output_type": "execute_result"
    }
   ],
   "source": [
    "dis, _ = s.calculate_distance(atom_index=0)\n",
    "dis.shape"
   ]
  },
  {
   "cell_type": "code",
   "execution_count": 14,
   "metadata": {},
   "outputs": [
    {
     "data": {
      "text/plain": [
       "<matplotlib.lines.Line2D at 0x7feb24614160>"
      ]
     },
     "execution_count": 14,
     "metadata": {},
     "output_type": "execute_result"
    },
    {
     "data": {
      "image/png": "[encoded data removed]",
      "text/plain": [
       "<Figure size 360x360 with 1 Axes>"
      ]
     },
     "metadata": {
      "needs_background": "light"
     },
     "output_type": "display_data"
    }
   ],
   "source": [
    "sns.displot(dis, bins=20)\n",
    "plt.axvline(dis.mean(), color='r')"
   ]
  },
  {
   "cell_type": "markdown",
   "metadata": {
    "tags": []
   },
   "source": [
    "##### Add/remove per-atom energy offset"
   ]
  },
  {
   "cell_type": "code",
   "execution_count": 15,
   "metadata": {},
   "outputs": [],
   "source": [
    "# structure = structures[0]\n",
    "# atom_energy = {'O': 2.4, 'H': 1.2}\n",
    "\n",
    "# structure.add_energy_offset(atom_energy)\n",
    "# structure.total_energy"
   ]
  },
  {
   "cell_type": "markdown",
   "metadata": {},
   "source": [
    "## Descriptor\n",
    "Atomic environment descriptor"
   ]
  },
  {
   "cell_type": "code",
   "execution_count": 16,
   "metadata": {},
   "outputs": [],
   "source": [
    "from jaxip.descriptors.acsf import ACSF, G2, G3, G9, CutoffFunction"
   ]
  },
  {
   "cell_type": "code",
   "execution_count": 17,
   "metadata": {},
   "outputs": [],
   "source": [
    "# acsf = ACSF('Ne')\n",
    "# cfn = CutoffFunction(3.0, cutoff_type='tanhu')\n",
    "# acsf.add(G2(cfn, eta=1.00, r_shift=0.00), \"Ne\")\n",
    "# acsf.add(G2(cfn, eta=1.00, r_shift=0.25), \"Ne\")\n",
    "# acsf.add(G2(cfn, eta=1.00, r_shift=0.50), \"Ne\")\n",
    "# acsf.add(G2(cfn, eta=1.00, r_shift=0.75), \"Ne\")\n",
    "# acsf.add(G2(cfn, eta=1.00, r_shift=1.00), \"Ne\")\n",
    "\n",
    "# acsf"
   ]
  },
  {
   "cell_type": "code",
   "execution_count": 18,
   "metadata": {},
   "outputs": [
    {
     "data": {
      "text/plain": [
       "ACSF(element='O', size=5, r_cutoff=12.0)"
      ]
     },
     "execution_count": 18,
     "metadata": {},
     "output_type": "execute_result"
    }
   ],
   "source": [
    "acsf = ACSF('O')\n",
    "\n",
    "cfn = CutoffFunction(12.0)\n",
    "g2_1 = G2(cfn, 0.0, 0.001)\n",
    "g2_2 = G2(cfn, 0.0, 0.01)\n",
    "g3_1 = G3(cfn, 0.2, 1.0, 1.0, 0.0)\n",
    "g9_1 = G3(cfn, 0.2, 1.0, 1.0, 0.0)\n",
    "\n",
    "acsf.add(g2_1, 'H')\n",
    "acsf.add(g2_2, 'H')\n",
    "acsf.add(g3_1, 'H', 'H')\n",
    "acsf.add(g3_1, 'H', 'O')\n",
    "acsf.add(g9_1, 'H', 'O')\n",
    "acsf"
   ]
  },
  {
   "cell_type": "code",
   "execution_count": 19,
   "metadata": {},
   "outputs": [
    {
     "data": {
      "text/plain": [
       "DeviceArray([6.2318468e+00, 4.6910887e+00, 2.6130967e-03, 2.2319485e-04,\n",
       "             2.2319485e-04], dtype=float32)"
      ]
     },
     "execution_count": 19,
     "metadata": {},
     "output_type": "execute_result"
    }
   ],
   "source": [
    "val = acsf(s)\n",
    "val[1]\n",
    "# val.shape   "
   ]
  },
  {
   "cell_type": "code",
   "execution_count": 20,
   "metadata": {},
   "outputs": [
    {
     "data": {
      "text/plain": [
       "<seaborn.axisgrid.FacetGrid at 0x7feb2dced250>"
      ]
     },
     "execution_count": 20,
     "metadata": {},
     "output_type": "execute_result"
    },
    {
     "data": {
      "image/png": "[encoded data removed]",
      "text/plain": [
       "<Figure size 360x360 with 1 Axes>"
      ]
     },
     "metadata": {
      "needs_background": "light"
     },
     "output_type": "display_data"
    }
   ],
   "source": [
    "sns.displot(val[:, 2], bins=20)"
   ]
  },
  {
   "cell_type": "markdown",
   "metadata": {},
   "source": [
    "#### Gradient"
   ]
  },
  {
   "cell_type": "code",
   "execution_count": 21,
   "metadata": {},
   "outputs": [
    {
     "name": "stdout",
     "output_type": "stream",
     "text": [
      "CPU times: user 4.18 s, sys: 17 ms, total: 4.2 s\n",
      "Wall time: 4.1 s\n"
     ]
    },
    {
     "data": {
      "text/plain": [
       "DeviceArray([[-0.01492049,  0.02473107, -0.0606008 ]], dtype=float32)"
      ]
     },
     "execution_count": 21,
     "metadata": {},
     "output_type": "execute_result"
    }
   ],
   "source": [
    "%time acsf.grad(s, 0, 3)"
   ]
  },
  {
   "cell_type": "code",
   "execution_count": 22,
   "metadata": {},
   "outputs": [],
   "source": [
    "# time [acsf.grad(structures[4], i, 0) for i in range(4)]"
   ]
  },
  {
   "cell_type": "markdown",
   "metadata": {},
   "source": [
    "## Scaler\n",
    "Descriptor scaler"
   ]
  },
  {
   "cell_type": "code",
   "execution_count": 23,
   "metadata": {},
   "outputs": [],
   "source": [
    "from jaxip.descriptors.scaler import DescriptorScaler"
   ]
  },
  {
   "cell_type": "code",
   "execution_count": 24,
   "metadata": {},
   "outputs": [
    {
     "name": "stderr",
     "output_type": "stream",
     "text": [
      "100%|██████████| 10/10 [00:00<00:00, 13.95it/s]\n"
     ]
    },
    {
     "data": {
      "text/plain": [
       "DescriptorScaler(scale_type='scale_center', scale_min=0.0, scale_max=1.0)"
      ]
     },
     "execution_count": 24,
     "metadata": {},
     "output_type": "execute_result"
    }
   ],
   "source": [
    "scaler = DescriptorScaler(scale_type='scale_center')\n",
    "# acsf = nnp.descriptor[\"H\"]\n",
    "\n",
    "for structure in tqdm(structures):\n",
    "    x = acsf(structure)\n",
    "    scaler.fit(x)\n",
    "\n",
    "scaler"
   ]
  },
  {
   "cell_type": "code",
   "execution_count": 25,
   "metadata": {},
   "outputs": [
    {
     "name": "stderr",
     "output_type": "stream",
     "text": [
      "100%|██████████| 10/10 [00:00<00:00, 16.46it/s]\n"
     ]
    },
    {
     "data": {
      "text/plain": [
       "(640, 5)"
      ]
     },
     "execution_count": 25,
     "metadata": {},
     "output_type": "execute_result"
    }
   ],
   "source": [
    "scaled_x = []\n",
    "for structure in tqdm(structures):\n",
    "    x = acsf(structure)\n",
    "    scaled_x.append(scaler(x))\n",
    "\n",
    "scaled_x = jnp.concatenate(scaled_x, axis=0)\n",
    "scaled_x.shape"
   ]
  },
  {
   "cell_type": "code",
   "execution_count": 26,
   "metadata": {},
   "outputs": [
    {
     "data": {
      "image/png": "[encoded data removed]",
      "text/plain": [
       "<Figure size 360x360 with 1 Axes>"
      ]
     },
     "metadata": {
      "needs_background": "light"
     },
     "output_type": "display_data"
    }
   ],
   "source": [
    "sx = scaled_x[:, 5]\n",
    "sns.displot(sx, bins=30)\n",
    "plt.axvline(sx.mean(), color='r', lw=3);\n",
    "plt.axvline(0, color='k');"
   ]
  },
  {
   "cell_type": "markdown",
   "metadata": {},
   "source": [
    "## Model"
   ]
  },
  {
   "cell_type": "code",
   "execution_count": 27,
   "metadata": {},
   "outputs": [],
   "source": [
    "from jaxip.models.nn import NeuralNetworkModel\n",
    "from jaxip.models.initializer import UniformInitializer\n",
    "from flax import linen as nn"
   ]
  },
  {
   "cell_type": "code",
   "execution_count": 28,
   "metadata": {},
   "outputs": [],
   "source": [
    "nn = NeuralNetworkModel(\n",
    "    hidden_layers=((8, 't'), (8, 't')),\n",
    "    kernel_initializer=UniformInitializer(weights_range=(-1, 1)),\n",
    "    # param_dtype=jnp.float64,\n",
    ")"
   ]
  },
  {
   "cell_type": "code",
   "execution_count": 29,
   "metadata": {},
   "outputs": [
    {
     "data": {
      "text/plain": [
       "FrozenDict({\n",
       "    params: {\n",
       "        layers_0: {\n",
       "            bias: (8,),\n",
       "            kernel: (5, 8),\n",
       "        },\n",
       "        layers_2: {\n",
       "            bias: (8,),\n",
       "            kernel: (8, 8),\n",
       "        },\n",
       "        layers_4: {\n",
       "            bias: (1,),\n",
       "            kernel: (8, 1),\n",
       "        },\n",
       "    },\n",
       "})"
      ]
     },
     "execution_count": 29,
     "metadata": {},
     "output_type": "execute_result"
    }
   ],
   "source": [
    "rng = jax.random.PRNGKey(2022) # PRNG Key\n",
    "x = jnp.ones(shape=(8, acsf.num_symmetry_functions)) # Dummy Input\n",
    "params = nn.init(rng, x) # Initialize the parameters\n",
    "jax.tree_map(lambda x: x.shape, params) # Check the parameters"
   ]
  },
  {
   "cell_type": "code",
   "execution_count": 30,
   "metadata": {},
   "outputs": [],
   "source": [
    "eng = nn.apply(params, scaled_x[:, :])"
   ]
  },
  {
   "cell_type": "code",
   "execution_count": 31,
   "metadata": {},
   "outputs": [
    {
     "data": {
      "image/png": "[encoded data removed]",
      "text/plain": [
       "<Figure size 402.375x360 with 1 Axes>"
      ]
     },
     "metadata": {
      "needs_background": "light"
     },
     "output_type": "display_data"
    }
   ],
   "source": [
    "sns.displot(eng, bins=30);"
   ]
  },
  {
   "cell_type": "code",
   "execution_count": null,
   "metadata": {},
   "outputs": [],
   "source": []
  }
 ],
 "metadata": {
  "interpreter": {
   "hash": "79f793817441a9b4f3336163bce28fb05f5fade87f8f747882a8ea5340683793"
  },
  "kernelspec": {
   "display_name": "Python (jaxip)",
   "language": "python",
   "name": "jaxip"
  },
  "language_info": {
   "codemirror_mode": {
    "name": "ipython",
    "version": 3
   },
   "file_extension": ".py",
   "mimetype": "text/x-python",
   "name": "python",
   "nbconvert_exporter": "python",
   "pygments_lexer": "ipython3",
   "version": "3.8.15"
  }
 },
 "nbformat": 4,
 "nbformat_minor": 4
}
