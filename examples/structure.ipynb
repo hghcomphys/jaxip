{
 "cells": [
  {
   "cell_type": "markdown",
   "metadata": {},
   "source": [
    "### TorchIP: Structure\n",
    "An example notebook of how to load atomic data structures. "
   ]
  },
  {
   "cell_type": "code",
   "execution_count": null,
   "metadata": {},
   "outputs": [],
   "source": [
    "import sys\n",
    "sys.path.append('../')\n",
    "\n",
    "import torchip as tp\n",
    "from torchip.config import CFG\n",
    "from torchip.structure import Structure\n",
    "from torchip.loaders import RunnerStructureLoader\n",
    "from torchip.loaders import read_structures\n",
    "from torchip.utils import gradient\n",
    "from pathlib import Path"
   ]
  },
  {
   "cell_type": "code",
   "execution_count": null,
   "metadata": {},
   "outputs": [],
   "source": [
    "# Set device eigher cpu or cuda (gpu)\n",
    "CFG.set(\"device\", \"cpu\")"
   ]
  },
  {
   "cell_type": "code",
   "execution_count": null,
   "metadata": {},
   "outputs": [],
   "source": [
    "# Create structure loader\n",
    "base_dir = Path('/home/hossein/n2p2/examples/nnp-train/LJ')\n",
    "loader = RunnerStructureLoader(Path(base_dir, \"input.data\")) "
   ]
  },
  {
   "cell_type": "code",
   "execution_count": null,
   "metadata": {},
   "outputs": [],
   "source": [
    "# Read structures using get_data() method (including comments)\n",
    "for data in loader.get_data():\n",
    "    structure = Structure(data, requires_grad=True)\n",
    "    break\n",
    "print('comment:', data['comment'])\n",
    "print(structure)\n",
    "structure.position"
   ]
  },
  {
   "cell_type": "code",
   "execution_count": null,
   "metadata": {},
   "outputs": [],
   "source": [
    "# Read structures using get_structure() method\n",
    "for structure in loader.get_structure(requires_grad=False):\n",
    "    break\n",
    "structure.position"
   ]
  },
  {
   "cell_type": "code",
   "execution_count": null,
   "metadata": {},
   "outputs": [],
   "source": [
    "# Read structures using utility function read_structures()\n",
    "structures = read_structures(loader, between=(5, 10), requires_grad=True)\n",
    "print(\"No. of structures:\", len(structures))\n",
    "structures[0].position"
   ]
  },
  {
   "cell_type": "code",
   "execution_count": null,
   "metadata": {},
   "outputs": [],
   "source": [
    "# Calculate distance between atoms\n",
    "r = structures[0].calculate_distance(aid=0)\n",
    "r"
   ]
  },
  {
   "cell_type": "code",
   "execution_count": null,
   "metadata": {},
   "outputs": [],
   "source": [
    "# calculate gradient of r respect to x, y, and z\n",
    "dr = gradient(r, structures[0].position)\n",
    "dr"
   ]
  },
  {
   "cell_type": "code",
   "execution_count": null,
   "metadata": {},
   "outputs": [],
   "source": []
  }
 ],
 "metadata": {
  "interpreter": {
   "hash": "79f793817441a9b4f3336163bce28fb05f5fade87f8f747882a8ea5340683793"
  },
  "kernelspec": {
   "display_name": "Python (torchip)",
   "language": "python",
   "name": "torchip"
  },
  "language_info": {
   "codemirror_mode": {
    "name": "ipython",
    "version": 3
   },
   "file_extension": ".py",
   "mimetype": "text/x-python",
   "name": "python",
   "nbconvert_exporter": "python",
   "pygments_lexer": "ipython3",
   "version": "3.9.7"
  }
 },
 "nbformat": 4,
 "nbformat_minor": 4
}
