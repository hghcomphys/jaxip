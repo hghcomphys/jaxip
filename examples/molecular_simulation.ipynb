{
 "cells": [
  {
   "cell_type": "markdown",
   "id": "5ad3a7ab-df3a-44f7-b541-541363c8a1a1",
   "metadata": {},
   "source": [
    "# Molecular Simulation \n",
    "Carrying out molecular dynamics (MD) and Monte-Carlo (MC) simulations using a (trained) potential. "
   ]
  },
  {
   "cell_type": "code",
   "execution_count": 1,
   "id": "25f1a75a-0a8b-4f71-9067-b8249306ce80",
   "metadata": {},
   "outputs": [],
   "source": [
    "from utils import set_env\n",
    "# set_env('.env')"
   ]
  },
  {
   "cell_type": "code",
   "execution_count": 2,
   "id": "df40f52a-2a1a-43c7-b8da-fbf34988cd0d",
   "metadata": {},
   "outputs": [],
   "source": [
    "import os\n",
    "os.environ[\"JAX_ENABLE_X64\"] = \"1\"\n",
    "os.environ[\"JAX_PLATFORM_NAME\"] = \"cpu\" \n",
    "os.environ[\"XLA_PYTHON_CLIENT_PREALLOCATE\"] = \"false\" "
   ]
  },
  {
   "cell_type": "code",
   "execution_count": 3,
   "id": "f8f3d06e-e620-44d7-8393-e27d673c1794",
   "metadata": {},
   "outputs": [],
   "source": [
    "from pantea.datasets import RunnerDataset\n",
    "from pantea.simulation import (\n",
    "    MDSimulator, \n",
    "    BrendsenThermostat, \n",
    "    MCSimulator,\n",
    "    run_simulation\n",
    ")\n",
    "from pantea.atoms import Structure\n",
    "from pantea.units import units as units\n",
    "\n",
    "\n",
    "import matplotlib.pylab as plt\n",
    "from pathlib import Path\n",
    "from ase import Atoms\n",
    "from ase.visualize import view\n",
    "import ase.io\n",
    "import jax.numpy as jnp"
   ]
  },
  {
   "cell_type": "code",
   "execution_count": 4,
   "id": "0d63b8bc-57c1-4ceb-b976-8fd8bc426d3b",
   "metadata": {},
   "outputs": [],
   "source": [
    "# from pantea.logger import set_logging_level\n",
    "# import logging\n",
    "# set_logging_level(logging.DEBUG)\n",
    "\n",
    "from pantea.types import default_dtype\n",
    "default_dtype.FLOATX=jnp.float64\n",
    "\n",
    "base_dir = Path('./LJ')"
   ]
  },
  {
   "cell_type": "markdown",
   "id": "682fef02-c977-406b-b28f-71a0cfc6e3d0",
   "metadata": {},
   "source": [
    "## Data"
   ]
  },
  {
   "cell_type": "code",
   "execution_count": null,
   "id": "681fe201-666e-471a-8cc2-ca4787cfff45",
   "metadata": {},
   "outputs": [],
   "source": [
    "d = 6  # Angstrom\n",
    "uc = Atoms('He', positions=[(d/2, d/2, d/2)], cell=(d, d, d))\n",
    "s0 = Structure.from_ase(uc.repeat((7, 7, 7)))\n",
    "\n",
    "# d = 10  # Angstrom\n",
    "# uc = Atoms('Ar', positions=[(d/2, d/2, d/2)], cell=(d, d, d))\n",
    "# s0 = Structure.create_from_ase(uc.repeat((7, 7, 7)))\n",
    "\n",
    "atoms = s0.to_ase()\n",
    "# view(atoms, viewer='ngl') # ase, ngl"
   ]
  },
  {
   "cell_type": "markdown",
   "id": "914a1a48-d5d8-4298-b7b1-7a610208092c",
   "metadata": {},
   "source": [
    "## Potential"
   ]
  },
  {
   "cell_type": "code",
   "execution_count": 6,
   "id": "6a0b3c56-1ac8-4ec9-8754-987acfa185b4",
   "metadata": {},
   "outputs": [],
   "source": [
    "from pantea.types import Array\n",
    "import jax\n",
    "from functools import partial\n",
    "from pantea.simulation import LJPotential\n",
    "\n",
    "# He\n",
    "ljpot = LJPotential(\n",
    "    sigma=2.5238 * units.FROM_ANGSTROM,  # Bohr\n",
    "    epsilon=4.7093e-04 * units.FROM_ELECTRON_VOLT,  # Hartree\n",
    "    r_cutoff=6.3095 * units.FROM_ANGSTROM,  # 2.5 * sigma\n",
    ")\n",
    "\n",
    "# Ar\n",
    "# ljpot = LJPotential(\n",
    "#     sigma=3.405 * units.FROM_ANGSTROM,                       # Bohr\n",
    "#     epsilon=0.01032439284 * units.FROM_ELECTRON_VOLT,        # Hartree\n",
    "#     r_cutoff=8.5125 * units.FROM_ANGSTROM,                   # 2.5 * sigma\n",
    "# )\n",
    "\n",
    "# ljpot(s0), ljpot.compute_forces(s0)"
   ]
  },
  {
   "cell_type": "markdown",
   "id": "61b6b784-71a8-4508-b7cf-6ff905392d24",
   "metadata": {},
   "source": [
    "## Molecular Dynamics (MD)"
   ]
  },
  {
   "cell_type": "code",
   "execution_count": 8,
   "id": "57aac81b-5f3d-4978-8b3b-09bad50ae2da",
   "metadata": {},
   "outputs": [],
   "source": [
    "# v0 = MDSimulator.generate_random_velocity(temperature=300.0, mass=s0.mass, seed=2023)\n",
    "# brendsen = BrendsenThermostat(target_temperature=300.0, time_constant=50.0 * units.FROM_FEMTO_SECOND)\n",
    "\n",
    "md = MDSimulator(\n",
    "    potential=ljpot,\n",
    "    initial_structure=s0,\n",
    "    time_step=0.5 * units.FROM_FEMTO_SECOND,\n",
    "    temperature=300, # K\n",
    "    # initial_velocity=v0,\n",
    "    # thermostat=brendsen\n",
    ")"
   ]
  },
  {
   "cell_type": "code",
   "execution_count": 9,
   "id": "6d044a36-944f-471f-b3cb-1047e61f761e",
   "metadata": {},
   "outputs": [
    {
     "data": {
      "text/plain": [
       "Array(6.51659918e-07, dtype=float64)"
      ]
     },
     "execution_count": 9,
     "metadata": {},
     "output_type": "execute_result"
    }
   ],
   "source": [
    "md.get_pressure()"
   ]
  },
  {
   "cell_type": "code",
   "execution_count": 10,
   "id": "f1a2fa85-9bb4-4493-9330-b7ecb077de59",
   "metadata": {},
   "outputs": [
    {
     "data": {
      "text/plain": [
       "Array(0.48832374, dtype=float64)"
      ]
     },
     "execution_count": 10,
     "metadata": {},
     "output_type": "execute_result"
    }
   ],
   "source": [
    "md.get_total_energy()"
   ]
  },
  {
   "cell_type": "code",
   "execution_count": 11,
   "id": "55e2d2de-9020-4654-b785-ce5c035c83dc",
   "metadata": {},
   "outputs": [],
   "source": [
    "# Warmp up\n",
    "# run_simulation(md)\n",
    "\n",
    "# %timeit run_simulation(md, num_steps=1, output_freq=-1)"
   ]
  },
  {
   "cell_type": "code",
   "execution_count": 12,
   "id": "f26f832a-5d9e-4364-aec5-da200a418328",
   "metadata": {},
   "outputs": [
    {
     "name": "stdout",
     "output_type": "stream",
     "text": [
      "0          time[ps]:0.00000    Temp[K]:299.95012  Etot[Ha]:0.4883237353    Epot[Ha]:-0.0003923653   Pres[kb]:0.19173   \n",
      "100        time[ps]:0.05000    Temp[K]:180.49172  Etot[Ha]:0.2937320422    Epot[Ha]:-0.0003475440   Pres[kb]:0.11535   \n",
      "200        time[ps]:0.10000    Temp[K]:337.50049  Etot[Ha]:0.5495840454    Epot[Ha]:-0.0003137927   Pres[kb]:0.21572   \n",
      "300        time[ps]:0.15000    Temp[K]:330.94523  Etot[Ha]:0.5389337659    Epot[Ha]:-0.0002834265   Pres[kb]:0.21154   \n",
      "400        time[ps]:0.20000    Temp[K]:335.12906  Etot[Ha]:0.5457583650    Epot[Ha]:-0.0002756417   Pres[kb]:0.21418   \n",
      "500        time[ps]:0.25000    Temp[K]:320.56006  Etot[Ha]:0.5220283124    Epot[Ha]:-0.0002680559   Pres[kb]:0.20486   \n",
      "600        time[ps]:0.30000    Temp[K]:318.01530  Etot[Ha]:0.5178922473    Epot[Ha]:-0.0002578813   Pres[kb]:0.20325   \n",
      "700        time[ps]:0.35000    Temp[K]:293.49149  Etot[Ha]:0.4779351878    Epot[Ha]:-0.0002577000   Pres[kb]:0.18758   \n",
      "800        time[ps]:0.40000    Temp[K]:308.80849  Etot[Ha]:0.5028834567    Epot[Ha]:-0.0002657997   Pres[kb]:0.19738   \n",
      "900        time[ps]:0.45000    Temp[K]:297.37502  Etot[Ha]:0.4842594995    Epot[Ha]:-0.0002609162   Pres[kb]:0.19010   \n",
      "1000       time[ps]:0.50000    Temp[K]:308.64607  Etot[Ha]:0.5026274284    Epot[Ha]:-0.0002571946   Pres[kb]:0.19727   \n"
     ]
    }
   ],
   "source": [
    "run_simulation(md, num_steps=1000, output_freq=100) #, filename=\"md.xyz\")"
   ]
  },
  {
   "cell_type": "code",
   "execution_count": 13,
   "id": "a17fbb8a-7948-47e7-a1a8-6af3143f8c4d",
   "metadata": {},
   "outputs": [
    {
     "data": {
      "text/plain": [
       "Array(0.19727315, dtype=float64)"
      ]
     },
     "execution_count": 13,
     "metadata": {},
     "output_type": "execute_result"
    }
   ],
   "source": [
    "md.get_pressure() * units.TO_KILO_BAR"
   ]
  },
  {
   "cell_type": "code",
   "execution_count": 14,
   "id": "18e9cd4c-1550-43e0-b33f-f7cb6ba9a439",
   "metadata": {},
   "outputs": [
    {
     "data": {
      "text/plain": [
       "Array([[ 1.19941342,  4.3296294 ,  2.70678353],\n",
       "       [ 0.47843722,  2.07895327,  8.40255945],\n",
       "       [ 3.77443508,  3.99753326, 13.52216957],\n",
       "       ...,\n",
       "       [36.71157116, 37.63130647, 23.95072796],\n",
       "       [37.40653863, 40.52930075, 30.71223648],\n",
       "       [37.86939568, 35.919512  , 38.93213743]], dtype=float64)"
      ]
     },
     "execution_count": 14,
     "metadata": {},
     "output_type": "execute_result"
    }
   ],
   "source": [
    "md.positions * units.TO_ANGSTROM"
   ]
  },
  {
   "cell_type": "code",
   "execution_count": 15,
   "id": "4af60399-b34f-4a3d-a8ed-93b9cff7f794",
   "metadata": {},
   "outputs": [],
   "source": [
    "atoms = md.get_structure().to_ase()\n",
    "# view(atoms, viewer='ngl') # ase, ngl"
   ]
  },
  {
   "cell_type": "markdown",
   "id": "49890020-8352-4e4c-94c2-5826c2d8a909",
   "metadata": {},
   "source": [
    "## Monte Carlo (MC)"
   ]
  },
  {
   "cell_type": "code",
   "execution_count": 16,
   "id": "284e67e6-b140-4507-9b9f-1c6bd688fafa",
   "metadata": {},
   "outputs": [],
   "source": [
    "mc = MCSimulator(\n",
    "    potential=ljpot,\n",
    "    initial_structure=s0,\n",
    "    temperature=300, # K\n",
    "    translate_step=0.3 * units.FROM_ANGSTROM,\n",
    "    movements_per_step=10,\n",
    ")"
   ]
  },
  {
   "cell_type": "code",
   "execution_count": 17,
   "id": "0e45329a",
   "metadata": {},
   "outputs": [],
   "source": [
    "# Warmp up\n",
    "# run_simulation(mc)\n",
    "\n",
    "# %timeit run_simulation(mc, num_steps=1, output_freq=-1)"
   ]
  },
  {
   "cell_type": "code",
   "execution_count": 18,
   "id": "d4601501",
   "metadata": {},
   "outputs": [
    {
     "name": "stdout",
     "output_type": "stream",
     "text": [
      "0          Temp[K]:300.0000000000  Epot[Ha]:-0.0003923653   \n",
      "100        Temp[K]:300.0000000000  Epot[Ha]:-0.0003693696   \n",
      "200        Temp[K]:300.0000000000  Epot[Ha]:-0.0003808577   \n",
      "300        Temp[K]:300.0000000000  Epot[Ha]:-0.0004226282   \n",
      "400        Temp[K]:300.0000000000  Epot[Ha]:-0.0004656511   \n",
      "500        Temp[K]:300.0000000000  Epot[Ha]:-0.0005302972   \n",
      "600        Temp[K]:300.0000000000  Epot[Ha]:-0.0005892853   \n",
      "700        Temp[K]:300.0000000000  Epot[Ha]:-0.0006245604   \n",
      "800        Temp[K]:300.0000000000  Epot[Ha]:-0.0006825559   \n",
      "900        Temp[K]:300.0000000000  Epot[Ha]:-0.0007941455   \n",
      "1000       Temp[K]:300.0000000000  Epot[Ha]:-0.0008474004   \n"
     ]
    }
   ],
   "source": [
    "run_simulation(mc, num_steps=1000, output_freq=100, filename=Path(\"mc.xyz\"))"
   ]
  },
  {
   "cell_type": "code",
   "execution_count": 19,
   "id": "b5bcbada-78dd-40b1-961b-022f9ed4b16d",
   "metadata": {},
   "outputs": [
    {
     "data": {
      "text/plain": [
       "Array([[ 2.34109917,  2.70732295,  3.65663507],\n",
       "       [ 3.86856804,  2.18481293, 10.01926597],\n",
       "       [ 4.23804463,  4.09003718, 14.46822375],\n",
       "       ...,\n",
       "       [38.59630648, 39.8119062 , 26.77745033],\n",
       "       [38.5086862 , 37.05468303, 34.85910555],\n",
       "       [40.55076128, 38.24893733, 40.75679957]], dtype=float64)"
      ]
     },
     "execution_count": 19,
     "metadata": {},
     "output_type": "execute_result"
    }
   ],
   "source": [
    "mc.positions * units.TO_ANGSTROM"
   ]
  },
  {
   "cell_type": "code",
   "execution_count": 20,
   "id": "a34fc975-3a8c-4ffc-a407-767f92d344b7",
   "metadata": {},
   "outputs": [],
   "source": [
    "atoms = mc.get_structure().to_ase()\n",
    "# view(atoms, viewer='ngl') # ase, ngl"
   ]
  }
 ],
 "metadata": {
  "kernelspec": {
   "display_name": "Python (pantea)",
   "language": "python",
   "name": "pantea"
  },
  "language_info": {
   "codemirror_mode": {
    "name": "ipython",
    "version": 3
   },
   "file_extension": ".py",
   "mimetype": "text/x-python",
   "name": "python",
   "nbconvert_exporter": "python",
   "pygments_lexer": "ipython3",
   "version": "3.10.10"
  }
 },
 "nbformat": 4,
 "nbformat_minor": 5
}
