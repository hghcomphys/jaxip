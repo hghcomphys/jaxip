{
 "cells": [
  {
   "cell_type": "markdown",
   "id": "5ad3a7ab-df3a-44f7-b541-541363c8a1a1",
   "metadata": {},
   "source": [
    "# Molecular Simulation \n",
    "Carrying out molecular dynamics (MD) and Monte-Carlo (MC) simulations using a trained potential. "
   ]
  },
  {
   "cell_type": "code",
   "execution_count": 1,
   "id": "25f1a75a-0a8b-4f71-9067-b8249306ce80",
   "metadata": {},
   "outputs": [],
   "source": [
    "from utils import set_env\n",
    "# set_env('.env')"
   ]
  },
  {
   "cell_type": "code",
   "execution_count": 2,
   "id": "df40f52a-2a1a-43c7-b8da-fbf34988cd0d",
   "metadata": {},
   "outputs": [],
   "source": [
    "import os\n",
    "os.environ[\"JAX_ENABLE_X64\"] = \"1\"\n",
    "os.environ[\"JAX_PLATFORM_NAME\"] = \"cpu\" \n",
    "os.environ[\"XLA_PYTHON_CLIENT_PREALLOCATE\"] = \"false\" "
   ]
  },
  {
   "cell_type": "code",
   "execution_count": 3,
   "id": "f8f3d06e-e620-44d7-8393-e27d673c1794",
   "metadata": {},
   "outputs": [],
   "source": [
    "from jaxip.datasets import RunnerDataset\n",
    "from jaxip.potentials import NeuralNetworkPotential\n",
    "from jaxip.simulation import (\n",
    "    MDSimulator, \n",
    "    BrendsenThermostat, \n",
    "    MCSimulator,\n",
    "    run_simulation\n",
    ")\n",
    "from jaxip.atoms import Structure\n",
    "from jaxip.units import units as units\n",
    "\n",
    "import matplotlib.pylab as plt\n",
    "from pathlib import Path\n",
    "from ase import Atoms\n",
    "from ase.visualize import view\n",
    "import ase.io\n",
    "import jax.numpy as jnp"
   ]
  },
  {
   "cell_type": "code",
   "execution_count": 4,
   "id": "0d63b8bc-57c1-4ceb-b976-8fd8bc426d3b",
   "metadata": {},
   "outputs": [],
   "source": [
    "base_dir = Path('LJ')"
   ]
  },
  {
   "cell_type": "markdown",
   "id": "682fef02-c977-406b-b28f-71a0cfc6e3d0",
   "metadata": {},
   "source": [
    "## Data"
   ]
  },
  {
   "cell_type": "code",
   "execution_count": 5,
   "id": "681fe201-666e-471a-8cc2-ca4787cfff45",
   "metadata": {},
   "outputs": [
    {
     "name": "stderr",
     "output_type": "stream",
     "text": [
      "2023-07-02 12:42:06.194170: E external/xla/xla/stream_executor/cuda/cuda_driver.cc:268] failed call to cuInit: CUDA_ERROR_UNKNOWN: unknown error\n"
     ]
    }
   ],
   "source": [
    "d = 6  # Angstrom\n",
    "uc = Atoms('He', positions=[(d/2, d/2, d/2)], cell=(d, d, d))\n",
    "s0 = Structure.from_ase(uc.repeat((7, 7, 7)))\n",
    "\n",
    "# d = 10  # Angstrom\n",
    "# uc = Atoms('Ar', positions=[(d/2, d/2, d/2)], cell=(d, d, d))\n",
    "# s0 = Structure.create_from_ase(uc.repeat((7, 7, 7)))\n",
    "\n",
    "atoms = s0.to_ase()\n",
    "# view(atoms, viewer='x3d') # ase, ngl"
   ]
  },
  {
   "cell_type": "markdown",
   "id": "914a1a48-d5d8-4298-b7b1-7a610208092c",
   "metadata": {},
   "source": [
    "## Potential"
   ]
  },
  {
   "cell_type": "code",
   "execution_count": 6,
   "id": "6a0b3c56-1ac8-4ec9-8754-987acfa185b4",
   "metadata": {},
   "outputs": [],
   "source": [
    "from jaxip.types import Array\n",
    "import jax\n",
    "from functools import partial\n",
    "\n",
    "@partial(jax.jit, static_argnums=0)\n",
    "def _compute_pair_energy(obj, r: Array) -> Array:\n",
    "    term = obj.sigma / r\n",
    "    term6 = term**6\n",
    "    return 4.0 * obj.epsilon * term6 * (term6 - 1.0)\n",
    "\n",
    "\n",
    "@partial(jax.jit, static_argnums=0)\n",
    "def _compute_pair_force(obj, r: Array, R: Array) -> Array:\n",
    "    term = obj.sigma / r\n",
    "    term6 = term**6\n",
    "    force_factor = -24.0 * obj.epsilon / (r * r) * term6 * (2.0 * term6 - 1.0)\n",
    "    return jnp.expand_dims(force_factor, axis=-1) * R\n",
    "\n",
    "\n",
    "class LJPotential:\n",
    "    def __init__(\n",
    "        self,\n",
    "        sigma: float,\n",
    "        epsilon: float,\n",
    "        r_cutoff: float,\n",
    "    ) -> None:\n",
    "        self.sigma = sigma\n",
    "        self.epsilon = epsilon\n",
    "        self.r_cutoff = r_cutoff\n",
    "\n",
    "    def __call__(self, structure: Structure) -> Array:\n",
    "        r, _ = structure.calculate_distance(atom_indices=jnp.arange(structure.natoms))\n",
    "        mask = (0 < r) & (r < self.r_cutoff)\n",
    "        pair_energies = _compute_pair_energy(self, r)\n",
    "        return 0.5 * jnp.where(mask, pair_energies, 0.0).sum()\n",
    "\n",
    "    def compute_forces(self, structure: Structure) -> Array:\n",
    "        r, R = structure.calculate_distance(atom_indices=jnp.arange(structure.natoms))\n",
    "        mask = (0 < r) & (r < self.r_cutoff)\n",
    "        pair_forces = jnp.where(\n",
    "            jnp.expand_dims(mask, axis=-1),\n",
    "            _compute_pair_force(self, r, R),\n",
    "            jnp.zeros_like(R),\n",
    "        )\n",
    "        return jnp.sum(pair_forces, axis=1)\n",
    "\n",
    "\n",
    "# He\n",
    "ljpot = LJPotential(\n",
    "    sigma=2.5238 * units.FROM_ANGSTROM,  # Bohr\n",
    "    epsilon=4.7093e-04 * units.FROM_ELECTRON_VOLT,  # Hartree\n",
    "    r_cutoff=6.3095 * units.FROM_ANGSTROM,  # 2.5 * sigma\n",
    ")\n",
    "\n",
    "# Ar\n",
    "# ljpot = LJPotential(\n",
    "#     sigma=3.405 * units.FROM_ANGSTROM,                       # Bohr\n",
    "#     epsilon=0.01032439284 * units.FROM_ELECTRON_VOLT,        # Hartree\n",
    "#     r_cutoff=8.5125 * units.FROM_ANGSTROM,                   # 2.5 * sigma\n",
    "# )"
   ]
  },
  {
   "cell_type": "markdown",
   "id": "61b6b784-71a8-4508-b7cf-6ff905392d24",
   "metadata": {},
   "source": [
    "## Molecular Dynamics (MD)"
   ]
  },
  {
   "cell_type": "code",
   "execution_count": 7,
   "id": "57aac81b-5f3d-4978-8b3b-09bad50ae2da",
   "metadata": {},
   "outputs": [],
   "source": [
    "# v0 = MDSimulator.generate_random_velocity(temperature=300.0, mass=s0.mass, seed=2023)\n",
    "# brendsen = BrendsenThermostat(target_temperature=300.0, time_constant=50.0 * units.FROM_FEMTO_SECOND)\n",
    "\n",
    "md = MDSimulator(\n",
    "    potential=ljpot,\n",
    "    initial_structure=s0,\n",
    "    time_step=0.5 * units.FROM_FEMTO_SECOND,\n",
    "    temperature=300, # K\n",
    "    # initial_velocity=v0,\n",
    "    # thermostat=brendsen\n",
    ")"
   ]
  },
  {
   "cell_type": "code",
   "execution_count": 8,
   "id": "6d044a36-944f-471f-b3cb-1047e61f761e",
   "metadata": {},
   "outputs": [
    {
     "data": {
      "text/plain": [
       "Array(6.51659916e-07, dtype=float64)"
      ]
     },
     "execution_count": 8,
     "metadata": {},
     "output_type": "execute_result"
    }
   ],
   "source": [
    "md.get_pressure()"
   ]
  },
  {
   "cell_type": "code",
   "execution_count": 9,
   "id": "f1a2fa85-9bb4-4493-9330-b7ecb077de59",
   "metadata": {},
   "outputs": [
    {
     "data": {
      "text/plain": [
       "Array(0.48832374, dtype=float64)"
      ]
     },
     "execution_count": 9,
     "metadata": {},
     "output_type": "execute_result"
    }
   ],
   "source": [
    "md.get_total_energy()"
   ]
  },
  {
   "cell_type": "code",
   "execution_count": 10,
   "id": "55e2d2de-9020-4654-b785-ce5c035c83dc",
   "metadata": {},
   "outputs": [],
   "source": [
    "# Warmp up\n",
    "# run_simulation(md)\n",
    "\n",
    "# %timeit md.run_simulation(num_steps=1, output_freq=-1)"
   ]
  },
  {
   "cell_type": "code",
   "execution_count": 11,
   "id": "f26f832a-5d9e-4364-aec5-da200a418328",
   "metadata": {},
   "outputs": [
    {
     "name": "stdout",
     "output_type": "stream",
     "text": [
      "0          time[ps]:0.00000    Temp[K]:299.95012  Etot[Ha]:0.4883237353    Epot[Ha]:-0.0003923654   Pres[kb]:0.19173   \n",
      "100        time[ps]:0.05000    Temp[K]:180.48925  Etot[Ha]:0.2937277968    Epot[Ha]:-0.0003477770   Pres[kb]:0.11535   \n",
      "200        time[ps]:0.10000    Temp[K]:340.79198  Etot[Ha]:0.5549463578    Epot[Ha]:-0.0003143736   Pres[kb]:0.21783   \n",
      "300        time[ps]:0.15000    Temp[K]:332.48107  Etot[Ha]:0.5414355956    Epot[Ha]:-0.0002839803   Pres[kb]:0.21252   \n",
      "400        time[ps]:0.20000    Temp[K]:339.34123  Etot[Ha]:0.5526201298    Epot[Ha]:-0.0002768727   Pres[kb]:0.21688   \n",
      "500        time[ps]:0.25000    Temp[K]:325.52335  Etot[Ha]:0.5301128543    Epot[Ha]:-0.0002703262   Pres[kb]:0.20803   \n",
      "600        time[ps]:0.30000    Temp[K]:323.53786  Etot[Ha]:0.5268878850    Epot[Ha]:-0.0002602887   Pres[kb]:0.20678   \n",
      "700        time[ps]:0.35000    Temp[K]:298.66455  Etot[Ha]:0.4863645128    Epot[Ha]:-0.0002569646   Pres[kb]:0.19088   \n",
      "800        time[ps]:0.40000    Temp[K]:316.54514  Etot[Ha]:0.5154856317    Epot[Ha]:-0.0002691361   Pres[kb]:0.20233   \n",
      "900        time[ps]:0.45000    Temp[K]:301.07657  Etot[Ha]:0.4902877976    Epot[Ha]:-0.0002636508   Pres[kb]:0.19245   \n",
      "1000       time[ps]:0.50000    Temp[K]:316.24394  Etot[Ha]:0.5150016300    Epot[Ha]:-0.0002623907   Pres[kb]:0.20213   \n",
      "1100       time[ps]:0.55000    Temp[K]:301.75403  Etot[Ha]:0.4913977611    Epot[Ha]:-0.0002574857   Pres[kb]:0.19287   \n",
      "1200       time[ps]:0.60000    Temp[K]:316.84232  Etot[Ha]:0.5159821800    Epot[Ha]:-0.0002567939   Pres[kb]:0.20251   \n",
      "1300       time[ps]:0.65000    Temp[K]:296.11283  Etot[Ha]:0.4822032446    Epot[Ha]:-0.0002606530   Pres[kb]:0.18927   \n",
      "1400       time[ps]:0.70000    Temp[K]:306.47926  Etot[Ha]:0.4990887922    Epot[Ha]:-0.0002653826   Pres[kb]:0.19589   \n",
      "1500       time[ps]:0.75000    Temp[K]:309.55974  Etot[Ha]:0.5041125043    Epot[Ha]:-0.0002607777   Pres[kb]:0.19786   \n",
      "1600       time[ps]:0.80000    Temp[K]:305.41552  Etot[Ha]:0.4973576253    Epot[Ha]:-0.0002633859   Pres[kb]:0.19518   \n",
      "1700       time[ps]:0.85000    Temp[K]:320.66496  Etot[Ha]:0.5222099341    Epot[Ha]:-0.0002573532   Pres[kb]:0.20495   \n",
      "1800       time[ps]:0.90000    Temp[K]:309.66621  Etot[Ha]:0.5042858195    Epot[Ha]:-0.0002609375   Pres[kb]:0.19793   \n",
      "1900       time[ps]:0.95000    Temp[K]:315.51406  Etot[Ha]:0.5138213692    Epot[Ha]:-0.0002534294   Pres[kb]:0.20169   \n",
      "2000       time[ps]:1.00000    Temp[K]:315.58815  Etot[Ha]:0.5139450165    Epot[Ha]:-0.0002505027   Pres[kb]:0.20170   \n",
      "2100       time[ps]:1.05000    Temp[K]:286.56536  Etot[Ha]:0.4666511546    Epot[Ha]:-0.0002568265   Pres[kb]:0.18320   \n",
      "2200       time[ps]:1.10000    Temp[K]:312.32978  Etot[Ha]:0.5086348387    Epot[Ha]:-0.0002517326   Pres[kb]:0.19968   \n",
      "2300       time[ps]:1.15000    Temp[K]:310.45646  Etot[Ha]:0.5055843508    Epot[Ha]:-0.0002499860   Pres[kb]:0.19845   \n",
      "2400       time[ps]:1.20000    Temp[K]:310.91056  Etot[Ha]:0.5063278454    Epot[Ha]:-0.0002463547   Pres[kb]:0.19876   \n",
      "2500       time[ps]:1.25000    Temp[K]:313.21892  Etot[Ha]:0.5100791074    Epot[Ha]:-0.0002561726   Pres[kb]:0.20022   \n",
      "2600       time[ps]:1.30000    Temp[K]:313.87512  Etot[Ha]:0.5111547378    Epot[Ha]:-0.0002497060   Pres[kb]:0.20062   \n",
      "2700       time[ps]:1.35000    Temp[K]:302.31374  Etot[Ha]:0.4923134843    Epot[Ha]:-0.0002537116   Pres[kb]:0.19322   \n",
      "2800       time[ps]:1.40000    Temp[K]:302.36727  Etot[Ha]:0.4924011788    Epot[Ha]:-0.0002532292   Pres[kb]:0.19325   \n",
      "2900       time[ps]:1.45000    Temp[K]:320.26604  Etot[Ha]:0.5215696889    Epot[Ha]:-0.0002476389   Pres[kb]:0.20467   \n",
      "3000       time[ps]:1.50000    Temp[K]:306.17166  Etot[Ha]:0.4986010032    Epot[Ha]:-0.0002520061   Pres[kb]:0.19572   \n",
      "3100       time[ps]:1.55000    Temp[K]:299.63417  Etot[Ha]:0.4879453235    Epot[Ha]:-0.0002559819   Pres[kb]:0.19152   \n",
      "3200       time[ps]:1.60000    Temp[K]:307.59919  Etot[Ha]:0.5009285277    Epot[Ha]:-0.0002503847   Pres[kb]:0.19661   \n",
      "3300       time[ps]:1.65000    Temp[K]:303.46098  Etot[Ha]:0.4941850499    Epot[Ha]:-0.0002513664   Pres[kb]:0.19397   \n",
      "3400       time[ps]:1.70000    Temp[K]:312.15656  Etot[Ha]:0.5083508801    Epot[Ha]:-0.0002534586   Pres[kb]:0.19953   \n",
      "3500       time[ps]:1.75000    Temp[K]:296.29816  Etot[Ha]:0.4825058832    Epot[Ha]:-0.0002599833   Pres[kb]:0.18938   \n",
      "3600       time[ps]:1.80000    Temp[K]:312.29261  Etot[Ha]:0.5085794339    Epot[Ha]:-0.0002465888   Pres[kb]:0.19962   \n",
      "3700       time[ps]:1.85000    Temp[K]:312.89912  Etot[Ha]:0.5095671155    Epot[Ha]:-0.0002471053   Pres[kb]:0.20002   \n",
      "3800       time[ps]:1.90000    Temp[K]:305.10782  Etot[Ha]:0.4968613220    Epot[Ha]:-0.0002583378   Pres[kb]:0.19503   \n",
      "3900       time[ps]:1.95000    Temp[K]:308.22131  Etot[Ha]:0.5019410302    Epot[Ha]:-0.0002515093   Pres[kb]:0.19699   \n",
      "4000       time[ps]:2.00000    Temp[K]:297.58401  Etot[Ha]:0.4846099059    Epot[Ha]:-0.0002510322   Pres[kb]:0.19020   \n",
      "4100       time[ps]:2.05000    Temp[K]:303.39444  Etot[Ha]:0.4940754588    Epot[Ha]:-0.0002525552   Pres[kb]:0.19391   \n",
      "4200       time[ps]:2.10000    Temp[K]:317.30676  Etot[Ha]:0.5167419040    Epot[Ha]:-0.0002537886   Pres[kb]:0.20278   \n",
      "4300       time[ps]:2.15000    Temp[K]:298.01802  Etot[Ha]:0.4853126154    Epot[Ha]:-0.0002554544   Pres[kb]:0.19053   \n",
      "4400       time[ps]:2.20000    Temp[K]:314.24137  Etot[Ha]:0.5117549989    Epot[Ha]:-0.0002461784   Pres[kb]:0.20086   \n",
      "4500       time[ps]:2.25000    Temp[K]:305.39082  Etot[Ha]:0.4973238596    Epot[Ha]:-0.0002569063   Pres[kb]:0.19518   \n",
      "4600       time[ps]:2.30000    Temp[K]:313.11744  Etot[Ha]:0.5099230228    Epot[Ha]:-0.0002469123   Pres[kb]:0.20013   \n",
      "4700       time[ps]:2.35000    Temp[K]:299.16147  Etot[Ha]:0.4871760060    Epot[Ha]:-0.0002551225   Pres[kb]:0.19124   \n",
      "4800       time[ps]:2.40000    Temp[K]:313.89945  Etot[Ha]:0.5111899865    Epot[Ha]:-0.0002540852   Pres[kb]:0.20064   \n",
      "4900       time[ps]:2.45000    Temp[K]:306.53906  Etot[Ha]:0.4991989974    Epot[Ha]:-0.0002526111   Pres[kb]:0.19597   \n",
      "5000       time[ps]:2.50000    Temp[K]:314.89316  Etot[Ha]:0.5128109033    Epot[Ha]:-0.0002522515   Pres[kb]:0.20130   \n",
      "5100       time[ps]:2.55000    Temp[K]:297.51720  Etot[Ha]:0.4845055151    Epot[Ha]:-0.0002465704   Pres[kb]:0.19015   \n",
      "5200       time[ps]:2.60000    Temp[K]:311.78146  Etot[Ha]:0.5077392551    Epot[Ha]:-0.0002539337   Pres[kb]:0.19926   \n",
      "5300       time[ps]:2.65000    Temp[K]:308.20249  Etot[Ha]:0.5019150153    Epot[Ha]:-0.0002468627   Pres[kb]:0.19698   \n",
      "5400       time[ps]:2.70000    Temp[K]:316.22294  Etot[Ha]:0.5149780409    Epot[Ha]:-0.0002517639   Pres[kb]:0.20214   \n",
      "5500       time[ps]:2.75000    Temp[K]:302.32424  Etot[Ha]:0.4923331000    Epot[Ha]:-0.0002511984   Pres[kb]:0.19326   \n",
      "5600       time[ps]:2.80000    Temp[K]:296.61012  Etot[Ha]:0.4830160077    Epot[Ha]:-0.0002581357   Pres[kb]:0.18959   \n",
      "5700       time[ps]:2.85000    Temp[K]:304.13437  Etot[Ha]:0.4952765853    Epot[Ha]:-0.0002570170   Pres[kb]:0.19439   \n",
      "5800       time[ps]:2.90000    Temp[K]:313.61387  Etot[Ha]:0.5107239422    Epot[Ha]:-0.0002548393   Pres[kb]:0.20043   \n",
      "5900       time[ps]:2.95000    Temp[K]:312.02772  Etot[Ha]:0.5081425615    Epot[Ha]:-0.0002518638   Pres[kb]:0.19944   \n",
      "6000       time[ps]:3.00000    Temp[K]:311.61037  Etot[Ha]:0.5074660115    Epot[Ha]:-0.0002484195   Pres[kb]:0.19919   \n",
      "6100       time[ps]:3.05000    Temp[K]:292.70387  Etot[Ha]:0.4766518417    Epot[Ha]:-0.0002577541   Pres[kb]:0.18708   \n",
      "6200       time[ps]:3.10000    Temp[K]:315.65902  Etot[Ha]:0.5140530571    Epot[Ha]:-0.0002579415   Pres[kb]:0.20175   \n",
      "6300       time[ps]:3.15000    Temp[K]:291.39139  Etot[Ha]:0.4745074439    Epot[Ha]:-0.0002637013   Pres[kb]:0.18623   \n",
      "6400       time[ps]:3.20000    Temp[K]:319.04005  Etot[Ha]:0.5195638366    Epot[Ha]:-0.0002559535   Pres[kb]:0.20392   \n",
      "6500       time[ps]:3.25000    Temp[K]:317.54650  Etot[Ha]:0.5171318832    Epot[Ha]:-0.0002544174   Pres[kb]:0.20299   \n",
      "6600       time[ps]:3.30000    Temp[K]:314.23746  Etot[Ha]:0.5117494526    Epot[Ha]:-0.0002453589   Pres[kb]:0.20087   \n",
      "6700       time[ps]:3.35000    Temp[K]:307.85748  Etot[Ha]:0.5013464782    Epot[Ha]:-0.0002532700   Pres[kb]:0.19680   \n",
      "6800       time[ps]:3.40000    Temp[K]:307.99327  Etot[Ha]:0.5015730994    Epot[Ha]:-0.0002479004   Pres[kb]:0.19687   \n",
      "6900       time[ps]:3.45000    Temp[K]:315.89275  Etot[Ha]:0.5144439297    Epot[Ha]:-0.0002478751   Pres[kb]:0.20192   \n",
      "7000       time[ps]:3.50000    Temp[K]:303.83372  Etot[Ha]:0.4947915894    Epot[Ha]:-0.0002521456   Pres[kb]:0.19419   \n",
      "7100       time[ps]:3.55000    Temp[K]:301.11762  Etot[Ha]:0.4903693861    Epot[Ha]:-0.0002489471   Pres[kb]:0.19245   \n",
      "7200       time[ps]:3.60000    Temp[K]:297.18806  Etot[Ha]:0.4839569468    Epot[Ha]:-0.0002588626   Pres[kb]:0.18992   \n",
      "7300       time[ps]:3.65000    Temp[K]:298.74959  Etot[Ha]:0.4865029903    Epot[Ha]:-0.0002570575   Pres[kb]:0.19091   \n",
      "7400       time[ps]:3.70000    Temp[K]:317.72197  Etot[Ha]:0.5174211329    Epot[Ha]:-0.0002510791   Pres[kb]:0.20306   \n",
      "7500       time[ps]:3.75000    Temp[K]:308.20631  Etot[Ha]:0.5019116554    Epot[Ha]:-0.0002564561   Pres[kb]:0.19703   \n",
      "7600       time[ps]:3.80000    Temp[K]:305.94672  Etot[Ha]:0.4982334876    Epot[Ha]:-0.0002530134   Pres[kb]:0.19558   \n",
      "7700       time[ps]:3.85000    Temp[K]:297.70953  Etot[Ha]:0.4848039318    Epot[Ha]:-0.0002615211   Pres[kb]:0.19028   \n",
      "7800       time[ps]:3.90000    Temp[K]:312.69214  Etot[Ha]:0.5092138832    Epot[Ha]:-0.0002631023   Pres[kb]:0.19986   \n",
      "7900       time[ps]:3.95000    Temp[K]:308.70125  Etot[Ha]:0.5027239839    Epot[Ha]:-0.0002505424   Pres[kb]:0.19735   \n",
      "8000       time[ps]:4.00000    Temp[K]:308.75876  Etot[Ha]:0.5028115355    Epot[Ha]:-0.0002566926   Pres[kb]:0.19733   \n",
      "8100       time[ps]:4.05000    Temp[K]:301.79382  Etot[Ha]:0.4914596178    Epot[Ha]:-0.0002604602   Pres[kb]:0.19287   \n",
      "8200       time[ps]:4.10000    Temp[K]:318.38739  Etot[Ha]:0.5185080135    Epot[Ha]:-0.0002483728   Pres[kb]:0.20347   \n",
      "8300       time[ps]:4.15000    Temp[K]:308.65710  Etot[Ha]:0.5026540893    Epot[Ha]:-0.0002484930   Pres[kb]:0.19731   \n",
      "8400       time[ps]:4.20000    Temp[K]:292.03063  Etot[Ha]:0.4755516655    Epot[Ha]:-0.0002610138   Pres[kb]:0.18667   \n",
      "8500       time[ps]:4.25000    Temp[K]:310.69398  Etot[Ha]:0.5059623440    Epot[Ha]:-0.0002589796   Pres[kb]:0.19860   \n",
      "8600       time[ps]:4.30000    Temp[K]:305.00079  Etot[Ha]:0.4966882325    Epot[Ha]:-0.0002570373   Pres[kb]:0.19492   \n",
      "8700       time[ps]:4.35000    Temp[K]:321.22992  Etot[Ha]:0.5231373556    Epot[Ha]:-0.0002504463   Pres[kb]:0.20533   \n",
      "8800       time[ps]:4.40000    Temp[K]:303.57846  Etot[Ha]:0.4943633146    Epot[Ha]:-0.0002645200   Pres[kb]:0.19404   \n",
      "8900       time[ps]:4.45000    Temp[K]:306.92716  Etot[Ha]:0.4998269418    Epot[Ha]:-0.0002570164   Pres[kb]:0.19617   \n",
      "9000       time[ps]:4.50000    Temp[K]:309.00280  Etot[Ha]:0.5032090666    Epot[Ha]:-0.0002567812   Pres[kb]:0.19752   \n",
      "9100       time[ps]:4.55000    Temp[K]:302.73677  Etot[Ha]:0.4929977486    Epot[Ha]:-0.0002587025   Pres[kb]:0.19351   \n",
      "9200       time[ps]:4.60000    Temp[K]:308.49841  Etot[Ha]:0.5023907011    Epot[Ha]:-0.0002533285   Pres[kb]:0.19719   \n",
      "9300       time[ps]:4.65000    Temp[K]:309.88373  Etot[Ha]:0.5046456570    Epot[Ha]:-0.0002555158   Pres[kb]:0.19807   \n",
      "9400       time[ps]:4.70000    Temp[K]:303.62227  Etot[Ha]:0.4944419278    Epot[Ha]:-0.0002572923   Pres[kb]:0.19408   \n",
      "9500       time[ps]:4.75000    Temp[K]:307.33817  Etot[Ha]:0.5004983809    Epot[Ha]:-0.0002552415   Pres[kb]:0.19644   \n",
      "9600       time[ps]:4.80000    Temp[K]:317.26386  Etot[Ha]:0.5166770935    Epot[Ha]:-0.0002486968   Pres[kb]:0.20276   \n",
      "9700       time[ps]:4.85000    Temp[K]:309.22483  Etot[Ha]:0.5035754610    Epot[Ha]:-0.0002521475   Pres[kb]:0.19767   \n",
      "9800       time[ps]:4.90000    Temp[K]:314.10872  Etot[Ha]:0.5115336396    Epot[Ha]:-0.0002514054   Pres[kb]:0.20080   \n",
      "9900       time[ps]:4.95000    Temp[K]:297.22892  Etot[Ha]:0.4840312093    Epot[Ha]:-0.0002511743   Pres[kb]:0.18998   \n",
      "10000      time[ps]:5.00000    Temp[K]:318.50129  Etot[Ha]:0.5186936806    Epot[Ha]:-0.0002482889   Pres[kb]:0.20358   \n"
     ]
    }
   ],
   "source": [
    "run_simulation(md, num_steps=10000, output_freq=100, filename=\"md.xyz\")"
   ]
  },
  {
   "cell_type": "code",
   "execution_count": 12,
   "id": "a17fbb8a-7948-47e7-a1a8-6af3143f8c4d",
   "metadata": {},
   "outputs": [
    {
     "data": {
      "text/plain": [
       "Array(0.20357661, dtype=float64)"
      ]
     },
     "execution_count": 12,
     "metadata": {},
     "output_type": "execute_result"
    }
   ],
   "source": [
    "md.get_pressure() * units.TO_KILO_BAR"
   ]
  },
  {
   "cell_type": "code",
   "execution_count": 13,
   "id": "18e9cd4c-1550-43e0-b33f-f7cb6ba9a439",
   "metadata": {},
   "outputs": [
    {
     "data": {
      "text/plain": [
       "Array([[ 4.64015904,  3.90580761,  8.96299329],\n",
       "       [40.43744741, 41.79151308, 13.22102852],\n",
       "       [ 0.94542291,  8.79409743, 12.07380893],\n",
       "       ...,\n",
       "       [33.22353222, 38.70496147, 23.33706654],\n",
       "       [ 0.73022476, 36.42934922, 31.8933132 ],\n",
       "       [33.66265392, 30.98371204, 32.19107278]], dtype=float64)"
      ]
     },
     "execution_count": 13,
     "metadata": {},
     "output_type": "execute_result"
    }
   ],
   "source": [
    "md.positions * units.TO_ANGSTROM"
   ]
  },
  {
   "cell_type": "code",
   "execution_count": 14,
   "id": "4af60399-b34f-4a3d-a8ed-93b9cff7f794",
   "metadata": {},
   "outputs": [],
   "source": [
    "atoms = md.get_structure().to_ase()\n",
    "# view(atoms, viewer='x3d') # ase, ngl"
   ]
  },
  {
   "cell_type": "markdown",
   "id": "49890020-8352-4e4c-94c2-5826c2d8a909",
   "metadata": {},
   "source": [
    "## Monte Carlo (MC)"
   ]
  },
  {
   "cell_type": "code",
   "execution_count": 15,
   "id": "284e67e6-b140-4507-9b9f-1c6bd688fafa",
   "metadata": {},
   "outputs": [],
   "source": [
    "mc = MCSimulator(\n",
    "    potential=ljpot,\n",
    "    initial_structure=s0,\n",
    "    temperature=300, # K\n",
    "    translate_step=0.3 * units.FROM_ANGSTROM,\n",
    "    movements_per_step=10,\n",
    ")"
   ]
  },
  {
   "cell_type": "code",
   "execution_count": 16,
   "id": "0e45329a",
   "metadata": {},
   "outputs": [
    {
     "name": "stdout",
     "output_type": "stream",
     "text": [
      "0          Temp[K]:300.0000000000  Epot[Ha]:-0.0003923654   \n"
     ]
    },
    {
     "name": "stderr",
     "output_type": "stream",
     "text": [
      "/home/hossein/miniconda3/envs/jaxip/lib/python3.10/site-packages/jax/_src/ops/scatter.py:89: FutureWarning: scatter inputs have incompatible types: cannot safely cast value from dtype=float64 to dtype=float32. In future JAX releases this will result in an error.\n",
      "  warnings.warn(\"scatter inputs have incompatible types: cannot safely cast \"\n"
     ]
    },
    {
     "name": "stdout",
     "output_type": "stream",
     "text": [
      "1          Temp[K]:300.0000000000  Epot[Ha]:-0.0003924740   \n"
     ]
    }
   ],
   "source": [
    "# Warmp up\n",
    "run_simulation(mc)\n",
    "\n",
    "# %timeit run_simulation(mc, num_steps=1, output_freq=-1)"
   ]
  },
  {
   "cell_type": "code",
   "execution_count": 17,
   "id": "d4601501",
   "metadata": {},
   "outputs": [
    {
     "name": "stdout",
     "output_type": "stream",
     "text": [
      "1          Temp[K]:300.0000000000  Epot[Ha]:-0.0003924740   \n",
      "101        Temp[K]:300.0000000000  Epot[Ha]:-0.0003682883   \n",
      "201        Temp[K]:300.0000000000  Epot[Ha]:-0.0003823111   \n",
      "301        Temp[K]:300.0000000000  Epot[Ha]:-0.0004225352   \n",
      "401        Temp[K]:300.0000000000  Epot[Ha]:-0.0004656863   \n",
      "501        Temp[K]:300.0000000000  Epot[Ha]:-0.0005311535   \n",
      "601        Temp[K]:300.0000000000  Epot[Ha]:-0.0005888058   \n",
      "701        Temp[K]:300.0000000000  Epot[Ha]:-0.0006248421   \n",
      "801        Temp[K]:300.0000000000  Epot[Ha]:-0.0006788228   \n",
      "901        Temp[K]:300.0000000000  Epot[Ha]:-0.0007861324   \n",
      "1001       Temp[K]:300.0000000000  Epot[Ha]:-0.0008446493   \n",
      "1101       Temp[K]:300.0000000000  Epot[Ha]:-0.0005072964   \n",
      "1201       Temp[K]:300.0000000000  Epot[Ha]:-0.0006377003   \n",
      "1301       Temp[K]:300.0000000000  Epot[Ha]:-0.0008396047   \n",
      "1401       Temp[K]:300.0000000000  Epot[Ha]:0.0001787138    \n",
      "1501       Temp[K]:300.0000000000  Epot[Ha]:0.0002712560    \n",
      "1601       Temp[K]:300.0000000000  Epot[Ha]:-0.0004562077   \n",
      "1701       Temp[K]:300.0000000000  Epot[Ha]:0.0003092277    \n",
      "1801       Temp[K]:300.0000000000  Epot[Ha]:0.0012694338    \n",
      "1901       Temp[K]:300.0000000000  Epot[Ha]:0.0024652712    \n",
      "2001       Temp[K]:300.0000000000  Epot[Ha]:0.0002755648    \n",
      "2101       Temp[K]:300.0000000000  Epot[Ha]:0.0011196893    \n",
      "2201       Temp[K]:300.0000000000  Epot[Ha]:0.0027346334    \n",
      "2301       Temp[K]:300.0000000000  Epot[Ha]:0.0022550516    \n",
      "2401       Temp[K]:300.0000000000  Epot[Ha]:0.0032282213    \n",
      "2501       Temp[K]:300.0000000000  Epot[Ha]:0.0023811758    \n",
      "2601       Temp[K]:300.0000000000  Epot[Ha]:0.0001106420    \n",
      "2701       Temp[K]:300.0000000000  Epot[Ha]:0.0005231617    \n",
      "2801       Temp[K]:300.0000000000  Epot[Ha]:0.0007102621    \n",
      "2901       Temp[K]:300.0000000000  Epot[Ha]:-0.0004264929   \n",
      "3001       Temp[K]:300.0000000000  Epot[Ha]:-0.0011411223   \n",
      "3101       Temp[K]:300.0000000000  Epot[Ha]:-0.0011510574   \n",
      "3201       Temp[K]:300.0000000000  Epot[Ha]:-0.0008131660   \n",
      "3301       Temp[K]:300.0000000000  Epot[Ha]:-0.0010412222   \n",
      "3401       Temp[K]:300.0000000000  Epot[Ha]:-0.0011395552   \n",
      "3501       Temp[K]:300.0000000000  Epot[Ha]:-0.0007724441   \n",
      "3601       Temp[K]:300.0000000000  Epot[Ha]:-0.0005556017   \n",
      "3701       Temp[K]:300.0000000000  Epot[Ha]:-0.0003074494   \n",
      "3801       Temp[K]:300.0000000000  Epot[Ha]:0.0011986027    \n",
      "3901       Temp[K]:300.0000000000  Epot[Ha]:0.0020108719    \n",
      "4001       Temp[K]:300.0000000000  Epot[Ha]:0.0038037666    \n",
      "4101       Temp[K]:300.0000000000  Epot[Ha]:0.0013474647    \n",
      "4201       Temp[K]:300.0000000000  Epot[Ha]:0.0009125838    \n",
      "4301       Temp[K]:300.0000000000  Epot[Ha]:0.0018810957    \n",
      "4401       Temp[K]:300.0000000000  Epot[Ha]:0.0009658468    \n",
      "4501       Temp[K]:300.0000000000  Epot[Ha]:0.0037351865    \n",
      "4601       Temp[K]:300.0000000000  Epot[Ha]:0.0038126009    \n",
      "4701       Temp[K]:300.0000000000  Epot[Ha]:0.0034592913    \n",
      "4801       Temp[K]:300.0000000000  Epot[Ha]:0.0023197003    \n",
      "4901       Temp[K]:300.0000000000  Epot[Ha]:0.0007500302    \n",
      "5001       Temp[K]:300.0000000000  Epot[Ha]:0.0022111535    \n",
      "5101       Temp[K]:300.0000000000  Epot[Ha]:0.0030387617    \n",
      "5201       Temp[K]:300.0000000000  Epot[Ha]:0.0023156081    \n",
      "5301       Temp[K]:300.0000000000  Epot[Ha]:0.0005134387    \n",
      "5401       Temp[K]:300.0000000000  Epot[Ha]:0.0030480749    \n",
      "5501       Temp[K]:300.0000000000  Epot[Ha]:0.0011029246    \n",
      "5601       Temp[K]:300.0000000000  Epot[Ha]:0.0009250243    \n",
      "5701       Temp[K]:300.0000000000  Epot[Ha]:0.0020772507    \n",
      "5801       Temp[K]:300.0000000000  Epot[Ha]:-0.0005802528   \n",
      "5901       Temp[K]:300.0000000000  Epot[Ha]:0.0011930361    \n",
      "6001       Temp[K]:300.0000000000  Epot[Ha]:0.0038795574    \n",
      "6101       Temp[K]:300.0000000000  Epot[Ha]:0.0033216076    \n",
      "6201       Temp[K]:300.0000000000  Epot[Ha]:0.0001596141    \n",
      "6301       Temp[K]:300.0000000000  Epot[Ha]:0.0013347737    \n",
      "6401       Temp[K]:300.0000000000  Epot[Ha]:0.0001728391    \n",
      "6501       Temp[K]:300.0000000000  Epot[Ha]:0.0003588590    \n",
      "6601       Temp[K]:300.0000000000  Epot[Ha]:0.0012150902    \n",
      "6701       Temp[K]:300.0000000000  Epot[Ha]:-0.0001631497   \n",
      "6801       Temp[K]:300.0000000000  Epot[Ha]:0.0023545860    \n",
      "6901       Temp[K]:300.0000000000  Epot[Ha]:0.0022358785    \n",
      "7001       Temp[K]:300.0000000000  Epot[Ha]:0.0044817231    \n",
      "7101       Temp[K]:300.0000000000  Epot[Ha]:0.0077509652    \n",
      "7201       Temp[K]:300.0000000000  Epot[Ha]:0.0035272043    \n",
      "7301       Temp[K]:300.0000000000  Epot[Ha]:0.0028317440    \n",
      "7401       Temp[K]:300.0000000000  Epot[Ha]:0.0035883607    \n",
      "7501       Temp[K]:300.0000000000  Epot[Ha]:0.0003911325    \n",
      "7601       Temp[K]:300.0000000000  Epot[Ha]:0.0020113369    \n",
      "7701       Temp[K]:300.0000000000  Epot[Ha]:0.0028214694    \n",
      "7801       Temp[K]:300.0000000000  Epot[Ha]:0.0017414307    \n",
      "7901       Temp[K]:300.0000000000  Epot[Ha]:0.0040971427    \n",
      "8001       Temp[K]:300.0000000000  Epot[Ha]:0.0040789638    \n",
      "8101       Temp[K]:300.0000000000  Epot[Ha]:0.0024353918    \n",
      "8201       Temp[K]:300.0000000000  Epot[Ha]:0.0008630627    \n",
      "8301       Temp[K]:300.0000000000  Epot[Ha]:0.0016160073    \n",
      "8401       Temp[K]:300.0000000000  Epot[Ha]:0.0089297360    \n",
      "8501       Temp[K]:300.0000000000  Epot[Ha]:0.0091345944    \n",
      "8601       Temp[K]:300.0000000000  Epot[Ha]:0.0050333203    \n",
      "8701       Temp[K]:300.0000000000  Epot[Ha]:0.0008882485    \n",
      "8801       Temp[K]:300.0000000000  Epot[Ha]:0.0029181920    \n",
      "8901       Temp[K]:300.0000000000  Epot[Ha]:0.0046443585    \n",
      "9001       Temp[K]:300.0000000000  Epot[Ha]:0.0050116610    \n",
      "9101       Temp[K]:300.0000000000  Epot[Ha]:0.0034727459    \n",
      "9201       Temp[K]:300.0000000000  Epot[Ha]:0.0029649569    \n",
      "9301       Temp[K]:300.0000000000  Epot[Ha]:0.0029264598    \n",
      "9401       Temp[K]:300.0000000000  Epot[Ha]:-0.0000659022   \n",
      "9501       Temp[K]:300.0000000000  Epot[Ha]:0.0017309668    \n",
      "9601       Temp[K]:300.0000000000  Epot[Ha]:-0.0001777339   \n",
      "9701       Temp[K]:300.0000000000  Epot[Ha]:0.0011502581    \n",
      "9801       Temp[K]:300.0000000000  Epot[Ha]:0.0044252505    \n",
      "9901       Temp[K]:300.0000000000  Epot[Ha]:-0.0004855879   \n",
      "10001      Temp[K]:300.0000000000  Epot[Ha]:0.0008133808    \n"
     ]
    }
   ],
   "source": [
    "run_simulation(mc, num_steps=10000, output_freq=100, filename=Path(\"mc.xyz\"))"
   ]
  },
  {
   "cell_type": "code",
   "execution_count": null,
   "id": "b5bcbada-78dd-40b1-961b-022f9ed4b16d",
   "metadata": {},
   "outputs": [],
   "source": [
    "mc.positions * units.TO_ANGSTROM"
   ]
  },
  {
   "cell_type": "code",
   "execution_count": 20,
   "id": "a34fc975-3a8c-4ffc-a407-767f92d344b7",
   "metadata": {},
   "outputs": [],
   "source": [
    "atoms = mc.get_structure().to_ase()\n",
    "# view(atoms, viewer='x3d') # ase, ngl"
   ]
  }
 ],
 "metadata": {
  "kernelspec": {
   "display_name": "Python (jaxip)",
   "language": "python",
   "name": "jaxip"
  },
  "language_info": {
   "codemirror_mode": {
    "name": "ipython",
    "version": 3
   },
   "file_extension": ".py",
   "mimetype": "text/x-python",
   "name": "python",
   "nbconvert_exporter": "python",
   "pygments_lexer": "ipython3",
   "version": "3.10.10"
  }
 },
 "nbformat": 4,
 "nbformat_minor": 5
}
