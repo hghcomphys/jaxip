{
 "cells": [
  {
   "cell_type": "markdown",
   "id": "5ad3a7ab-df3a-44f7-b541-541363c8a1a1",
   "metadata": {},
   "source": [
    "# Molecular Simulation \n",
    "Carrying out molecular dynamics (MD) and Monte-Carlo (MC) simulations using a trained potential. "
   ]
  },
  {
   "cell_type": "code",
   "execution_count": null,
   "id": "25f1a75a-0a8b-4f71-9067-b8249306ce80",
   "metadata": {},
   "outputs": [],
   "source": [
    "from utils import set_env\n",
    "set_env('.env')"
   ]
  },
  {
   "cell_type": "code",
   "execution_count": null,
   "id": "df40f52a-2a1a-43c7-b8da-fbf34988cd0d",
   "metadata": {},
   "outputs": [],
   "source": [
    "import os\n",
    "os.environ[\"JAX_ENABLE_X64\"] = \"1\"\n",
    "# os.environ[\"JAX_PLATFORM_NAME\"] = \"cpu\" \n",
    "os.environ[\"XLA_PYTHON_CLIENT_PREALLOCATE\"] = \"false\" "
   ]
  },
  {
   "cell_type": "code",
   "execution_count": null,
   "id": "f8f3d06e-e620-44d7-8393-e27d673c1794",
   "metadata": {},
   "outputs": [],
   "source": [
    "from jaxip.datasets import RunnerDataset\n",
    "from jaxip.potentials import NeuralNetworkPotential\n",
    "from jaxip.simulation import (\n",
    "    MDSimulator, \n",
    "    BrendsenThermostat, \n",
    "    MCSimulator,\n",
    "    run_simulation\n",
    ")\n",
    "from jaxip.atoms import Structure\n",
    "from jaxip.units import units as units\n",
    "\n",
    "import matplotlib.pylab as plt\n",
    "from pathlib import Path\n",
    "from ase import Atoms\n",
    "from ase.visualize import view\n",
    "import ase.io\n",
    "import jax.numpy as jnp"
   ]
  },
  {
   "cell_type": "code",
   "execution_count": null,
   "id": "0d63b8bc-57c1-4ceb-b976-8fd8bc426d3b",
   "metadata": {},
   "outputs": [],
   "source": [
    "base_dir = Path('LJ')"
   ]
  },
  {
   "cell_type": "markdown",
   "id": "682fef02-c977-406b-b28f-71a0cfc6e3d0",
   "metadata": {},
   "source": [
    "## Data"
   ]
  },
  {
   "cell_type": "code",
   "execution_count": null,
   "id": "681fe201-666e-471a-8cc2-ca4787cfff45",
   "metadata": {},
   "outputs": [],
   "source": [
    "d = 6  # Angstrom\n",
    "uc = Atoms('He', positions=[(d/2, d/2, d/2)], cell=(d, d, d))\n",
    "s0 = Structure.create_from_ase(uc.repeat((7, 7, 7)))\n",
    "\n",
    "# d = 10  # Angstrom\n",
    "# uc = Atoms('Ar', positions=[(d/2, d/2, d/2)], cell=(d, d, d))\n",
    "# s0 = Structure.create_from_ase(uc.repeat((7, 7, 7)))\n",
    "\n",
    "atoms = s0.to_ase_atoms()\n",
    "# view(atoms, viewer='x3d') # ase, ngl"
   ]
  },
  {
   "cell_type": "markdown",
   "id": "914a1a48-d5d8-4298-b7b1-7a610208092c",
   "metadata": {},
   "source": [
    "## Potential"
   ]
  },
  {
   "cell_type": "code",
   "execution_count": null,
   "id": "6a0b3c56-1ac8-4ec9-8754-987acfa185b4",
   "metadata": {},
   "outputs": [],
   "source": [
    "from jaxip.types import Array\n",
    "import jax\n",
    "from functools import partial\n",
    "\n",
    "@partial(jax.jit, static_argnums=0)\n",
    "def _compute_pair_energy(obj, r: Array) -> Array:\n",
    "    term = obj.sigma / r\n",
    "    term6 = term**6\n",
    "    return 4.0 * obj.epsilon * term6 * (term6 - 1.0)\n",
    "\n",
    "\n",
    "@partial(jax.jit, static_argnums=0)\n",
    "def _compute_pair_force(obj, r: Array, R: Array) -> Array:\n",
    "    term = obj.sigma / r\n",
    "    term6 = term**6\n",
    "    force_factor = -24.0 * obj.epsilon / (r * r) * term6 * (2.0 * term6 - 1.0)\n",
    "    return jnp.expand_dims(force_factor, axis=-1) * R\n",
    "\n",
    "\n",
    "class LJPotential:\n",
    "    def __init__(\n",
    "        self,\n",
    "        sigma: float,\n",
    "        epsilon: float,\n",
    "        r_cutoff: float,\n",
    "    ) -> None:\n",
    "        self.sigma = sigma\n",
    "        self.epsilon = epsilon\n",
    "        self.r_cutoff = r_cutoff\n",
    "\n",
    "    def __call__(self, structure: Structure) -> Array:\n",
    "        r, _ = structure.calculate_distance(atom_index=jnp.arange(structure.natoms))\n",
    "        mask = (0 < r) & (r < self.r_cutoff)\n",
    "        pair_energies = _compute_pair_energy(self, r)\n",
    "        return 0.5 * jnp.where(mask, pair_energies, 0.0).sum()\n",
    "\n",
    "    def compute_force(self, structure: Structure) -> Array:\n",
    "        r, R = structure.calculate_distance(atom_index=jnp.arange(structure.natoms))\n",
    "        mask = (0 < r) & (r < self.r_cutoff)\n",
    "        pair_forces = jnp.where(\n",
    "            jnp.expand_dims(mask, axis=-1),\n",
    "            _compute_pair_force(self, r, R),\n",
    "            jnp.zeros_like(R),\n",
    "        )\n",
    "        return jnp.sum(pair_forces, axis=1)\n",
    "\n",
    "\n",
    "# He\n",
    "ljpot = LJPotential(\n",
    "    sigma=2.5238 * units.FROM_ANGSTROM,  # Bohr\n",
    "    epsilon=4.7093e-04 * units.FROM_ELECTRON_VOLT,  # Hartree\n",
    "    r_cutoff=6.3095 * units.FROM_ANGSTROM,  # 2.5 * sigma\n",
    ")\n",
    "\n",
    "# Ar\n",
    "# ljpot = LJPotential(\n",
    "#     sigma=3.405 * units.FROM_ANGSTROM,                       # Bohr\n",
    "#     epsilon=0.01032439284 * units.FROM_ELECTRON_VOLT,        # Hartree\n",
    "#     r_cutoff=8.5125 * units.FROM_ANGSTROM,                   # 2.5 * sigma\n",
    "# )"
   ]
  },
  {
   "cell_type": "markdown",
   "id": "61b6b784-71a8-4508-b7cf-6ff905392d24",
   "metadata": {},
   "source": [
    "## Molecular Dynamics (MD)"
   ]
  },
  {
   "cell_type": "code",
   "execution_count": null,
   "id": "57aac81b-5f3d-4978-8b3b-09bad50ae2da",
   "metadata": {},
   "outputs": [],
   "source": [
    "# v0 = MDSimulator.generate_random_velocity(temperature=300.0, mass=s0.mass, seed=2023)\n",
    "# brendsen = BrendsenThermostat(target_temperature=300.0, time_constant=50.0 * units.FROM_FEMTO_SECOND)\n",
    "\n",
    "md = MDSimulator(\n",
    "    potential=ljpot,\n",
    "    initial_structure=s0,\n",
    "    time_step=0.5 * units.FROM_FEMTO_SECOND,\n",
    "    temperature=300, # K\n",
    "    # initial_velocity=v0,\n",
    "    # thermostat=brendsen\n",
    ")"
   ]
  },
  {
   "cell_type": "code",
   "execution_count": null,
   "id": "55e2d2de-9020-4654-b785-ce5c035c83dc",
   "metadata": {},
   "outputs": [],
   "source": [
    "# Warmp up\n",
    "# run_simulation(md)\n",
    "\n",
    "# %timeit md.run_simulation(num_steps=1, output_freq=-1)"
   ]
  },
  {
   "cell_type": "code",
   "execution_count": null,
   "id": "f26f832a-5d9e-4364-aec5-da200a418328",
   "metadata": {},
   "outputs": [],
   "source": [
    "run_simulation(md, num_steps=10000, output_freq=100, filename=\"md.xyz\")"
   ]
  },
  {
   "cell_type": "code",
   "execution_count": null,
   "id": "a17fbb8a-7948-47e7-a1a8-6af3143f8c4d",
   "metadata": {},
   "outputs": [],
   "source": [
    "md.get_pressure() * units.TO_KILO_BAR"
   ]
  },
  {
   "cell_type": "code",
   "execution_count": null,
   "id": "18e9cd4c-1550-43e0-b33f-f7cb6ba9a439",
   "metadata": {},
   "outputs": [],
   "source": [
    "md.position * units.TO_ANGSTROM"
   ]
  },
  {
   "cell_type": "code",
   "execution_count": null,
   "id": "4af60399-b34f-4a3d-a8ed-93b9cff7f794",
   "metadata": {},
   "outputs": [],
   "source": [
    "atoms = md.get_structure().to_ase_atoms()\n",
    "# view(atoms, viewer='x3d') # ase, ngl"
   ]
  },
  {
   "cell_type": "markdown",
   "id": "49890020-8352-4e4c-94c2-5826c2d8a909",
   "metadata": {},
   "source": [
    "## Monte Carlo (MC)"
   ]
  },
  {
   "cell_type": "code",
   "execution_count": null,
   "id": "284e67e6-b140-4507-9b9f-1c6bd688fafa",
   "metadata": {},
   "outputs": [],
   "source": [
    "mc = MCSimulator(\n",
    "    potential=ljpot,\n",
    "    initial_structure=s0,\n",
    "    temperature=300, # K\n",
    "    translate_step=0.3 * units.FROM_ANGSTROM,\n",
    "    movements_per_step=10,\n",
    ")"
   ]
  },
  {
   "cell_type": "code",
   "execution_count": null,
   "id": "0e45329a",
   "metadata": {},
   "outputs": [],
   "source": [
    "# Warmp up\n",
    "# run_simulation(mc)\n",
    "\n",
    "# %timeit run_simulation(mc, num_steps=1, output_freq=-1)"
   ]
  },
  {
   "cell_type": "code",
   "execution_count": null,
   "id": "d4601501",
   "metadata": {},
   "outputs": [],
   "source": [
    "run_simulation(mc, num_steps=10000, output_freq=100, filename=Path(\"mc.xyz\"))"
   ]
  },
  {
   "cell_type": "code",
   "execution_count": null,
   "id": "b5bcbada-78dd-40b1-961b-022f9ed4b16d",
   "metadata": {},
   "outputs": [],
   "source": [
    "mc.position * units.TO_ANGSTROM"
   ]
  },
  {
   "cell_type": "code",
   "execution_count": null,
   "id": "a34fc975-3a8c-4ffc-a407-767f92d344b7",
   "metadata": {},
   "outputs": [],
   "source": [
    "atoms = mc.get_structure().to_ase_atoms()\n",
    "# view(atoms, viewer='x3d') # ase, ngl"
   ]
  }
 ],
 "metadata": {
  "kernelspec": {
   "display_name": "Python (jaxip)",
   "language": "python",
   "name": "jaxip"
  },
  "language_info": {
   "codemirror_mode": {
    "name": "ipython",
    "version": 3
   },
   "file_extension": ".py",
   "mimetype": "text/x-python",
   "name": "python",
   "nbconvert_exporter": "python",
   "pygments_lexer": "ipython3",
   "version": "3.10.10"
  }
 },
 "nbformat": 4,
 "nbformat_minor": 5
}
