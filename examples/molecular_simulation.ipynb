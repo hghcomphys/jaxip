{
 "cells": [
  {
   "cell_type": "markdown",
   "id": "5ad3a7ab-df3a-44f7-b541-541363c8a1a1",
   "metadata": {},
   "source": [
    "# Molecular Simulation \n",
    "Carrying out molecular dynamics (MD) and Monte-Carlo (MC) simulations using a (trained) potential. "
   ]
  },
  {
   "cell_type": "code",
   "execution_count": 2,
   "id": "f8f3d06e-e620-44d7-8393-e27d673c1794",
   "metadata": {},
   "outputs": [],
   "source": [
    "from pantea.simulation import (\n",
    "    System,\n",
    "    MDSimulator,\n",
    "    BrendsenThermostat, \n",
    "    MCSimulator,\n",
    "    simulate\n",
    ")\n",
    "from pantea.atoms import Structure\n",
    "from pantea.units import units as units\n",
    "\n",
    "import matplotlib.pylab as plt\n",
    "from pathlib import Path\n",
    "from ase import Atoms\n",
    "from ase.visualize import view\n",
    "import ase.io\n",
    "import jax.numpy as jnp"
   ]
  },
  {
   "cell_type": "code",
   "execution_count": 3,
   "id": "0d63b8bc-57c1-4ceb-b976-8fd8bc426d3b",
   "metadata": {},
   "outputs": [],
   "source": [
    "# from pantea.logger import set_logging_level\n",
    "# import logging\n",
    "# set_logging_level(logging.DEBUG)\n",
    "\n",
    "from pantea.types import default_dtype\n",
    "default_dtype.FLOATX=jnp.float64\n",
    "\n",
    "base_dir = Path('./LJ')"
   ]
  },
  {
   "cell_type": "markdown",
   "id": "682fef02-c977-406b-b28f-71a0cfc6e3d0",
   "metadata": {},
   "source": [
    "## Data"
   ]
  },
  {
   "cell_type": "code",
   "execution_count": 5,
   "id": "681fe201-666e-471a-8cc2-ca4787cfff45",
   "metadata": {},
   "outputs": [],
   "source": [
    "d = 6  # Angstrom\n",
    "uc = Atoms('He', positions=[(d/2, d/2, d/2)], cell=(d, d, d))\n",
    "s0 = Structure.from_ase(uc.repeat((10, 10, 10)))\n",
    "\n",
    "# d = 10  # Angstrom\n",
    "# uc = Atoms('Ar', positions=[(d/2, d/2, d/2)], cell=(d, d, d))\n",
    "# s0 = Structure.create_from_ase(uc.repeat((7, 7, 7)))\n",
    "\n",
    "atoms = s0.to_ase()\n",
    "# view(atoms, viewer='ngl') # ase, ngl"
   ]
  },
  {
   "cell_type": "markdown",
   "id": "914a1a48-d5d8-4298-b7b1-7a610208092c",
   "metadata": {},
   "source": [
    "## Potential"
   ]
  },
  {
   "cell_type": "code",
   "execution_count": 6,
   "id": "6a0b3c56-1ac8-4ec9-8754-987acfa185b4",
   "metadata": {},
   "outputs": [],
   "source": [
    "from pantea.types import Array\n",
    "import jax\n",
    "from functools import partial\n",
    "from pantea.simulation import LJPotential\n",
    "\n",
    "# He\n",
    "ljpot = LJPotential(\n",
    "    sigma=2.5238 * units.FROM_ANGSTROM,  # Bohr\n",
    "    epsilon=4.7093e-04 * units.FROM_ELECTRON_VOLT,  # Hartree\n",
    "    r_cutoff=6.3095 * units.FROM_ANGSTROM,  # 2.5 * sigma\n",
    "    # gradient_method=\"autodiff\",\n",
    ")\n",
    "\n",
    "# Ar\n",
    "# ljpot = LJPotential(\n",
    "#     sigma=3.405 * units.FROM_ANGSTROM,                       # Bohr\n",
    "#     epsilon=0.01032439284 * units.FROM_ELECTRON_VOLT,        # Hartree\n",
    "#     r_cutoff=8.5125 * units.FROM_ANGSTROM,                   # 2.5 * sigma\n",
    "# )\n",
    "\n",
    "# ljpot(s0), ljpot.compute_forces(s0)"
   ]
  },
  {
   "cell_type": "markdown",
   "id": "61b6b784-71a8-4508-b7cf-6ff905392d24",
   "metadata": {},
   "source": [
    "## Molecular Dynamics (MD)"
   ]
  },
  {
   "cell_type": "code",
   "execution_count": 7,
   "id": "57aac81b-5f3d-4978-8b3b-09bad50ae2da",
   "metadata": {},
   "outputs": [],
   "source": [
    "time_step = 0.5 * units.FROM_FEMTO_SECOND\n",
    "thermostat = BrendsenThermostat(target_temperature=300.0, time_constant=100 * time_step)\n",
    "md = MDSimulator(time_step, thermostat)\n",
    "sys = System.from_structure(s0, potential=ljpot, temperature=300.0)"
   ]
  },
  {
   "cell_type": "code",
   "execution_count": 8,
   "id": "6d044a36-944f-471f-b3cb-1047e61f761e",
   "metadata": {},
   "outputs": [
    {
     "data": {
      "text/plain": [
       "Array(6.5147217e-07, dtype=float64)"
      ]
     },
     "execution_count": 8,
     "metadata": {},
     "output_type": "execute_result"
    }
   ],
   "source": [
    "sys.get_pressure()"
   ]
  },
  {
   "cell_type": "code",
   "execution_count": 9,
   "id": "f1a2fa85-9bb4-4493-9330-b7ecb077de59",
   "metadata": {},
   "outputs": [
    {
     "data": {
      "text/plain": [
       "(Array(1.42327386, dtype=float64), Array(-0.00114392, dtype=float64))"
      ]
     },
     "execution_count": 9,
     "metadata": {},
     "output_type": "execute_result"
    }
   ],
   "source": [
    "sys.get_total_energy(), sys.get_potential_energy()"
   ]
  },
  {
   "cell_type": "code",
   "execution_count": 10,
   "id": "f26f832a-5d9e-4364-aec5-da200a418328",
   "metadata": {},
   "outputs": [
    {
     "name": "stdout",
     "output_type": "stream",
     "text": [
      "0          time[ps]:0.00000    Temp[K]:299.86371  Etot[Ha]:1.4232738554    Epot[Ha]:-0.0011439223   Pres[kb]:0.19167   \n",
      "100        time[ps]:0.05000    Temp[K]:172.39433  Etot[Ha]:0.8178945368    Epot[Ha]:-0.0010159763   Pres[kb]:0.11015   \n",
      "200        time[ps]:0.10000    Temp[K]:342.01576  Etot[Ha]:1.6237344159    Epot[Ha]:-0.0009147913   Pres[kb]:0.21862   \n",
      "300        time[ps]:0.15000    Temp[K]:337.51732  Etot[Ha]:1.6024688583    Epot[Ha]:-0.0008117534   Pres[kb]:0.21574   \n",
      "400        time[ps]:0.20000    Temp[K]:332.01006  Etot[Ha]:1.5763477416    Epot[Ha]:-0.0007721843   Pres[kb]:0.21218   \n",
      "500        time[ps]:0.25000    Temp[K]:320.10393  Etot[Ha]:1.5198052249    Epot[Ha]:-0.0007580221   Pres[kb]:0.20457   \n",
      "600        time[ps]:0.30000    Temp[K]:305.60832  Etot[Ha]:1.4509463936    Epot[Ha]:-0.0007595443   Pres[kb]:0.19532   \n",
      "700        time[ps]:0.35000    Temp[K]:308.15700  Etot[Ha]:1.4630614870    Epot[Ha]:-0.0007512377   Pres[kb]:0.19697   \n",
      "800        time[ps]:0.40000    Temp[K]:302.18850  Etot[Ha]:1.4347069311    Epot[Ha]:-0.0007541270   Pres[kb]:0.19317   \n",
      "900        time[ps]:0.45000    Temp[K]:305.22098  Etot[Ha]:1.4491150665    Epot[Ha]:-0.0007509275   Pres[kb]:0.19511   \n",
      "1000       time[ps]:0.50000    Temp[K]:299.58323  Etot[Ha]:1.4223236652    Epot[Ha]:-0.0007617953   Pres[kb]:0.19149   \n"
     ]
    }
   ],
   "source": [
    "# simulate(sys, md) # warm up\n",
    "simulate(sys, md, num_steps=1000, output_freq=100) #, filename=\"md.xyz\")"
   ]
  },
  {
   "cell_type": "code",
   "execution_count": 11,
   "id": "a17fbb8a-7948-47e7-a1a8-6af3143f8c4d",
   "metadata": {},
   "outputs": [
    {
     "data": {
      "text/plain": [
       "Array(0.19149387, dtype=float64)"
      ]
     },
     "execution_count": 11,
     "metadata": {},
     "output_type": "execute_result"
    }
   ],
   "source": [
    "sys.get_pressure() * units.TO_KILO_BAR"
   ]
  },
  {
   "cell_type": "code",
   "execution_count": 12,
   "id": "18e9cd4c-1550-43e0-b33f-f7cb6ba9a439",
   "metadata": {},
   "outputs": [
    {
     "data": {
      "text/plain": [
       "Array([[9.50656466e-03, 4.41464602e+00, 4.97683978e+00],\n",
       "       [5.70247836e+00, 2.26315646e+00, 1.25607508e+01],\n",
       "       [8.75367435e-01, 4.07375875e+00, 1.61885311e+01],\n",
       "       ...,\n",
       "       [5.79100350e+01, 5.78075098e+01, 4.41341508e+01],\n",
       "       [5.73856465e+01, 5.54044085e+01, 5.25861041e+01],\n",
       "       [5.60884494e+01, 5.79520602e+01, 5.78570497e+01]], dtype=float64)"
      ]
     },
     "execution_count": 12,
     "metadata": {},
     "output_type": "execute_result"
    }
   ],
   "source": [
    "sys.positions * units.TO_ANGSTROM"
   ]
  },
  {
   "cell_type": "code",
   "execution_count": 13,
   "id": "4af60399-b34f-4a3d-a8ed-93b9cff7f794",
   "metadata": {},
   "outputs": [],
   "source": [
    "atoms = sys.structure.to_ase()\n",
    "# view(atoms, viewer='ngl') # ase, ngl"
   ]
  },
  {
   "cell_type": "markdown",
   "id": "49890020-8352-4e4c-94c2-5826c2d8a909",
   "metadata": {},
   "source": [
    "## Monte Carlo (MC)"
   ]
  },
  {
   "cell_type": "code",
   "execution_count": 14,
   "id": "284e67e6-b140-4507-9b9f-1c6bd688fafa",
   "metadata": {},
   "outputs": [],
   "source": [
    "mc = MCSimulator(translate_step=0.3 * units.FROM_ANGSTROM, target_temperature=300, movements_per_step=10)\n",
    "sys = System.from_structure(s0, potential=ljpot, temperature=300.0)"
   ]
  },
  {
   "cell_type": "code",
   "execution_count": 15,
   "id": "0e45329a",
   "metadata": {},
   "outputs": [
    {
     "name": "stdout",
     "output_type": "stream",
     "text": [
      "0          Epot[Ha]:-0.0011439223   \n",
      "100        Epot[Ha]:-0.0011019419   \n",
      "200        Epot[Ha]:-0.0010678284   \n",
      "300        Epot[Ha]:-0.0010629610   \n",
      "400        Epot[Ha]:-0.0010793298   \n",
      "500        Epot[Ha]:-0.0011079703   \n",
      "600        Epot[Ha]:-0.0011453637   \n",
      "700        Epot[Ha]:-0.0011816754   \n",
      "800        Epot[Ha]:-0.0012114927   \n",
      "900        Epot[Ha]:-0.0012537843   \n",
      "1000       Epot[Ha]:-0.0012923831   \n"
     ]
    }
   ],
   "source": [
    "# simulate(sys, mc) # warm up\n",
    "simulate(sys, mc, num_steps=1000, output_freq=100) #, filename=Path(\"mc.xyz\"))"
   ]
  },
  {
   "cell_type": "code",
   "execution_count": 16,
   "id": "b5bcbada-78dd-40b1-961b-022f9ed4b16d",
   "metadata": {},
   "outputs": [
    {
     "data": {
      "text/plain": [
       "Array([[ 2.35166647,  3.93752599,  3.02452618],\n",
       "       [ 2.21549591,  2.35946383,  8.38338638],\n",
       "       [ 2.3917115 ,  2.67183769, 15.69858044],\n",
       "       ...,\n",
       "       [56.30426672, 57.14222665, 45.54597655],\n",
       "       [56.61357868, 56.25949405, 51.17992683],\n",
       "       [55.83441949, 57.01116821, 56.79909299]], dtype=float64)"
      ]
     },
     "execution_count": 16,
     "metadata": {},
     "output_type": "execute_result"
    }
   ],
   "source": [
    "sys.positions * units.TO_ANGSTROM"
   ]
  },
  {
   "cell_type": "code",
   "execution_count": 17,
   "id": "a34fc975-3a8c-4ffc-a407-767f92d344b7",
   "metadata": {},
   "outputs": [],
   "source": [
    "atoms = sys.structure.to_ase()\n",
    "# view(atoms, viewer='ngl') # ase, ngl"
   ]
  }
 ],
 "metadata": {
  "kernelspec": {
   "display_name": "Python (pantea)",
   "language": "python",
   "name": "pantea"
  },
  "language_info": {
   "codemirror_mode": {
    "name": "ipython",
    "version": 3
   },
   "file_extension": ".py",
   "mimetype": "text/x-python",
   "name": "python",
   "nbconvert_exporter": "python",
   "pygments_lexer": "ipython3",
   "version": "3.10.14"
  }
 },
 "nbformat": 4,
 "nbformat_minor": 5
}
