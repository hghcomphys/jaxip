{
 "cells": [
  {
   "cell_type": "markdown",
   "metadata": {},
   "source": [
    "### Potential example\n",
    "An example notebook for constructing a high-dimensional neural network potential (HDNNP). "
   ]
  },
  {
   "cell_type": "code",
   "execution_count": null,
   "metadata": {},
   "outputs": [],
   "source": [
    "# !gpustat"
   ]
  },
  {
   "cell_type": "code",
   "execution_count": null,
   "metadata": {},
   "outputs": [],
   "source": [
    "import os\n",
    "os.environ[\"JAX_ENABLE_X64\"] = \"1\"\n",
    "os.environ[\"JAX_PLATFORM_NAME\"] = \"cpu\" \n",
    "# os.environ[\"XLA_PYTHON_CLIENT_PREALLOCATE\"] = \"false\" "
   ]
  },
  {
   "cell_type": "markdown",
   "metadata": {},
   "source": [
    "### Imports"
   ]
  },
  {
   "cell_type": "code",
   "execution_count": null,
   "metadata": {},
   "outputs": [],
   "source": [
    "import logging\n",
    "import numpy as np\n",
    "from pathlib import Path\n",
    "import matplotlib.pylab as plt\n",
    "import seaborn as sns\n",
    "import random\n",
    "from tqdm import tqdm\n",
    "from collections import defaultdict\n",
    "import jax.numpy as jnp\n",
    "import jax\n",
    "\n",
    "import jaxip\n",
    "from jaxip import logger\n",
    "from jaxip.types import dtype as default_dtype\n",
    "from jaxip.datasets import RunnerStructureDataset\n",
    "from jaxip.potentials import NeuralNetworkPotential\n",
    "from jaxip.logger import LoggingContextManager"
   ]
  },
  {
   "cell_type": "code",
   "execution_count": null,
   "metadata": {},
   "outputs": [],
   "source": [
    "# print(jaxip.__doc__)\n",
    "# print(f\"version: {jaxip.__version__}\")\n",
    "\n",
    "# jaxip.logger.set_logging_level(logging.DEBUG)\n",
    "# default_dtype.FLOATX = jnp.float64\n",
    "print(f\"default dtype: {default_dtype.FLOATX.dtype}\")"
   ]
  },
  {
   "cell_type": "markdown",
   "metadata": {},
   "source": [
    "## Dataset"
   ]
  },
  {
   "cell_type": "code",
   "execution_count": null,
   "metadata": {},
   "outputs": [],
   "source": [
    "base_dir = Path('./GRN')"
   ]
  },
  {
   "cell_type": "code",
   "execution_count": null,
   "metadata": {},
   "outputs": [],
   "source": [
    "structures = RunnerStructureDataset(Path(base_dir, \"input.data\"), persist=True) \n",
    "# structures = RunnerStructureDataset(Path(base_dir, \"input.data\"), transform=ToStructure(r_cutoff=3.0), persist=True) \n",
    "print(\"Total number of structures:\", len(structures))\n",
    "structures"
   ]
  },
  {
   "cell_type": "code",
   "execution_count": null,
   "metadata": {},
   "outputs": [],
   "source": [
    "indices = random.choices(range(len(structures)), k=10)\n",
    "structures = [structures[i] for i in indices] "
   ]
  },
  {
   "cell_type": "code",
   "execution_count": null,
   "metadata": {},
   "outputs": [],
   "source": [
    "# energies = jnp.asarray([x.total_energy for x in structures]).reshape(-1)\n",
    "# print(\"Energy difference:\", max(energies) - min(energies))\n",
    "# sns.histplot(energies);"
   ]
  },
  {
   "cell_type": "code",
   "execution_count": null,
   "metadata": {},
   "outputs": [],
   "source": [
    "s = structures[0]\n",
    "s"
   ]
  },
  {
   "cell_type": "code",
   "execution_count": null,
   "metadata": {},
   "outputs": [],
   "source": [
    "# with LoggingContextManager(level=logging.DEBUG):\n",
    "# structures[0].to_dict()"
   ]
  },
  {
   "cell_type": "code",
   "execution_count": null,
   "metadata": {},
   "outputs": [],
   "source": [
    "# from ase.visualize import view\n",
    "# atoms = s.to_ase_atoms()\n",
    "# atoms\n",
    "# view(atoms, viewer=\"x3d\", repeat=2)"
   ]
  },
  {
   "cell_type": "code",
   "execution_count": null,
   "metadata": {},
   "outputs": [],
   "source": [
    "# from ase.io import read, write\n",
    "# write(\"atoms.png\", atoms * (2, 2, 1), rotation='30z,-80x')\n",
    "# write(\"atoms.xyz\", atoms * (2, 2, 1))\n",
    "# ![atoms](atoms.png)"
   ]
  },
  {
   "cell_type": "code",
   "execution_count": null,
   "metadata": {},
   "outputs": [],
   "source": [
    "# from jaxip.structure import Structure\n",
    "# sp = Structure.create_from_ase(atoms)\n",
    "# view(sp.to_ase_atoms(), viewer=\"x3d\", repeat=3)"
   ]
  },
  {
   "cell_type": "markdown",
   "metadata": {
    "tags": []
   },
   "source": [
    "## Potential"
   ]
  },
  {
   "cell_type": "code",
   "execution_count": null,
   "metadata": {},
   "outputs": [],
   "source": [
    "nnp = NeuralNetworkPotential.create_from(Path(base_dir, \"input.nn\"))\n",
    "nnp"
   ]
  },
  {
   "cell_type": "code",
   "execution_count": null,
   "metadata": {},
   "outputs": [],
   "source": [
    "# from jaxip.potentials import NeuralNetworkPotential\n",
    "# from jaxip.potentials import NeuralNetworkPotentialSettings as Settings\n",
    "    \n",
    "# settings = Settings(**nnp.settings.dict())\n",
    "# nnp2 = NeuralNetworkPotential(settings)    \n",
    "    \n",
    "# nnp.settings.to_json('h2o.json')\n",
    "# settings = Settings.from_json('h2o.json')\n",
    "# nnp2 = NeuralNetworkPotential(settings)\n",
    "\n",
    "# nnp2"
   ]
  },
  {
   "cell_type": "markdown",
   "metadata": {},
   "source": [
    "##### Extrapolation warnings"
   ]
  },
  {
   "cell_type": "code",
   "execution_count": null,
   "metadata": {},
   "outputs": [],
   "source": [
    "# nnp.set_extrapolation_warnings(100)"
   ]
  },
  {
   "cell_type": "markdown",
   "metadata": {
    "tags": []
   },
   "source": [
    "##### Fit scaler"
   ]
  },
  {
   "cell_type": "code",
   "execution_count": null,
   "metadata": {},
   "outputs": [],
   "source": [
    "nnp.fit_scaler(structures)"
   ]
  },
  {
   "cell_type": "code",
   "execution_count": null,
   "metadata": {},
   "outputs": [],
   "source": [
    "time nnp(s)"
   ]
  },
  {
   "cell_type": "code",
   "execution_count": null,
   "metadata": {},
   "outputs": [],
   "source": [
    "time force = nnp.compute_force(s)"
   ]
  },
  {
   "cell_type": "markdown",
   "metadata": {},
   "source": [
    "### Training"
   ]
  },
  {
   "cell_type": "code",
   "execution_count": null,
   "metadata": {
    "tags": []
   },
   "outputs": [],
   "source": [
    "h = nnp.fit_model(structures, epochs=10, batch_size=1)\n",
    "\n",
    "for sub in h:\n",
    "    if 'loss' in sub:\n",
    "        plt.plot(h['epoch'], h[sub], label=sub)\n",
    "plt.legend();"
   ]
  },
  {
   "cell_type": "markdown",
   "metadata": {},
   "source": [
    "### Validation"
   ]
  },
  {
   "cell_type": "markdown",
   "metadata": {},
   "source": [
    "##### Energy"
   ]
  },
  {
   "cell_type": "code",
   "execution_count": null,
   "metadata": {},
   "outputs": [],
   "source": [
    "print(f\"{len(structures)=}\")\n",
    "true_energy = [s.total_energy for s in structures]\n",
    "pred_energy = [nnp(s) for s in structures]\n",
    "ii = range(len(structures))\n",
    "plt.scatter(true_energy, pred_energy, label='NNP')\n",
    "plt.plot(true_energy, true_energy, 'r', label=\"REF\")\n",
    "plt.xlabel(\"true energy\")\n",
    "plt.ylabel(\"pred energy\")\n",
    "plt.legend()\n",
    "plt.show()\n",
    "\n",
    "if \"Ne\" in nnp.elements:\n",
    "    plt.plot(ii, true_energy, '.-', label=\"NNP\");\n",
    "    plt.plot(ii, pred_energy, '.-', label=\"REF\");\n",
    "    plt.legend()\n",
    "    plt.show()"
   ]
  },
  {
   "cell_type": "markdown",
   "metadata": {},
   "source": [
    "##### Force"
   ]
  },
  {
   "cell_type": "code",
   "execution_count": null,
   "metadata": {},
   "outputs": [],
   "source": [
    "import jax.numpy as jnp\n",
    "\n",
    "true_forces = defaultdict(list)\n",
    "pred_forces = defaultdict(list)\n",
    "\n",
    "print(f\"{len(structures)=}\")\n",
    "for structure in structures:\n",
    "    true_forces_per_structure = structure.get_forces()\n",
    "    pred_forces_per_structure = nnp.compute_force(structure)\n",
    "\n",
    "    for element in nnp.elements:\n",
    "        true_forces[element].append(true_forces_per_structure[element])\n",
    "        pred_forces[element].append(pred_forces_per_structure[element])\n",
    "\n",
    "dim = 0\n",
    "to_axis = {d: c for d, c in enumerate('xyz')}\n",
    "for element in nnp.elements:\n",
    "    true_forces[element] = jnp.concatenate(true_forces[element], axis=0)\n",
    "    pred_forces[element] = jnp.concatenate(pred_forces[element], axis=0)\n",
    "\n",
    "    plt.scatter(true_forces[element][:, dim], pred_forces[element][:, dim], label='NNP')\n",
    "    plt.plot(true_forces[element][:, dim], true_forces[element][:, dim], 'r', label='REF')\n",
    "    plt.title(f\"Element: {element}\")\n",
    "   \n",
    "    label= f\"force [{to_axis[dim]}]\"\n",
    "    plt.ylabel(\"pred \" + label)\n",
    "    plt.xlabel(\"true \" + label)\n",
    "    plt.legend()\n",
    "    plt.show()\n",
    "    "
   ]
  },
  {
   "cell_type": "code",
   "execution_count": null,
   "metadata": {},
   "outputs": [],
   "source": []
  }
 ],
 "metadata": {
  "interpreter": {
   "hash": "79f793817441a9b4f3336163bce28fb05f5fade87f8f747882a8ea5340683793"
  },
  "kernelspec": {
   "display_name": "Python (jaxip)",
   "language": "python",
   "name": "jaxip"
  },
  "language_info": {
   "codemirror_mode": {
    "name": "ipython",
    "version": 3
   },
   "file_extension": ".py",
   "mimetype": "text/x-python",
   "name": "python",
   "nbconvert_exporter": "python",
   "pygments_lexer": "ipython3",
   "version": "3.8.15"
  }
 },
 "nbformat": 4,
 "nbformat_minor": 4
}
