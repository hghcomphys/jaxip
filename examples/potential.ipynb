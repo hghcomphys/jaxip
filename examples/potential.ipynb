{
 "cells": [
  {
   "cell_type": "markdown",
   "metadata": {},
   "source": [
    "### Potential example\n",
    "An example notebook for reconstructing a high-dimensional neural network potential (HDNNP). "
   ]
  },
  {
   "cell_type": "code",
   "execution_count": 1,
   "metadata": {},
   "outputs": [
    {
     "name": "stdout",
     "output_type": "stream",
     "text": [
      "\u001b[1m\u001b[37msasdsnode01.vito.local  \u001b[m  Tue Jan  3 10:13:48 2023  \u001b[1m\u001b[30m510.108.03\u001b[m\n",
      "\u001b[36m[0]\u001b[m \u001b[34mNVIDIA A100-PCIE-40GB\u001b[m |\u001b[31m 33'C\u001b[m, \u001b[32m  0 %\u001b[m | \u001b[36m\u001b[1m\u001b[33m  605\u001b[m / \u001b[33m40960\u001b[m MB |\n"
     ]
    }
   ],
   "source": [
    "!gpustat"
   ]
  },
  {
   "cell_type": "code",
   "execution_count": 2,
   "metadata": {},
   "outputs": [
    {
     "name": "stdout",
     "output_type": "stream",
     "text": [
      "env: JAX_PLATFORM_NAME=cpu\n"
     ]
    }
   ],
   "source": [
    "# %env JAX_ENABLE_X64=1\n",
    "%env JAX_PLATFORM_NAME=cpu\n",
    "# %env JAX_DISABLE_JIT=1\n",
    "# %env JAX_DEBUG_NANS=1\n",
    "# %env TF_CPP_MIN_LOG_LEVEL=0\n",
    "# %env xla_force_host_platform_device_count=16"
   ]
  },
  {
   "cell_type": "code",
   "execution_count": 3,
   "metadata": {},
   "outputs": [
    {
     "name": "stdout",
     "output_type": "stream",
     "text": [
      "MLPOT default_dtype.FLOATX=<class 'jax.numpy.float32'>\n"
     ]
    }
   ],
   "source": [
    "from mlpot.types import dtype as default_dtype\n",
    "import jax.numpy as jnp\n",
    "import jax\n",
    "# default_dtype.FLOATX = jnp.float64\n",
    "print(f\"{default_dtype.FLOATX=}\")"
   ]
  },
  {
   "cell_type": "markdown",
   "metadata": {},
   "source": [
    "### Imports"
   ]
  },
  {
   "cell_type": "code",
   "execution_count": 18,
   "metadata": {},
   "outputs": [],
   "source": [
    "import logging\n",
    "import numpy as np\n",
    "from pathlib import Path\n",
    "import matplotlib.pylab as plt\n",
    "import seaborn as sns\n",
    "from tqdm import tqdm\n",
    "from collections import defaultdict\n",
    "# from torch.utils.data import DataLoader\n",
    "\n",
    "import mlpot\n",
    "from mlpot import logger\n",
    "from mlpot.types import dtype as default_dtype\n",
    "from mlpot.datasets import RunnerStructureDataset\n",
    "from mlpot.potentials import NeuralNetworkPotential\n",
    "from mlpot.logger import LoggingContextManager"
   ]
  },
  {
   "cell_type": "code",
   "execution_count": 5,
   "metadata": {},
   "outputs": [],
   "source": [
    "# mlpot.logger.set_logging_level(logging.DEBUG)\n",
    "\n",
    "# print(mlpot.__doc__)\n",
    "# print(f\"version: {mlpot.__version__}\")"
   ]
  },
  {
   "cell_type": "markdown",
   "metadata": {},
   "source": [
    "## Dataset"
   ]
  },
  {
   "cell_type": "code",
   "execution_count": 6,
   "metadata": {},
   "outputs": [],
   "source": [
    "base_dir = Path('./LJ')"
   ]
  },
  {
   "cell_type": "code",
   "execution_count": 7,
   "metadata": {},
   "outputs": [
    {
     "name": "stdout",
     "output_type": "stream",
     "text": [
      "Total number of structures: 101\n"
     ]
    },
    {
     "data": {
      "text/plain": [
       "RunnerStructureDataset(filename=PosixPath('LJ/input.data'), persist=True, transform=ToStructure())"
      ]
     },
     "execution_count": 7,
     "metadata": {},
     "output_type": "execute_result"
    }
   ],
   "source": [
    "structures = RunnerStructureDataset(Path(base_dir, \"input.data\"), persist=True) #, transform=lambda x: x) \n",
    "# structures = RunnerStructureDataset(Path(base_dir, \"input.data\"), transform=ToStructure(r_cutoff=3.0), persist=True) \n",
    "print(\"Total number of structures:\", len(structures))\n",
    "structures"
   ]
  },
  {
   "cell_type": "code",
   "execution_count": 8,
   "metadata": {},
   "outputs": [],
   "source": [
    "structures = [structures[i] for i in range(100)]"
   ]
  },
  {
   "cell_type": "code",
   "execution_count": 9,
   "metadata": {},
   "outputs": [
    {
     "data": {
      "text/plain": [
       "Structure(natoms=2, elements=('Ne',), dtype=float32)"
      ]
     },
     "execution_count": 9,
     "metadata": {},
     "output_type": "execute_result"
    }
   ],
   "source": [
    "s = structures[0]\n",
    "s"
   ]
  },
  {
   "cell_type": "code",
   "execution_count": 10,
   "metadata": {},
   "outputs": [],
   "source": [
    "# with LoggingContextManager(level=logging.DEBUG):\n",
    "# structures[0].to_dict()"
   ]
  },
  {
   "cell_type": "markdown",
   "metadata": {
    "tags": []
   },
   "source": [
    "## Potential"
   ]
  },
  {
   "cell_type": "code",
   "execution_count": 12,
   "metadata": {},
   "outputs": [
    {
     "data": {
      "text/plain": [
       "NeuralNetworkPotential(potfile='input.nn')"
      ]
     },
     "execution_count": 12,
     "metadata": {},
     "output_type": "execute_result"
    }
   ],
   "source": [
    "nnp = NeuralNetworkPotential(Path(base_dir, \"input.nn\"))\n",
    "nnp"
   ]
  },
  {
   "cell_type": "markdown",
   "metadata": {},
   "source": [
    "##### Extrapolation warnings"
   ]
  },
  {
   "cell_type": "code",
   "execution_count": null,
   "metadata": {},
   "outputs": [],
   "source": [
    "# nnp.set_extrapolation_warnings(100)"
   ]
  },
  {
   "cell_type": "markdown",
   "metadata": {},
   "source": [
    "##### Fit scaler"
   ]
  },
  {
   "cell_type": "code",
   "execution_count": 13,
   "metadata": {},
   "outputs": [
    {
     "name": "stdout",
     "output_type": "stream",
     "text": [
      "Fitting descriptor scalers...\n"
     ]
    },
    {
     "name": "stderr",
     "output_type": "stream",
     "text": [
      "100%|██████████| 100/100 [00:01<00:00, 90.76it/s]"
     ]
    },
    {
     "name": "stdout",
     "output_type": "stream",
     "text": [
      "Done.\n",
      "\n"
     ]
    },
    {
     "name": "stderr",
     "output_type": "stream",
     "text": [
      "\n"
     ]
    }
   ],
   "source": [
    "nnp.fit_scaler(structures)"
   ]
  },
  {
   "cell_type": "markdown",
   "metadata": {},
   "source": [
    "#### Train"
   ]
  },
  {
   "cell_type": "code",
   "execution_count": 14,
   "metadata": {},
   "outputs": [
    {
     "name": "stdout",
     "output_type": "stream",
     "text": [
      "CPU times: user 309 ms, sys: 9.86 ms, total: 318 ms\n",
      "Wall time: 290 ms\n"
     ]
    },
    {
     "data": {
      "text/plain": [
       "Array(0.37806588, dtype=float32)"
      ]
     },
     "execution_count": 14,
     "metadata": {},
     "output_type": "execute_result"
    }
   ],
   "source": [
    "time nnp(s)"
   ]
  },
  {
   "cell_type": "code",
   "execution_count": 15,
   "metadata": {
    "tags": []
   },
   "outputs": [
    {
     "name": "stdout",
     "output_type": "stream",
     "text": [
      "Epoch 1 of 10\n"
     ]
    },
    {
     "name": "stderr",
     "output_type": "stream",
     "text": [
      "100%|██████████| 100/100 [00:01<00:00, 55.21it/s]\n"
     ]
    },
    {
     "name": "stdout",
     "output_type": "stream",
     "text": [
      "training loss: 0.1368940\n",
      "\n",
      "Epoch 2 of 10\n"
     ]
    },
    {
     "name": "stderr",
     "output_type": "stream",
     "text": [
      "100%|██████████| 100/100 [00:00<00:00, 222.94it/s]\n"
     ]
    },
    {
     "name": "stdout",
     "output_type": "stream",
     "text": [
      "training loss: 0.2304020\n",
      "\n",
      "Epoch 3 of 10\n"
     ]
    },
    {
     "name": "stderr",
     "output_type": "stream",
     "text": [
      "100%|██████████| 100/100 [00:00<00:00, 219.98it/s]\n"
     ]
    },
    {
     "name": "stdout",
     "output_type": "stream",
     "text": [
      "training loss: 0.1139796\n",
      "\n",
      "Epoch 4 of 10\n"
     ]
    },
    {
     "name": "stderr",
     "output_type": "stream",
     "text": [
      "100%|██████████| 100/100 [00:00<00:00, 220.59it/s]\n"
     ]
    },
    {
     "name": "stdout",
     "output_type": "stream",
     "text": [
      "training loss: 0.1237702\n",
      "\n",
      "Epoch 5 of 10\n"
     ]
    },
    {
     "name": "stderr",
     "output_type": "stream",
     "text": [
      "100%|██████████| 100/100 [00:00<00:00, 222.13it/s]\n"
     ]
    },
    {
     "name": "stdout",
     "output_type": "stream",
     "text": [
      "training loss: 0.4367188\n",
      "\n",
      "Epoch 6 of 10\n"
     ]
    },
    {
     "name": "stderr",
     "output_type": "stream",
     "text": [
      "100%|██████████| 100/100 [00:00<00:00, 220.04it/s]\n"
     ]
    },
    {
     "name": "stdout",
     "output_type": "stream",
     "text": [
      "training loss: 0.1646622\n",
      "\n",
      "Epoch 7 of 10\n"
     ]
    },
    {
     "name": "stderr",
     "output_type": "stream",
     "text": [
      "100%|██████████| 100/100 [00:00<00:00, 223.03it/s]\n"
     ]
    },
    {
     "name": "stdout",
     "output_type": "stream",
     "text": [
      "training loss: 0.7726274\n",
      "\n",
      "Epoch 8 of 10\n"
     ]
    },
    {
     "name": "stderr",
     "output_type": "stream",
     "text": [
      "100%|██████████| 100/100 [00:00<00:00, 223.48it/s]\n"
     ]
    },
    {
     "name": "stdout",
     "output_type": "stream",
     "text": [
      "training loss: 0.0969225\n",
      "\n",
      "Epoch 9 of 10\n"
     ]
    },
    {
     "name": "stderr",
     "output_type": "stream",
     "text": [
      "100%|██████████| 100/100 [00:00<00:00, 223.69it/s]\n"
     ]
    },
    {
     "name": "stdout",
     "output_type": "stream",
     "text": [
      "training loss: 0.0990495\n",
      "\n",
      "Epoch 10 of 10\n"
     ]
    },
    {
     "name": "stderr",
     "output_type": "stream",
     "text": [
      "100%|██████████| 100/100 [00:00<00:00, 224.15it/s]\n"
     ]
    },
    {
     "name": "stdout",
     "output_type": "stream",
     "text": [
      "training loss: 0.1491085\n",
      "\n"
     ]
    },
    {
     "data": {
      "image/png": "[encoded data removed]",
      "text/plain": [
       "<Figure size 640x480 with 1 Axes>"
      ]
     },
     "metadata": {},
     "output_type": "display_data"
    }
   ],
   "source": [
    "h = nnp.fit_model(structures, epochs=10, batch_size=1)\n",
    "\n",
    "for sub in h:\n",
    "    if 'loss' in sub:\n",
    "        plt.plot(h['epoch'], h[sub], label=sub)\n",
    "plt.legend();"
   ]
  },
  {
   "cell_type": "markdown",
   "metadata": {},
   "source": [
    "##### Validation"
   ]
  },
  {
   "cell_type": "code",
   "execution_count": 16,
   "metadata": {},
   "outputs": [
    {
     "name": "stdout",
     "output_type": "stream",
     "text": [
      "len(structures)=100\n"
     ]
    },
    {
     "data": {
      "image/png": "[encoded data removed]",
      "text/plain": [
       "<Figure size 640x480 with 1 Axes>"
      ]
     },
     "metadata": {},
     "output_type": "display_data"
    },
    {
     "data": {
      "image/png": "[encoded data removed]",
      "text/plain": [
       "<Figure size 640x480 with 1 Axes>"
      ]
     },
     "metadata": {},
     "output_type": "display_data"
    }
   ],
   "source": [
    "print(f\"{len(structures)=}\")\n",
    "true_energy = [s.total_energy/s.natoms for s in structures]\n",
    "pred_energy = [nnp(s)/s.natoms for s in structures]\n",
    "ii = range(len(structures))\n",
    "plt.scatter(true_energy, pred_energy, label='NNP')\n",
    "plt.plot(true_energy, true_energy, 'r', label=\"REF\")\n",
    "plt.xlabel(\"pred energy / atom\")\n",
    "plt.ylabel(\"true energy / atom\")\n",
    "plt.legend()\n",
    "plt.show()\n",
    "\n",
    "if \"Ne\" in nnp.elements:\n",
    "    plt.plot(ii, true_energy, '.-', label=\"NNP\");\n",
    "    plt.plot(ii, pred_energy, '.-', label=\"REF\");\n",
    "    plt.legend()\n",
    "    plt.show()"
   ]
  },
  {
   "cell_type": "code",
   "execution_count": 20,
   "metadata": {},
   "outputs": [
    {
     "name": "stdout",
     "output_type": "stream",
     "text": [
      "len(structures)=100\n"
     ]
    },
    {
     "data": {
      "image/png": "[encoded data removed]",
      "text/plain": [
       "<Figure size 640x480 with 1 Axes>"
      ]
     },
     "metadata": {},
     "output_type": "display_data"
    }
   ],
   "source": [
    "import jax.numpy as jnp\n",
    "\n",
    "true_forces = defaultdict(list)\n",
    "pred_forces = defaultdict(list)\n",
    "\n",
    "print(f\"{len(structures)=}\")\n",
    "for structure in structures:\n",
    "    true_forces_per_structure = structure.get_forces()\n",
    "    pred_forces_per_structure = nnp.compute_force(structure)\n",
    "\n",
    "    for element in nnp.elements:\n",
    "        true_forces[element].append(true_forces_per_structure[element])\n",
    "        pred_forces[element].append(pred_forces_per_structure[element])\n",
    "\n",
    "dim = 0\n",
    "to_axis = {d: c for d, c in enumerate('xyz')}\n",
    "for element in nnp.elements:\n",
    "    true_forces[element] = jnp.concatenate(true_forces[element], axis=0)\n",
    "    pred_forces[element] = jnp.concatenate(pred_forces[element], axis=0)\n",
    "\n",
    "    plt.scatter(true_forces[element][:, dim], pred_forces[element][:, dim], label='NNP')\n",
    "    plt.plot(true_forces[element][:, dim], true_forces[element][:, dim], 'r', label='REF')\n",
    "    plt.title(f\"Element: {element}\")\n",
    "   \n",
    "    label= f\"force [{to_axis[dim]}]\"\n",
    "    plt.ylabel(\"pred \" + label)\n",
    "    plt.xlabel(\"true \" + label)\n",
    "    plt.legend()\n",
    "    plt.show()\n",
    "    "
   ]
  },
  {
   "cell_type": "code",
   "execution_count": null,
   "metadata": {},
   "outputs": [],
   "source": []
  },
  {
   "cell_type": "code",
   "execution_count": null,
   "metadata": {},
   "outputs": [],
   "source": []
  },
  {
   "cell_type": "markdown",
   "metadata": {},
   "source": [
    "### Experiments"
   ]
  },
  {
   "cell_type": "markdown",
   "metadata": {},
   "source": [
    "#### Saving model"
   ]
  },
  {
   "cell_type": "code",
   "execution_count": 2,
   "metadata": {},
   "outputs": [],
   "source": [
    "# import json\n",
    "# import jax.numpy as jnp\n",
    "\n",
    "# d = nnp.model_params[\"Ne\"]\n",
    "\n",
    "# with open('model.pkl', 'wb') as file:\n",
    "#     # jnp.save(file, d['layers_0']['kernel'])\n",
    "#     jnp.savez(file, x=d['layers_0']['kernel'], z=d['layers_0']['bias'])\n",
    "#     # json.dump(d.unfreeze(), file)\n",
    "    \n",
    "# with open('model.pkl', 'rb') as file:  \n",
    "#     dp = jnp.load(file)\n",
    "#     print(dp['x'])"
   ]
  },
  {
   "cell_type": "markdown",
   "metadata": {},
   "source": [
    "#### Descriptors"
   ]
  },
  {
   "cell_type": "markdown",
   "metadata": {},
   "source": [
    "##### Profiling"
   ]
  },
  {
   "cell_type": "code",
   "execution_count": null,
   "metadata": {},
   "outputs": [],
   "source": [
    "# import cProfile\n",
    "# profile = cProfile.Profile()"
   ]
  },
  {
   "cell_type": "code",
   "execution_count": null,
   "metadata": {},
   "outputs": [],
   "source": [
    "# profile.runcall(nnp.fit_scaler, structures)\n",
    "# profile.print_stats(sort='cumtime')"
   ]
  },
  {
   "cell_type": "markdown",
   "metadata": {},
   "source": [
    "#### Training"
   ]
  },
  {
   "cell_type": "code",
   "execution_count": null,
   "metadata": {},
   "outputs": [],
   "source": [
    "# %time history = nnp.fit_model(structures, epochs=100, validation_split=0.1) # validation_split=0.20)\n",
    "# %time history = nnp.fit_model(train_structures, epochs=10, validation_dataset=valid_structures)\n",
    "# %time history = profile(nnp.fit_model, structures, epochs=0, validation_split=0.20)\n",
    "# nnp.load_model()"
   ]
  },
  {
   "cell_type": "code",
   "execution_count": null,
   "metadata": {},
   "outputs": [],
   "source": [
    "# nnp.extrapolation_warnings"
   ]
  },
  {
   "cell_type": "markdown",
   "metadata": {},
   "source": [
    "##### Loss and error metrics\n",
    "\n",
    "##### Observations\n",
    "- force values are fine\n",
    "- energy values are noticible different (w.r.t. N2P2) - probbaly the training algorithm has to be improved\n",
    "- need a toolset to make the N2P2 comparision and validation of forces, energy, descriptor, etc easier and faster."
   ]
  },
  {
   "cell_type": "code",
   "execution_count": 1,
   "metadata": {},
   "outputs": [],
   "source": [
    "# fig, ax = plt.subplots(1, 3, figsize=(12,4))\n",
    "\n",
    "# df = pd.DataFrame(history)\n",
    "# df[[\"train_loss\", \"valid_loss\"]][:].plot(ax=ax[0]);\n",
    "# df[[f\"train_energy_error\", f\"valid_energy_error\"]][:].plot(ax=ax[1]);\n",
    "# df[[\"train_force_error\", f\"valid_force_error\"]][:].plot(ax=ax[2]);\n",
    "# plt.tight_layout()\n",
    "# df.tail()"
   ]
  },
  {
   "cell_type": "markdown",
   "metadata": {
    "tags": []
   },
   "source": [
    "##### Energy and Forces"
   ]
  },
  {
   "cell_type": "code",
   "execution_count": null,
   "metadata": {},
   "outputs": [],
   "source": [
    "# fig, ax = plt.subplots(3, 2, figsize=(11,8))\n",
    "# EV_TO_HARTREE = 0.0367493\n",
    "# ENERGY_ERR    = 2.0E-3*EV_TO_HARTREE  # 2.0 meV/atom\n",
    "# FORCE_ERR     = 0.1*EV_TO_HARTREE     # 0.1 eV/Bohr\n",
    "\n",
    "# df.plot(x='r', y=['E_pred', 'E_true'], ax=ax[0][0], style='.-', lw=0.5)\n",
    "# df.plot(x='r', y=['E_error'], ax=ax[1][0], style='.-', lw=0.5); \n",
    "# df.plot.hist(y=['E_err/atom'], ax=ax[2][0])\n",
    "\n",
    "# df.plot(x='r', y=['F_pred', 'F_true'], ax=ax[0][1], style='.-', lw=0.5)\n",
    "# df.plot(x='r', y=['F_error'], ax=ax[1][1], style='.-', lw=0.5)\n",
    "# df.plot.hist(y=['F_err'], ax=ax[2][1]);\n",
    "\n",
    "# if str(err_metric) == \"RMSEpa\":\n",
    "#     ax[1][0].axhline(ENERGY_ERR, ls='--', c='r'); print(f\"Eenergy Thrsh.: {ENERGY_ERR:.10f}\")\n",
    "#     ax[1][1].axhline(FORCE_ERR, ls='--', c='r');  print(f\"Force   Thrsh.: {FORCE_ERR:.10f}\")\n",
    "# plt.tight_layout()"
   ]
  },
  {
   "cell_type": "code",
   "execution_count": null,
   "metadata": {},
   "outputs": [],
   "source": []
  }
 ],
 "metadata": {
  "interpreter": {
   "hash": "79f793817441a9b4f3336163bce28fb05f5fade87f8f747882a8ea5340683793"
  },
  "kernelspec": {
   "display_name": "Python (mlpot3)",
   "language": "python",
   "name": "mlpot"
  },
  "language_info": {
   "codemirror_mode": {
    "name": "ipython",
    "version": 3
   },
   "file_extension": ".py",
   "mimetype": "text/x-python",
   "name": "python",
   "nbconvert_exporter": "python",
   "pygments_lexer": "ipython3",
   "version": "3.9.15"
  }
 },
 "nbformat": 4,
 "nbformat_minor": 4
}
