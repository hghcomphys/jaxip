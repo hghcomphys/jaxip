{
 "cells": [
  {
   "cell_type": "markdown",
   "metadata": {},
   "source": [
    "### TorchIP Models \n",
    "This notebook shows examples on how to build a (neural network) energy `model` and a `trainer` which consume energy and force components (gardient) to fit the model. \n",
    "\n",
    "#### TODO:\n",
    "- train model using input + gradient of inputs\n",
    "- fit example LJ potential"
   ]
  },
  {
   "cell_type": "code",
   "execution_count": 1,
   "metadata": {},
   "outputs": [],
   "source": [
    "import sys\n",
    "sys.path.append('../')\n",
    "\n",
    "import math\n",
    "import torch\n",
    "from torch import nn\n",
    "import matplotlib.pylab as plt\n",
    "\n",
    "# TorchIP imports\n",
    "import torchip\n",
    "from torchip.config import CFG # TODO: improve it\n",
    "from torchip.models import NeuralNetworkModel\n",
    "from torchip.utils import gradient"
   ]
  },
  {
   "cell_type": "code",
   "execution_count": 2,
   "metadata": {},
   "outputs": [
    {
     "name": "stdout",
     "output_type": "stream",
     "text": [
      "Device: cpu\n"
     ]
    }
   ],
   "source": [
    "CFG.set(\"device\", \"cpu\")\n",
    "print(\"Device:\", CFG[\"device\"])"
   ]
  },
  {
   "cell_type": "markdown",
   "metadata": {},
   "source": [
    "### Model"
   ]
  },
  {
   "cell_type": "code",
   "execution_count": 3,
   "metadata": {},
   "outputs": [
    {
     "name": "stdout",
     "output_type": "stream",
     "text": [
      "NeuralNetworkModel(\n",
      "  (linear_stack): Sequential(\n",
      "    (0): Linear(in_features=1, out_features=10, bias=True)\n",
      "    (1): Tanh()\n",
      "    (2): Linear(in_features=10, out_features=10, bias=True)\n",
      "    (3): Tanh()\n",
      "    (4): Linear(in_features=10, out_features=1, bias=True)\n",
      "    (5): Identity()\n",
      "  )\n",
      ")\n"
     ]
    }
   ],
   "source": [
    "model = NeuralNetworkModel(input_size=1, layers=((10, 't'), (10, 't'), (1, 'l')))\n",
    "print(model)"
   ]
  },
  {
   "cell_type": "code",
   "execution_count": 21,
   "metadata": {},
   "outputs": [],
   "source": [
    "def func(x):\n",
    "    return torch.sum(torch.sin(x), dim=1).view(-1, 1)\n",
    "\n",
    "def get_sample(n, requires_grad=False, factor=4):\n",
    "    return torch.rand(n, 1, requires_grad=requires_grad)*math.pi*factor\n",
    "\n",
    "x_train = get_sample(1000)\n",
    "y_train = func(x_train)\n",
    "# dy_train = gradient(y_train, x_train)\n",
    "\n",
    "x_val = get_sample(100)\n",
    "y_val = func(x_val)\n",
    "# dy_val = gradient(y_val, x_val)"
   ]
  },
  {
   "cell_type": "code",
   "execution_count": 23,
   "metadata": {},
   "outputs": [],
   "source": [
    "# plt.scatter(x_train.detach().numpy(), y_train.detach().numpy(), label=\"data\")\n",
    "# # plt.scatter(x_train.detach().numpy(), dy_train.detach().numpy(), label=\"derivative\")\n",
    "# plt.xlabel(\"x\"); plt.ylabel(\"y, dy\"); plt.legend();"
   ]
  },
  {
   "cell_type": "code",
   "execution_count": 8,
   "metadata": {},
   "outputs": [],
   "source": [
    "optimizer = torch.optim.Adam(model.parameters(), lr=0.001)\n",
    "criterion = nn.MSELoss()\n",
    "\n",
    "def train(model, optimizer, loss_fn, epochs=5000):\n",
    "    \"\"\"\n",
    "    Train input model using provided optimizer, loss function, and data.\n",
    "    \"\"\"\n",
    "    for epoch in range(epochs):\n",
    "        # Training \n",
    "        training_loss = 0.0\n",
    "        model.train()\n",
    "        optimizer.zero_grad()\n",
    "        y =  model(x_train)\n",
    "        #dy = gradient(y, x_train)\n",
    "        loss = criterion(y, y_train) #+ criterion(dy, dy_train)\n",
    "        loss.backward(retain_graph=True)\n",
    "        optimizer.step()\n",
    "        training_loss += loss.data.item()\n",
    "        \n",
    "        # Validation\n",
    "        valid_loss = 0.0\n",
    "        model.eval()\n",
    "        y =  model(x_val)\n",
    "        #dy = gradient(y, x_val)\n",
    "        loss = criterion(y, y_val) #+ criterion(dy, dy_val)\n",
    "        valid_loss += loss.data.item()\n",
    "        \n",
    "        # Print\n",
    "        if epoch==0 or (epoch+1) % 500 == 0:\n",
    "            print(f'Epoch: [{epoch+1}/{epochs}], Training Loss: {training_loss:.8f}, Valid Loss: {valid_loss:.8f}')"
   ]
  },
  {
   "cell_type": "code",
   "execution_count": 26,
   "metadata": {},
   "outputs": [
    {
     "name": "stdout",
     "output_type": "stream",
     "text": [
      "Epoch: [1/5000], Training Loss: 0.00024044, Valid Loss: 0.00022922\n",
      "Epoch: [500/5000], Training Loss: 0.00015697, Valid Loss: 0.00015717\n",
      "Epoch: [1000/5000], Training Loss: 0.00010801, Valid Loss: 0.00010838\n",
      "Epoch: [1500/5000], Training Loss: 0.00007630, Valid Loss: 0.00007665\n",
      "Epoch: [2000/5000], Training Loss: 0.00005582, Valid Loss: 0.00005597\n",
      "Epoch: [2500/5000], Training Loss: 0.00004214, Valid Loss: 0.00004203\n",
      "Epoch: [3000/5000], Training Loss: 0.00003281, Valid Loss: 0.00003245\n",
      "Epoch: [3500/5000], Training Loss: 0.00002621, Valid Loss: 0.00002566\n",
      "Epoch: [4000/5000], Training Loss: 0.00002149, Valid Loss: 0.00002088\n",
      "Epoch: [4500/5000], Training Loss: 0.00001799, Valid Loss: 0.00001732\n",
      "Epoch: [5000/5000], Training Loss: 0.00001531, Valid Loss: 0.00001475\n"
     ]
    }
   ],
   "source": [
    "train(model, optimizer, criterion)"
   ]
  },
  {
   "cell_type": "code",
   "execution_count": 27,
   "metadata": {},
   "outputs": [
    {
     "data": {
      "image/png": "[encoded data removed]",
      "text/plain": [
       "<Figure size 432x288 with 1 Axes>"
      ]
     },
     "metadata": {
      "needs_background": "light"
     },
     "output_type": "display_data"
    }
   ],
   "source": [
    "plt.scatter(x_val, y_val, label=\"training\")\n",
    "plt.scatter(x_val, model(x_val).detach().numpy(), label=\"validation\")\n",
    "plt.xlabel(\"x\"); plt.ylabel(\"y\"); plt.legend();"
   ]
  },
  {
   "cell_type": "code",
   "execution_count": 29,
   "metadata": {},
   "outputs": [
    {
     "data": {
      "text/plain": [
       "Text(0.5, 1.0, 'Gradient')"
      ]
     },
     "execution_count": 29,
     "metadata": {},
     "output_type": "execute_result"
    },
    {
     "data": {
      "image/png": "[encoded data removed]",
      "text/plain": [
       "<Figure size 432x288 with 1 Axes>"
      ]
     },
     "metadata": {
      "needs_background": "light"
     },
     "output_type": "display_data"
    }
   ],
   "source": [
    "x = get_sample(100, True)\n",
    "plt.scatter(x.detach().numpy(), gradient(func(x), x).detach().numpy(), label=\"training\")\n",
    "plt.scatter(x.detach().numpy(), gradient(model(x), x).detach().numpy(), label=\"validation\")\n",
    "plt.xlabel(\"x\"); plt.ylabel(\"y\"); plt.legend(); plt.title(\"Gradient\")"
   ]
  },
  {
   "cell_type": "code",
   "execution_count": null,
   "metadata": {},
   "outputs": [],
   "source": []
  }
 ],
 "metadata": {
  "interpreter": {
   "hash": "79f793817441a9b4f3336163bce28fb05f5fade87f8f747882a8ea5340683793"
  },
  "kernelspec": {
   "display_name": "Python (mlp)",
   "language": "python",
   "name": "mlp"
  },
  "language_info": {
   "codemirror_mode": {
    "name": "ipython",
    "version": 3
   },
   "file_extension": ".py",
   "mimetype": "text/x-python",
   "name": "python",
   "nbconvert_exporter": "python",
   "pygments_lexer": "ipython3",
   "version": "3.9.7"
  }
 },
 "nbformat": 4,
 "nbformat_minor": 4
}
