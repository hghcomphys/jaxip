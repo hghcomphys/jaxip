{
 "cells": [
  {
   "cell_type": "markdown",
   "metadata": {},
   "source": [
    "### TorchIP Models \n",
    "This notebook shows examples of how to build a (neural network) energy `model` and a `trainer` which consume _energy_ and _force components (gradient)_ to fit the model. \n",
    "\n",
    "A neural network performs well when interpolating and NOT extrapolating.\n",
    "\n",
    "#### TODO:\n",
    "- [x] neural network + gradient of inputs\n",
    "- [x] fit example LJ potential\n",
    "- [x] energy and force data loader\n",
    "- [ ] GPU version\n",
    "- [ ] trainer"
   ]
  },
  {
   "cell_type": "code",
   "execution_count": null,
   "metadata": {},
   "outputs": [],
   "source": [
    "import sys\n",
    "sys.path.append('../')\n",
    "\n",
    "import math\n",
    "import torch\n",
    "from torch import nn\n",
    "import matplotlib.pylab as plt\n",
    "from torch.utils.data import Dataset, DataLoader\n",
    "torch.manual_seed(2022)\n",
    "\n",
    "# TorchIP imports\n",
    "import torchip\n",
    "from torchip.config import CFG # TODO: improve it\n",
    "from torchip.models import NeuralNetworkModel\n",
    "from torchip.utils import gradient"
   ]
  },
  {
   "cell_type": "code",
   "execution_count": null,
   "metadata": {},
   "outputs": [],
   "source": [
    "CFG.set(\"device\", \"cpu\")\n",
    "print(\"Device:\", CFG[\"device\"])"
   ]
  },
  {
   "cell_type": "markdown",
   "metadata": {},
   "source": [
    "### Model"
   ]
  },
  {
   "cell_type": "code",
   "execution_count": null,
   "metadata": {},
   "outputs": [],
   "source": [
    "model = NeuralNetworkModel(input_size=3, layers=((8, 't'), (4, 't'), (1, 'l')))\n",
    "print(model)"
   ]
  },
  {
   "cell_type": "code",
   "execution_count": null,
   "metadata": {},
   "outputs": [],
   "source": [
    "def potential(x, sigma=1.0, epsilon=1.0):\n",
    "    tmp6 = torch.pow(sigma/torch.norm(x, dim=1), 6)\n",
    "    return (4.0*epsilon*(tmp6*tmp6 - tmp6)).view(-1, 1)\n",
    "\n",
    "def get_position(n, requires_grad=True, factor=1.0):\n",
    "    return torch.rand(n, 3, requires_grad=requires_grad) * factor + 0.5\n",
    "\n",
    "pos = get_position(1000)   # energy samples\n",
    "eng = potential(pos)\n",
    "pos_ = get_position(5000) # force samples\n",
    "eng_ = potential(pos_)\n",
    "frc = gradient(eng_, pos_)"
   ]
  },
  {
   "cell_type": "code",
   "execution_count": null,
   "metadata": {},
   "outputs": [],
   "source": [
    "plt.scatter(torch.norm(pos_, dim=1).detach().numpy(), eng_.detach().numpy(), label=\"gradient\")\n",
    "plt.scatter(torch.norm(pos, dim=1).detach().numpy(), eng.detach().numpy(), label=\"potential\")\n",
    "plt.xlabel(\"x\"); plt.ylabel(\"y, dy\"); plt.legend(loc='lower right'); plt.title(\"samples\");"
   ]
  },
  {
   "cell_type": "code",
   "execution_count": null,
   "metadata": {},
   "outputs": [],
   "source": [
    "class EnergyDataLoader(Dataset):\n",
    "    \"\"\"\n",
    "    Energy specific DataLoader.\n",
    "    \"\"\"\n",
    "    def __init__(self, position=pos, energy=eng):\n",
    "        self.position = position\n",
    "        self.energy = energy\n",
    "\n",
    "    def __len__(self):\n",
    "        return len(self.energy)\n",
    "\n",
    "    def __getitem__(self, idx):\n",
    "        return {\"energy\": self.energy[idx, ...], \"position\": self.position[idx, ...]}\n",
    "                 \n",
    "                 \n",
    "class ForceDataLoader(Dataset):\n",
    "    \"\"\"\n",
    "    Force specific DataLoader.\n",
    "    \"\"\"\n",
    "    def __init__(self, position=pos_, force=frc):\n",
    "        self.position = position\n",
    "        self.force = force\n",
    "\n",
    "    def __len__(self):\n",
    "        return len(self.force)\n",
    "\n",
    "    def __getitem__(self, idx):\n",
    "        return {\"force\": self.force[idx, ...], \"position\": self.position[idx, ...]}\n",
    "    \n",
    "\n",
    "energy_loader = DataLoader(EnergyDataLoader(), batch_size=100, shuffle=True)\n",
    "force_loader = DataLoader(ForceDataLoader(), batch_size=500, shuffle=True)"
   ]
  },
  {
   "cell_type": "code",
   "execution_count": null,
   "metadata": {},
   "outputs": [],
   "source": [
    "optimizer = torch.optim.Adam(model.parameters(), lr=0.003)\n",
    "criterion = nn.MSELoss()\n",
    "\n",
    "def train(model, optimizer, loss_fn, epochs=1000):\n",
    "    \"\"\"\n",
    "    Train input model using provided optimizer, loss function, and data loader (energy amd forces).\n",
    "    \"\"\"\n",
    "    print(f\"Energy update ratio: {len(force_loader)/float(len(energy_loader)):.2f} ({len(force_loader)}/{len(energy_loader)})\")\n",
    "    energy_loader_ = iter(energy_loader)\n",
    "    \n",
    "    for epoch in range(epochs):\n",
    "        strout = f\"Epoch: [{epoch+1}/{epochs}]\"\n",
    "        \n",
    "        # Training \n",
    "        training_eng_loss = 0.0\n",
    "        training_frc_loss = 0.0\n",
    "        model.train()\n",
    "        nbatch = 0\n",
    "        # Loop over force batches\n",
    "        for index, fbatch in enumerate(force_loader):\n",
    "            # Reset gradients\n",
    "            optimizer.zero_grad()\n",
    "            # Get next energy batch (infinite loader)\n",
    "            try:\n",
    "                ebatch = next(energy_loader_)\n",
    "            except StopIteration:\n",
    "                # StopIteration is thrown if dataset ends\n",
    "                # reinitialize data loader \n",
    "                #print(\"Infinite loop\")\n",
    "                energy_loader_ = iter(energy_loader)\n",
    "                ebatch = next(energy_loader_)\n",
    "            # Energy    \n",
    "            eng_ =  model(ebatch[\"position\"])\n",
    "            eng_loss = criterion(eng_, ebatch[\"energy\"]) \n",
    "            # Force\n",
    "            eng_ = model(fbatch['position'])\n",
    "            frc_ = gradient(eng_, fbatch['position'])\n",
    "            frc_loss = criterion(frc_, fbatch['force'])\n",
    "            # update weights\n",
    "            loss = eng_loss + frc_loss\n",
    "            loss.backward(retain_graph=True)\n",
    "            optimizer.step()\n",
    "            # Accumulate loss values\n",
    "            training_eng_loss += eng_loss.data.item()\n",
    "            training_frc_loss += frc_loss.data.item()\n",
    "            nbatch += 1\n",
    "            #print(nbatch, ebatch['energy'].shape, fbatch['force'].shape)\n",
    "        #assert len(force_loader) > len(energy_loader)\n",
    "        training_eng_loss /= nbatch\n",
    "        training_frc_loss /= nbatch\n",
    "        training_loss = training_eng_loss + training_frc_loss\n",
    "        strout += f\", Training Loss: {training_loss:.8f} <force({training_frc_loss:.8f}), energy({training_eng_loss:.8f})>\"\n",
    "        \n",
    "        # Validation\n",
    "        valid_loss = 0.0\n",
    "        model.eval()\n",
    "        pos_val = get_position(1000)\n",
    "        eng_val = potential(pos_val)\n",
    "        frc_val = gradient(eng_val, pos_val)\n",
    "        eng_ =  model(pos_val)\n",
    "        frc_ = gradient(eng_, pos_val)\n",
    "        loss = criterion(eng_val, eng_) + criterion(frc_val, frc_)\n",
    "        valid_loss += loss.data.item()\n",
    "        strout += f\", Validation Loss: {valid_loss:.8f}\"\n",
    "\n",
    "        if epoch==0 or (epoch+1) % 100 == 0:\n",
    "            print(strout)\n",
    "        "
   ]
  },
  {
   "cell_type": "code",
   "execution_count": null,
   "metadata": {},
   "outputs": [],
   "source": [
    "train(model, optimizer, criterion)"
   ]
  },
  {
   "cell_type": "code",
   "execution_count": null,
   "metadata": {},
   "outputs": [],
   "source": [
    "pos = get_position(5000, factor=1)\n",
    "plt.scatter(torch.norm(pos, dim=1).detach().numpy(), potential(pos).detach().numpy(), label=\"potential\")\n",
    "plt.scatter(torch.norm(pos, dim=1).detach().numpy(), model(pos).detach().numpy(), label=\"neuran network\")\n",
    "plt.xlabel(\"x\"); plt.ylabel(\"y\"); plt.legend(); plt.title(\"Energy\");"
   ]
  },
  {
   "cell_type": "code",
   "execution_count": null,
   "metadata": {},
   "outputs": [],
   "source": [
    "# pos = get_position(1000)\n",
    "plt.scatter(torch.norm(pos, dim=1).detach().numpy(), gradient(potential(pos), pos)[:, 0].detach().numpy(), label=\"potential\")\n",
    "plt.scatter(torch.norm(pos, dim=1).detach().numpy(), gradient(model(pos), pos)[:, 0].detach().numpy(), label=\"neural network\")\n",
    "plt.xlabel(\"x\"); plt.ylabel(\"y\"); plt.legend(); plt.title(\"Force\");"
   ]
  },
  {
   "cell_type": "code",
   "execution_count": null,
   "metadata": {},
   "outputs": [],
   "source": []
  }
 ],
 "metadata": {
  "interpreter": {
   "hash": "79f793817441a9b4f3336163bce28fb05f5fade87f8f747882a8ea5340683793"
  },
  "kernelspec": {
   "display_name": "Python (mlp)",
   "language": "python",
   "name": "mlp"
  },
  "language_info": {
   "codemirror_mode": {
    "name": "ipython",
    "version": 3
   },
   "file_extension": ".py",
   "mimetype": "text/x-python",
   "name": "python",
   "nbconvert_exporter": "python",
   "pygments_lexer": "ipython3",
   "version": "3.9.7"
  }
 },
 "nbformat": 4,
 "nbformat_minor": 4
}
