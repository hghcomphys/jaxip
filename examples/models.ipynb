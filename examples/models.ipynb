{
 "cells": [
  {
   "cell_type": "markdown",
   "metadata": {},
   "source": [
    "### TorchIP Models \n",
    "This notebook shows examples of how to build a (neural network) energy `model` and a `trainer` which consume _energy_ and _force components (gradient)_ to fit the model. \n",
    "\n",
    "A neural network performs well when interpolating and NOT extrapolating.\n",
    "\n",
    "#### TODO:\n",
    "- [x] neural network + gradient of inputs\n",
    "- [x] fit example LJ potential\n",
    "- [ ] trainer"
   ]
  },
  {
   "cell_type": "code",
   "execution_count": 1,
   "metadata": {},
   "outputs": [],
   "source": [
    "import sys\n",
    "sys.path.append('../')\n",
    "\n",
    "import math\n",
    "import torch\n",
    "from torch import nn\n",
    "import matplotlib.pylab as plt\n",
    "torch.manual_seed(2022)\n",
    "\n",
    "# TorchIP imports\n",
    "import torchip\n",
    "from torchip.config import CFG # TODO: improve it\n",
    "from torchip.models import NeuralNetworkModel\n",
    "from torchip.utils import gradient"
   ]
  },
  {
   "cell_type": "code",
   "execution_count": 2,
   "metadata": {},
   "outputs": [
    {
     "name": "stdout",
     "output_type": "stream",
     "text": [
      "Device: cpu\n"
     ]
    }
   ],
   "source": [
    "CFG.set(\"device\", \"cpu\")\n",
    "print(\"Device:\", CFG[\"device\"])"
   ]
  },
  {
   "cell_type": "markdown",
   "metadata": {},
   "source": [
    "### Model"
   ]
  },
  {
   "cell_type": "code",
   "execution_count": 3,
   "metadata": {},
   "outputs": [
    {
     "name": "stdout",
     "output_type": "stream",
     "text": [
      "NeuralNetworkModel(\n",
      "  (linear_stack): Sequential(\n",
      "    (0): Linear(in_features=3, out_features=10, bias=True)\n",
      "    (1): Tanh()\n",
      "    (2): Linear(in_features=10, out_features=10, bias=True)\n",
      "    (3): Tanh()\n",
      "    (4): Linear(in_features=10, out_features=1, bias=True)\n",
      "    (5): Identity()\n",
      "  )\n",
      ")\n"
     ]
    }
   ],
   "source": [
    "model = NeuralNetworkModel(input_size=3, layers=((10, 't'), (10, 't'), (1, 'l')))\n",
    "print(model)"
   ]
  },
  {
   "cell_type": "code",
   "execution_count": 4,
   "metadata": {},
   "outputs": [],
   "source": [
    "def potential(x, sigma=1.0, epsilon=1.0):\n",
    "    tmp6 = torch.pow(sigma/torch.norm(x, dim=1), 6)\n",
    "    return (4.0*epsilon*(tmp6*tmp6 - tmp6)).view(-1, 1)\n",
    "\n",
    "def get_position(n, requires_grad=True, factor=1.0):\n",
    "    return torch.rand(n, 3, requires_grad=requires_grad) * factor + 0.5\n",
    "\n",
    "pos = get_position(500)   # energy samples\n",
    "eng = potential(pos)\n",
    "pos_ = get_position(5000) # force samples\n",
    "eng_ = potential(pos_)\n",
    "frc = gradient(eng_, pos_)"
   ]
  },
  {
   "cell_type": "code",
   "execution_count": null,
   "metadata": {},
   "outputs": [],
   "source": [
    "plt.scatter(torch.norm(pos_, dim=1).detach().numpy(), eng_.detach().numpy(), label=\"gradient\")\n",
    "plt.scatter(torch.norm(pos, dim=1).detach().numpy(), eng.detach().numpy(), label=\"potential\")\n",
    "plt.xlabel(\"x\"); plt.ylabel(\"y, dy\"); plt.legend(loc='lower right'); plt.title(\"samples\");"
   ]
  },
  {
   "cell_type": "code",
   "execution_count": 6,
   "metadata": {},
   "outputs": [],
   "source": [
    "optimizer = torch.optim.Adam(model.parameters(), lr=0.003)\n",
    "criterion = nn.MSELoss()\n",
    "\n",
    "def train(model, optimizer, loss_fn, epochs=5000):\n",
    "    \"\"\"\n",
    "    Train input model using provided optimizer, loss function, and data.\n",
    "    \"\"\"\n",
    "    for epoch in range(epochs):\n",
    "        strout = f\"Epoch: [{epoch+1}/{epochs}]\"\n",
    "        \n",
    "        # Training \n",
    "        training_loss = 0.0\n",
    "        model.train()\n",
    "        optimizer.zero_grad()\n",
    "        eng_ =  model(pos)\n",
    "        frc_ = gradient(model(pos_), pos_)\n",
    "        eng_loss = criterion(eng_, eng) \n",
    "        frc_loss = criterion(frc_, frc)\n",
    "        loss = eng_loss + frc_loss\n",
    "        loss.backward(retain_graph=True)\n",
    "        optimizer.step()\n",
    "        strout += f\", Training Loss: energy={eng_loss.data.item():.8f}, force={frc_loss.data.item():.8f}, total={loss.data.item():.8f}\"\n",
    "        \n",
    "#         # Validation\n",
    "#         valid_loss = 0.0\n",
    "#         model.eval()\n",
    "#         y =  model(x_val)\n",
    "#         dy = gradient(y, x_val)\n",
    "#         loss = criterion(y, y_val) + criterion(dy, dy_val)\n",
    "#         valid_loss += loss.data.item()\n",
    "#         strout += f\", Valid Loss: {valid_loss:.8f}\"\n",
    "\n",
    "        if epoch==0 or (epoch+1) % 500 == 0:\n",
    "            print(strout)\n",
    "        "
   ]
  },
  {
   "cell_type": "code",
   "execution_count": 11,
   "metadata": {},
   "outputs": [
    {
     "name": "stdout",
     "output_type": "stream",
     "text": [
      "Epoch: [1/5000], Training Loss: energy=0.00004612, force=0.00248909, total=0.00253522\n",
      "Epoch: [500/5000], Training Loss: energy=0.00004533, force=0.00229260, total=0.00233793\n",
      "Epoch: [1000/5000], Training Loss: energy=0.00004219, force=0.00215819, total=0.00220038\n",
      "Epoch: [1500/5000], Training Loss: energy=0.00004732, force=0.00204810, total=0.00209542\n",
      "Epoch: [2000/5000], Training Loss: energy=0.00004708, force=0.00199377, total=0.00204085\n",
      "Epoch: [2500/5000], Training Loss: energy=0.00003441, force=0.00189589, total=0.00193030\n",
      "Epoch: [3000/5000], Training Loss: energy=0.00003270, force=0.00184041, total=0.00187311\n",
      "Epoch: [3500/5000], Training Loss: energy=0.00003176, force=0.00178787, total=0.00181963\n",
      "Epoch: [4000/5000], Training Loss: energy=0.00003119, force=0.00173892, total=0.00177010\n",
      "Epoch: [4500/5000], Training Loss: energy=0.00029147, force=0.00186766, total=0.00215913\n",
      "Epoch: [5000/5000], Training Loss: energy=0.00004024, force=0.00166810, total=0.00170835\n"
     ]
    }
   ],
   "source": [
    "train(model, optimizer, criterion)"
   ]
  },
  {
   "cell_type": "code",
   "execution_count": 14,
   "metadata": {},
   "outputs": [
    {
     "data": {
      "image/png": "[encoded data removed]",
      "text/plain": [
       "<Figure size 432x288 with 1 Axes>"
      ]
     },
     "metadata": {
      "needs_background": "light"
     },
     "output_type": "display_data"
    }
   ],
   "source": [
    "pos = get_position(5000, factor=1)\n",
    "plt.scatter(torch.norm(pos, dim=1).detach().numpy(), potential(pos).detach().numpy(), label=\"potential\")\n",
    "plt.scatter(torch.norm(pos, dim=1).detach().numpy(), model(pos).detach().numpy(), label=\"neuran network\")\n",
    "plt.xlabel(\"x\"); plt.ylabel(\"y\"); plt.legend(); plt.title(\"Energy\");"
   ]
  },
  {
   "cell_type": "code",
   "execution_count": 15,
   "metadata": {},
   "outputs": [
    {
     "data": {
      "image/png": "[encoded data removed]",
      "text/plain": [
       "<Figure size 432x288 with 1 Axes>"
      ]
     },
     "metadata": {
      "needs_background": "light"
     },
     "output_type": "display_data"
    }
   ],
   "source": [
    "# pos = get_position(1000)\n",
    "plt.scatter(torch.norm(pos, dim=1).detach().numpy(), gradient(potential(pos), pos)[:, 0].detach().numpy(), label=\"potential\")\n",
    "plt.scatter(torch.norm(pos, dim=1).detach().numpy(), gradient(model(pos), pos)[:, 0].detach().numpy(), label=\"neural network\")\n",
    "plt.xlabel(\"x\"); plt.ylabel(\"y\"); plt.legend(); plt.title(\"Force\");"
   ]
  },
  {
   "cell_type": "code",
   "execution_count": null,
   "metadata": {},
   "outputs": [],
   "source": []
  }
 ],
 "metadata": {
  "interpreter": {
   "hash": "79f793817441a9b4f3336163bce28fb05f5fade87f8f747882a8ea5340683793"
  },
  "kernelspec": {
   "display_name": "Python (mlp)",
   "language": "python",
   "name": "mlp"
  },
  "language_info": {
   "codemirror_mode": {
    "name": "ipython",
    "version": 3
   },
   "file_extension": ".py",
   "mimetype": "text/x-python",
   "name": "python",
   "nbconvert_exporter": "python",
   "pygments_lexer": "ipython3",
   "version": "3.9.7"
  }
 },
 "nbformat": 4,
 "nbformat_minor": 4
}
