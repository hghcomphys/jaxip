{
 "cells": [
  {
   "cell_type": "markdown",
   "metadata": {},
   "source": [
    "### TorchIP: Models \n",
    "This notebook shows examples of how to build a energy `model` and a `trainer` which consume _energy_ and _force components (gradient)_  data to fit the model (e.g. neural network). "
   ]
  },
  {
   "cell_type": "code",
   "execution_count": 7,
   "metadata": {},
   "outputs": [],
   "source": [
    "import sys\n",
    "sys.path.append('../')\n",
    "import torch\n",
    "import torchip\n",
    "from torchip.config import CFG\n",
    "from torchip.logger import logger\n",
    "from torchip.loaders import RunnerStructureLoader as StructureLoader\n",
    "from torchip.loaders import read_structures\n",
    "from torchip.potentials import NeuralNetworkPotential\n",
    "from torchip.utils import gradient\n",
    "from pathlib import Path"
   ]
  },
  {
   "cell_type": "code",
   "execution_count": 8,
   "metadata": {},
   "outputs": [
    {
     "name": "stdout",
     "output_type": "stream",
     "text": [
      "Device: cpu\n"
     ]
    }
   ],
   "source": [
    "CFG.set(\"device\", \"cpu\")\n",
    "print(\"Device:\", CFG[\"device\"])"
   ]
  },
  {
   "cell_type": "code",
   "execution_count": 13,
   "metadata": {},
   "outputs": [],
   "source": [
    "# Read structure\n",
    "base_dir = Path('.')\n",
    "loader = StructureLoader(Path(base_dir, \"input.data\")) "
   ]
  },
  {
   "cell_type": "code",
   "execution_count": 14,
   "metadata": {},
   "outputs": [],
   "source": [
    "# Potential\n",
    "pot = NeuralNetworkPotential(Path(base_dir, \"input.nn\"))\n",
    "# with Profiler(\"ASF scaling profiler\"):\n",
    "pot.fit_scaler(loader, filename=Path(base_dir, \"scaler.data\"))\n",
    "pot.read_scaler(filename=Path(base_dir, \"scaler.data\"))"
   ]
  },
  {
   "cell_type": "code",
   "execution_count": 12,
   "metadata": {},
   "outputs": [
    {
     "name": "stdout",
     "output_type": "stream",
     "text": [
      "Epoch: [   1/ 200] Training Loss:23.385324478149414 <force(0.55017275), energy(22.83515167)>\n",
      "Epoch: [  10/ 200] Training Loss:21.130592346191406 <force(0.48746514), energy(20.64312744)>\n",
      "Epoch: [  20/ 200] Training Loss:18.717866897583008 <force(0.43827459), energy(18.27959251)>\n",
      "Epoch: [  30/ 200] Training Loss:16.393310546875 <force(0.39717746), energy(15.99613380)>\n",
      "Epoch: [  40/ 200] Training Loss:14.175740242004395 <force(0.36183476), energy(13.81390572)>\n",
      "Epoch: [  50/ 200] Training Loss:12.08470630645752 <force(0.33528638), energy(11.74942017)>\n",
      "Epoch: [  60/ 200] Training Loss:10.136832237243652 <force(0.31279653), energy(9.82403564)>\n",
      "Epoch: [  70/ 200] Training Loss:8.346068382263184 <force(0.28959253), energy(8.05647564)>\n",
      "Epoch: [  80/ 200] Training Loss:6.726720333099365 <force(0.26485220), energy(6.46186829)>\n",
      "Epoch: [  90/ 200] Training Loss:5.2934346199035645 <force(0.23859821), energy(5.05483627)>\n",
      "Epoch: [ 100/ 200] Training Loss:4.056892395019531 <force(0.21242602), energy(3.84446621)>\n",
      "Epoch: [ 110/ 200] Training Loss:3.020491361618042 <force(0.18688311), energy(2.83360815)>\n",
      "Epoch: [ 120/ 200] Training Loss:2.179655075073242 <force(0.16230284), energy(2.01735234)>\n",
      "Epoch: [ 130/ 200] Training Loss:1.5217821598052979 <force(0.13912159), energy(1.38266063)>\n",
      "Epoch: [ 140/ 200] Training Loss:1.0270075798034668 <force(0.11771835), energy(0.90928918)>\n",
      "Epoch: [ 150/ 200] Training Loss:0.6702989935874939 <force(0.09833097), energy(0.57196802)>\n",
      "Epoch: [ 160/ 200] Training Loss:0.42423567175865173 <force(0.08110848), energy(0.34312719)>\n",
      "Epoch: [ 170/ 200] Training Loss:0.2619114816188812 <force(0.06611653), energy(0.19579495)>\n",
      "Epoch: [ 180/ 200] Training Loss:0.15935130417346954 <force(0.05334206), energy(0.10600924)>\n",
      "Epoch: [ 190/ 200] Training Loss:0.09701330959796906 <force(0.04268306), energy(0.05433024)>\n",
      "Epoch: [ 200/ 200] Training Loss:0.0602530874311924 <force(0.03396529), energy(0.02628780)>\n"
     ]
    }
   ],
   "source": [
    "# with Profiler(\"Neural network profiler\"):\n",
    "pot.fit_model(loader)\n",
    "#pot.read_model()"
   ]
  },
  {
   "cell_type": "code",
   "execution_count": null,
   "metadata": {},
   "outputs": [],
   "source": []
  }
 ],
 "metadata": {
  "interpreter": {
   "hash": "79f793817441a9b4f3336163bce28fb05f5fade87f8f747882a8ea5340683793"
  },
  "kernelspec": {
   "display_name": "Python (mlp)",
   "language": "python",
   "name": "mlp"
  },
  "language_info": {
   "codemirror_mode": {
    "name": "ipython",
    "version": 3
   },
   "file_extension": ".py",
   "mimetype": "text/x-python",
   "name": "python",
   "nbconvert_exporter": "python",
   "pygments_lexer": "ipython3",
   "version": "3.9.7"
  }
 },
 "nbformat": 4,
 "nbformat_minor": 4
}
