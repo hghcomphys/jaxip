{
 "cells": [
  {
   "cell_type": "markdown",
   "metadata": {},
   "source": [
    "### TorchIP: Models \n",
    "This example notebook shows how to build a energy `model` and a `trainer` which consume _energy_ and _force components (gradient)_  data to fit the model (e.g. neural network). "
   ]
  },
  {
   "cell_type": "code",
   "execution_count": null,
   "metadata": {},
   "outputs": [],
   "source": [
    "import sys\n",
    "sys.path.append('../')\n",
    "import torch\n",
    "import torchip\n",
    "from torchip.config import CFG\n",
    "from torchip.logger import logger\n",
    "from torchip.loaders import RunnerStructureLoader as StructureLoader\n",
    "from torchip.loaders import read_structures\n",
    "from torchip.potentials import NeuralNetworkPotential\n",
    "from torchip.utils import gradient\n",
    "from pathlib import Path"
   ]
  },
  {
   "cell_type": "code",
   "execution_count": null,
   "metadata": {},
   "outputs": [],
   "source": [
    "CFG.set(\"device\", \"cpu\")\n",
    "print(\"Device:\", CFG[\"device\"])"
   ]
  },
  {
   "cell_type": "code",
   "execution_count": null,
   "metadata": {},
   "outputs": [],
   "source": [
    "# Read structure\n",
    "base_dir = Path('.') #'/home/hossein/n2p2/examples/nnp-train/H2O_RPBE-D3')\n",
    "loader = StructureLoader(Path(base_dir, \"input.data\")) "
   ]
  },
  {
   "cell_type": "code",
   "execution_count": null,
   "metadata": {},
   "outputs": [],
   "source": [
    "# Potential\n",
    "pot = NeuralNetworkPotential(Path(base_dir, \"input.nn\"))\n",
    "# with Profiler(\"ASF scaling profiler\"):\n",
    "# pot.fit_scaler(loader, filename=Path(base_dir, \"scaler.data\"))\n",
    "pot.read_scaler(filename=Path(base_dir, \"scaler.data\"))"
   ]
  },
  {
   "cell_type": "code",
   "execution_count": null,
   "metadata": {},
   "outputs": [],
   "source": [
    "# with Profiler(\"Neural network profiler\"):\n",
    "pot.fit_model(loader)\n",
    "#pot.read_model()"
   ]
  },
  {
   "cell_type": "code",
   "execution_count": null,
   "metadata": {},
   "outputs": [],
   "source": []
  }
 ],
 "metadata": {
  "interpreter": {
   "hash": "79f793817441a9b4f3336163bce28fb05f5fade87f8f747882a8ea5340683793"
  },
  "kernelspec": {
   "display_name": "Python (torchip)",
   "language": "python",
   "name": "torchip"
  },
  "language_info": {
   "codemirror_mode": {
    "name": "ipython",
    "version": 3
   },
   "file_extension": ".py",
   "mimetype": "text/x-python",
   "name": "python",
   "nbconvert_exporter": "python",
   "pygments_lexer": "ipython3",
   "version": "3.9.7"
  }
 },
 "nbformat": 4,
 "nbformat_minor": 4
}
