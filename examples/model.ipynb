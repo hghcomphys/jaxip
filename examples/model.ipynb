{
 "cells": [
  {
   "cell_type": "markdown",
   "metadata": {},
   "source": [
    "### TorchIP: Models \n",
    "This notebook shows examples of how to build a energy `model` and a `trainer` which consume _energy_ and _force components (gradient)_  data to fit the model (e.g. neural network). "
   ]
  },
  {
   "cell_type": "code",
   "execution_count": 2,
   "metadata": {},
   "outputs": [],
   "source": [
    "import sys\n",
    "sys.path.append('../')\n",
    "import torch\n",
    "import torchip\n",
    "from torchip.config import CFG\n",
    "from torchip.logger import logger\n",
    "from torchip.loaders import RunnerStructureLoader as StructureLoader\n",
    "from torchip.loaders import read_structures\n",
    "from torchip.potentials import NeuralNetworkPotential\n",
    "from torchip.utils import gradient\n",
    "from pathlib import Path"
   ]
  },
  {
   "cell_type": "code",
   "execution_count": 3,
   "metadata": {},
   "outputs": [
    {
     "name": "stdout",
     "output_type": "stream",
     "text": [
      "Device: cpu\n"
     ]
    }
   ],
   "source": [
    "CFG.set(\"device\", \"cpu\")\n",
    "print(\"Device:\", CFG[\"device\"])"
   ]
  },
  {
   "cell_type": "code",
   "execution_count": 4,
   "metadata": {},
   "outputs": [],
   "source": [
    "# Read structure\n",
    "base_dir = Path('.') #'/home/hossein/n2p2/examples/nnp-train/H2O_RPBE-D3')\n",
    "loader = StructureLoader(Path(base_dir, \"input.data\")) "
   ]
  },
  {
   "cell_type": "code",
   "execution_count": 5,
   "metadata": {},
   "outputs": [],
   "source": [
    "# Potential\n",
    "pot = NeuralNetworkPotential(Path(base_dir, \"input.nn\"))\n",
    "# with Profiler(\"ASF scaling profiler\"):\n",
    "# pot.fit_scaler(loader, filename=Path(base_dir, \"scaler.data\"))\n",
    "pot.read_scaler(filename=Path(base_dir, \"scaler.data\"))"
   ]
  },
  {
   "cell_type": "code",
   "execution_count": 6,
   "metadata": {},
   "outputs": [
    {
     "name": "stdout",
     "output_type": "stream",
     "text": [
      "Epoch: [   1/ 200] Training Loss:13.538534164428711 <force(1.44529581), energy(12.09323788)>\n",
      "Epoch: [  10/ 200] Training Loss:11.161482810974121 <force(1.15061152), energy(10.01087093)>\n",
      "Epoch: [  20/ 200] Training Loss:8.874430656433105 <force(0.91050464), energy(7.96392632)>\n",
      "Epoch: [  30/ 200] Training Loss:6.8936285972595215 <force(0.70705414), energy(6.18657446)>\n",
      "Epoch: [  40/ 200] Training Loss:5.229156017303467 <force(0.56060028), energy(4.66855574)>\n",
      "Epoch: [  50/ 200] Training Loss:3.8688201904296875 <force(0.46306336), energy(3.40575671)>\n",
      "Epoch: [  60/ 200] Training Loss:2.7889249324798584 <force(0.39511427), energy(2.39381075)>\n",
      "Epoch: [  70/ 200] Training Loss:1.9591784477233887 <force(0.34329399), energy(1.61588442)>\n",
      "Epoch: [  80/ 200] Training Loss:1.343042254447937 <force(0.30006292), energy(1.04297936)>\n",
      "Epoch: [  90/ 200] Training Loss:0.9014352560043335 <force(0.26085111), energy(0.64058411)>\n",
      "Epoch: [ 100/ 200] Training Loss:0.5957294702529907 <force(0.22300947), energy(0.37271997)>\n",
      "Epoch: [ 110/ 200] Training Loss:0.39059996604919434 <force(0.18604098), energy(0.20455897)>\n",
      "Epoch: [ 120/ 200] Training Loss:0.25619983673095703 <force(0.15073235), energy(0.10546748)>\n",
      "Epoch: [ 130/ 200] Training Loss:0.16926434636116028 <force(0.11832175), energy(0.05094260)>\n",
      "Epoch: [ 140/ 200] Training Loss:0.11304682493209839 <force(0.09001642), energy(0.02303040)>\n",
      "Epoch: [ 150/ 200] Training Loss:0.07635203003883362 <force(0.06658575), energy(0.00976628)>\n",
      "Epoch: [ 160/ 200] Training Loss:0.052136607468128204 <force(0.04822177), energy(0.00391484)>\n",
      "Epoch: [ 170/ 200] Training Loss:0.0361042395234108 <force(0.03459656), energy(0.00150768)>\n",
      "Epoch: [ 180/ 200] Training Loss:0.025588523596525192 <force(0.02501466), energy(0.00057386)>\n",
      "Epoch: [ 190/ 200] Training Loss:0.018827546387910843 <force(0.01860259), energy(0.00022495)>\n",
      "Epoch: [ 200/ 200] Training Loss:0.014576202258467674 <force(0.01448117), energy(0.00009503)>\n"
     ]
    }
   ],
   "source": [
    "# with Profiler(\"Neural network profiler\"):\n",
    "pot.fit_model(loader)\n",
    "#pot.read_model()"
   ]
  },
  {
   "cell_type": "code",
   "execution_count": null,
   "metadata": {},
   "outputs": [],
   "source": []
  }
 ],
 "metadata": {
  "interpreter": {
   "hash": "79f793817441a9b4f3336163bce28fb05f5fade87f8f747882a8ea5340683793"
  },
  "kernelspec": {
   "display_name": "Python (mlp)",
   "language": "python",
   "name": "mlp"
  },
  "language_info": {
   "codemirror_mode": {
    "name": "ipython",
    "version": 3
   },
   "file_extension": ".py",
   "mimetype": "text/x-python",
   "name": "python",
   "nbconvert_exporter": "python",
   "pygments_lexer": "ipython3",
   "version": "3.9.7"
  }
 },
 "nbformat": 4,
 "nbformat_minor": 4
}
