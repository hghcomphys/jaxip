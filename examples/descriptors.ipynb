{
 "cells": [
  {
   "cell_type": "markdown",
   "metadata": {},
   "source": [
    "### TorchIP Descriptors\n",
    "Examples on how to define and calulate (ASF) descriptors from input structures. "
   ]
  },
  {
   "cell_type": "code",
   "execution_count": 1,
   "metadata": {},
   "outputs": [],
   "source": [
    "import sys\n",
    "sys.path.append('../')\n",
    "\n",
    "# import torchip\n",
    "from torchip.config import CFG\n",
    "from torchip.loaders import RunnerStructureLoader\n",
    "from torchip.potentials import NeuralNetworkPotential"
   ]
  },
  {
   "cell_type": "code",
   "execution_count": 2,
   "metadata": {},
   "outputs": [
    {
     "name": "stdout",
     "output_type": "stream",
     "text": [
      "Device: cpu\n"
     ]
    }
   ],
   "source": [
    "CFG.set(\"device\", \"cpu\")\n",
    "print(\"Device:\", CFG[\"device\"])"
   ]
  },
  {
   "cell_type": "code",
   "execution_count": 3,
   "metadata": {},
   "outputs": [],
   "source": [
    "# Atomic data\n",
    "loader = RunnerStructureLoader(\"input.data\")\n",
    "\n",
    "# potential\n",
    "nnp = NeuralNetworkPotential(\"input.nn\")\n",
    "\n",
    "# Scaler\n",
    "nnp.fit_scaler(loader)\n",
    "# nnp.read_scaler(\"scaling.data\")\n",
    "\n",
    "# Model\n",
    "# nnp.fit_model(loader)\n",
    "# nnp.read_model()\n",
    "\n",
    "# Train\n",
    "# nnp.fit(loader)\n",
    "\n",
    "# Inference\n",
    "# energy = nnp.compute(loader)\n",
    "# force = nnp.compute_force(loader)"
   ]
  }
 ],
 "metadata": {
  "interpreter": {
   "hash": "79f793817441a9b4f3336163bce28fb05f5fade87f8f747882a8ea5340683793"
  },
  "kernelspec": {
   "display_name": "Python (mlp)",
   "language": "python",
   "name": "mlp"
  },
  "language_info": {
   "codemirror_mode": {
    "name": "ipython",
    "version": 3
   },
   "file_extension": ".py",
   "mimetype": "text/x-python",
   "name": "python",
   "nbconvert_exporter": "python",
   "pygments_lexer": "ipython3",
   "version": "3.9.7"
  }
 },
 "nbformat": 4,
 "nbformat_minor": 4
}
