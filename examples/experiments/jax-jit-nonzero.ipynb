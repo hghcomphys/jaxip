{
 "cells": [
  {
   "cell_type": "code",
   "execution_count": 1,
   "id": "e27d8daa-62b2-4139-bbba-c56b34b6894c",
   "metadata": {},
   "outputs": [
    {
     "name": "stdout",
     "output_type": "stream",
     "text": [
      "env: JAX_ENABLE_X64=1\n",
      "env: JAX_PLATFORM_NAME=cpu\n"
     ]
    }
   ],
   "source": [
    "%env JAX_ENABLE_X64=1\n",
    "%env JAX_PLATFORM_NAME=cpu\n",
    "# JAX_DISABLE_JIT=1"
   ]
  },
  {
   "cell_type": "code",
   "execution_count": 2,
   "id": "657719e9-cac0-4549-b5c6-a8c46d53c3ff",
   "metadata": {},
   "outputs": [],
   "source": [
    "import jax.numpy as jnp\n",
    "import jax"
   ]
  },
  {
   "cell_type": "code",
   "execution_count": 3,
   "id": "48ec5650-567a-4895-a058-85b47b230f10",
   "metadata": {},
   "outputs": [],
   "source": [
    "import numpy as np\n",
    "import numba"
   ]
  },
  {
   "cell_type": "code",
   "execution_count": 4,
   "id": "e2e2cc4c-6c71-453d-9e26-1839fe405ac2",
   "metadata": {},
   "outputs": [],
   "source": [
    "xn = np.arange(10, 20)\n",
    "x = jnp.array(xn)\n",
    "# x"
   ]
  },
  {
   "cell_type": "code",
   "execution_count": 7,
   "id": "ee06b7d0-d7b8-4f96-b75d-cd8b50f78f0d",
   "metadata": {},
   "outputs": [],
   "source": [
    "# from jax.lax import dynamic_slice\n",
    "\n",
    "def trim_nonzero(nonzero_fn):\n",
    "    def wrapper(*args, **kwords):\n",
    "        indices, stop = nonzero_fn(*args, **kwords)\n",
    "        return indices[:stop]\n",
    "    return wrapper\n",
    "\n",
    "# @trim_nonzero\n",
    "@jax.jit\n",
    "def find(x):\n",
    "    idx = jnp.nonzero(x > 15, size=x.shape[0], fill_value=-1)[0]  \n",
    "    stop = idx.shape[0] - (idx==-1).sum()\n",
    "    return idx, stop #jax.lax.slice(idx, 0, stop) \n",
    "\n",
    "@jax.jit\n",
    "def find2(x):\n",
    "    idx = jnp.nonzero(x > 15, size=x.shape[0], fill_value=-1)[0]\n",
    "    stop = int(x.shape[0] - (idx==-1).sum())\n",
    "    return idx[:stop]\n",
    "\n",
    "# @trim_nonzero\n",
    "@numba.jit\n",
    "def find_numba(x: np.ndarray): \n",
    "    return np.nonzero(x > 15)[0]  \n",
    "\n",
    "\n",
    "# find2(x)"
   ]
  },
  {
   "cell_type": "code",
   "execution_count": 9,
   "id": "a103bfd4-169c-4be1-9e9e-71cb9adb4319",
   "metadata": {},
   "outputs": [
    {
     "name": "stdout",
     "output_type": "stream",
     "text": [
      "3.9 µs ± 621 ns per loop (mean ± std. dev. of 7 runs, 100,000 loops each)\n"
     ]
    }
   ],
   "source": [
    "%timeit find(x)"
   ]
  },
  {
   "cell_type": "code",
   "execution_count": 63,
   "id": "e49bbf8f-106d-4207-a544-d7e9f3f31d1c",
   "metadata": {},
   "outputs": [
    {
     "name": "stdout",
     "output_type": "stream",
     "text": [
      "581 µs ± 6.64 µs per loop (mean ± std. dev. of 7 runs, 1,000 loops each)\n"
     ]
    }
   ],
   "source": [
    "%timeit find(x)"
   ]
  },
  {
   "cell_type": "code",
   "execution_count": 60,
   "id": "244f9b01-d5ac-46a8-ac79-4cba55bfeab1",
   "metadata": {},
   "outputs": [
    {
     "name": "stdout",
     "output_type": "stream",
     "text": [
      "3.42 µs ± 101 ns per loop (mean ± std. dev. of 7 runs, 100,000 loops each)\n"
     ]
    }
   ],
   "source": [
    "%timeit find(x)"
   ]
  },
  {
   "cell_type": "code",
   "execution_count": null,
   "id": "fd9a7ec0-b34a-49bc-bbf4-31a5824e49ba",
   "metadata": {},
   "outputs": [],
   "source": [
    "%timeit trim(x)"
   ]
  },
  {
   "cell_type": "code",
   "execution_count": 107,
   "id": "61cc108c-67d1-4697-86b8-d19ee082b574",
   "metadata": {},
   "outputs": [
    {
     "name": "stdout",
     "output_type": "stream",
     "text": [
      "1.94 µs ± 158 ns per loop (mean ± std. dev. of 7 runs, 100,000 loops each)\n"
     ]
    }
   ],
   "source": [
    "%timeit find_numba(xn)"
   ]
  },
  {
   "cell_type": "code",
   "execution_count": 11,
   "id": "da3ea258-1d46-4d06-bb54-ece308335af3",
   "metadata": {},
   "outputs": [
    {
     "name": "stdout",
     "output_type": "stream",
     "text": [
      "1.5 µs ± 32.4 ns per loop (mean ± std. dev. of 7 runs, 100,000 loops each)\n"
     ]
    }
   ],
   "source": [
    "%timeit find_numba(np.asarray(x))"
   ]
  },
  {
   "cell_type": "code",
   "execution_count": null,
   "id": "3a23341a-d242-4382-9f81-8de1bbdd6e88",
   "metadata": {},
   "outputs": [],
   "source": []
  }
 ],
 "metadata": {
  "kernelspec": {
   "display_name": "Python (torchip)",
   "language": "python",
   "name": "torhcip"
  },
  "language_info": {
   "codemirror_mode": {
    "name": "ipython",
    "version": 3
   },
   "file_extension": ".py",
   "mimetype": "text/x-python",
   "name": "python",
   "nbconvert_exporter": "python",
   "pygments_lexer": "ipython3",
   "version": "3.10.4"
  }
 },
 "nbformat": 4,
 "nbformat_minor": 5
}
