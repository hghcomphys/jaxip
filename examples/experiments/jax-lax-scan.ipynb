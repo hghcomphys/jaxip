{
 "cells": [
  {
   "cell_type": "code",
   "execution_count": null,
   "id": "6f436e5b-f422-4921-9c81-a21f2b254b62",
   "metadata": {},
   "outputs": [],
   "source": [
    "%env JAX_ENABLE_X64=1\n",
    "%env JAX_PLATFORM_NAME=cpu\n",
    "# JAX_DISABLE_JIT=1"
   ]
  },
  {
   "cell_type": "code",
   "execution_count": null,
   "id": "b8436cb6-74ee-4ab9-86fd-4b4c2b540327",
   "metadata": {},
   "outputs": [],
   "source": [
    "import jax\n",
    "from jax import vmap, jit, grad, lax\n",
    "import jax.numpy as jnp\n",
    "from functools import partial"
   ]
  },
  {
   "cell_type": "code",
   "execution_count": null,
   "id": "14821274-9ea5-4f09-bcfa-5d5b942e00f6",
   "metadata": {},
   "outputs": [],
   "source": [
    "x = jnp.array([1, 2., 3, 4])\n",
    "y = jnp.array([1., 2, 3])\n",
    "m = (x <=2)\n",
    "\n",
    "@jit\n",
    "def csum(x, m):\n",
    "    return jnp.sum(x**2, where=m)\n",
    "\n",
    "@jit\n",
    "def kernel(x, y):\n",
    "    return jnp.sin(x)+ jnp.exp(-y**2)\n",
    "\n",
    "@jit\n",
    "def kernel2(x):\n",
    "    ii = jnp.nonzero(x > 2, size=4, fill_value=-1)[0]\n",
    "    tot = 0.0\n",
    "    for i in ii:\n",
    "        tot += x[i]\n",
    "    return tot\n",
    "\n",
    "@jit\n",
    "def kernel3(x, y):\n",
    "    tot = 0.0\n",
    "    for xi in x:\n",
    "        tot += kernel(xi, y).sum()\n",
    "    return tot\n",
    "\n",
    "@jit\n",
    "def kernel4(x, m, y, my):\n",
    "    tot = 0.0\n",
    "    for xi, mi in zip(x, m):\n",
    "        tot += jnp.where(mi, jnp.sum(kernel(xi, y), where=my), 0)\n",
    "    return tot\n",
    "\n",
    "@jit\n",
    "def kernel5(x, m, y, my):\n",
    "    tot = 0.0\n",
    "    for xi, mi in zip(x, m):\n",
    "        tot += jax.lax.cond(mi, lambda xi: jnp.sum(kernel(xi, y), where=my), lambda xi: 0.0, xi)\n",
    "    return tot"
   ]
  },
  {
   "cell_type": "code",
   "execution_count": null,
   "id": "d614c5d3-bd0e-464b-8e12-788f140b4cce",
   "metadata": {},
   "outputs": [],
   "source": [
    "%timeit kernel5(x, x > 2, y, y > 1)"
   ]
  },
  {
   "cell_type": "code",
   "execution_count": null,
   "id": "afdd2535-e635-4c31-ab17-093a7795a431",
   "metadata": {},
   "outputs": [],
   "source": [
    "%timeit kernel4(x, x > 2, y, y > 1)"
   ]
  },
  {
   "cell_type": "code",
   "execution_count": null,
   "id": "f2e00ab6-298d-48b7-9721-8462880c4019",
   "metadata": {},
   "outputs": [],
   "source": [
    "jit(grad(kernel4))(x, x > 2, y, y > 1)"
   ]
  },
  {
   "cell_type": "code",
   "execution_count": null,
   "id": "3c2a3419-e8f1-486f-9823-59c4fcccf49d",
   "metadata": {},
   "outputs": [],
   "source": [
    "# %timeit csum(x, m)"
   ]
  },
  {
   "cell_type": "code",
   "execution_count": null,
   "id": "92c4a1f3-c11e-4821-8a47-15e666b71ca5",
   "metadata": {},
   "outputs": [],
   "source": [
    "# %timeit csum(x, m)"
   ]
  },
  {
   "cell_type": "code",
   "execution_count": null,
   "id": "baa6e9d1-15d4-4c3e-93fc-554af9e9c270",
   "metadata": {},
   "outputs": [],
   "source": []
  },
  {
   "cell_type": "code",
   "execution_count": null,
   "id": "5f8cfa27-13f6-4c2d-82e6-54951ed9b7da",
   "metadata": {},
   "outputs": [],
   "source": [
    "@jit\n",
    "def f(carry, row):\n",
    "    even = 0\n",
    "    for n in row:\n",
    "        even += jax.lax.cond(n % 2 == 0, lambda: 1, lambda: 0)\n",
    "    return carry + even, even\n",
    "\n",
    "numbers = jnp.array([[3.0, 14.0], [15.0, -7.0], [16.0, -11.0]])\n",
    "numbers"
   ]
  },
  {
   "cell_type": "code",
   "execution_count": null,
   "id": "312bc7c5-ed42-45c6-8bf9-7b05eaadc0df",
   "metadata": {},
   "outputs": [],
   "source": [
    "%timeit jax.lax.scan(f, 0, numbers)"
   ]
  },
  {
   "cell_type": "code",
   "execution_count": null,
   "id": "a146adca-3b17-4a5c-86cb-44b965f9e564",
   "metadata": {},
   "outputs": [],
   "source": [
    "@jit\n",
    "def f(carry, xy):\n",
    "    res = jax.lax.cond(xy[0] > 2, lambda: 0, lambda: xy[1])\n",
    "    return carry + res, res\n",
    "\n",
    "@jit\n",
    "def f2(carry, xy):\n",
    "    res = jnp.where(xy[0] > 2, 0, xy[1])\n",
    "    return carry + res, res\n",
    "\n",
    "def f_slow(carry, x, y):\n",
    "    total = 0\n",
    "    for xi, yi in zip(x, y):\n",
    "        if xi > 2:\n",
    "            total += 0\n",
    "        else:\n",
    "            total += yi\n",
    "    return carry + total"
   ]
  },
  {
   "cell_type": "code",
   "execution_count": null,
   "id": "f35a0aa8-337c-4d66-94eb-430923748288",
   "metadata": {},
   "outputs": [],
   "source": [
    "x = jnp.array(range(100))\n",
    "y = jnp.array(range(100))"
   ]
  },
  {
   "cell_type": "code",
   "execution_count": null,
   "id": "26d041ff-a92f-407d-8299-c093f667762e",
   "metadata": {},
   "outputs": [],
   "source": [
    "%timeit jax.lax.scan(f, 0, (x, y))"
   ]
  },
  {
   "cell_type": "code",
   "execution_count": null,
   "id": "9df27a6e-7d47-422b-a758-2dac53701b1e",
   "metadata": {},
   "outputs": [],
   "source": [
    "%timeit jax.lax.scan(f2, 0, (x, y))"
   ]
  },
  {
   "cell_type": "code",
   "execution_count": null,
   "id": "13c793af-ed57-4fb4-a47f-b79222fbda2e",
   "metadata": {},
   "outputs": [],
   "source": [
    "%timeit f_slow(0, x, y)"
   ]
  },
  {
   "cell_type": "code",
   "execution_count": null,
   "id": "5f40c170-9161-48ad-98c9-8096476cde2c",
   "metadata": {},
   "outputs": [],
   "source": []
  },
  {
   "cell_type": "code",
   "execution_count": null,
   "id": "2372b008-3d5e-4a94-827f-ed5a9d2aa8fc",
   "metadata": {},
   "outputs": [],
   "source": [
    "class A:\n",
    "    def __init__(self, a: float):\n",
    "        self.a = a\n",
    "        \n",
    "    @partial(jax.jit, static_argnums=(0))\n",
    "    def __call__(self, x: jnp.ndarray) -> jnp.ndarray:\n",
    "        return self.a * x.sum()\n",
    "    \n",
    "kernel = A(2.0)\n",
    "kernel(jnp.array([1, 2]))"
   ]
  },
  {
   "cell_type": "code",
   "execution_count": null,
   "id": "320207ef-652e-4add-b7ce-e021148bf52e",
   "metadata": {},
   "outputs": [],
   "source": [
    "@jit\n",
    "def f(carry, xy):\n",
    "    res = jax.lax.cond(xy[0] > 2, lambda x: 0.0, kernel, xy[1])\n",
    "    return carry + res, res"
   ]
  },
  {
   "cell_type": "code",
   "execution_count": null,
   "id": "d8236eca-fe36-45bf-b00d-54c5f9897ca7",
   "metadata": {},
   "outputs": [],
   "source": [
    "%timeit jax.lax.scan(f, 0, (x, y))"
   ]
  },
  {
   "cell_type": "code",
   "execution_count": null,
   "id": "7a545218-8e62-4987-97c5-daf8a7b9d031",
   "metadata": {},
   "outputs": [],
   "source": [
    "jax.lax.scan(f, 0, (x, y))"
   ]
  },
  {
   "cell_type": "code",
   "execution_count": null,
   "id": "ca23fe0c-fe21-4bc8-bbea-dfb9401fd225",
   "metadata": {},
   "outputs": [],
   "source": []
  },
  {
   "cell_type": "code",
   "execution_count": null,
   "id": "ac3b095f-d8b0-4d1a-b512-2b1a4d16e5f3",
   "metadata": {},
   "outputs": [],
   "source": [
    "rij = jnp.array([1, 2., 3.])\n",
    "mask_ik = rij > 2\n",
    "dis_i = jnp.array([3., 4, 5])\n",
    "xs = rij, mask_ik, dis_i\n",
    "xs"
   ]
  },
  {
   "cell_type": "code",
   "execution_count": null,
   "id": "a3456c83-f2a5-401e-9e40-b591882cc746",
   "metadata": {},
   "outputs": [],
   "source": [
    "%timeit jax.lax.scan(f, 0, xs)"
   ]
  },
  {
   "cell_type": "code",
   "execution_count": null,
   "id": "e18baa48-31f0-4f7f-b748-106067520747",
   "metadata": {},
   "outputs": [],
   "source": []
  }
 ],
 "metadata": {
  "kernelspec": {
   "display_name": "Python (torchip)",
   "language": "python",
   "name": "torhcip"
  },
  "language_info": {
   "codemirror_mode": {
    "name": "ipython",
    "version": 3
   },
   "file_extension": ".py",
   "mimetype": "text/x-python",
   "name": "python",
   "nbconvert_exporter": "python",
   "pygments_lexer": "ipython3",
   "version": "3.10.4"
  }
 },
 "nbformat": 4,
 "nbformat_minor": 5
}
