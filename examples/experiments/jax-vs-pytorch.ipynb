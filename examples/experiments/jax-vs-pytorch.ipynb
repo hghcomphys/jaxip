{
 "cells": [
  {
   "cell_type": "markdown",
   "id": "845d0290-72af-4132-87fb-235988ff303d",
   "metadata": {},
   "source": [
    "# Performance of JAX vs PyTorch\n",
    "\n",
    "Observataions:\n",
    "- it seems that JAX with JIT is fatser than Pytorch JIT.Script\n",
    "- for my toy kernel using the where() method, JAX is 20-30x faster PyTorch\n",
    "- Jax JIT can be used for class method as well. \n",
    "- torch jit script works only for functions and subclasses of nn.Module\n",
    "\n",
    "An useful link https://www.kaggle.com/code/grez911/performance-of-jax-vs-pytorch"
   ]
  },
  {
   "cell_type": "code",
   "execution_count": null,
   "id": "8fd82649-319a-4d5f-adbd-8237cd8de11a",
   "metadata": {},
   "outputs": [],
   "source": [
    "%load_ext memory_profiler"
   ]
  },
  {
   "cell_type": "code",
   "execution_count": null,
   "id": "ce1a2332-766f-4d7f-a7d8-fa9860472a04",
   "metadata": {},
   "outputs": [],
   "source": [
    "N = 10000"
   ]
  },
  {
   "cell_type": "markdown",
   "id": "d4c384a0-e9cd-46f8-ae09-5cfad15208c0",
   "metadata": {},
   "source": [
    "## Jax"
   ]
  },
  {
   "cell_type": "code",
   "execution_count": null,
   "id": "d5d6c992-eee8-44b0-8fb8-df19743bb567",
   "metadata": {},
   "outputs": [],
   "source": [
    "%env JAX_ENABLE_X64=1\n",
    "%env JAX_PLATFORM_NAME=cpu"
   ]
  },
  {
   "cell_type": "code",
   "execution_count": null,
   "id": "5874aaf0-052b-4c4c-804b-1b3ba8da3766",
   "metadata": {},
   "outputs": [],
   "source": [
    "import jax.numpy as jnp\n",
    "from jax import grad, jit, vmap\n",
    "from jax import random"
   ]
  },
  {
   "cell_type": "code",
   "execution_count": null,
   "id": "84403856-e23b-409a-9c11-35f72f196f93",
   "metadata": {},
   "outputs": [],
   "source": [
    "def jax_kernel(x):\n",
    "    return jnp.sum(jnp.where(x > 0.5, x, x**2))"
   ]
  },
  {
   "cell_type": "code",
   "execution_count": null,
   "id": "f29b5006-eaee-4060-9fff-b1f893b882eb",
   "metadata": {},
   "outputs": [],
   "source": [
    "key = random.PRNGKey(0)\n",
    "x = random.uniform(key, (N,))\n",
    "# x"
   ]
  },
  {
   "cell_type": "code",
   "execution_count": null,
   "id": "5a69c073-473b-4d59-9d43-dbc82c99122a",
   "metadata": {},
   "outputs": [],
   "source": [
    "%timeit jax_kernel(x)"
   ]
  },
  {
   "cell_type": "code",
   "execution_count": null,
   "id": "d62aa606-b50c-4187-92e5-0674617b8dc8",
   "metadata": {},
   "outputs": [],
   "source": [
    "jit_jax_kernel = jit(jax_kernel)\n",
    "\n",
    "%timeit jit_jax_kernel(x).block_until_ready()"
   ]
  },
  {
   "cell_type": "code",
   "execution_count": null,
   "id": "bc3f87e9-2ff3-494c-bc03-0b88d473db7b",
   "metadata": {},
   "outputs": [],
   "source": [
    "derivative_jax_kernel = grad(jax_kernel)\n",
    "\n",
    "%timeit derivative_jax_kernel(x).block_until_ready()"
   ]
  },
  {
   "cell_type": "code",
   "execution_count": null,
   "id": "b9ec1380-3b6b-4f37-9a04-2ca9edd9cf21",
   "metadata": {},
   "outputs": [],
   "source": [
    "derivative_jit_jax_kernel = jit(derivative_jax_kernel)\n",
    "\n",
    "%timeit derivative_jit_jax_kernel(x).block_until_ready()"
   ]
  },
  {
   "cell_type": "code",
   "execution_count": null,
   "id": "7765af7d-1f98-445e-8d08-15f8370cd98b",
   "metadata": {},
   "outputs": [],
   "source": [
    "%memit jit_jax_kernel(x)"
   ]
  },
  {
   "cell_type": "code",
   "execution_count": null,
   "id": "80eea18a-2677-41b1-b16d-a00121c2e28e",
   "metadata": {},
   "outputs": [],
   "source": [
    "%memit derivative_jit_jax_kernel(x)"
   ]
  },
  {
   "cell_type": "markdown",
   "id": "82b92733-bbed-4cbb-ae44-13a81784fb55",
   "metadata": {},
   "source": [
    "## Torch"
   ]
  },
  {
   "cell_type": "code",
   "execution_count": null,
   "id": "326dff3e-c19b-4d15-ba97-acdb09af5805",
   "metadata": {},
   "outputs": [],
   "source": [
    "import torch"
   ]
  },
  {
   "cell_type": "code",
   "execution_count": null,
   "id": "f863d9f3-edc8-4b07-81ed-fcf915faab96",
   "metadata": {},
   "outputs": [],
   "source": [
    "def torch_kernel(x):\n",
    "    return torch.sum(torch.where(x > 0.5, x, x**2))"
   ]
  },
  {
   "cell_type": "code",
   "execution_count": null,
   "id": "0509cfff-3fab-4181-a0c8-8292fd0b49c4",
   "metadata": {},
   "outputs": [],
   "source": [
    "x = torch.rand((N,), requires_grad=True)\n",
    "# x"
   ]
  },
  {
   "cell_type": "code",
   "execution_count": null,
   "id": "0007b60a-4c42-43b1-ad53-5cd266b34b87",
   "metadata": {},
   "outputs": [],
   "source": [
    "%timeit torch_kernel(x)"
   ]
  },
  {
   "cell_type": "code",
   "execution_count": null,
   "id": "6d0405a2-0353-47c3-8d05-e9740f68a1d7",
   "metadata": {},
   "outputs": [],
   "source": [
    "jit_torch_kernel = torch.jit.script(torch_kernel)\n",
    "\n",
    "%timeit jit_torch_kernel(x)"
   ]
  },
  {
   "cell_type": "code",
   "execution_count": null,
   "id": "ea40ef20-e5c9-4b76-9137-1c2db5ff7a46",
   "metadata": {},
   "outputs": [],
   "source": [
    "%timeit torch.autograd.grad(torch_kernel(x), [x])"
   ]
  },
  {
   "cell_type": "code",
   "execution_count": null,
   "id": "71ee42ce-5cdf-429c-aea9-3dc42d7230af",
   "metadata": {},
   "outputs": [],
   "source": [
    "%timeit torch.autograd.grad(jit_torch_kernel(x), [x])"
   ]
  },
  {
   "cell_type": "code",
   "execution_count": null,
   "id": "68540f4a-3d87-480d-8b09-011456313bab",
   "metadata": {},
   "outputs": [],
   "source": [
    "%memit jit_torch_kernel(x)"
   ]
  },
  {
   "cell_type": "code",
   "execution_count": null,
   "id": "32a96acc-bd2c-4c66-8bbb-09db252c3c59",
   "metadata": {},
   "outputs": [],
   "source": [
    "%memit torch.autograd.grad(jit_torch_kernel(x), [x])"
   ]
  },
  {
   "cell_type": "markdown",
   "id": "ff880c85-8f1c-4451-9b64-413c408b27c1",
   "metadata": {},
   "source": [
    "### Further experiments"
   ]
  },
  {
   "cell_type": "markdown",
   "id": "c2e233e4-6983-4e78-8d80-12a40e17eaf1",
   "metadata": {},
   "source": [
    "#### Jax JIT"
   ]
  },
  {
   "cell_type": "code",
   "execution_count": null,
   "id": "5808e0fe-98a0-45cb-b3ef-ec05a8fe882b",
   "metadata": {},
   "outputs": [],
   "source": [
    "import jax.numpy as jnp\n",
    "from jax import grad, jit, vmap\n",
    "from jax import random"
   ]
  },
  {
   "cell_type": "code",
   "execution_count": null,
   "id": "0b92388f-2b63-4bb8-b372-3eebc9e662e5",
   "metadata": {},
   "outputs": [],
   "source": [
    "x = random.uniform(key, (1000,3))\n",
    "x.dtype"
   ]
  },
  {
   "cell_type": "code",
   "execution_count": null,
   "id": "6d52149c-93f4-4dc4-abfe-c48e0f390bb2",
   "metadata": {},
   "outputs": [],
   "source": [
    "def F(x, y):\n",
    "    return x.sum() + 2*y.sum()"
   ]
  },
  {
   "cell_type": "code",
   "execution_count": null,
   "id": "40800ef3-3fef-497c-8d82-5e358dba1029",
   "metadata": {},
   "outputs": [],
   "source": [
    "dF = jit(grad(F, argnums=1))"
   ]
  },
  {
   "cell_type": "code",
   "execution_count": null,
   "id": "c5e5ebd1-d07c-4a23-805b-77543ba7f50e",
   "metadata": {},
   "outputs": [],
   "source": [
    "dF(x, x)"
   ]
  },
  {
   "cell_type": "code",
   "execution_count": null,
   "id": "99ec91af-ec03-431d-b1a1-ed4255db6f1d",
   "metadata": {},
   "outputs": [],
   "source": [
    "@jit\n",
    "def F(x, y):\n",
    "    sum_x  = x.sum()\n",
    "    print(f'{x=}')\n",
    "    sum_y = 2*y.sum()\n",
    "    print(f'{sum_y=}')\n",
    "    print(f'{x.shape=}')\n",
    "    return sum_x + sum_y"
   ]
  },
  {
   "cell_type": "code",
   "execution_count": null,
   "id": "213ffa0e-de1b-4b60-9462-1a7874dfdfb4",
   "metadata": {},
   "outputs": [],
   "source": [
    "F(x, x)"
   ]
  },
  {
   "cell_type": "markdown",
   "id": "e2dc24da-f9b0-4da8-bc0a-afaa7712a15c",
   "metadata": {},
   "source": [
    "#### torch scriptted function"
   ]
  },
  {
   "cell_type": "code",
   "execution_count": 4,
   "id": "be2b49f2-e530-4c10-950e-dcd993087b00",
   "metadata": {},
   "outputs": [
    {
     "data": {
      "text/plain": [
       "tensor(0.0987)"
      ]
     },
     "execution_count": 4,
     "metadata": {},
     "output_type": "execute_result"
    }
   ],
   "source": [
    "import torch\n",
    "from torch import Tensor \n",
    "\n",
    "@torch.jit.script\n",
    "def cutoff_function(r: Tensor, r_cutoff: float) -> Tensor:\n",
    "    cfn = torch.tanh(1.0 - r / r_cutoff).pow(3)\n",
    "    return torch.where(r < r_cutoff, cfn, torch.zeros_like(r))\n",
    "\n",
    "r = torch.tensor(1.0) \n",
    "r_cutoff = 2.0\n",
    "cutff_function(r, r_cutoff)"
   ]
  },
  {
   "cell_type": "code",
   "execution_count": 2,
   "id": "9eef249a-1cde-4d06-86e2-7d6ccb445e20",
   "metadata": {},
   "outputs": [],
   "source": [
    "# scripted_call.graph"
   ]
  },
  {
   "cell_type": "code",
   "execution_count": 3,
   "id": "1c923ac8-ad13-4e05-a14a-dee9fcb3f53d",
   "metadata": {},
   "outputs": [
    {
     "name": "stdout",
     "output_type": "stream",
     "text": [
      "25.1 µs ± 2.63 µs per loop (mean ± std. dev. of 7 runs, 10,000 loops each)\n"
     ]
    }
   ],
   "source": [
    "%timeit cutoff_function(r, r_cutoff)"
   ]
  },
  {
   "cell_type": "code",
   "execution_count": 6,
   "id": "5feb80fa-78c3-4602-bea1-9c48e1c35f7c",
   "metadata": {},
   "outputs": [
    {
     "name": "stdout",
     "output_type": "stream",
     "text": [
      "5.03 µs ± 1.25 µs per loop (mean ± std. dev. of 7 runs, 100,000 loops each)\n"
     ]
    }
   ],
   "source": [
    "%timeit cutoff_function(r, r_cutoff)"
   ]
  },
  {
   "cell_type": "markdown",
   "id": "57ae6899-5593-46e8-bd66-570e007f5066",
   "metadata": {},
   "source": [
    "#### Cutoff function"
   ]
  },
  {
   "cell_type": "code",
   "execution_count": 28,
   "id": "ffc60d38-5358-467b-8dc1-ee114aee9af8",
   "metadata": {},
   "outputs": [],
   "source": [
    "import jax.numpy as jnp\n",
    "import numpy as onp\n",
    "from jax import jit, jacfwd, grad\n",
    "from functools import partial"
   ]
  },
  {
   "cell_type": "code",
   "execution_count": 41,
   "id": "a20f8c00-e031-4135-ba9d-5a171589eb44",
   "metadata": {},
   "outputs": [],
   "source": [
    "_LIB = jnp # torch\n",
    "    \n",
    "class CutoffFunction:\n",
    "\n",
    "    _TANH_PRE = ((torch.e + 1 / torch.e) / (torch.e - 1 / torch.e))**3\n",
    "\n",
    "    def __init__(self, r_cutoff: float, cutoff_type: str = \"tanh\"):\n",
    "        self.r_cutoff = r_cutoff\n",
    "        self.cutoff_type = cutoff_type.lower()\n",
    "        self.inv_r_cutoff = 1.0 / self.r_cutoff\n",
    "        # Set cutoff type function\n",
    "        try:\n",
    "            self.cfn = getattr(self, f\"{self.cutoff_type}\")\n",
    "        except AttributeError:\n",
    "            logger.error(\n",
    "                f\"'{self.__class__.__name__}' has no cutoff function '{self.cutoff_type}'\",\n",
    "                exception=NotImplementedError,\n",
    "            )\n",
    "\n",
    "    @partial(jit, static_argnums=(0,))\n",
    "    def __call__(self, r: Tensor) -> Tensor:\n",
    "        return _LIB.where(r < self.r_cutoff, self.cfn(r), _LIB.zeros_like(r))\n",
    "\n",
    "    def hard(self, r: Tensor) -> Tensor:\n",
    "        return _LIB.ones_like(r)\n",
    "\n",
    "    def tanhu(self, r: Tensor) -> Tensor:\n",
    "        return _LIB.tanh(1.0 - r * self.inv_r_cutoff)**3\n",
    "\n",
    "    def tanh(self, r: Tensor) -> Tensor:\n",
    "        return self._TANH_PRE * _LIB.tanh(1.0 - r * self.inv_r_cutoff)**3\n",
    "\n",
    "    def cos(self, r: Tensor) -> Tensor:\n",
    "        return 0.5 * (_LIB.cos(math.pi * r * self.inv_r_cutoff) + 1.0)\n",
    "\n",
    "    def exp(self, r: Tensor) -> Tensor:\n",
    "        return _LIB.exp(1.0 - 1.0 / (1.0 - (r * self.inv_r_cutoff) ** 2))\n",
    "\n",
    "    def poly1(self, r: Tensor) -> Tensor:\n",
    "        return (2.0 * r - 3.0) * r**2 + 1.0\n",
    "\n",
    "    def poly2(self, r: Tensor) -> Tensor:\n",
    "        return ((15.0 - 6.0 * r) * r - 10) * r**3 + 1.0\n",
    "\n",
    "    def __repr__(self) -> str:\n",
    "        return f\"{self.__class__.__name__}(r_cutoff={self.r_cutoff}, cutoff_type='{self.cutoff_type}')\"\n"
   ]
  },
  {
   "cell_type": "code",
   "execution_count": 42,
   "id": "1632249f-ef78-42e2-be4f-95d877150140",
   "metadata": {},
   "outputs": [
    {
     "data": {
      "text/plain": [
       "CutoffFunction(r_cutoff=2.0, cutoff_type='tanh')"
      ]
     },
     "execution_count": 42,
     "metadata": {},
     "output_type": "execute_result"
    }
   ],
   "source": [
    "r = jnp.array(1.0) # torch.tensor(1.0)\n",
    "r_cutoff = 2.0\n",
    "\n",
    "cfn = CutoffFunction(r_cutoff)\n",
    "cfn"
   ]
  },
  {
   "cell_type": "code",
   "execution_count": 39,
   "id": "7e2d3317-b0b0-4fef-97d3-edae37811d19",
   "metadata": {},
   "outputs": [
    {
     "name": "stdout",
     "output_type": "stream",
     "text": [
      "31.9 µs ± 6.86 µs per loop (mean ± std. dev. of 7 runs, 10,000 loops each)\n"
     ]
    }
   ],
   "source": [
    "%timeit cfn(r)"
   ]
  },
  {
   "cell_type": "code",
   "execution_count": 43,
   "id": "aba9dc20-cbe0-43b6-a276-586f81e77614",
   "metadata": {},
   "outputs": [
    {
     "name": "stdout",
     "output_type": "stream",
     "text": [
      "1.83 µs ± 55.1 ns per loop (mean ± std. dev. of 7 runs, 100,000 loops each)\n"
     ]
    }
   ],
   "source": [
    "%timeit cfn(r)"
   ]
  },
  {
   "cell_type": "code",
   "execution_count": 33,
   "id": "61605f8f-251f-42b9-bbfc-f4a836ecd92b",
   "metadata": {},
   "outputs": [
    {
     "data": {
      "text/plain": [
       "DeviceArray(0.2234012, dtype=float32, weak_type=True)"
      ]
     },
     "execution_count": 33,
     "metadata": {},
     "output_type": "execute_result"
    }
   ],
   "source": [
    "cfn(r)"
   ]
  },
  {
   "cell_type": "code",
   "execution_count": 35,
   "id": "26065c61-bc04-41ef-9566-5df4aae4b885",
   "metadata": {},
   "outputs": [
    {
     "data": {
      "text/plain": [
       "DeviceArray(0.5800375, dtype=float32, weak_type=True)"
      ]
     },
     "execution_count": 35,
     "metadata": {},
     "output_type": "execute_result"
    }
   ],
   "source": [
    "cfn(r*0.5)"
   ]
  },
  {
   "cell_type": "code",
   "execution_count": null,
   "id": "3c83f05a-41e3-4ce2-a891-e1c5d36da5de",
   "metadata": {},
   "outputs": [],
   "source": []
  }
 ],
 "metadata": {
  "kernelspec": {
   "display_name": "Python (jax)",
   "language": "python",
   "name": "jax"
  },
  "language_info": {
   "codemirror_mode": {
    "name": "ipython",
    "version": 3
   },
   "file_extension": ".py",
   "mimetype": "text/x-python",
   "name": "python",
   "nbconvert_exporter": "python",
   "pygments_lexer": "ipython3",
   "version": "3.10.6"
  }
 },
 "nbformat": 4,
 "nbformat_minor": 5
}
