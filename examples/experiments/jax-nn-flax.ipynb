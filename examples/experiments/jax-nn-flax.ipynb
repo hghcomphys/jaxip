{
 "cells": [
  {
   "cell_type": "markdown",
   "id": "796881e5-5af2-4239-a2fa-466ea4a41f46",
   "metadata": {},
   "source": [
    " Useful links:\n",
    " - [Flax_basics](https://flax.readthedocs.io/en/latest/guides/flax_basics.html)\n",
    " - [Training-Loop-in-JAX](https://wandb.ai/jax-series/simple-training-loop/reports/Writing-a-Training-Loop-in-JAX-FLAX--VmlldzoyMzA4ODEy)\n",
    " - [Kaggle example](https://www.kaggle.com/code/nilaychauhan/digit-recognizer-using-jax-flax/notebook)"
   ]
  },
  {
   "cell_type": "code",
   "execution_count": null,
   "id": "b701b692-e6bd-4863-b71d-3a9bc9232114",
   "metadata": {},
   "outputs": [],
   "source": [
    "# %env JAX_ENABLE_X64=1\n",
    "%env JAX_PLATFORM_NAME=cpu\n",
    "# %env JAX_DISABLE_JIT=1\n",
    "# %env JAX_DEBUG_NANS=1"
   ]
  },
  {
   "cell_type": "code",
   "execution_count": null,
   "id": "a5b8b42e-467d-4bae-b725-17c1c2efa098",
   "metadata": {},
   "outputs": [],
   "source": [
    "import jax\n",
    "from jax import random, lax, jit\n",
    "from flax import linen as nn\n",
    "from typing import Sequence, Callable\n",
    "import optax\n",
    "from flax.training import train_state\n",
    "import jax.numpy as jnp\n",
    "from collections import defaultdict\n",
    "import matplotlib.pylab as plt\n",
    "import numpy as np"
   ]
  },
  {
   "cell_type": "code",
   "execution_count": null,
   "id": "7785602d-2050-4e11-a305-793359ae67b7",
   "metadata": {},
   "outputs": [],
   "source": [
    "class Net(nn.Module):\n",
    "    features: Sequence[int]\n",
    "\n",
    "    def setup(self):\n",
    "        self.layers = [nn.Dense(feat) for feat in self.features]\n",
    "\n",
    "    def __call__(self, inputs):\n",
    "        x = inputs\n",
    "        for i, layer in enumerate(self.layers):\n",
    "            x = layer(x)\n",
    "            if i != len(self.layers) - 1:\n",
    "                x = nn.tanh(x)\n",
    "        return x"
   ]
  },
  {
   "cell_type": "code",
   "execution_count": null,
   "id": "6fafebfb-0bc9-4d66-9f29-d36561c4ebcc",
   "metadata": {},
   "outputs": [],
   "source": [
    "key1, key2 = random.split(random.PRNGKey(0), 2)\n",
    "\n",
    "def generate_x(shape):\n",
    "    return 5 * jnp.pi * jnp.asarray(np.random.uniform(size=shape)) # random.uniform(key1, shape)\n",
    "\n",
    "def target(x):\n",
    "    return jnp.cos(x)\n",
    "\n",
    "x = generate_x((512, 1))\n",
    "# x"
   ]
  },
  {
   "cell_type": "code",
   "execution_count": null,
   "id": "3c1d56bd-73dd-45d4-b08a-409298705eca",
   "metadata": {},
   "outputs": [],
   "source": [
    "model = Net(features=[512, 256, 128, 64, 32, 1])\n",
    "params = model.init(key2, x)\n",
    "jax.tree_map(lambda x: x.shape, params) # Check the parameters"
   ]
  },
  {
   "cell_type": "code",
   "execution_count": null,
   "id": "bb8cf372-7f04-446c-b435-b02fcbfdac5d",
   "metadata": {},
   "outputs": [],
   "source": [
    "y = model.apply(params, x)\n",
    "y.shape"
   ]
  },
  {
   "cell_type": "code",
   "execution_count": null,
   "id": "44c2713c-3924-4d01-93b5-e3c8b27d00b7",
   "metadata": {},
   "outputs": [],
   "source": [
    "def init_train_state(\n",
    "    model, \n",
    "    random_key, \n",
    "    shape, \n",
    "    learning_rate,\n",
    ") -> train_state.TrainState:\n",
    "    \n",
    "    # Initialize the Model\n",
    "    variables = model.init(random_key, jnp.ones(shape))\n",
    "    \n",
    "    # Create the optimizer\n",
    "    optimizer = optax.adam(learning_rate)\n",
    "    # optimizer = optax.sgd(0.0001, 0.9)\n",
    "    \n",
    "    # Create a State\n",
    "    return train_state.TrainState.create(\n",
    "        apply_fn = model.apply,\n",
    "        tx=optimizer,\n",
    "        params=variables['params'],\n",
    "    )\n",
    "\n",
    "state = init_train_state(\n",
    "    model, key2, (16, 1), 0.001\n",
    ")\n",
    "# state"
   ]
  },
  {
   "cell_type": "code",
   "execution_count": null,
   "id": "7cc825e5-57cd-4d45-87e2-be1d6bb05a69",
   "metadata": {},
   "outputs": [],
   "source": [
    "@jit\n",
    "def train_step(\n",
    "    state: train_state.TrainState, \n",
    "    batch: jnp.ndarray,\n",
    "):\n",
    "    x, y = batch\n",
    "\n",
    "    def loss_fn(params):\n",
    "        logits = state.apply_fn({'params': params}, x)\n",
    "        loss = jnp.mean((logits - y)**2) # MSE, compute_loss\n",
    "        return loss, logits\n",
    "\n",
    "    gradient_fn = jax.value_and_grad(loss_fn, has_aux=True)\n",
    "    (_, logits), grads = gradient_fn(state.params)\n",
    "    state = state.apply_gradients(grads=grads)\n",
    "    metrics = jnp.mean((logits - y)**2) # MSE, compute_metrics\n",
    "    return state, metrics\n",
    "\n",
    "@jit\n",
    "def eval_step(\n",
    "    state: train_state.TrainState, \n",
    "    batch: jnp.ndarray,\n",
    "):\n",
    "    x, y = batch\n",
    "    logits = state.apply_fn({'params': state.params}, x)\n",
    "    return jnp.mean((logits - y)**2)"
   ]
  },
  {
   "cell_type": "code",
   "execution_count": null,
   "id": "12164a63-100d-4247-9908-d88e7685a621",
   "metadata": {},
   "outputs": [],
   "source": [
    "history = defaultdict(list)\n",
    "\n",
    "for epoch in range(1000):\n",
    "    x_ = generate_x((16, 1))\n",
    "    batch = x_, target(x_) \n",
    "    state, metrics = train_step(state, batch)\n",
    "    if epoch % 10 == 0:\n",
    "        print(f\"{epoch=}, metric={metrics}\")\n",
    "        # print(state.params['layers_0']['bias'])\n",
    "    history['epoch'].append(epoch)\n",
    "    history['metrics_train'].append(metrics)"
   ]
  },
  {
   "cell_type": "code",
   "execution_count": null,
   "id": "a4e9baec-ed61-4809-9dfb-345f9180363a",
   "metadata": {},
   "outputs": [],
   "source": [
    "plt.plot(history['epoch'], history['metrics_train'])\n",
    "plt.xlabel(\"epoch\")\n",
    "plt.ylabel(\"metrics\");"
   ]
  },
  {
   "cell_type": "code",
   "execution_count": null,
   "id": "6b19229d-5931-4e4b-b450-bb9f7690ffaa",
   "metadata": {},
   "outputs": [],
   "source": [
    "x = generate_x((512, 1))\n",
    "y_pred = model.apply({'params': state.params}, x)\n",
    "y_true = target(x)\n",
    "print(jnp.mean((y_pred - y_true)**2))\n",
    "\n",
    "plt.scatter(x, y_pred, label=\"neural network\")\n",
    "plt.scatter(x, y_true, label=\"target fucntion\")\n",
    "plt.legend()"
   ]
  },
  {
   "cell_type": "code",
   "execution_count": null,
   "id": "3ae8cf43-901d-42f7-88ad-0ea5b4452a21",
   "metadata": {},
   "outputs": [],
   "source": []
  },
  {
   "cell_type": "code",
   "execution_count": null,
   "id": "1562e894-719c-4932-bcda-95b5a058c478",
   "metadata": {},
   "outputs": [],
   "source": []
  },
  {
   "cell_type": "code",
   "execution_count": null,
   "id": "c47057fa-fc4b-4e86-bd17-826415d3d3a8",
   "metadata": {},
   "outputs": [],
   "source": []
  },
  {
   "cell_type": "code",
   "execution_count": null,
   "id": "f6faca27-6a0d-4797-a516-0cf28ca1d80e",
   "metadata": {},
   "outputs": [],
   "source": [
    "class SimpleDense(nn.Module):\n",
    "    features: int\n",
    "    kernel_init: Callable = nn.initializers.lecun_normal()\n",
    "    bias_init: Callable = nn.initializers.zeros\n",
    "\n",
    "    @nn.compact\n",
    "    def __call__(self, inputs):\n",
    "        kernel = self.param('kernel',\n",
    "                            self.kernel_init, # Initialization function\n",
    "                            (inputs.shape[-1], self.features))  # shape info.\n",
    "        y = lax.dot_general(inputs, kernel,\n",
    "                            (((inputs.ndim - 1,), (0,)), ((), ())),) # TODO Why not jnp.dot?\n",
    "        bias = self.param('bias', self.bias_init, (self.features,))\n",
    "        y = y + bias\n",
    "        return y\n",
    "\n",
    "key1, key2 = random.split(random.PRNGKey(0), 2)\n",
    "x = random.uniform(key1, (4,4))\n",
    "\n",
    "model = SimpleDense(features=3)\n",
    "params = model.init(key2, x)\n",
    "y = model.apply(params, x)\n",
    "\n",
    "print('initialized parameters:\\n', params)\n",
    "print('output:\\n', y)"
   ]
  },
  {
   "cell_type": "code",
   "execution_count": null,
   "id": "a68fc669-102a-4907-8eff-05be20934ba6",
   "metadata": {},
   "outputs": [],
   "source": []
  },
  {
   "cell_type": "code",
   "execution_count": null,
   "id": "1d349b7b-8b13-4059-bf30-68d47630948e",
   "metadata": {},
   "outputs": [],
   "source": []
  }
 ],
 "metadata": {
  "kernelspec": {
   "display_name": "Python (mlpot3)",
   "language": "python",
   "name": "mlpot"
  },
  "language_info": {
   "codemirror_mode": {
    "name": "ipython",
    "version": 3
   },
   "file_extension": ".py",
   "mimetype": "text/x-python",
   "name": "python",
   "nbconvert_exporter": "python",
   "pygments_lexer": "ipython3",
   "version": "3.10.6"
  }
 },
 "nbformat": 4,
 "nbformat_minor": 5
}
