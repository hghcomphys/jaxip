{
 "cells": [
  {
   "cell_type": "code",
   "execution_count": 2,
   "id": "9c666954-986e-498c-b650-c35e8fab5a01",
   "metadata": {},
   "outputs": [],
   "source": [
    "import sys\n",
    "sys.path.append('../../')\n",
    "\n",
    "import torch\n",
    "import torchip as tip\n",
    "from torchip.descriptors.asf.cutoff import CutoffFunction, _tanh\n",
    "tip.device.DEVICE = torch.device(\"cpu\")"
   ]
  },
  {
   "cell_type": "code",
   "execution_count": 3,
   "id": "58dd38c3-b999-4582-8e2f-43a3be886d3d",
   "metadata": {},
   "outputs": [],
   "source": [
    "r = torch.tensor(2.0)\n",
    "r_cutoff = 3.0"
   ]
  },
  {
   "cell_type": "code",
   "execution_count": 4,
   "id": "6bfe2edf-4f53-4431-8bf1-85ba37a4d438",
   "metadata": {},
   "outputs": [
    {
     "data": {
      "text/plain": [
       "tensor(0.0752)"
      ]
     },
     "execution_count": 4,
     "metadata": {},
     "output_type": "execute_result"
    }
   ],
   "source": [
    "cfn = CutoffFunction(r_cutoff)\n",
    "\n",
    "# warmup\n",
    "for _ in range(5):\n",
    "    cfn(r)\n",
    "cfn(r)"
   ]
  },
  {
   "cell_type": "code",
   "execution_count": 7,
   "id": "4753ba67-6947-459d-bfda-fc2d26a986a3",
   "metadata": {},
   "outputs": [
    {
     "name": "stdout",
     "output_type": "stream",
     "text": [
      "29.4 µs ± 402 ns per loop (mean ± std. dev. of 7 runs, 10,000 loops each)\n"
     ]
    }
   ],
   "source": [
    "%timeit cfn(r)"
   ]
  },
  {
   "cell_type": "code",
   "execution_count": 6,
   "id": "ec83d214-5573-4fe2-8a00-d037ac5833be",
   "metadata": {},
   "outputs": [
    {
     "name": "stdout",
     "output_type": "stream",
     "text": [
      "4.84 µs ± 35.5 ns per loop (mean ± std. dev. of 7 runs, 100,000 loops each)\n"
     ]
    }
   ],
   "source": [
    "%timeit cfn(r)"
   ]
  },
  {
   "cell_type": "code",
   "execution_count": 7,
   "id": "b621dcc1-653e-4fe2-99d7-70e367f77c92",
   "metadata": {},
   "outputs": [
    {
     "name": "stdout",
     "output_type": "stream",
     "text": [
      "4.68 µs ± 34.3 ns per loop (mean ± std. dev. of 7 runs, 100,000 loops each)\n"
     ]
    }
   ],
   "source": [
    "%timeit _tanh(r, r_cutoff, CutoffFunction._TANH_PRE)"
   ]
  },
  {
   "cell_type": "code",
   "execution_count": 7,
   "id": "aaba8f50-6c65-4f2b-a639-ee4fc0ea9ea3",
   "metadata": {},
   "outputs": [
    {
     "name": "stdout",
     "output_type": "stream",
     "text": [
      "4.92 µs ± 444 ns per loop (mean ± std. dev. of 7 runs, 100,000 loops each)\n"
     ]
    }
   ],
   "source": [
    "%timeit cfn(r)"
   ]
  },
  {
   "cell_type": "code",
   "execution_count": 5,
   "id": "5ce94fba-997c-40c0-8826-428fde31c816",
   "metadata": {},
   "outputs": [
    {
     "name": "stdout",
     "output_type": "stream",
     "text": [
      "4.74 µs ± 56.4 ns per loop (mean ± std. dev. of 7 runs, 100,000 loops each)\n"
     ]
    }
   ],
   "source": [
    "%timeit cfn(r)"
   ]
  },
  {
   "cell_type": "code",
   "execution_count": null,
   "id": "8f87334a-86be-479a-9ef2-ac8f8a1325dc",
   "metadata": {},
   "outputs": [],
   "source": []
  }
 ],
 "metadata": {
  "kernelspec": {
   "display_name": "Python (torchip)",
   "language": "python",
   "name": "torhcip"
  },
  "language_info": {
   "codemirror_mode": {
    "name": "ipython",
    "version": 3
   },
   "file_extension": ".py",
   "mimetype": "text/x-python",
   "name": "python",
   "nbconvert_exporter": "python",
   "pygments_lexer": "ipython3",
   "version": "3.10.4"
  }
 },
 "nbformat": 4,
 "nbformat_minor": 5
}
