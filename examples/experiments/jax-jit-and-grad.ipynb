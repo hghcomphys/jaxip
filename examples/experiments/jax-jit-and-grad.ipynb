{
 "cells": [
  {
   "cell_type": "code",
   "execution_count": null,
   "id": "e7cad425-cbb6-4e8a-b475-13443e0b84e0",
   "metadata": {},
   "outputs": [],
   "source": [
    "import jax\n",
    "import jax.numpy as jnp"
   ]
  },
  {
   "cell_type": "code",
   "execution_count": null,
   "id": "24d6f1b9-9d85-428f-b914-d9ab05539517",
   "metadata": {},
   "outputs": [],
   "source": [
    "def f(x, y):\n",
    "    return (x + 2 *y).sum()\n",
    "\n",
    "def f2(ps, x, y):\n",
    "    z, l = ps\n",
    "    return (x + 2*y + 3*z + 4*l).sum()\n",
    "\n",
    "def f3_1(arr, a=1):\n",
    "    return a * arr\n",
    "\n",
    "\n",
    "def f3_2(arr, a=2):\n",
    "    return a * arr\n",
    "\n",
    "def f3(arr):\n",
    "    x = f3_1(arr)\n",
    "    y = f3_2(arr)\n",
    "    return (x + y).sum()\n",
    "\n",
    "x = jnp.array([1., 2, 3])\n",
    "y = jnp.array([4., 5, 6])\n",
    "\n",
    "df = jax.grad(f)\n",
    "dfdy = jax.grad(f, argnums=1)\n",
    "df = jax.grad(f, argnums=(0, 1))"
   ]
  },
  {
   "cell_type": "code",
   "execution_count": null,
   "id": "fb71bcb9-34d9-4c22-9f3f-911bb094ded7",
   "metadata": {},
   "outputs": [],
   "source": [
    "jax.grad(f3)(x)"
   ]
  },
  {
   "cell_type": "code",
   "execution_count": null,
   "id": "4d883609-dc49-4753-8865-7b7c22f4887f",
   "metadata": {},
   "outputs": [],
   "source": [
    "from typing import Dict\n",
    "from functools import partial"
   ]
  },
  {
   "cell_type": "code",
   "execution_count": null,
   "id": "d29febcf-5ae9-4a98-8ec7-9f9eafcf5aee",
   "metadata": {},
   "outputs": [],
   "source": [
    "@jax.jit\n",
    "# @partial(jax.jit, static_argnums=(0,))\n",
    "def kernel(input_dict: Dict[str, int]):\n",
    "    return sum(v for v in input_dict.values())"
   ]
  },
  {
   "cell_type": "code",
   "execution_count": null,
   "id": "898b8d36-ca24-4f80-9fcc-4efa476ceb21",
   "metadata": {},
   "outputs": [],
   "source": [
    "d1 = {'a': 1, 'b': 2.}\n",
    "d2 = {'a': 1, 'b': 1.}"
   ]
  },
  {
   "cell_type": "code",
   "execution_count": null,
   "id": "169720c4-8453-4088-8424-fce013a11ae1",
   "metadata": {},
   "outputs": [],
   "source": [
    "%timeit kernel(d1)"
   ]
  },
  {
   "cell_type": "code",
   "execution_count": null,
   "id": "dae6cead-d9c1-4e2e-922d-bbbcf420bb20",
   "metadata": {},
   "outputs": [],
   "source": [
    "%timeit kernel(d2)"
   ]
  },
  {
   "cell_type": "code",
   "execution_count": null,
   "id": "be7dc859-e9c9-4cbd-b526-ad04aa63af0e",
   "metadata": {},
   "outputs": [],
   "source": []
  },
  {
   "cell_type": "code",
   "execution_count": null,
   "id": "0586737d-62f7-4a8e-87c7-32731ae42985",
   "metadata": {},
   "outputs": [],
   "source": [
    "x = jnp.array(range(9)).reshape(3, 3)\n",
    "x"
   ]
  },
  {
   "cell_type": "code",
   "execution_count": null,
   "id": "813ed6bf-043c-44e3-8696-c28a4cb2f12b",
   "metadata": {},
   "outputs": [],
   "source": [
    "jnp.sqrt(jnp.mean(x**2, axis=1))"
   ]
  },
  {
   "cell_type": "code",
   "execution_count": null,
   "id": "9517c023-4203-41a0-9cbf-e03205dc4f6c",
   "metadata": {},
   "outputs": [],
   "source": []
  },
  {
   "cell_type": "code",
   "execution_count": null,
   "id": "5fac59df-40f1-4e60-8573-a8c22aae3150",
   "metadata": {},
   "outputs": [],
   "source": [
    "x1 = jnp.atleast_2d(jnp.array([1, 2, 3., 4, 5, 6, 7, 8, 9]).reshape(3, 3))\n",
    "x2 = jnp.atleast_2d(jnp.array([1., 2., 3.]))\n",
    "dx = x2 - x1\n",
    "x1, x2\n",
    "dx"
   ]
  },
  {
   "cell_type": "code",
   "execution_count": null,
   "id": "12cb267d-7378-4302-8c31-2f0a2fb802b3",
   "metadata": {},
   "outputs": [],
   "source": [
    "jnp.allclose(dx, jnp.zeros_like(dx))"
   ]
  },
  {
   "cell_type": "code",
   "execution_count": null,
   "id": "5fe19802-5291-4c23-b6ac-0071baf20384",
   "metadata": {},
   "outputs": [],
   "source": [
    "def func2(x1, x2):\n",
    "    dx = x1 - x2\n",
    "    is_zero =  dx.sum(axis=1) == 0.0\n",
    "    dx = jnp.where(is_zero, jnp.ones_like(dx), dx) \n",
    "    dist = jnp.linalg.norm(dx, ord=2, axis=1)\n",
    "    dist = jnp.where(is_zero, 0., dist)  \n",
    "    return dist.sum()\n",
    "\n",
    "func2(x1, x2)"
   ]
  },
  {
   "cell_type": "code",
   "execution_count": null,
   "id": "fcfe294a-f2e3-42e2-8407-ded58d87e635",
   "metadata": {},
   "outputs": [],
   "source": [
    "jax.grad(func2, argnums=1)(x1, x2)"
   ]
  },
  {
   "cell_type": "code",
   "execution_count": null,
   "id": "84486482-70c4-490a-9eb5-70c80f9db864",
   "metadata": {},
   "outputs": [],
   "source": [
    "is_zero =  dx.sum(axis=1, keepdims=True) == 0.0\n",
    "is_zero"
   ]
  },
  {
   "cell_type": "code",
   "execution_count": null,
   "id": "476dfbfc-5776-4dad-ac5e-87e6add69fee",
   "metadata": {},
   "outputs": [],
   "source": [
    "dx_ = jnp.where(is_zero, jnp.ones_like(dx), dx) \n",
    "dx_"
   ]
  },
  {
   "cell_type": "code",
   "execution_count": null,
   "id": "268d32a3-14c2-4839-a2cf-4a7872668fa4",
   "metadata": {},
   "outputs": [],
   "source": [
    "dist = jnp.linalg.norm(dx_, ord=2, axis=1)\n",
    "dist = jnp.where(jnp.squeeze(is_zero), 0., dist)  \n",
    "dist"
   ]
  },
  {
   "cell_type": "code",
   "execution_count": null,
   "id": "5e16e928-5287-497c-9a24-e71ccfd2dbb2",
   "metadata": {},
   "outputs": [],
   "source": []
  }
 ],
 "metadata": {
  "kernelspec": {
   "display_name": "Python (torchip)",
   "language": "python",
   "name": "torhcip"
  },
  "language_info": {
   "codemirror_mode": {
    "name": "ipython",
    "version": 3
   },
   "file_extension": ".py",
   "mimetype": "text/x-python",
   "name": "python",
   "nbconvert_exporter": "python",
   "pygments_lexer": "ipython3",
   "version": "3.10.4"
  }
 },
 "nbformat": 4,
 "nbformat_minor": 5
}
