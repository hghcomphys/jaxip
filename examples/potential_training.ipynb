{
 "cells": [
  {
   "cell_type": "markdown",
   "metadata": {},
   "source": [
    "# Potential Training\n",
    "An example notebook which shows how to train a high-dimensional neural network potential (HDNNP). "
   ]
  },
  {
   "cell_type": "code",
   "execution_count": 1,
   "metadata": {},
   "outputs": [],
   "source": [
    "# !gpustat"
   ]
  },
  {
   "cell_type": "code",
   "execution_count": 2,
   "metadata": {},
   "outputs": [],
   "source": [
    "from utils import set_env\n",
    "set_env('.env')"
   ]
  },
  {
   "cell_type": "code",
   "execution_count": 3,
   "metadata": {},
   "outputs": [],
   "source": [
    "import os\n",
    "os.environ[\"JAX_ENABLE_X64\"] = \"1\"\n",
    "# os.environ[\"JAX_PLATFORM_NAME\"] = \"cpu\" \n",
    "os.environ[\"XLA_PYTHON_CLIENT_PREALLOCATE\"] = \"false\" "
   ]
  },
  {
   "cell_type": "markdown",
   "metadata": {},
   "source": [
    "## Imports"
   ]
  },
  {
   "cell_type": "code",
   "execution_count": 4,
   "metadata": {},
   "outputs": [],
   "source": [
    "import logging\n",
    "import numpy as np\n",
    "from pathlib import Path\n",
    "import matplotlib.pylab as plt\n",
    "import seaborn as sns\n",
    "import random\n",
    "from tqdm import tqdm\n",
    "from collections import defaultdict\n",
    "import jax.numpy as jnp\n",
    "import jax\n",
    "import jaxip\n",
    "from jaxip.types import dtype as default_dtype\n",
    "from jaxip.datasets import RunnerDataset\n",
    "from jaxip.potentials import NeuralNetworkPotential\n",
    "from jaxip.logger import LoggingContextManager"
   ]
  },
  {
   "cell_type": "code",
   "execution_count": 5,
   "metadata": {},
   "outputs": [
    {
     "name": "stdout",
     "output_type": "stream",
     "text": [
      "default dtype: float64\n"
     ]
    }
   ],
   "source": [
    "# jaxip.logger.set_logging_level(logging.INFO) \n",
    "default_dtype.FLOATX = jnp.float64\n",
    "print(f\"default dtype: {default_dtype.FLOATX.dtype}\")"
   ]
  },
  {
   "cell_type": "markdown",
   "metadata": {},
   "source": [
    "## Dataset"
   ]
  },
  {
   "cell_type": "code",
   "execution_count": 6,
   "metadata": {},
   "outputs": [],
   "source": [
    "base_dir = Path('home/H2O_2')"
   ]
  },
  {
   "cell_type": "code",
   "execution_count": 7,
   "metadata": {},
   "outputs": [
    {
     "name": "stdout",
     "output_type": "stream",
     "text": [
      "Total number of structures: 1593\n"
     ]
    },
    {
     "data": {
      "text/plain": [
       "RunnerDataset(filename='home/H2O_2/input.data', transform=ToStructure())"
      ]
     },
     "execution_count": 7,
     "metadata": {},
     "output_type": "execute_result"
    }
   ],
   "source": [
    "structures = RunnerDataset(Path(base_dir, \"input.data\"), persist=True) \n",
    "# structures = RunnerStructureDataset(Path(base_dir, \"input.data\"), transform=ToStructure(r_cutoff=3.0), persist=True) \n",
    "print(\"Total number of structures:\", len(structures))\n",
    "structures"
   ]
  },
  {
   "cell_type": "code",
   "execution_count": 8,
   "metadata": {},
   "outputs": [],
   "source": [
    "# indices = random.choices(range(len(structures)), k=100)\n",
    "structures = [structures[i] for i in range(20)] # len(structures) "
   ]
  },
  {
   "cell_type": "code",
   "execution_count": 9,
   "metadata": {},
   "outputs": [],
   "source": [
    "# energies = jnp.asarray([x.total_energy for x in structures]).reshape(-1)\n",
    "# print(\"Energy difference:\", max(energies) - min(energies))\n",
    "# sns.histplot(energies);"
   ]
  },
  {
   "cell_type": "code",
   "execution_count": 10,
   "metadata": {},
   "outputs": [
    {
     "data": {
      "text/plain": [
       "Structure(natoms=192, elements=('H', 'O'), dtype=float64)"
      ]
     },
     "execution_count": 10,
     "metadata": {},
     "output_type": "execute_result"
    }
   ],
   "source": [
    "s = structures[0]\n",
    "s"
   ]
  },
  {
   "cell_type": "code",
   "execution_count": 11,
   "metadata": {},
   "outputs": [],
   "source": [
    "# with LoggingContextManager(level=logging.DEBUG):\n",
    "# structures[0].to_dict()"
   ]
  },
  {
   "cell_type": "code",
   "execution_count": 12,
   "metadata": {},
   "outputs": [],
   "source": [
    "# from ase.visualize import view\n",
    "# atoms = s.to_ase_atoms()\n",
    "# view(atoms, viewer=\"x3d\", repeat=1)"
   ]
  },
  {
   "cell_type": "code",
   "execution_count": 13,
   "metadata": {},
   "outputs": [],
   "source": [
    "# from ase.io import read, write\n",
    "# write(\"atoms.png\", atoms * (2, 2, 1), rotation='30z,-80x')\n",
    "# write(\"atoms.xyz\", atoms * (2, 2, 1))\n",
    "# ![atoms](atoms.png)"
   ]
  },
  {
   "cell_type": "code",
   "execution_count": 14,
   "metadata": {},
   "outputs": [],
   "source": [
    "# from jaxip.atoms import Structure\n",
    "# sp = Structure.create_from_ase(atoms)\n",
    "# view(sp.to_ase_atoms(), viewer=\"x3d\", repeat=3)"
   ]
  },
  {
   "cell_type": "markdown",
   "metadata": {
    "tags": []
   },
   "source": [
    "## Potential"
   ]
  },
  {
   "cell_type": "code",
   "execution_count": 15,
   "metadata": {},
   "outputs": [
    {
     "data": {
      "text/plain": [
       "NeuralNetworkPotential(atomic_potential={'H': AtomicPotential(\n",
       "  descriptor=ACSF(element='H', symmetry_functions=27, r_cutoff=12.0),\n",
       "  scaler=Scaler(scale_type='center', scale_min=0.0, scale_max=1.0),\n",
       "  model=NeuralNetworkModel(hidden_layers=((20, 'tanh'), (20, 'tanh')), param_dtype=float64),\n",
       "), 'O': AtomicPotential(\n",
       "  descriptor=ACSF(element='O', symmetry_functions=30, r_cutoff=12.0),\n",
       "  scaler=Scaler(scale_type='center', scale_min=0.0, scale_max=1.0),\n",
       "  model=NeuralNetworkModel(hidden_layers=((20, 'tanh'), (20, 'tanh')), param_dtype=float64),\n",
       ")})"
      ]
     },
     "execution_count": 15,
     "metadata": {},
     "output_type": "execute_result"
    }
   ],
   "source": [
    "nnp = NeuralNetworkPotential.create_from_file(Path(base_dir, \"input.nn\"))\n",
    "nnp"
   ]
  },
  {
   "cell_type": "code",
   "execution_count": 19,
   "metadata": {},
   "outputs": [],
   "source": [
    "# nnp.load()\n",
    "# nnp.load_scaler()"
   ]
  },
  {
   "cell_type": "markdown",
   "metadata": {},
   "source": [
    "### Extrapolation warnings"
   ]
  },
  {
   "cell_type": "code",
   "execution_count": 20,
   "metadata": {},
   "outputs": [],
   "source": [
    "# nnp.set_extrapolation_warnings(100)"
   ]
  },
  {
   "cell_type": "markdown",
   "metadata": {
    "tags": []
   },
   "source": [
    "##### Fit scaler"
   ]
  },
  {
   "cell_type": "code",
   "execution_count": null,
   "metadata": {},
   "outputs": [],
   "source": [
    "nnp.fit_scaler(structures)"
   ]
  },
  {
   "cell_type": "code",
   "execution_count": 22,
   "metadata": {},
   "outputs": [
    {
     "name": "stdout",
     "output_type": "stream",
     "text": [
      "CPU times: user 1.19 s, sys: 285 ms, total: 1.48 s\n",
      "Wall time: 1.45 s\n"
     ]
    },
    {
     "data": {
      "text/plain": [
       "Array(-1103.34228721, dtype=float64)"
      ]
     },
     "execution_count": 22,
     "metadata": {},
     "output_type": "execute_result"
    }
   ],
   "source": [
    "time nnp(s)"
   ]
  },
  {
   "cell_type": "code",
   "execution_count": null,
   "metadata": {},
   "outputs": [],
   "source": [
    "time nnp.compute_force(s)"
   ]
  },
  {
   "cell_type": "markdown",
   "metadata": {},
   "source": [
    "## Training"
   ]
  },
  {
   "cell_type": "code",
   "execution_count": null,
   "metadata": {
    "tags": []
   },
   "outputs": [],
   "source": [
    "h = nnp.fit_model(structures)\n",
    "\n",
    "for sub in h:\n",
    "    if 'loss' in sub:\n",
    "        plt.plot(h['epoch'], h[sub], label=sub)\n",
    "plt.legend();"
   ]
  },
  {
   "cell_type": "code",
   "execution_count": 23,
   "metadata": {},
   "outputs": [
    {
     "name": "stderr",
     "output_type": "stream",
     "text": [
      "INFO Saving scaler parameters for element (Ne): scaling.010.data\n",
      "INFO Saving model weights for element (Ne): weights.010.pkl\n"
     ]
    }
   ],
   "source": [
    "# nnp.save()"
   ]
  },
  {
   "cell_type": "markdown",
   "metadata": {},
   "source": [
    "## Validation"
   ]
  },
  {
   "cell_type": "markdown",
   "metadata": {},
   "source": [
    "### Energy"
   ]
  },
  {
   "cell_type": "code",
   "execution_count": null,
   "metadata": {},
   "outputs": [],
   "source": [
    "print(f\"{len(structures)=}\")\n",
    "true_energy = [s.total_energy for s in structures]\n",
    "pred_energy = [nnp(s) for s in structures]\n",
    "ii = range(len(structures))\n",
    "plt.scatter(true_energy, pred_energy, label='NNP')\n",
    "plt.plot(true_energy, true_energy, 'r', label=\"REF\")\n",
    "plt.xlabel(\"true energy\")\n",
    "plt.ylabel(\"pred energy\")\n",
    "plt.legend()\n",
    "plt.show()"
   ]
  },
  {
   "cell_type": "markdown",
   "metadata": {},
   "source": [
    "### Force"
   ]
  },
  {
   "cell_type": "code",
   "execution_count": null,
   "metadata": {},
   "outputs": [],
   "source": [
    "import jax.numpy as jnp\n",
    "\n",
    "true_forces = []\n",
    "pred_forces = []\n",
    "print(f\"{len(structures)=}\")\n",
    "for structure in structures:\n",
    "    true_forces_per_structure = structure.force\n",
    "    pred_forces_per_structure = nnp.compute_force(structure)\n",
    "    true_forces.append(true_forces_per_structure)\n",
    "    pred_forces.append(pred_forces_per_structure)\n",
    "\n",
    "dim = 0\n",
    "to_axis = {d: c for d, c in enumerate('xyz')}\n",
    "true_forces = jnp.concatenate(true_forces, axis=0)\n",
    "pred_forces = jnp.concatenate(pred_forces, axis=0)\n",
    "\n",
    "plt.scatter(true_forces[:, dim], pred_forces[:, dim], label='NNP')\n",
    "plt.plot(true_forces[:, dim], true_forces[:, dim], 'r', label='REF')\n",
    "\n",
    "label= f\"force [{to_axis[dim]}]\"\n",
    "plt.ylabel(\"pred \" + label)\n",
    "plt.xlabel(\"true \" + label)\n",
    "plt.legend()\n",
    "plt.show()"
   ]
  }
 ],
 "metadata": {
  "interpreter": {
   "hash": "79f793817441a9b4f3336163bce28fb05f5fade87f8f747882a8ea5340683793"
  },
  "kernelspec": {
   "display_name": "Python (jaxip)",
   "language": "python",
   "name": "jaxip"
  },
  "language_info": {
   "codemirror_mode": {
    "name": "ipython",
    "version": 3
   },
   "file_extension": ".py",
   "mimetype": "text/x-python",
   "name": "python",
   "nbconvert_exporter": "python",
   "pygments_lexer": "ipython3",
   "version": "3.10.10"
  }
 },
 "nbformat": 4,
 "nbformat_minor": 4
}
