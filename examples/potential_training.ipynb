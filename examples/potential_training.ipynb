{
 "cells": [
  {
   "cell_type": "markdown",
   "metadata": {},
   "source": [
    "# Potential training\n",
    "An example notebook which shows how to train a high-dimensional neural network potential (HDNNP). "
   ]
  },
  {
   "cell_type": "markdown",
   "metadata": {},
   "source": [
    "## Imports"
   ]
  },
  {
   "cell_type": "code",
   "execution_count": 4,
   "metadata": {},
   "outputs": [],
   "source": [
    "import pantea\n",
    "from pantea.types import default_dtype\n",
    "from pantea.datasets import Dataset\n",
    "from pantea.potentials import NeuralNetworkPotential \n",
    "from pantea.logger import LoggingContextManager\n",
    "\n",
    "import logging\n",
    "import numpy as np\n",
    "from pathlib import Path\n",
    "import matplotlib.pylab as plt\n",
    "import seaborn as sns\n",
    "import random\n",
    "from tqdm import tqdm\n",
    "from collections import defaultdict\n",
    "import jax.numpy as jnp\n",
    "import jax"
   ]
  },
  {
   "cell_type": "code",
   "execution_count": 5,
   "metadata": {},
   "outputs": [
    {
     "name": "stdout",
     "output_type": "stream",
     "text": [
      "default dtype: float64\n",
      "default device: cuda:0\n"
     ]
    }
   ],
   "source": [
    "# pantea.logger.set_logging_level(logging.DEBUG) \n",
    "default_dtype.FLOATX = jnp.float64\n",
    "print(f\"default dtype: {default_dtype.FLOATX.dtype}\")\n",
    "print(f\"default device: {jax.devices()[0]}\")"
   ]
  },
  {
   "cell_type": "markdown",
   "metadata": {},
   "source": [
    "## Dataset"
   ]
  },
  {
   "cell_type": "code",
   "execution_count": 6,
   "metadata": {},
   "outputs": [],
   "source": [
    "base_dir = Path('GRN')"
   ]
  },
  {
   "cell_type": "code",
   "execution_count": 7,
   "metadata": {},
   "outputs": [
    {
     "name": "stdout",
     "output_type": "stream",
     "text": [
      "Total number of structures: 801\n"
     ]
    },
    {
     "data": {
      "text/plain": [
       "Dataset(datasource=RunnerDataSource(filename='GRN/input.data', dtype=float64), persist=True)"
      ]
     },
     "execution_count": 7,
     "metadata": {},
     "output_type": "execute_result"
    }
   ],
   "source": [
    "structures = Dataset.from_runner(Path(base_dir, \"input.data\"), persist=True) \n",
    "# structures = RunnerDataset(Path(base_dir, \"input.data\"), transform=ToStructure(r_cutoff=3.0), persist=True) \n",
    "print(\"Total number of structures:\", len(structures))\n",
    "structures"
   ]
  },
  {
   "cell_type": "code",
   "execution_count": 8,
   "metadata": {},
   "outputs": [],
   "source": [
    "# indices = random.choices(range(len(structures)), k=100)\n",
    "# structures = [structures[i] for i in range(len(structures))] # len(structures) "
   ]
  },
  {
   "cell_type": "code",
   "execution_count": 9,
   "metadata": {},
   "outputs": [],
   "source": [
    "# import torch\n",
    "# validation_split = 0.10\n",
    "# nsamples = len(structures)\n",
    "# split = int(np.floor(validation_split * nsamples))\n",
    "# train_structures, valid_structures = torch.utils.data.random_split(structures, lengths=[nsamples-split, split])\n",
    "# structures = valid_structures"
   ]
  },
  {
   "cell_type": "code",
   "execution_count": 10,
   "metadata": {},
   "outputs": [
    {
     "data": {
      "text/plain": [
       "Structure(natoms=24, elements=('C',), dtype=float64)"
      ]
     },
     "execution_count": 10,
     "metadata": {},
     "output_type": "execute_result"
    }
   ],
   "source": [
    "s = structures[0]\n",
    "s"
   ]
  },
  {
   "cell_type": "code",
   "execution_count": 11,
   "metadata": {},
   "outputs": [],
   "source": [
    "# energies = jnp.asarray([x.total_energy for x in structures]).reshape(-1)\n",
    "# print(\"Energy difference:\", max(energies) - min(energies))\n",
    "# sns.histplot(energies);"
   ]
  },
  {
   "cell_type": "code",
   "execution_count": 12,
   "metadata": {},
   "outputs": [],
   "source": [
    "# with LoggingContextManager(level=logging.DEBUG):\n",
    "# structures[0].to_dict()"
   ]
  },
  {
   "cell_type": "code",
   "execution_count": 13,
   "metadata": {},
   "outputs": [],
   "source": [
    "# from ase.visualize import view\n",
    "# atoms = s.to_ase()\n",
    "# view(atoms, viewer=\"x3d\", repeat=1)"
   ]
  },
  {
   "cell_type": "code",
   "execution_count": 14,
   "metadata": {},
   "outputs": [],
   "source": [
    "# from ase.io import read, write\n",
    "# write(\"atoms.png\", atoms * (2, 2, 1), rotation='30z,-80x')\n",
    "# write(\"atoms.xyz\", atoms * (2, 2, 1))\n",
    "# ![atoms](atoms.png)"
   ]
  },
  {
   "cell_type": "code",
   "execution_count": 15,
   "metadata": {},
   "outputs": [],
   "source": [
    "# from pantea.atoms import Structure\n",
    "# sp = Structure.from_ase(atoms)\n",
    "# view(sp.to_ase(), viewer=\"x3d\", repeat=3)"
   ]
  },
  {
   "cell_type": "markdown",
   "metadata": {
    "tags": []
   },
   "source": [
    "## Potential"
   ]
  },
  {
   "cell_type": "code",
   "execution_count": 16,
   "metadata": {},
   "outputs": [
    {
     "data": {
      "text/plain": [
       "NeuralNetworkPotential(atomic_potential={'C': AtomicPotential(\n",
       "  descriptor=ACSF(central_element='C', symmetry_functions=30),\n",
       "  scaler=DescriptorScaler(scale_type='center', scale_min=0.0, scale_max=1.0),\n",
       "  model=NeuralNetworkModel(hidden_layers=((15, 'tanh'), (15, 'tanh')), param_dtype=float64),\n",
       ")})"
      ]
     },
     "execution_count": 16,
     "metadata": {},
     "output_type": "execute_result"
    }
   ],
   "source": [
    "nnp = NeuralNetworkPotential.from_file(Path(base_dir, \"input.nn\"))\n",
    "nnp"
   ]
  },
  {
   "cell_type": "code",
   "execution_count": 17,
   "metadata": {},
   "outputs": [],
   "source": [
    "# nnp.load()\n",
    "# nnp.load_scaler()"
   ]
  },
  {
   "cell_type": "markdown",
   "metadata": {},
   "source": [
    "### Extrapolation warnings"
   ]
  },
  {
   "cell_type": "code",
   "execution_count": 18,
   "metadata": {},
   "outputs": [],
   "source": [
    "# nnp.set_extrapolation_warnings(100)"
   ]
  },
  {
   "cell_type": "markdown",
   "metadata": {
    "tags": []
   },
   "source": [
    "##### Fit scaler"
   ]
  },
  {
   "cell_type": "code",
   "execution_count": 19,
   "metadata": {},
   "outputs": [],
   "source": [
    "structures = [structures[index] for index in range(5)]"
   ]
  },
  {
   "cell_type": "code",
   "execution_count": 20,
   "metadata": {},
   "outputs": [
    {
     "name": "stdout",
     "output_type": "stream",
     "text": [
      "Fitting descriptor scaler...\n"
     ]
    },
    {
     "name": "stderr",
     "output_type": "stream",
     "text": [
      "100%|██████████| 5/5 [00:06<00:00,  1.21s/it]"
     ]
    },
    {
     "name": "stdout",
     "output_type": "stream",
     "text": [
      "Done.\n"
     ]
    },
    {
     "name": "stderr",
     "output_type": "stream",
     "text": [
      "\n"
     ]
    }
   ],
   "source": [
    "# with LoggingContextManager(level=logging.DEBUG):\n",
    "nnp.fit_scaler(structures)"
   ]
  },
  {
   "cell_type": "code",
   "execution_count": 21,
   "metadata": {},
   "outputs": [
    {
     "name": "stdout",
     "output_type": "stream",
     "text": [
      "CPU times: user 5.12 s, sys: 175 ms, total: 5.3 s\n",
      "Wall time: 4.5 s\n"
     ]
    },
    {
     "data": {
      "text/plain": [
       "Array(2.46366166, dtype=float64)"
      ]
     },
     "execution_count": 21,
     "metadata": {},
     "output_type": "execute_result"
    }
   ],
   "source": [
    "time nnp(s)"
   ]
  },
  {
   "cell_type": "code",
   "execution_count": 22,
   "metadata": {},
   "outputs": [
    {
     "name": "stdout",
     "output_type": "stream",
     "text": [
      "CPU times: user 28.4 s, sys: 706 ms, total: 29.1 s\n",
      "Wall time: 26.6 s\n"
     ]
    },
    {
     "data": {
      "text/plain": [
       "Array([[-0.73818518, -1.11250519,  2.19987526],\n",
       "       [-0.60619055,  1.33811234,  0.23699985],\n",
       "       [ 0.39212853,  1.86935634, -1.38083394],\n",
       "       [-1.24370451,  1.38747383, -0.16639707],\n",
       "       [ 1.17766708, -0.06752427, -0.27530439],\n",
       "       [-0.90934336, -1.97845911,  1.25125193],\n",
       "       [-0.08749226, -1.3495124 ,  1.21127079],\n",
       "       [ 0.6463172 , -0.81786491,  1.80367847],\n",
       "       [-0.95089421, -1.12067475, -1.07121341],\n",
       "       [-1.98676834,  2.32836088,  1.22984266],\n",
       "       [-0.67455432,  0.96647708, -0.77369288],\n",
       "       [ 0.62557632, -1.00776267, -1.20962975],\n",
       "       [ 1.50403599,  0.24804631, -0.56286071],\n",
       "       [ 0.83629443,  2.39212317, -0.65869627],\n",
       "       [ 1.844709  ,  1.33191195, -1.44894777],\n",
       "       [-0.52273629,  1.91610702,  0.86284399],\n",
       "       [ 1.44972348,  0.02283899, -1.30880034],\n",
       "       [-1.74267315,  1.41118732, -0.40835022],\n",
       "       [ 0.93299649,  0.35661005, -2.28477157],\n",
       "       [-1.45420376, -2.42909438, -0.36560638],\n",
       "       [ 0.59659081, -2.43054665,  0.84919596],\n",
       "       [ 0.95698602, -2.31820587,  0.65325881],\n",
       "       [ 0.20396388,  0.49033949,  0.39256938],\n",
       "       [ 0.23093279, -2.19271104,  1.32401413]], dtype=float64)"
      ]
     },
     "execution_count": 22,
     "metadata": {},
     "output_type": "execute_result"
    }
   ],
   "source": [
    "time nnp.compute_forces(s)"
   ]
  },
  {
   "cell_type": "markdown",
   "metadata": {
    "jp-MarkdownHeadingCollapsed": true
   },
   "source": [
    "## Training"
   ]
  },
  {
   "cell_type": "code",
   "execution_count": null,
   "metadata": {
    "tags": []
   },
   "outputs": [],
   "source": [
    "h = nnp.fit_model(structures)\n",
    "\n",
    "for sub in h:\n",
    "    if 'loss' in sub:\n",
    "        plt.plot(h['epoch'], h[sub], label=sub)\n",
    "plt.legend();"
   ]
  },
  {
   "cell_type": "code",
   "execution_count": null,
   "metadata": {},
   "outputs": [],
   "source": [
    "# nnp.save()"
   ]
  },
  {
   "cell_type": "markdown",
   "metadata": {},
   "source": [
    "## Validation"
   ]
  },
  {
   "cell_type": "markdown",
   "metadata": {},
   "source": [
    "### Energy"
   ]
  },
  {
   "cell_type": "code",
   "execution_count": null,
   "metadata": {},
   "outputs": [],
   "source": [
    "print(f\"{len(structures)=}\")\n",
    "true_energy = [s.total_energy for s in structures]\n",
    "pred_energy = [nnp(s) for s in structures]\n",
    "ii = range(len(structures))\n",
    "plt.scatter(true_energy, pred_energy, label='NNP')\n",
    "plt.plot(true_energy, true_energy, 'r', label=\"REF\")\n",
    "plt.xlabel(\"true energy\")\n",
    "plt.ylabel(\"pred energy\")\n",
    "plt.legend()\n",
    "plt.show()"
   ]
  },
  {
   "cell_type": "markdown",
   "metadata": {},
   "source": [
    "### Force"
   ]
  },
  {
   "cell_type": "code",
   "execution_count": null,
   "metadata": {},
   "outputs": [],
   "source": [
    "import jax.numpy as jnp\n",
    "\n",
    "true_forces = []\n",
    "pred_forces = []\n",
    "print(f\"{len(structures)=}\")\n",
    "for structure in structures:\n",
    "    true_forces_per_structure = structure.force\n",
    "    pred_forces_per_structure = nnp.compute_force(structure)\n",
    "    true_forces.append(true_forces_per_structure)\n",
    "    pred_forces.append(pred_forces_per_structure)\n",
    "\n",
    "dim = 0\n",
    "to_axis = {d: c for d, c in enumerate('xyz')}\n",
    "true_forces = jnp.concatenate(true_forces, axis=0)\n",
    "pred_forces = jnp.concatenate(pred_forces, axis=0)\n",
    "\n",
    "plt.scatter(true_forces[:, dim], pred_forces[:, dim], label='NNP')\n",
    "plt.plot(true_forces[:, dim], true_forces[:, dim], 'r', label='REF')\n",
    "\n",
    "label= f\"force [{to_axis[dim]}]\"\n",
    "plt.ylabel(\"pred \" + label)\n",
    "plt.xlabel(\"true \" + label)\n",
    "plt.legend()\n",
    "plt.show()"
   ]
  }
 ],
 "metadata": {
  "interpreter": {
   "hash": "79f793817441a9b4f3336163bce28fb05f5fade87f8f747882a8ea5340683793"
  },
  "kernelspec": {
   "display_name": "Python (pantea)",
   "language": "python",
   "name": "pantea"
  },
  "language_info": {
   "codemirror_mode": {
    "name": "ipython",
    "version": 3
   },
   "file_extension": ".py",
   "mimetype": "text/x-python",
   "name": "python",
   "nbconvert_exporter": "python",
   "pygments_lexer": "ipython3",
   "version": "3.10.14"
  }
 },
 "nbformat": 4,
 "nbformat_minor": 4
}
