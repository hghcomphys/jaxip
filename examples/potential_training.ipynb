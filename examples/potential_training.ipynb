{
 "cells": [
  {
   "cell_type": "markdown",
   "metadata": {},
   "source": [
    "# Potential training\n",
    "An example notebook which shows how to train a high-dimensional neural network potential (HDNNP). "
   ]
  },
  {
   "cell_type": "code",
   "execution_count": 1,
   "metadata": {},
   "outputs": [],
   "source": [
    "# !gpustat"
   ]
  },
  {
   "cell_type": "code",
   "execution_count": 2,
   "metadata": {},
   "outputs": [],
   "source": [
    "from utils import set_env\n",
    "# set_env('.env')"
   ]
  },
  {
   "cell_type": "code",
   "execution_count": 3,
   "metadata": {},
   "outputs": [],
   "source": [
    "import os\n",
    "os.environ[\"JAX_ENABLE_X64\"] = \"1\"\n",
    "os.environ[\"JAX_PLATFORM_NAME\"] = \"cpu\" \n",
    "os.environ[\"XLA_PYTHON_CLIENT_PREALLOCATE\"] = \"false\" "
   ]
  },
  {
   "cell_type": "markdown",
   "metadata": {},
   "source": [
    "## Imports"
   ]
  },
  {
   "cell_type": "code",
   "execution_count": 4,
   "metadata": {},
   "outputs": [],
   "source": [
    "import logging\n",
    "import numpy as np\n",
    "from pathlib import Path\n",
    "import matplotlib.pylab as plt\n",
    "import seaborn as sns\n",
    "import random\n",
    "from tqdm import tqdm\n",
    "from collections import defaultdict\n",
    "import jax.numpy as jnp\n",
    "import jax\n",
    "import jaxip\n",
    "from jaxip.types import _dtype as default_dtype\n",
    "from jaxip.datasets import RunnerDataset\n",
    "from jaxip.potentials import NeuralNetworkPotential\n",
    "from jaxip.logger import LoggingContextManager"
   ]
  },
  {
   "cell_type": "code",
   "execution_count": 24,
   "metadata": {},
   "outputs": [
    {
     "name": "stdout",
     "output_type": "stream",
     "text": [
      "default dtype: float64\n",
      "default device: TFRT_CPU_0\n"
     ]
    }
   ],
   "source": [
    "# jaxip.logger.set_logging_level(logging.DEBUG) \n",
    "default_dtype.FLOATX = jnp.float64\n",
    "print(f\"default dtype: {default_dtype.FLOATX.dtype}\")\n",
    "print(f\"default device: {jax.devices()[0]}\")"
   ]
  },
  {
   "cell_type": "markdown",
   "metadata": {},
   "source": [
    "## Dataset"
   ]
  },
  {
   "cell_type": "code",
   "execution_count": 6,
   "metadata": {},
   "outputs": [],
   "source": [
    "base_dir = Path('GRN')"
   ]
  },
  {
   "cell_type": "code",
   "execution_count": 7,
   "metadata": {},
   "outputs": [
    {
     "name": "stdout",
     "output_type": "stream",
     "text": [
      "Total number of structures: 801\n"
     ]
    },
    {
     "data": {
      "text/plain": [
       "RunnerDataset(filename='GRN/input.data', persist=True, dtype=float64)"
      ]
     },
     "execution_count": 7,
     "metadata": {},
     "output_type": "execute_result"
    }
   ],
   "source": [
    "structures = RunnerDataset(Path(base_dir, \"input.data\"), persist=True) \n",
    "# structures = RunnerDataset(Path(base_dir, \"input.data\"), transform=ToStructure(r_cutoff=3.0), persist=True) \n",
    "print(\"Total number of structures:\", len(structures))\n",
    "structures"
   ]
  },
  {
   "cell_type": "code",
   "execution_count": 8,
   "metadata": {},
   "outputs": [],
   "source": [
    "# indices = random.choices(range(len(structures)), k=100)\n",
    "# structures = [structures[i] for i in range(len(structures))] # len(structures) "
   ]
  },
  {
   "cell_type": "code",
   "execution_count": 9,
   "metadata": {},
   "outputs": [],
   "source": [
    "# import torch\n",
    "# validation_split = 0.10\n",
    "# nsamples = len(structures)\n",
    "# split = int(np.floor(validation_split * nsamples))\n",
    "# train_structures, valid_structures = torch.utils.data.random_split(structures, lengths=[nsamples-split, split])\n",
    "# structures = valid_structures"
   ]
  },
  {
   "cell_type": "code",
   "execution_count": 10,
   "metadata": {},
   "outputs": [
    {
     "data": {
      "text/plain": [
       "Structure(natoms=24, elements=('C',), dtype=float64)"
      ]
     },
     "execution_count": 10,
     "metadata": {},
     "output_type": "execute_result"
    }
   ],
   "source": [
    "s = structures[0]\n",
    "s"
   ]
  },
  {
   "cell_type": "code",
   "execution_count": 11,
   "metadata": {},
   "outputs": [],
   "source": [
    "# energies = jnp.asarray([x.total_energy for x in structures]).reshape(-1)\n",
    "# print(\"Energy difference:\", max(energies) - min(energies))\n",
    "# sns.histplot(energies);"
   ]
  },
  {
   "cell_type": "code",
   "execution_count": 12,
   "metadata": {},
   "outputs": [],
   "source": [
    "# with LoggingContextManager(level=logging.DEBUG):\n",
    "# structures[0].to_dict()"
   ]
  },
  {
   "cell_type": "code",
   "execution_count": 13,
   "metadata": {},
   "outputs": [],
   "source": [
    "# from ase.visualize import view\n",
    "# atoms = s.to_ase()\n",
    "# view(atoms, viewer=\"x3d\", repeat=1)"
   ]
  },
  {
   "cell_type": "code",
   "execution_count": 14,
   "metadata": {},
   "outputs": [],
   "source": [
    "# from ase.io import read, write\n",
    "# write(\"atoms.png\", atoms * (2, 2, 1), rotation='30z,-80x')\n",
    "# write(\"atoms.xyz\", atoms * (2, 2, 1))\n",
    "# ![atoms](atoms.png)"
   ]
  },
  {
   "cell_type": "code",
   "execution_count": 15,
   "metadata": {},
   "outputs": [],
   "source": [
    "# from jaxip.atoms import Structure\n",
    "# sp = Structure.from_ase(atoms)\n",
    "# view(sp.to_ase(), viewer=\"x3d\", repeat=3)"
   ]
  },
  {
   "cell_type": "markdown",
   "metadata": {
    "tags": []
   },
   "source": [
    "## Potential"
   ]
  },
  {
   "cell_type": "code",
   "execution_count": 16,
   "metadata": {},
   "outputs": [
    {
     "data": {
      "text/plain": [
       "NeuralNetworkPotential(atomic_potential={'C': AtomicPotential(\n",
       "  descriptor=ACSF(element='C', symmetry_functions=30),\n",
       "  scaler=Scaler(scale_type='center', scale_min=0.0, scale_max=1.0),\n",
       "  model=NeuralNetworkModel(hidden_layers=((15, 'tanh'), (15, 'tanh')), param_dtype=float64),\n",
       ")})"
      ]
     },
     "execution_count": 16,
     "metadata": {},
     "output_type": "execute_result"
    }
   ],
   "source": [
    "nnp = NeuralNetworkPotential.from_file(Path(base_dir, \"input.nn\"))\n",
    "nnp"
   ]
  },
  {
   "cell_type": "code",
   "execution_count": 17,
   "metadata": {},
   "outputs": [],
   "source": [
    "# nnp.load()\n",
    "# nnp.load_scaler()"
   ]
  },
  {
   "cell_type": "markdown",
   "metadata": {},
   "source": [
    "### Extrapolation warnings"
   ]
  },
  {
   "cell_type": "code",
   "execution_count": 18,
   "metadata": {},
   "outputs": [],
   "source": [
    "# nnp.set_extrapolation_warnings(100)"
   ]
  },
  {
   "cell_type": "markdown",
   "metadata": {
    "tags": []
   },
   "source": [
    "##### Fit scaler"
   ]
  },
  {
   "cell_type": "code",
   "execution_count": 19,
   "metadata": {},
   "outputs": [],
   "source": [
    "structures = [structures[index] for index in range(5)]"
   ]
  },
  {
   "cell_type": "code",
   "execution_count": 20,
   "metadata": {},
   "outputs": [
    {
     "name": "stdout",
     "output_type": "stream",
     "text": [
      "Fitting descriptor scaler...\n"
     ]
    },
    {
     "name": "stderr",
     "output_type": "stream",
     "text": [
      "100%|██████████| 5/5 [00:10<00:00,  2.17s/it]"
     ]
    },
    {
     "name": "stdout",
     "output_type": "stream",
     "text": [
      "Done.\n"
     ]
    },
    {
     "name": "stderr",
     "output_type": "stream",
     "text": [
      "\n"
     ]
    }
   ],
   "source": [
    "# with LoggingContextManager(level=logging.DEBUG):\n",
    "nnp.fit_scaler(structures)"
   ]
  },
  {
   "cell_type": "code",
   "execution_count": 25,
   "metadata": {},
   "outputs": [
    {
     "name": "stdout",
     "output_type": "stream",
     "text": [
      "CPU times: user 47.8 ms, sys: 34 µs, total: 47.9 ms\n",
      "Wall time: 46.1 ms\n"
     ]
    },
    {
     "data": {
      "text/plain": [
       "Array(-6.82868052, dtype=float64)"
      ]
     },
     "execution_count": 25,
     "metadata": {},
     "output_type": "execute_result"
    }
   ],
   "source": [
    "time nnp(s)"
   ]
  },
  {
   "cell_type": "code",
   "execution_count": 26,
   "metadata": {},
   "outputs": [
    {
     "name": "stdout",
     "output_type": "stream",
     "text": [
      "CPU times: user 118 ms, sys: 3.99 ms, total: 122 ms\n",
      "Wall time: 119 ms\n"
     ]
    },
    {
     "data": {
      "text/plain": [
       "Array([[-0.21749556, -0.22101345,  0.96314385],\n",
       "       [-0.17348052,  0.29058047,  0.09322139],\n",
       "       [ 0.12319294,  0.46653307, -0.58487702],\n",
       "       [-0.36234939,  0.26546542, -0.04409426],\n",
       "       [ 0.346702  , -0.07358062, -0.13121177],\n",
       "       [-0.30885594, -0.39307608,  0.54907396],\n",
       "       [-0.07475244, -0.35618296,  0.53893394],\n",
       "       [ 0.23104194, -0.1023122 ,  0.74780426],\n",
       "       [-0.24752292, -0.17490092, -0.50934252],\n",
       "       [-0.59892267,  0.59693202,  0.55618236],\n",
       "       [-0.12395165,  0.11799627, -0.29239672],\n",
       "       [ 0.19501384, -0.24643927, -0.54155392],\n",
       "       [ 0.46368609, -0.01020692, -0.2686671 ],\n",
       "       [ 0.21723097,  0.53499804, -0.3288631 ],\n",
       "       [ 0.48568427,  0.18817638, -0.66564165],\n",
       "       [-0.09097604,  0.31544902,  0.31615664],\n",
       "       [ 0.47305574,  0.0651856 , -0.57309809],\n",
       "       [-0.52593941,  0.40127842, -0.21241424],\n",
       "       [ 0.31030249,  0.23289228, -0.98879699],\n",
       "       [-0.46335954, -0.63778809, -0.12070011],\n",
       "       [ 0.22355744, -0.5229901 ,  0.40608649],\n",
       "       [ 0.20212485, -0.52054621,  0.27504167],\n",
       "       [ 0.04457152, -0.04614363,  0.14889223],\n",
       "       [ 0.0331071 , -0.35616145,  0.54651139]], dtype=float64)"
      ]
     },
     "execution_count": 26,
     "metadata": {},
     "output_type": "execute_result"
    }
   ],
   "source": [
    "time nnp.compute_forces(s)"
   ]
  },
  {
   "cell_type": "markdown",
   "metadata": {},
   "source": [
    "## Training"
   ]
  },
  {
   "cell_type": "code",
   "execution_count": null,
   "metadata": {
    "tags": []
   },
   "outputs": [],
   "source": [
    "h = nnp.fit_model(structures)\n",
    "\n",
    "for sub in h:\n",
    "    if 'loss' in sub:\n",
    "        plt.plot(h['epoch'], h[sub], label=sub)\n",
    "plt.legend();"
   ]
  },
  {
   "cell_type": "code",
   "execution_count": null,
   "metadata": {},
   "outputs": [],
   "source": [
    "# nnp.save()"
   ]
  },
  {
   "cell_type": "markdown",
   "metadata": {},
   "source": [
    "## Validation"
   ]
  },
  {
   "cell_type": "markdown",
   "metadata": {},
   "source": [
    "### Energy"
   ]
  },
  {
   "cell_type": "code",
   "execution_count": null,
   "metadata": {},
   "outputs": [],
   "source": [
    "print(f\"{len(structures)=}\")\n",
    "true_energy = [s.total_energy for s in structures]\n",
    "pred_energy = [nnp(s) for s in structures]\n",
    "ii = range(len(structures))\n",
    "plt.scatter(true_energy, pred_energy, label='NNP')\n",
    "plt.plot(true_energy, true_energy, 'r', label=\"REF\")\n",
    "plt.xlabel(\"true energy\")\n",
    "plt.ylabel(\"pred energy\")\n",
    "plt.legend()\n",
    "plt.show()"
   ]
  },
  {
   "cell_type": "markdown",
   "metadata": {},
   "source": [
    "### Force"
   ]
  },
  {
   "cell_type": "code",
   "execution_count": null,
   "metadata": {},
   "outputs": [],
   "source": [
    "import jax.numpy as jnp\n",
    "\n",
    "true_forces = []\n",
    "pred_forces = []\n",
    "print(f\"{len(structures)=}\")\n",
    "for structure in structures:\n",
    "    true_forces_per_structure = structure.force\n",
    "    pred_forces_per_structure = nnp.compute_force(structure)\n",
    "    true_forces.append(true_forces_per_structure)\n",
    "    pred_forces.append(pred_forces_per_structure)\n",
    "\n",
    "dim = 0\n",
    "to_axis = {d: c for d, c in enumerate('xyz')}\n",
    "true_forces = jnp.concatenate(true_forces, axis=0)\n",
    "pred_forces = jnp.concatenate(pred_forces, axis=0)\n",
    "\n",
    "plt.scatter(true_forces[:, dim], pred_forces[:, dim], label='NNP')\n",
    "plt.plot(true_forces[:, dim], true_forces[:, dim], 'r', label='REF')\n",
    "\n",
    "label= f\"force [{to_axis[dim]}]\"\n",
    "plt.ylabel(\"pred \" + label)\n",
    "plt.xlabel(\"true \" + label)\n",
    "plt.legend()\n",
    "plt.show()"
   ]
  }
 ],
 "metadata": {
  "interpreter": {
   "hash": "79f793817441a9b4f3336163bce28fb05f5fade87f8f747882a8ea5340683793"
  },
  "kernelspec": {
   "display_name": "Python (jaxip)",
   "language": "python",
   "name": "jaxip"
  },
  "language_info": {
   "codemirror_mode": {
    "name": "ipython",
    "version": 3
   },
   "file_extension": ".py",
   "mimetype": "text/x-python",
   "name": "python",
   "nbconvert_exporter": "python",
   "pygments_lexer": "ipython3",
   "version": "3.10.10"
  }
 },
 "nbformat": 4,
 "nbformat_minor": 4
}
