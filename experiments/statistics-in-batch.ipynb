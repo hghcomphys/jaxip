{
 "cells": [
  {
   "cell_type": "markdown",
   "metadata": {},
   "source": [
    "### Batch-wise statistics"
   ]
  },
  {
   "cell_type": "code",
   "execution_count": null,
   "metadata": {},
   "outputs": [],
   "source": [
    "import numpy as np\n",
    "import torch\n",
    "\n",
    "# def std_(data, mean):\n",
    "#     return torch.sqrt( torch.mean( (data - mean)**2, dim=0) )\n",
    "\n",
    "class StatsRecorder:\n",
    "    def __init__(self, data=None):\n",
    "        \"\"\"\n",
    "        data: ndarray, shape (nobservations, ndimensions)\n",
    "        \"\"\"\n",
    "        if data is not None:\n",
    "            data = torch.atleast_2d(data)\n",
    "            self.mean = torch.mean(data, dim=0)\n",
    "            self.std = torch.std(data, dim=0, unbiased=False)\n",
    "            self.nobservations = data.shape[0]\n",
    "            self.ndimensions   = data.shape[1]\n",
    "        else:\n",
    "            self.nobservations = 0\n",
    "\n",
    "    def update(self, data):\n",
    "        \"\"\"\n",
    "        data: ndarray, shape (nobservations, ndimensions)\n",
    "        \"\"\"\n",
    "        if self.nobservations == 0:\n",
    "            self.__init__(data)\n",
    "        else:\n",
    "            data = torch.atleast_2d(data)\n",
    "            if data.shape[1] != self.ndimensions:\n",
    "                raise ValueError(\"Data dims don't match prev observations.\")\n",
    "\n",
    "            newmean = torch.mean(data, dim=0)\n",
    "            newstd  = torch.std(data, dim=0, unbiased=False)\n",
    "\n",
    "            m = self.nobservations * 1.0\n",
    "            n = data.shape[0] \n",
    "\n",
    "            # tmp = self.mean\n",
    "            tmp = self.mean.clone()\n",
    "\n",
    "            self.mean = m/(m+n)*tmp + n/(m+n)*newmean\n",
    "            self.std  = m/(m+n)*self.std**2 + n/(m+n)*newstd**2 + m*n/(m+n)**2 * (tmp - newmean)**2\n",
    "            self.std  = np.sqrt(self.std)\n",
    "\n",
    "            self.nobservations += n"
   ]
  },
  {
   "cell_type": "code",
   "execution_count": null,
   "metadata": {},
   "outputs": [],
   "source": [
    "# import numpy as np\n",
    "# import statsrecorder as sr\n",
    "# rs = torch.random.RandomState(323)\n",
    "\n",
    "mystats = StatsRecorder()\n",
    "\n",
    "# Hold all observations in \"data\" to check for correctness.\n",
    "ndims = 42\n",
    "data = torch.empty((0, ndims))\n",
    "\n",
    "for i in range(100):\n",
    "    nobserv = torch.randint(10, 103, (1,))\n",
    "    newdata = torch.randn(nobserv, ndims)\n",
    "    data = torch.vstack((data, newdata))\n",
    "\n",
    "    # Update stats recorder object\n",
    "    mystats.update(newdata)\n",
    "\n",
    "    # Check stats recorder object is doing its business right.\n",
    "    assert torch.allclose(mystats.mean, torch.mean(data, dim=0))\n",
    "    assert torch.allclose(mystats.std, torch.std(data, dim=0, unbiased=False))"
   ]
  },
  {
   "cell_type": "code",
   "execution_count": null,
   "metadata": {},
   "outputs": [],
   "source": []
  },
  {
   "cell_type": "markdown",
   "metadata": {},
   "source": [
    "### Test: Scaler statistics in batch"
   ]
  },
  {
   "cell_type": "code",
   "execution_count": null,
   "metadata": {},
   "outputs": [],
   "source": [
    "import sys\n",
    "sys.path.append('../')\n",
    "import torch \n",
    "from torchip.descriptors import DescriptorScaler"
   ]
  },
  {
   "cell_type": "code",
   "execution_count": null,
   "metadata": {},
   "outputs": [],
   "source": [
    "scaler = DescriptorScaler(scale_type='scale', scale_min=-1)\n",
    "x = []\n",
    "for _ in range(10):\n",
    "    batch = torch.normal(mean=1.0, std=2.0, size=(5, 4))\n",
    "    scaler.fit(batch)\n",
    "    x.append(batch)\n",
    "\n",
    "print(scaler.sigma)    \n",
    "print(torch.concat(x).std(dim=0, unbiased=False))"
   ]
  },
  {
   "cell_type": "code",
   "execution_count": null,
   "metadata": {},
   "outputs": [],
   "source": []
  }
 ],
 "metadata": {
  "kernelspec": {
   "display_name": "Python (torchip)",
   "language": "python",
   "name": "torhcip"
  },
  "language_info": {
   "codemirror_mode": {
    "name": "ipython",
    "version": 3
   },
   "file_extension": ".py",
   "mimetype": "text/x-python",
   "name": "python",
   "nbconvert_exporter": "python",
   "pygments_lexer": "ipython3",
   "version": "3.10.4"
  }
 },
 "nbformat": 4,
 "nbformat_minor": 4
}
