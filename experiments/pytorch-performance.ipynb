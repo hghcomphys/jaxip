{
 "cells": [
  {
   "cell_type": "code",
   "execution_count": null,
   "metadata": {},
   "outputs": [],
   "source": [
    "import torch\n",
    "import numpy as np\n",
    "import pandas as pd\n",
    "import matplotlib.pylab as plt\n",
    "from time import perf_counter\n",
    "from collections import defaultdict"
   ]
  },
  {
   "cell_type": "code",
   "execution_count": null,
   "metadata": {},
   "outputs": [],
   "source": [
    "!gpustat"
   ]
  },
  {
   "cell_type": "code",
   "execution_count": null,
   "metadata": {},
   "outputs": [],
   "source": [
    "N = 5000\n",
    "dtype = torch.float\n",
    "device = torch.device(\"cuda:0\" if torch.cuda.is_available() else \"cpu\")\n",
    "# device = torch.device('cpu')"
   ]
  },
  {
   "cell_type": "code",
   "execution_count": null,
   "metadata": {},
   "outputs": [],
   "source": [
    "def kernel(inp):\n",
    "    x = 0\n",
    "    for _ in range(100):\n",
    "        x += torch.sin(inp)\n",
    "    return x\n",
    "\n",
    "def run(device=device, dtype=dtype, size=N):\n",
    "    #print(f\"size  : {size}\")\n",
    "    #print(f\"device: {device}\")\n",
    "    #print(f\"dtype : {dtype}\")\n",
    "    start = perf_counter()\n",
    "    inp = torch.eye(size, requires_grad=True, dtype=dtype)\n",
    "    inp2 = inp.to(device)\n",
    "    out = kernel(inp2)\n",
    "    out.backward(torch.ones_like(inp2), retain_graph=True)\n",
    "    stop = perf_counter()\n",
    "    #print(f\"Gradient {inp.grad}\")\n",
    "    return stop-start\n",
    "\n",
    "# %time run()"
   ]
  },
  {
   "cell_type": "code",
   "execution_count": null,
   "metadata": {},
   "outputs": [],
   "source": [
    "df = defaultdict(list)\n",
    "for size in np.logspace(1, 12, 12, base=2, dtype=np.int32):\n",
    "    print(f\"size: {size}\")\n",
    "    df['size'].append(size)\n",
    "    df['cpu-float'].append( run('cpu'   , torch.float , size))\n",
    "    df['gpu-float'].append( run('cuda:0', torch.float , size))\n",
    "    df['cpu-double'].append(run('cpu'   , torch.double, size))\n",
    "    df['gpu-double'].append(run('cuda:0', torch.double, size))"
   ]
  },
  {
   "cell_type": "code",
   "execution_count": null,
   "metadata": {},
   "outputs": [],
   "source": [
    "df = pd.DataFrame(df)\n",
    "df.plot(x='size', y=['cpu-float', 'gpu-float', 'cpu-double', 'gpu-double'])\n",
    "plt.ylabel('elapsed time')\n",
    "\n",
    "df['speedup-float'] = df['cpu-float']/df['gpu-float']\n",
    "df['speedup-double'] = df['cpu-double']/df['gpu-double']\n",
    "df.plot.bar(x='size', y=['speedup-double', 'speedup-float'])\n",
    "plt.axhline(1.0, ls='--', c='k')\n",
    "plt.ylabel('speed up over gpu')\n",
    "df.tail()"
   ]
  },
  {
   "cell_type": "code",
   "execution_count": null,
   "metadata": {},
   "outputs": [],
   "source": []
  }
 ],
 "metadata": {
  "kernelspec": {
   "display_name": "Python (torchip)",
   "language": "python",
   "name": "torchip"
  },
  "language_info": {
   "codemirror_mode": {
    "name": "ipython",
    "version": 3
   },
   "file_extension": ".py",
   "mimetype": "text/x-python",
   "name": "python",
   "nbconvert_exporter": "python",
   "pygments_lexer": "ipython3",
   "version": "3.9.7"
  }
 },
 "nbformat": 4,
 "nbformat_minor": 4
}
