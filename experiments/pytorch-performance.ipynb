{
 "cells": [
  {
   "cell_type": "markdown",
   "metadata": {},
   "source": [
    "## Pytoch performance experiments"
   ]
  },
  {
   "cell_type": "code",
   "execution_count": null,
   "metadata": {},
   "outputs": [],
   "source": [
    "!gpustat"
   ]
  },
  {
   "cell_type": "code",
   "execution_count": null,
   "metadata": {},
   "outputs": [],
   "source": [
    "import torch\n",
    "import numpy as np\n",
    "import pandas as pd\n",
    "import matplotlib.pylab as plt\n",
    "from time import perf_counter\n",
    "from collections import defaultdict"
   ]
  },
  {
   "cell_type": "markdown",
   "metadata": {},
   "source": [
    "###  Performance scaling\n",
    "\n",
    "Conclusions\n",
    "- data type `double` is slower that `float`\n",
    "- calculations on a powerful GPU, such as A100, runs `60` times faster"
   ]
  },
  {
   "cell_type": "code",
   "execution_count": null,
   "metadata": {},
   "outputs": [],
   "source": [
    "N = 1000\n",
    "dtype = torch.float\n",
    "device = torch.device(\"cuda:0\" if torch.cuda.is_available() else \"cpu\")\n",
    "# device = torch.device('cpu')"
   ]
  },
  {
   "cell_type": "code",
   "execution_count": null,
   "metadata": {},
   "outputs": [],
   "source": [
    "def kernel(inp):\n",
    "    x = 0\n",
    "    for _ in range(100):\n",
    "        x += torch.sin(inp)\n",
    "    return x\n",
    "\n",
    "def run(device=device, dtype=dtype, size=N):\n",
    "    #print(f\"size  : {size}\")\n",
    "    #print(f\"device: {device}\")\n",
    "    #print(f\"dtype : {dtype}\")\n",
    "    start = perf_counter()\n",
    "    inp = torch.eye(size, requires_grad=True, dtype=dtype)\n",
    "    inp2 = inp.to(device)\n",
    "    out = kernel(inp2)\n",
    "    out.backward(torch.ones_like(inp2), retain_graph=True)\n",
    "    stop = perf_counter()\n",
    "    #print(f\"Gradient {inp.grad}\")\n",
    "    return stop-start\n",
    "\n",
    "# %time run()"
   ]
  },
  {
   "cell_type": "code",
   "execution_count": null,
   "metadata": {},
   "outputs": [],
   "source": [
    "df = defaultdict(list)\n",
    "for size in np.logspace(1, 12, 12, base=2, dtype=np.int32):\n",
    "    print(f\"size: {size}\")\n",
    "    df['size'].append(size)\n",
    "    df['cpu-float'].append( run('cpu'   , torch.float , size))\n",
    "    df['gpu-float'].append( run('cuda:0', torch.float , size))\n",
    "    df['cpu-double'].append(run('cpu'   , torch.double, size))\n",
    "    df['gpu-double'].append(run('cuda:0', torch.double, size))"
   ]
  },
  {
   "cell_type": "code",
   "execution_count": null,
   "metadata": {},
   "outputs": [],
   "source": [
    "df = pd.DataFrame(df)\n",
    "df.plot(x='size', y=['cpu-float', 'gpu-float', 'cpu-double', 'gpu-double'])\n",
    "plt.ylabel('elapsed time')\n",
    "\n",
    "df['speedup-float'] = df['cpu-float']/df['gpu-float']\n",
    "df['speedup-double'] = df['cpu-double']/df['gpu-double']\n",
    "df.plot.bar(x='size', y=['speedup-double', 'speedup-float'])\n",
    "plt.axhline(1.0, ls='--', c='k')\n",
    "plt.ylabel('speed up over gpu')\n",
    "df.tail()"
   ]
  },
  {
   "cell_type": "markdown",
   "metadata": {},
   "source": [
    "### Torch script (jit)\n",
    "\n",
    "Conclusions:\n",
    "- not much performance improvement is observed using the `torch.jit.script`\n",
    "- no multi processing is observed by `Pytorch`\n",
    "- but multi-processing is possible usin `Dask` client\n",
    "- Dask cannot handle scripted funciton (picke error)\n",
    "- Dask with GPU client is slow and multi-workers consumes more memory"
   ]
  },
  {
   "cell_type": "code",
   "execution_count": null,
   "metadata": {},
   "outputs": [],
   "source": [
    "# @torch.jit.script\n",
    "def kernel(x, y, device: torch.device):\n",
    "    r = torch.empty(x.shape).to(device)\n",
    "    for _ in range(10000):\n",
    "        if x.max() > y.max():\n",
    "            r = r + torch.sin(x+y)\n",
    "        else:\n",
    "            r = r + torch.cos(x-y)\n",
    "    return r\n",
    "\n",
    "@torch.jit.script\n",
    "def kernel_jit(x, y, device: torch.device):\n",
    "    return kernel(x, y, device)\n",
    "\n",
    "print(type(kernel_jit))  # torch.jit.ScriptFunction\n",
    "\n",
    "# See the compiled graph as Python code\n",
    "print(kernel_jit.code)"
   ]
  },
  {
   "cell_type": "code",
   "execution_count": null,
   "metadata": {},
   "outputs": [],
   "source": [
    "def run(device, dtype, size, kernel):\n",
    "    #print(f\"size  : {size}\")\n",
    "    #print(f\"device: {device}\")\n",
    "    #print(f\"dtype : {dtype}\")\n",
    "    start = perf_counter()\n",
    "    inp1 = torch.rand(size, requires_grad=True, dtype=dtype)\n",
    "    inp2 = torch.rand(size, requires_grad=True, dtype=dtype)\n",
    "    out = kernel(inp1.to(device), inp2.to(device), device)\n",
    "    out.backward(torch.ones_like(inp2).to(device), retain_graph=True)\n",
    "    stop = perf_counter()\n",
    "    #print(f\"Gradient {inp.grad}\")\n",
    "    return stop-start"
   ]
  },
  {
   "cell_type": "code",
   "execution_count": null,
   "metadata": {},
   "outputs": [],
   "source": [
    "df = defaultdict(list)\n",
    "size = 1000\n",
    "for _ in range(10):\n",
    "    print(_)\n",
    "    df['attempt'].append(_+1)\n",
    "    df['cpu'].append( run('cpu'   , torch.double , size, kernel))\n",
    "    df['gpu'].append( run('cuda:0', torch.double , size, kernel))\n",
    "    df['cpu-jit'].append( run('cpu'   , torch.double , size, kernel_jit))\n",
    "    df['gpu-jit'].append( run('cuda:0', torch.double , size, kernel_jit))"
   ]
  },
  {
   "cell_type": "code",
   "execution_count": null,
   "metadata": {},
   "outputs": [],
   "source": [
    "df = pd.DataFrame(df)\n",
    "# df.plot(x='attempt')\n",
    "plt.ylabel('elapsed time')\n",
    "df.mean()"
   ]
  },
  {
   "cell_type": "markdown",
   "metadata": {},
   "source": [
    "#### Dask client (multi-process)"
   ]
  },
  {
   "cell_type": "code",
   "execution_count": null,
   "metadata": {},
   "outputs": [],
   "source": [
    "from dask.distributed import Client, fire_and_forget\n",
    "from dask_cuda import LocalCUDACluster\n",
    "\n",
    "client = Client(memory_limit='3GB', n_workers=4, processes=True, threads_per_worker=1, dashboard_address=':8791')\n",
    "\n",
    "# cluster = LocalCUDACluster(n_workers=1, threads_per_worker=1, dashboard_address=':8791',\n",
    "#                               memory_limit=\"auto\",\n",
    "#                               device_memory_limit=\"auto\", # memory spilling\n",
    "#                               #rmm_pool_size=\"5GB\",\n",
    "#                               #rmm_managed_memory=True,\n",
    "#                               #silence_logs=False,\n",
    "#                               local_directory=\"/tmp/\", \n",
    "#                               #enable_nvlink=True,\n",
    "#                               ) # See https://docs.rapids.ai/api/dask-cuda/nightly/api.html\n",
    "# client = Client(cluster)\n",
    "\n",
    "display(client)"
   ]
  },
  {
   "cell_type": "markdown",
   "metadata": {},
   "source": [
    "#### Future"
   ]
  },
  {
   "cell_type": "code",
   "execution_count": null,
   "metadata": {},
   "outputs": [],
   "source": [
    "size=1000\n",
    "device = torch.device('cpu')\n",
    "dtype = torch.double\n",
    "\n",
    "for _ in range(100):\n",
    "    inp1 = torch.rand(size, requires_grad=True, dtype=dtype)\n",
    "    inp2 = torch.rand(size, requires_grad=True, dtype=dtype)\n",
    "    future = client.submit(kernel, inp1.to(device), inp2.to(device), device)\n",
    "    fire_and_forget(future)"
   ]
  },
  {
   "cell_type": "markdown",
   "metadata": {},
   "source": [
    "#### Delay"
   ]
  },
  {
   "cell_type": "code",
   "execution_count": null,
   "metadata": {},
   "outputs": [],
   "source": [
    "import torch\n",
    "from dask import delayed\n",
    "\n",
    "# @torch.jit.script\n",
    "def fun(x: torch.Tensor) -> torch.Tensor:\n",
    "    return x\n",
    "\n",
    "# fn = delayed(fun, pure=False)  # works\n",
    "fn = delayed(fun, pure=True)  # causes error"
   ]
  },
  {
   "cell_type": "code",
   "execution_count": null,
   "metadata": {},
   "outputs": [],
   "source": [
    "# fn(torch.rand(size, requires_grad=True, dtype=dtype)).compute()"
   ]
  },
  {
   "cell_type": "code",
   "execution_count": null,
   "metadata": {},
   "outputs": [],
   "source": []
  }
 ],
 "metadata": {
  "kernelspec": {
   "display_name": "Python (torchip)",
   "language": "python",
   "name": "torhcip"
  },
  "language_info": {
   "codemirror_mode": {
    "name": "ipython",
    "version": 3
   },
   "file_extension": ".py",
   "mimetype": "text/x-python",
   "name": "python",
   "nbconvert_exporter": "python",
   "pygments_lexer": "ipython3",
   "version": "3.10.4"
  }
 },
 "nbformat": 4,
 "nbformat_minor": 4
}
