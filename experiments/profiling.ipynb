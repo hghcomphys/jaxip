{
 "cells": [
  {
   "cell_type": "markdown",
   "metadata": {},
   "source": [
    "### TorchIP Profiling\n",
    "- `_compute()` method in ASF\n",
    "- `kernel()` method in AngularSymmetryFunction\n",
    "- `calculate_distance()` in Structure\n",
    "- `aplly_pbc()` in Structure \n",
    "- `__call__()` method in CutoffFunction"
   ]
  },
  {
   "cell_type": "code",
   "execution_count": 4,
   "metadata": {},
   "outputs": [
    {
     "name": "stdout",
     "output_type": "stream",
     "text": [
      "CPU times: user 77.3 ms, sys: 29.7 ms, total: 107 ms\n",
      "Wall time: 5.5 s\n"
     ]
    }
   ],
   "source": [
    "%time !/home/hossein/anaconda3/envs/mlp/bin/python -m cProfile -o profile.stats descriptors.py >/dev/null"
   ]
  },
  {
   "cell_type": "code",
   "execution_count": 2,
   "metadata": {},
   "outputs": [
    {
     "data": {
      "text/plain": [
       "<pstats.Stats at 0x7f4138538ca0>"
      ]
     },
     "execution_count": 2,
     "metadata": {},
     "output_type": "execute_result"
    }
   ],
   "source": [
    "import pstats\n",
    "\n",
    "p = pstats.Stats('profile.stats')\n",
    "p.sort_stats(\"cumulative\")"
   ]
  },
  {
   "cell_type": "code",
   "execution_count": 3,
   "metadata": {},
   "outputs": [
    {
     "name": "stdout",
     "output_type": "stream",
     "text": [
      "Fri Mar 25 09:18:34 2022    profile.stats\n",
      "\n",
      "         1069581 function calls (1054710 primitive calls) in 6.920 seconds\n",
      "\n",
      "   Ordered by: cumulative time\n",
      "   List reduced from 5104 to 20 due to restriction <20>\n",
      "\n",
      "   ncalls  tottime  percall  cumtime  percall filename:lineno(function)\n",
      "   1254/1    0.005    0.000    6.921    6.921 {built-in method builtins.exec}\n",
      "        1    0.009    0.009    6.921    6.921 torchip-descriptor.py:1(<module>)\n",
      "       22    0.000    0.000    3.946    0.179 /home/hossein/Dropbox/Git/torchip/examples/../torchip/descriptors/asf/asf.py:44(__call__)\n",
      "        2    0.000    0.000    3.929    1.964 /home/hossein/Dropbox/Git/torchip/examples/../torchip/utils/profiler.py:59(wrapper)\n",
      "        1    0.001    0.001    3.925    3.925 /home/hossein/Dropbox/Git/torchip/examples/../torchip/potentials/nnp/nnp.py:176(fit_scaler)\n",
      "       22    0.001    0.000    3.871    0.176 /home/hossein/Dropbox/Git/torchip/examples/../torchip/descriptors/asf/asf.py:59(<listcomp>)\n",
      "      194    1.073    0.006    3.869    0.020 /home/hossein/Dropbox/Git/torchip/examples/../torchip/descriptors/asf/asf.py:68(compute)\n",
      "   1049/6    0.005    0.000    2.745    0.457 <frozen importlib._bootstrap>:1002(_find_and_load)\n",
      "   1049/6    0.004    0.000    2.744    0.457 <frozen importlib._bootstrap>:967(_find_and_load_unlocked)\n",
      "   1009/6    0.004    0.000    2.743    0.457 <frozen importlib._bootstrap>:659(_load_unlocked)\n",
      "    905/6    0.002    0.000    2.743    0.457 <frozen importlib._bootstrap_external>:844(exec_module)\n",
      "   1314/6    0.001    0.000    2.740    0.457 <frozen importlib._bootstrap>:220(_call_with_frames_removed)\n",
      "        1    0.001    0.001    2.696    2.696 /home/hossein/anaconda3/envs/mlp/lib/python3.9/site-packages/torch/__init__.py:2(<module>)\n",
      "    16178    0.161    0.000    1.573    0.000 /home/hossein/Dropbox/Git/torchip/examples/../torchip/descriptors/asf/angular.py:31(kernel)\n",
      "        1    0.000    0.000    1.420    1.420 /home/hossein/anaconda3/envs/mlp/lib/python3.9/site-packages/torch/__init__.py:141(_load_global_deps)\n",
      "        2    0.000    0.000    1.420    0.710 /home/hossein/anaconda3/envs/mlp/lib/python3.9/ctypes/__init__.py:340(__init__)\n",
      "        2    1.420    0.710    1.420    0.710 {built-in method _ctypes.dlopen}\n",
      "    49310    0.293    0.000    1.059    0.000 /home/hossein/Dropbox/Git/torchip/examples/../torchip/descriptors/asf/cutoff.py:32(__call__)\n",
      "    16756    0.247    0.000    0.884    0.000 /home/hossein/Dropbox/Git/torchip/examples/../torchip/structure/structure.py:124(calculate_distance)\n",
      "   505/42    0.001    0.000    0.642    0.015 {built-in method builtins.__import__}\n",
      "\n",
      "\n"
     ]
    },
    {
     "data": {
      "text/plain": [
       "<pstats.Stats at 0x7f4138538ca0>"
      ]
     },
     "execution_count": 3,
     "metadata": {},
     "output_type": "execute_result"
    }
   ],
   "source": [
    "p.print_stats(20)"
   ]
  },
  {
   "cell_type": "code",
   "execution_count": null,
   "metadata": {},
   "outputs": [],
   "source": []
  }
 ],
 "metadata": {
  "kernelspec": {
   "display_name": "Python (torchip)",
   "language": "python",
   "name": "torchip"
  },
  "language_info": {
   "codemirror_mode": {
    "name": "ipython",
    "version": 3
   },
   "file_extension": ".py",
   "mimetype": "text/x-python",
   "name": "python",
   "nbconvert_exporter": "python",
   "pygments_lexer": "ipython3",
   "version": "3.9.7"
  }
 },
 "nbformat": 4,
 "nbformat_minor": 4
}
