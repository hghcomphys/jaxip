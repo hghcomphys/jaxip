{
 "cells": [
  {
   "cell_type": "markdown",
   "metadata": {},
   "source": [
    "### Dask client + PyTorch"
   ]
  },
  {
   "cell_type": "code",
   "execution_count": null,
   "metadata": {},
   "outputs": [],
   "source": [
    "from dask.distributed import Client, fire_and_forget\n",
    "\n",
    "client = Client(memory_limit='5GB', n_workers=2, processes=True, dashboard_address=':8791')\n",
    "display(client)"
   ]
  },
  {
   "cell_type": "code",
   "execution_count": null,
   "metadata": {},
   "outputs": [],
   "source": [
    "import time\n",
    "import numpy as np\n",
    "import torch\n",
    "N = 1000\n",
    "\n",
    "class A:\n",
    "    def __init__(self):\n",
    "        self.x = torch.rand(N, N)\n",
    "\n",
    "class Kernel:\n",
    "    def __init__(self):\n",
    "        self.count = 0\n",
    "        \n",
    "    def kernel(self, obj):\n",
    "        self.count += 1\n",
    "        y = torch.rand(N, N)\n",
    "        for _ in range(10):\n",
    "            y = y + torch.rand_like(y)\n",
    "        # return torch.matmul(obj.x, y)  # this cannot be parallelized by Dask client.\n",
    "        return y\n",
    "\n",
    "op = Kernel()\n",
    "for _ in range(500):\n",
    "    obj = A()\n",
    "    obj_ = client.scatter(obj)\n",
    "    future = client.submit(op.kernel, obj_)\n",
    "    fire_and_forget(future)\n",
    "\n",
    "# op.kernel(A())\n",
    "# op.count"
   ]
  },
  {
   "cell_type": "code",
   "execution_count": null,
   "metadata": {},
   "outputs": [],
   "source": []
  }
 ],
 "metadata": {
  "kernelspec": {
   "display_name": "Python (torchip)",
   "language": "python",
   "name": "torhcip"
  },
  "language_info": {
   "codemirror_mode": {
    "name": "ipython",
    "version": 3
   },
   "file_extension": ".py",
   "mimetype": "text/x-python",
   "name": "python",
   "nbconvert_exporter": "python",
   "pygments_lexer": "ipython3",
   "version": "3.10.4"
  }
 },
 "nbformat": 4,
 "nbformat_minor": 4
}
