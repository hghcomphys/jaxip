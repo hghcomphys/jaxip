{
 "cells": [
  {
   "cell_type": "markdown",
   "metadata": {},
   "source": [
    "### Batch-wise statistics"
   ]
  },
  {
   "cell_type": "code",
   "execution_count": 1,
   "metadata": {},
   "outputs": [],
   "source": [
    "import numpy as np\n",
    "import torch\n",
    "\n",
    "def std_(data, mean):\n",
    "    return torch.sqrt( torch.mean( (data - mean)**2, dim=0) )\n",
    "\n",
    "class StatsRecorder:\n",
    "    def __init__(self, data=None):\n",
    "        \"\"\"\n",
    "        data: ndarray, shape (nobservations, ndimensions)\n",
    "        \"\"\"\n",
    "        if data is not None:\n",
    "            data = torch.atleast_2d(data)\n",
    "            self.mean = torch.mean(data, dim=0)\n",
    "            self.std = std_(data, self.mean) #torch.std(data, dim=0)\n",
    "            self.nobservations = data.shape[0]\n",
    "            self.ndimensions   = data.shape[1]\n",
    "        else:\n",
    "            self.nobservations = 0\n",
    "\n",
    "    def update(self, data):\n",
    "        \"\"\"\n",
    "        data: ndarray, shape (nobservations, ndimensions)\n",
    "        \"\"\"\n",
    "        if self.nobservations == 0:\n",
    "            self.__init__(data)\n",
    "        else:\n",
    "            data = torch.atleast_2d(data)\n",
    "            if data.shape[1] != self.ndimensions:\n",
    "                raise ValueError(\"Data dims don't match prev observations.\")\n",
    "\n",
    "            newmean = torch.mean(data, dim=0)\n",
    "            newstd  = std_(data, newmean) #torch.std(data, dim=0)\n",
    "\n",
    "            m = self.nobservations * 1.0\n",
    "            n = data.shape[0] \n",
    "\n",
    "            tmp = self.mean\n",
    "\n",
    "            self.mean = m/(m+n)*tmp + n/(m+n)*newmean\n",
    "            self.std  = m/(m+n)*self.std**2 + n/(m+n)*newstd**2 + m*n/(m+n)**2 * (tmp - newmean)**2\n",
    "            self.std  = np.sqrt(self.std)\n",
    "\n",
    "            self.nobservations += n"
   ]
  },
  {
   "cell_type": "code",
   "execution_count": 2,
   "metadata": {},
   "outputs": [
    {
     "name": "stdout",
     "output_type": "stream",
     "text": [
      "tensor(0.)\n",
      "tensor(1.8626e-08)\n",
      "tensor(1.4901e-08)\n",
      "tensor(2.9802e-08)\n",
      "tensor(1.8626e-08)\n",
      "tensor(1.8626e-08)\n",
      "tensor(2.2352e-08)\n",
      "tensor(1.4901e-08)\n",
      "tensor(1.4901e-08)\n",
      "tensor(1.4435e-08)\n"
     ]
    }
   ],
   "source": [
    "# import numpy as np\n",
    "# import statsrecorder as sr\n",
    "\n",
    "# rs = torch.random.RandomState(323)\n",
    "\n",
    "mystats = StatsRecorder()\n",
    "\n",
    "# Hold all observations in \"data\" to check for correctness.\n",
    "ndims = 42\n",
    "data = torch.empty((0, ndims))\n",
    "\n",
    "for i in range(10):\n",
    "    nobserv = torch.randint(10, 103, (1,))\n",
    "    newdata = torch.randn(nobserv, ndims)\n",
    "    data = torch.vstack((data, newdata))\n",
    "\n",
    "    # Update stats recorder object\n",
    "    mystats.update(newdata)\n",
    "\n",
    "    # Check stats recorder object is doing its business right.\n",
    "    assert torch.allclose(mystats.mean, torch.mean(data, dim=0))\n",
    "    assert torch.allclose(mystats.std, std_(data, torch.mean(data, dim=0)))\n",
    "    print( torch.max(torch.abs(mystats.mean-torch.mean(data, dim=0))))\n",
    "    # print(i+1, (mystats.std - std_(data, torch.mean(data, dim=0)).numpy()))"
   ]
  },
  {
   "cell_type": "code",
   "execution_count": null,
   "metadata": {},
   "outputs": [],
   "source": []
  }
 ],
 "metadata": {
  "kernelspec": {
   "display_name": "Python (mlp)",
   "language": "python",
   "name": "mlp"
  },
  "language_info": {
   "codemirror_mode": {
    "name": "ipython",
    "version": 3
   },
   "file_extension": ".py",
   "mimetype": "text/x-python",
   "name": "python",
   "nbconvert_exporter": "python",
   "pygments_lexer": "ipython3",
   "version": "3.9.7"
  }
 },
 "nbformat": 4,
 "nbformat_minor": 4
}
